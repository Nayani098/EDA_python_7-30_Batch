{
 "cells": [
  {
   "cell_type": "markdown",
   "id": "3c4f5c46-c58c-43ab-b354-75622b350025",
   "metadata": {},
   "source": [
    "**lamda functions**\n",
    "\n",
    "- lamda functions represents function concept\n",
    "\n",
    "- but we can write in asingle line\n",
    "\n",
    "- like list comprehension, lamda functions similar only\n",
    "\n",
    "- it will decrease the time complexity\n",
    "\n",
    "- always remember if we use many loops or many conditions using multiple lines, the time complexity will increase"
   ]
  },
  {
   "cell_type": "markdown",
   "id": "6012cb43-b90b-4419-b98b-b561eb3000bc",
   "metadata": {},
   "source": [
    "**It will use a keyword lamda**\n",
    "\n",
    "# lamda <arguments>: <expression>"
   ]
  },
  {
   "cell_type": "code",
   "execution_count": 2,
   "id": "c80ba88e-a1db-48f0-a1ba-976193487785",
   "metadata": {},
   "outputs": [
    {
     "data": {
      "text/plain": [
       "20"
      ]
     },
     "execution_count": 2,
     "metadata": {},
     "output_type": "execute_result"
    }
   ],
   "source": [
    "def summ(n):\n",
    "    return(n+10)\n",
    "summ(10)"
   ]
  },
  {
   "cell_type": "markdown",
   "id": "6f0ed527-2ef8-4837-9300-7faf0010aef3",
   "metadata": {},
   "source": [
    "$Pattern-1$\n",
    "\n",
    "**function with only one argument**\n",
    "\n",
    "- function name\n",
    "\n",
    "- argument name\n",
    "\n",
    "- return output"
   ]
  },
  {
   "cell_type": "code",
   "execution_count": 6,
   "id": "e03e1e13-07d5-49f2-b856-25854597e380",
   "metadata": {},
   "outputs": [],
   "source": [
    "# syntax: \n",
    "\n",
    "# <function name>=lambda <argument name>: <return output>\n",
    "def summ(n):\n",
    "    return(n+10)\n",
    "summ(10)\n",
    "\n",
    "# function name: summ\n",
    "# argument name: n\n",
    "# return output: n+10"
   ]
  },
  {
   "cell_type": "code",
   "execution_count": 10,
   "id": "fcc8de19-48bc-415e-aeb3-eb9bd5160ab2",
   "metadata": {},
   "outputs": [
    {
     "data": {
      "text/plain": [
       "110"
      ]
     },
     "execution_count": 10,
     "metadata": {},
     "output_type": "execute_result"
    }
   ],
   "source": [
    "summ= lambda n:n+10\n",
    "summ(100)"
   ]
  },
  {
   "cell_type": "code",
   "execution_count": 14,
   "id": "27fe690c-9c12-4cf3-9749-809f07323f93",
   "metadata": {},
   "outputs": [
    {
     "data": {
      "text/plain": [
       "1000"
      ]
     },
     "execution_count": 14,
     "metadata": {},
     "output_type": "execute_result"
    }
   ],
   "source": [
    "def cube(n):\n",
    "    return(n**3)\n",
    "cube(10)"
   ]
  },
  {
   "cell_type": "code",
   "execution_count": 16,
   "id": "bc81e9e9-b09c-4e4b-a784-32c6408664e1",
   "metadata": {},
   "outputs": [
    {
     "data": {
      "text/plain": [
       "1000"
      ]
     },
     "execution_count": 16,
     "metadata": {},
     "output_type": "execute_result"
    }
   ],
   "source": [
    "cube= lambda n:n**3\n",
    "cube(10)"
   ]
  },
  {
   "cell_type": "markdown",
   "id": "5926efcd-4112-4278-8425-7aa172876822",
   "metadata": {},
   "source": [
    "$pattern-2$\n",
    "\n",
    "**function with two arguments**"
   ]
  },
  {
   "cell_type": "code",
   "execution_count": 19,
   "id": "4aece227-ef1e-4dff-b5b3-1e92edd04672",
   "metadata": {},
   "outputs": [
    {
     "data": {
      "text/plain": [
       "100"
      ]
     },
     "execution_count": 19,
     "metadata": {},
     "output_type": "execute_result"
    }
   ],
   "source": [
    "# synrax: <function name>= lambda <arg1>,<arg2>: <return output>\n",
    "def add(a,b):\n",
    "    return(a+b)\n",
    "add(50,50)"
   ]
  },
  {
   "cell_type": "code",
   "execution_count": 21,
   "id": "27c97f2d-851b-4054-bff7-016b9fd87c76",
   "metadata": {},
   "outputs": [
    {
     "data": {
      "text/plain": [
       "100"
      ]
     },
     "execution_count": 21,
     "metadata": {},
     "output_type": "execute_result"
    }
   ],
   "source": [
    "add= lambda a,b:a+b\n",
    "add(50,50)"
   ]
  },
  {
   "cell_type": "markdown",
   "id": "0a90de18-4394-4e42-912b-515726dbee7b",
   "metadata": {},
   "source": [
    "$pattern-3$\n",
    "\n",
    "**Default arguments**"
   ]
  },
  {
   "cell_type": "code",
   "execution_count": 37,
   "id": "6edd5fdb-333a-421a-aa2c-fa6f0bf9ad10",
   "metadata": {},
   "outputs": [
    {
     "data": {
      "text/plain": [
       "100"
      ]
     },
     "execution_count": 37,
     "metadata": {},
     "output_type": "execute_result"
    }
   ],
   "source": [
    "add= lambda a,b=2:a+b\n",
    "add(50,50)"
   ]
  },
  {
   "cell_type": "markdown",
   "id": "88bea395-dd2c-4f18-ac99-0c9a6911386e",
   "metadata": {},
   "source": [
    "$pattern-4$\n",
    "\n",
    "**if-else**"
   ]
  },
  {
   "cell_type": "code",
   "execution_count": 33,
   "id": "430b72b4-505f-4f0b-b7f0-ab020100b933",
   "metadata": {},
   "outputs": [
    {
     "data": {
      "text/plain": [
       "20"
      ]
     },
     "execution_count": 33,
     "metadata": {},
     "output_type": "execute_result"
    }
   ],
   "source": [
    "def max(a,b):\n",
    "    if a>b:\n",
    "        return(a)\n",
    "    else:\n",
    "        return(b)\n",
    "max(10,20)"
   ]
  },
  {
   "cell_type": "code",
   "execution_count": null,
   "id": "7ad9e47c-6c07-44d8-bd31-b7d52a241232",
   "metadata": {},
   "outputs": [],
   "source": [
    "# syntax: function name: lambda <arg1>,<arg2>: <list comprehension>\n",
    "#         function name: lambda <arg1>,<arg2>: <if_out> <if_condition> <else> <else_out>"
   ]
  },
  {
   "cell_type": "code",
   "execution_count": 35,
   "id": "a1d5e51c-7288-4fb2-9390-f61315abcf34",
   "metadata": {},
   "outputs": [
    {
     "data": {
      "text/plain": [
       "30"
      ]
     },
     "execution_count": 35,
     "metadata": {},
     "output_type": "execute_result"
    }
   ],
   "source": [
    "max= lambda a,b: a if a>b else b\n",
    "max(30,20)"
   ]
  },
  {
   "cell_type": "markdown",
   "id": "0ecfc80c-6543-40c8-b136-6eb19efdcf06",
   "metadata": {},
   "source": [
    "*$pattern-5$*\n",
    "\n",
    "**using list**"
   ]
  },
  {
   "cell_type": "code",
   "execution_count": 40,
   "id": "f01bb61f-f532-479e-a91d-595d18c72d24",
   "metadata": {},
   "outputs": [
    {
     "data": {
      "text/plain": [
       "['Hyd', 'Chennai', 'Mumbai']"
      ]
     },
     "execution_count": 40,
     "metadata": {},
     "output_type": "execute_result"
    }
   ],
   "source": [
    "# l=['hyd','chennai','mumbai']\n",
    "# output=['Hyd','Chennai','Mumbai']\n",
    "l=['hyd','chennai','mumbai']\n",
    "op=[]\n",
    "for i in l:\n",
    "    op.append(i.capitalize())\n",
    "op"
   ]
  },
  {
   "cell_type": "code",
   "execution_count": null,
   "id": "298bf926-4c0b-416a-b754-4ac25a442458",
   "metadata": {},
   "outputs": [],
   "source": [
    "lambda <variable>:<op>\n",
    "# variable: i\n",
    "# op: i.capitalize()\n",
    "\n",
    "lambda <variable>:<op>,<iterator>\n",
    "# Qn: from where you are getting 'i'\n",
    "# <iterator>: list"
   ]
  },
  {
   "cell_type": "markdown",
   "id": "d772f991-50ae-493c-84c0-6c362a830c6f",
   "metadata": {},
   "source": [
    "**map**\n",
    "\n",
    "- the function and iterator are available now\n",
    "\n",
    "- we need to map both"
   ]
  },
  {
   "cell_type": "code",
   "execution_count": 45,
   "id": "bb359cf8-0516-4594-9d77-c2949bcd2acf",
   "metadata": {},
   "outputs": [
    {
     "data": {
      "text/plain": [
       "<map at 0x112e2ff70>"
      ]
     },
     "execution_count": 45,
     "metadata": {},
     "output_type": "execute_result"
    }
   ],
   "source": [
    "l=['hyd','chennai','mumbai']\n",
    "map(lambda i: i.capitalize(),l)"
   ]
  },
  {
   "cell_type": "code",
   "execution_count": 51,
   "id": "5d480da1-fbc0-4a0d-9718-34be6acddf92",
   "metadata": {},
   "outputs": [
    {
     "data": {
      "text/plain": [
       "['Hyd', 'Chennai', 'Mumbai']"
      ]
     },
     "execution_count": 51,
     "metadata": {},
     "output_type": "execute_result"
    }
   ],
   "source": [
    "# apply the list to see the value\n",
    "\n",
    "l=['hyd','chennai','mumbai']\n",
    "list(map(lambda i: i.capitalize(),l))"
   ]
  },
  {
   "cell_type": "code",
   "execution_count": null,
   "id": "60bba13f-3609-42c2-a6e3-4d74a37e7e76",
   "metadata": {},
   "outputs": [],
   "source": [
    "# step-1: write your normal expression\n",
    "#      ex: lambda <var>: <op>===> lambda i: i.capitalize()\n",
    "# step-2: add the iterator\n",
    "#      ex: lambda <var>: <op>,<list>===> lambda i: i.capitalize(),list\n",
    "# step-3: map the both\n",
    "#      ex: map(lambda <var>: <op>,<list>)===> map(lambda i: i.capitalize(),list)\n",
    "# step-4: save the values in a list, (or) tuple\n",
    "#      ex: list(map(lambda <var>: <op>,<list>))===> list(map(lambda i: i.capitalize(),list))\n",
    "\n",
    "\n",
    "# Note: When we are getting list object not callable use tuple"
   ]
  },
  {
   "cell_type": "markdown",
   "id": "73dcf23a-1baa-4fda-bd5b-b6bd09dad17a",
   "metadata": {},
   "source": [
    "- case-1: function call with one argument\n",
    "\n",
    "    - lambda arguments: expression\n",
    "      \n",
    "    - lambda variables: return outputs\n",
    "      \n",
    "- case-2: function call with two arguments\n",
    "    \n",
    "    - lambda arg1,arg2: exression\n",
    " \n",
    "    - lambda var1,var2: return output\n",
    "\n",
    "- case-3: function call with default arguments\n",
    "\n",
    "    - lambda ar1,arg2=500: exression\n",
    "      \n",
    "    - lambda var1,va2=600: return output \n",
    "\n",
    "- case-4: function call with two arguments and if else statements\n",
    "\n",
    "    - lambda arg1,arg2: exression\n",
    " \n",
    "    - lambda var1,var2: if output if condition else condition else output\n",
    "\n",
    "- case-5: lambda operations using list\n",
    "    \n",
    "    -  lambda arg1,arg2: exression, iteration\n",
    " \n",
    "    -  map(lambda var: operation,list)\n",
    " \n",
    "    -  list(map(lambda var: operation, list))"
   ]
  },
  {
   "cell_type": "code",
   "execution_count": 13,
   "id": "112af83a-5daf-4446-b49a-6ee3632975bc",
   "metadata": {},
   "outputs": [
    {
     "name": "stdout",
     "output_type": "stream",
     "text": [
      "HYD\n",
      "CHENNAI\n",
      "MUMBAI\n"
     ]
    }
   ],
   "source": [
    "l=['hyd','chennai','mumbai']\n",
    "# 'Hyd','Chennai','Mumbai'\n",
    "\n",
    "for i in l:\n",
    "    print(i.upper())\n",
    "    "
   ]
  },
  {
   "cell_type": "code",
   "execution_count": 15,
   "id": "8a35219c-82f0-44a1-b45d-6a7d326483d3",
   "metadata": {},
   "outputs": [
    {
     "data": {
      "text/plain": [
       "['HYD', 'CHENNAI', 'MUMBAI']"
      ]
     },
     "execution_count": 15,
     "metadata": {},
     "output_type": "execute_result"
    }
   ],
   "source": [
    "list(map(lambda i:i.upper(),l))"
   ]
  },
  {
   "cell_type": "code",
   "execution_count": 17,
   "id": "634c7734-6b47-44b8-9151-95bf8d37fca6",
   "metadata": {},
   "outputs": [
    {
     "data": {
      "text/plain": [
       "['Hyd', 'Chennai', 'Mumbai']"
      ]
     },
     "execution_count": 17,
     "metadata": {},
     "output_type": "execute_result"
    }
   ],
   "source": [
    "list(map(lambda i:i.capitalize(),l))"
   ]
  },
  {
   "cell_type": "markdown",
   "id": "a36f628c-268c-4f7a-aab7-9b9f4765cc54",
   "metadata": {},
   "source": [
    "**Filter**\n",
    "\n",
    "- whenever if condition is there and removed use filter method to display output"
   ]
  },
  {
   "cell_type": "code",
   "execution_count": 29,
   "id": "8a56e249-bd5d-4300-8edd-04dd1f564db6",
   "metadata": {},
   "outputs": [
    {
     "name": "stdout",
     "output_type": "stream",
     "text": [
      "che#nnai\n",
      "mu#mbai\n"
     ]
    }
   ],
   "source": [
    "l=['hyd','che#nnai','mu#mbai','blr']\n",
    "# o/p= \n",
    "\n",
    "for i in l:\n",
    "    if '#' in i:\n",
    "        print(i)  \n",
    "\n",
    "# mistake-1: list(map(lambda i:if '#' in i,i)\n",
    "#           do not write if condition in lambda funtion"
   ]
  },
  {
   "cell_type": "code",
   "execution_count": 39,
   "id": "2cb8e507-f124-4f00-baf1-bf566d9fcc60",
   "metadata": {},
   "outputs": [
    {
     "data": {
      "text/plain": [
       "[False, True, True, False]"
      ]
     },
     "execution_count": 39,
     "metadata": {},
     "output_type": "execute_result"
    }
   ],
   "source": [
    "list(map(lambda i:'#' in i,l)) "
   ]
  },
  {
   "cell_type": "code",
   "execution_count": 37,
   "id": "5e937e06-2218-48b8-a7c8-640998a63241",
   "metadata": {},
   "outputs": [
    {
     "data": {
      "text/plain": [
       "('che#nnai', 'mu#mbai')"
      ]
     },
     "execution_count": 37,
     "metadata": {},
     "output_type": "execute_result"
    }
   ],
   "source": [
    "tuple(filter(lambda i:'#' in i,l))"
   ]
  },
  {
   "cell_type": "code",
   "execution_count": 52,
   "id": "933d2c29-0dda-44d3-92aa-dbdf5b746b6b",
   "metadata": {},
   "outputs": [
    {
     "name": "stdout",
     "output_type": "stream",
     "text": [
      "2\n",
      "6\n"
     ]
    }
   ],
   "source": [
    "number= [1,3,2,7,6]\n",
    "# op=2,6\n",
    "\n",
    "for i in number:\n",
    "    if i%2==0:\n",
    "        print(i)\n",
    "        "
   ]
  },
  {
   "cell_type": "code",
   "execution_count": 54,
   "id": "72d3be5b-6255-4171-9aed-cab2188e3e5c",
   "metadata": {},
   "outputs": [
    {
     "data": {
      "text/plain": [
       "(2, 6)"
      ]
     },
     "execution_count": 54,
     "metadata": {},
     "output_type": "execute_result"
    }
   ],
   "source": [
    "tuple(filter(lambda i:i%2==0,number))"
   ]
  },
  {
   "cell_type": "code",
   "execution_count": null,
   "id": "c378b324-27e9-4895-ad3a-14872097f198",
   "metadata": {},
   "outputs": [],
   "source": [
    "l1=[1,2,3,4,5]\n",
    "\n",
    "# i want sum of the elements in alist\n",
    "\n",
    "# method-1: sum\n",
    "sum(l1)\n",
    "\n",
    "# method-2: without sum\n",
    "summ=0\n",
    "for i in l1:\n",
    "    summ=summ+i\n",
    "print(summ)"
   ]
  },
  {
   "cell_type": "markdown",
   "id": "ae180486-9478-4057-9c20-f73cdf7dbf88",
   "metadata": {},
   "source": [
    "**reduce**\n",
    "\n",
    "- all inbult function can achieve by reduce\n",
    "\n",
    "- reduce avaliable from functools package\n",
    "\n",
    "- reduce()\n",
    "\n",
    "- level-1 : reduce(lambda summ,i:summ+i,l1)\n",
    "\n",
    "- level-2: reduce(lambda summ,i:summ+i,l1,intial_value)\n",
    "\n",
    "- for example we want intialze summ=0 then we choose level-1\n",
    "\n",
    "- for example we want start with other than zero then we choose level-2"
   ]
  },
  {
   "cell_type": "code",
   "execution_count": 85,
   "id": "57cc2ddc-3cfd-47ef-afb7-93daf29314e6",
   "metadata": {},
   "outputs": [],
   "source": [
    "import functools"
   ]
  },
  {
   "cell_type": "code",
   "execution_count": 87,
   "id": "fd789fdc-7d1d-4897-bff3-a16c1c105190",
   "metadata": {},
   "outputs": [
    {
     "data": {
      "text/plain": [
       "['GenericAlias',\n",
       " 'RLock',\n",
       " 'WRAPPER_ASSIGNMENTS',\n",
       " 'WRAPPER_UPDATES',\n",
       " '_CacheInfo',\n",
       " '_HashedSeq',\n",
       " '_NOT_FOUND',\n",
       " '__all__',\n",
       " '__builtins__',\n",
       " '__cached__',\n",
       " '__doc__',\n",
       " '__file__',\n",
       " '__loader__',\n",
       " '__name__',\n",
       " '__package__',\n",
       " '__spec__',\n",
       " '_c3_merge',\n",
       " '_c3_mro',\n",
       " '_compose_mro',\n",
       " '_convert',\n",
       " '_find_impl',\n",
       " '_ge_from_gt',\n",
       " '_ge_from_le',\n",
       " '_ge_from_lt',\n",
       " '_gt_from_ge',\n",
       " '_gt_from_le',\n",
       " '_gt_from_lt',\n",
       " '_initial_missing',\n",
       " '_le_from_ge',\n",
       " '_le_from_gt',\n",
       " '_le_from_lt',\n",
       " '_lru_cache_wrapper',\n",
       " '_lt_from_ge',\n",
       " '_lt_from_gt',\n",
       " '_lt_from_le',\n",
       " '_make_key',\n",
       " '_unwrap_partial',\n",
       " 'cache',\n",
       " 'cached_property',\n",
       " 'cmp_to_key',\n",
       " 'get_cache_token',\n",
       " 'lru_cache',\n",
       " 'namedtuple',\n",
       " 'partial',\n",
       " 'partialmethod',\n",
       " 'recursive_repr',\n",
       " 'reduce',\n",
       " 'singledispatch',\n",
       " 'singledispatchmethod',\n",
       " 'total_ordering',\n",
       " 'update_wrapper',\n",
       " 'wraps']"
      ]
     },
     "execution_count": 87,
     "metadata": {},
     "output_type": "execute_result"
    }
   ],
   "source": [
    "dir(functools)"
   ]
  },
  {
   "cell_type": "code",
   "execution_count": 93,
   "id": "48a5d8fe-bc2a-41f7-8dc0-803d972c753c",
   "metadata": {},
   "outputs": [
    {
     "data": {
      "text/plain": [
       "15"
      ]
     },
     "execution_count": 93,
     "metadata": {},
     "output_type": "execute_result"
    }
   ],
   "source": [
    "l1=[1,2,3,4,5]\n",
    "functools.reduce(lambda summ,i:summ+i,l1)"
   ]
  },
  {
   "cell_type": "code",
   "execution_count": null,
   "id": "fe773c0a-0f56-4611-8257-489dce122f86",
   "metadata": {},
   "outputs": [],
   "source": [
    "l1=[1,2,3,4,5]\n",
    "max()\n",
    "min()\n",
    "len()\n",
    "sum()"
   ]
  },
  {
   "cell_type": "code",
   "execution_count": 99,
   "id": "00af4ac4-cdfe-49e8-afce-ef68efd04bc9",
   "metadata": {},
   "outputs": [
    {
     "data": {
      "text/plain": [
       "15"
      ]
     },
     "execution_count": 99,
     "metadata": {},
     "output_type": "execute_result"
    }
   ],
   "source": [
    "# import functools\n",
    "# functools.reduce\n",
    "\n",
    "from functools import reduce\n",
    "l1=[1,2,3,4,5]\n",
    "reduce(lambda summ,i:summ+i,l1)"
   ]
  },
  {
   "cell_type": "code",
   "execution_count": 103,
   "id": "b0b06a1d-9eea-4d75-87d7-35c2857e973e",
   "metadata": {},
   "outputs": [
    {
     "data": {
      "text/plain": [
       "15"
      ]
     },
     "execution_count": 103,
     "metadata": {},
     "output_type": "execute_result"
    }
   ],
   "source": [
    "import functools as ft\n",
    "l1=[1,2,3,4,5]\n",
    "ft.reduce(lambda summ,i:summ+i,l1)"
   ]
  },
  {
   "cell_type": "code",
   "execution_count": 107,
   "id": "7e8d3323-17ae-4652-a9ce-c26b4234338b",
   "metadata": {},
   "outputs": [
    {
     "data": {
      "text/plain": [
       "19"
      ]
     },
     "execution_count": 107,
     "metadata": {},
     "output_type": "execute_result"
    }
   ],
   "source": [
    "#level-2\n",
    "\n",
    "l1=[1,2,3,4,5]\n",
    "functools.reduce(lambda summ,i:summ+i,l1,4)"
   ]
  },
  {
   "cell_type": "code",
   "execution_count": 109,
   "id": "d39d8af4-917a-4847-bfd7-10b7808b82a9",
   "metadata": {},
   "outputs": [
    {
     "data": {
      "text/plain": [
       "120"
      ]
     },
     "execution_count": 109,
     "metadata": {},
     "output_type": "execute_result"
    }
   ],
   "source": [
    "import functools as ft\n",
    "l1=[1,2,3,4,5]\n",
    "ft.reduce(lambda mul,i:mul*i,l1)"
   ]
  },
  {
   "cell_type": "code",
   "execution_count": 113,
   "id": "3b1be2fe-d527-4078-b8d6-d8f3712c52fc",
   "metadata": {},
   "outputs": [
    {
     "data": {
      "text/plain": [
       "3"
      ]
     },
     "execution_count": 113,
     "metadata": {},
     "output_type": "execute_result"
    }
   ],
   "source": [
    "import functools as ft\n",
    "l1=[1,2,3,4,5]\n",
    "ft.reduce(lambda sub,i:i-sub,l1)"
   ]
  },
  {
   "cell_type": "code",
   "execution_count": 115,
   "id": "03b442a3-cbd2-4f56-b009-b1e3bf4f04f6",
   "metadata": {},
   "outputs": [
    {
     "data": {
      "text/plain": [
       "15"
      ]
     },
     "execution_count": 115,
     "metadata": {},
     "output_type": "execute_result"
    }
   ],
   "source": [
    "import functools as ft\n",
    "l1=[1,2,3,4,5]\n",
    "ft.reduce(lambda add,i:add+i,l1)"
   ]
  },
  {
   "cell_type": "code",
   "execution_count": 117,
   "id": "edf18edd-abaa-4e6b-8ecd-f9a366f630df",
   "metadata": {},
   "outputs": [
    {
     "data": {
      "text/plain": [
       "False"
      ]
     },
     "execution_count": 117,
     "metadata": {},
     "output_type": "execute_result"
    }
   ],
   "source": [
    "import functools as ft\n",
    "l1=[1,2,3,4,5]\n",
    "ft.reduce(lambda x,y:x>y,l1)"
   ]
  },
  {
   "cell_type": "code",
   "execution_count": 133,
   "id": "989e22cb-90ad-4c24-9c09-d720b0d81073",
   "metadata": {},
   "outputs": [
    {
     "ename": "TypeError",
     "evalue": "<lambda>() missing 1 required positional argument: 'y'",
     "output_type": "error",
     "traceback": [
      "\u001b[0;31m---------------------------------------------------------------------------\u001b[0m",
      "\u001b[0;31mTypeError\u001b[0m                                 Traceback (most recent call last)",
      "Cell \u001b[0;32mIn[133], line 3\u001b[0m\n\u001b[1;32m      1\u001b[0m y\u001b[38;5;241m=\u001b[39m\u001b[38;5;241m0\u001b[39m\n\u001b[1;32m      2\u001b[0m l1\u001b[38;5;241m=\u001b[39m[\u001b[38;5;241m1\u001b[39m,\u001b[38;5;241m2\u001b[39m,\u001b[38;5;241m3\u001b[39m,\u001b[38;5;241m4\u001b[39m,\u001b[38;5;241m5\u001b[39m]\n\u001b[0;32m----> 3\u001b[0m \u001b[38;5;28mlist\u001b[39m(\u001b[38;5;28mfilter\u001b[39m(\u001b[38;5;28;01mlambda\u001b[39;00m x,y:x\u001b[38;5;241m+\u001b[39my,l1))\n",
      "\u001b[0;31mTypeError\u001b[0m: <lambda>() missing 1 required positional argument: 'y'"
     ]
    }
   ],
   "source": [
    "y=0\n",
    "l1=[1,2,3,4,5]\n",
    "list(filter(lambda x,y:x+y,l1))"
   ]
  },
  {
   "cell_type": "code",
   "execution_count": 135,
   "id": "aa6b8dd7-c0a8-4169-b73e-cdfd44b52b39",
   "metadata": {},
   "outputs": [],
   "source": [
    "import functools"
   ]
  },
  {
   "cell_type": "code",
   "execution_count": 138,
   "id": "97755cff-74e1-489f-9077-97067ed81c42",
   "metadata": {},
   "outputs": [
    {
     "data": {
      "text/plain": [
       "<module 'functools' from '/opt/anaconda3/lib/python3.11/functools.py'>"
      ]
     },
     "execution_count": 138,
     "metadata": {},
     "output_type": "execute_result"
    }
   ],
   "source": [
    "functools"
   ]
  },
  {
   "cell_type": "code",
   "execution_count": 140,
   "id": "9162b8c5-b797-46a3-a307-c7af1bd1e194",
   "metadata": {},
   "outputs": [
    {
     "data": {
      "text/plain": [
       "15"
      ]
     },
     "execution_count": 140,
     "metadata": {},
     "output_type": "execute_result"
    }
   ],
   "source": [
    "import functools as ft\n",
    "l1=[1,2,3,4,5]\n",
    "ft.reduce(lambda x,y:x+y,l1)"
   ]
  },
  {
   "cell_type": "code",
   "execution_count": 144,
   "id": "deb7fd53-2e5f-42b6-859b-5bc101586f9c",
   "metadata": {},
   "outputs": [
    {
     "ename": "TypeError",
     "evalue": "filter expected 2 arguments, got 1",
     "output_type": "error",
     "traceback": [
      "\u001b[0;31m---------------------------------------------------------------------------\u001b[0m",
      "\u001b[0;31mTypeError\u001b[0m                                 Traceback (most recent call last)",
      "Cell \u001b[0;32mIn[144], line 3\u001b[0m\n\u001b[1;32m      1\u001b[0m \u001b[38;5;28;01mimport\u001b[39;00m \u001b[38;5;21;01mfunctools\u001b[39;00m \u001b[38;5;28;01mas\u001b[39;00m \u001b[38;5;21;01mft\u001b[39;00m\n\u001b[1;32m      2\u001b[0m l1\u001b[38;5;241m=\u001b[39m[\u001b[38;5;241m1\u001b[39m,\u001b[38;5;241m2\u001b[39m,\u001b[38;5;241m3\u001b[39m,\u001b[38;5;241m4\u001b[39m,\u001b[38;5;241m5\u001b[39m]\n\u001b[0;32m----> 3\u001b[0m \u001b[38;5;28mfilter\u001b[39m(ft\u001b[38;5;241m.\u001b[39mreduce(\u001b[38;5;28;01mlambda\u001b[39;00m x,y:x\u001b[38;5;241m>\u001b[39my,l1))\n",
      "\u001b[0;31mTypeError\u001b[0m: filter expected 2 arguments, got 1"
     ]
    }
   ],
   "source": [
    "import functools as ft\n",
    "l1=[1,2,3,4,5]\n",
    "filter(ft.reduce(lambda x,y:x>y,l1))"
   ]
  },
  {
   "cell_type": "code",
   "execution_count": null,
   "id": "b7e8913a-03ee-48d8-9c7a-3686d43d061a",
   "metadata": {},
   "outputs": [],
   "source": [
    "import functools as ft\n",
    "l1=[1,2,3,4,5]\n",
    "reduce(lamda)"
   ]
  },
  {
   "cell_type": "code",
   "execution_count": 1,
   "id": "d1af7c51-5c5b-4735-accc-8c4b7a9bd5f1",
   "metadata": {},
   "outputs": [
    {
     "data": {
      "text/plain": [
       "20"
      ]
     },
     "execution_count": 1,
     "metadata": {},
     "output_type": "execute_result"
    }
   ],
   "source": [
    "# with only one argument\n",
    "\n",
    "def summ(n):\n",
    "    return(n+10)\n",
    "summ(10)\n",
    "\n",
    "#syntax: <function name>= lambda <argument>:<return output>"
   ]
  },
  {
   "cell_type": "code",
   "execution_count": 3,
   "id": "0c79ae21-8e8e-4064-9210-6f6f83a13a0b",
   "metadata": {},
   "outputs": [],
   "source": [
    "summ=lambda n:n+10"
   ]
  },
  {
   "cell_type": "code",
   "execution_count": 5,
   "id": "eff4a582-da36-47a5-985c-dba794821c63",
   "metadata": {},
   "outputs": [
    {
     "data": {
      "text/plain": [
       "20"
      ]
     },
     "execution_count": 5,
     "metadata": {},
     "output_type": "execute_result"
    }
   ],
   "source": [
    "summ(10)"
   ]
  },
  {
   "cell_type": "code",
   "execution_count": 7,
   "id": "98aaff06-6320-4bca-98ca-b4da1d776ac8",
   "metadata": {},
   "outputs": [
    {
     "data": {
      "text/plain": [
       "100"
      ]
     },
     "execution_count": 7,
     "metadata": {},
     "output_type": "execute_result"
    }
   ],
   "source": [
    "# with two arguments\n",
    "\n",
    "def add(a,b):\n",
    "    return(a+b)\n",
    "add(50,50)\n",
    "\n",
    "# syntax: function name= lambda arg1,arg2: retrun output"
   ]
  },
  {
   "cell_type": "code",
   "execution_count": 9,
   "id": "5efdd21d-05ea-4cad-899b-768d125cb127",
   "metadata": {},
   "outputs": [],
   "source": [
    "add=lambda a,b:a+b"
   ]
  },
  {
   "cell_type": "code",
   "execution_count": 11,
   "id": "b15f9691-b28c-48aa-ba74-29df3c3f0df0",
   "metadata": {},
   "outputs": [
    {
     "data": {
      "text/plain": [
       "100"
      ]
     },
     "execution_count": 11,
     "metadata": {},
     "output_type": "execute_result"
    }
   ],
   "source": [
    "add(50,50)"
   ]
  },
  {
   "cell_type": "code",
   "execution_count": 13,
   "id": "63e8189e-fe02-41bb-beb3-4407f6b13626",
   "metadata": {},
   "outputs": [],
   "source": [
    "# default arguments\n",
    "\n",
    "add= lambda a=3,b=2:a+b"
   ]
  },
  {
   "cell_type": "code",
   "execution_count": 17,
   "id": "a8c5b2cd-64a6-4542-a721-41945e353998",
   "metadata": {},
   "outputs": [
    {
     "data": {
      "text/plain": [
       "5"
      ]
     },
     "execution_count": 17,
     "metadata": {},
     "output_type": "execute_result"
    }
   ],
   "source": [
    "add()"
   ]
  },
  {
   "cell_type": "code",
   "execution_count": 19,
   "id": "7d91367c-f572-4674-84cb-ff87482ff494",
   "metadata": {},
   "outputs": [
    {
     "data": {
      "text/plain": [
       "20"
      ]
     },
     "execution_count": 19,
     "metadata": {},
     "output_type": "execute_result"
    }
   ],
   "source": [
    "# if-else statement\n",
    "\n",
    "def max(a,b):\n",
    "    if a>b:\n",
    "        return(a)\n",
    "    else:\n",
    "        return(b)\n",
    "max(10,20)\n",
    "\n",
    "# syntax: funct name =lambda arg1,arg2: if-output if-condition else else-output"
   ]
  },
  {
   "cell_type": "code",
   "execution_count": 23,
   "id": "313c7d34-3f29-4f2e-a416-4a803dc770c5",
   "metadata": {},
   "outputs": [],
   "source": [
    "max=lambda a,b: a if a>b else b"
   ]
  },
  {
   "cell_type": "code",
   "execution_count": 25,
   "id": "29a42284-cb2c-4d1b-ae4b-d12ad4fe5c3f",
   "metadata": {},
   "outputs": [
    {
     "data": {
      "text/plain": [
       "20"
      ]
     },
     "execution_count": 25,
     "metadata": {},
     "output_type": "execute_result"
    }
   ],
   "source": [
    "max(10,20)"
   ]
  },
  {
   "cell_type": "code",
   "execution_count": 29,
   "id": "4db00189-82fa-4309-ab5e-cc5bc1d91fa9",
   "metadata": {},
   "outputs": [
    {
     "name": "stdout",
     "output_type": "stream",
     "text": [
      "Mumbai\n",
      "Chennai\n"
     ]
    }
   ],
   "source": [
    "l1=['hyd','mumbai','chennai','blr']\n",
    "# ans=['Mumbai','Chennai']\n",
    "\n",
    "for i in l1:\n",
    "    if len(i)>3:\n",
    "        print(i.capitalize())"
   ]
  },
  {
   "cell_type": "code",
   "execution_count": 35,
   "id": "45d99e22-d5b9-4afc-84fc-dd083f0adf8a",
   "metadata": {},
   "outputs": [
    {
     "data": {
      "text/plain": [
       "<map at 0x10850ea70>"
      ]
     },
     "execution_count": 35,
     "metadata": {},
     "output_type": "execute_result"
    }
   ],
   "source": [
    "l=['hyd','mumbai','chennai','blr']\n",
    "map(lambda i:len(i)>3,l)"
   ]
  },
  {
   "cell_type": "code",
   "execution_count": 37,
   "id": "7ccbfd29-64eb-47f9-bd36-c2f852caf8c5",
   "metadata": {},
   "outputs": [
    {
     "data": {
      "text/plain": [
       "[False, True, True, False]"
      ]
     },
     "execution_count": 37,
     "metadata": {},
     "output_type": "execute_result"
    }
   ],
   "source": [
    "list(map(lambda i:len(i)>3,l))"
   ]
  },
  {
   "cell_type": "code",
   "execution_count": 41,
   "id": "433c4f26-9da5-4cf5-9b0a-dda175267c53",
   "metadata": {},
   "outputs": [
    {
     "data": {
      "text/plain": [
       "['Apple', 'Banana', 'Orange']"
      ]
     },
     "execution_count": 41,
     "metadata": {},
     "output_type": "execute_result"
    }
   ],
   "source": [
    "l=['apple','banana','orange']\n",
    "list(map(lambda i:i.capitalize(),l))"
   ]
  },
  {
   "cell_type": "code",
   "execution_count": 45,
   "id": "785028f7-f463-43a4-a060-ada99de305ca",
   "metadata": {},
   "outputs": [
    {
     "data": {
      "text/plain": [
       "['mumbai', 'chennai']"
      ]
     },
     "execution_count": 45,
     "metadata": {},
     "output_type": "execute_result"
    }
   ],
   "source": [
    "l=['hyd','mumbai','chennai','blr']\n",
    "list(filter(lambda i:len(i)>3,l))"
   ]
  },
  {
   "cell_type": "code",
   "execution_count": 49,
   "id": "9faa0b8a-d903-4d40-aa4b-b2fe4049b08d",
   "metadata": {},
   "outputs": [
    {
     "data": {
      "text/plain": [
       "15"
      ]
     },
     "execution_count": 49,
     "metadata": {},
     "output_type": "execute_result"
    }
   ],
   "source": [
    "#level-1\n",
    "import functools\n",
    "l1=[1,2,3,4,5]\n",
    "functools.reduce(lambda summ,i:summ+i,l1)"
   ]
  },
  {
   "cell_type": "code",
   "execution_count": 51,
   "id": "46a6e153-276e-4e35-b143-6541a9b1b616",
   "metadata": {},
   "outputs": [
    {
     "data": {
      "text/plain": [
       "35"
      ]
     },
     "execution_count": 51,
     "metadata": {},
     "output_type": "execute_result"
    }
   ],
   "source": [
    "#level-2\n",
    "import functools\n",
    "l1=[1,2,3,4,5]\n",
    "functools.reduce(lambda summ,i:summ+i,l1,20)"
   ]
  },
  {
   "cell_type": "code",
   "execution_count": null,
   "id": "a8f9f1fb-9946-43d7-afc2-e5c51604b3be",
   "metadata": {},
   "outputs": [],
   "source": []
  }
 ],
 "metadata": {
  "kernelspec": {
   "display_name": "Python 3 (ipykernel)",
   "language": "python",
   "name": "python3"
  },
  "language_info": {
   "codemirror_mode": {
    "name": "ipython",
    "version": 3
   },
   "file_extension": ".py",
   "mimetype": "text/x-python",
   "name": "python",
   "nbconvert_exporter": "python",
   "pygments_lexer": "ipython3",
   "version": "3.11.7"
  }
 },
 "nbformat": 4,
 "nbformat_minor": 5
}
