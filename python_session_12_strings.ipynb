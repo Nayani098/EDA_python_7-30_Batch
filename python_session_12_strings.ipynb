{
 "cells": [
  {
   "cell_type": "code",
   "execution_count": null,
   "id": "73ba7844-aec5-4118-b5fa-985e2ac38a22",
   "metadata": {},
   "outputs": [],
   "source": [
    "########## python is divided into three parts ##########\n",
    "----- Basics\n",
    "1) variables\n",
    "2) data types\n",
    "3) type conversions\n",
    "4) eval inputs\n",
    "5) packages\n",
    "6) conditional statements\n",
    "7) try-expect\n",
    "8) functions\n",
    "9) for loop\n",
    "10) while loop (do this)\n",
    "\n",
    "----- Intermediate part\n",
    "11) strings\n",
    "12) lists\n",
    "13) dictionary\n",
    "14) tuples (do this)\n",
    "15) setse\n",
    "16) lamda functions\n",
    "17) file handling \n",
    "\n",
    "---- Advanced\n",
    "18) oops"
   ]
  },
  {
   "cell_type": "markdown",
   "id": "64702245-0c23-41db-a191-98f5a7f68a15",
   "metadata": {},
   "source": [
    "#============ part -1 =========#\n",
    "\n",
    "- Intialisation\n",
    "\n",
    "- type\n",
    "\n",
    "- len\n",
    "\n",
    "- max\n",
    "\n",
    "- min\n",
    "\n",
    "- sorted\n",
    "\n",
    "- reversed\n",
    "\n",
    "- in \n",
    "\n",
    "- for loop using in\n",
    "\n",
    "- index\n",
    "\n",
    "- for loop using index\n",
    "\n",
    "- mutable\n",
    "\n",
    "- concatenation\n",
    "\n",
    "#========= part-2 ========\n",
    "\n",
    "#== methods"
   ]
  },
  {
   "cell_type": "code",
   "execution_count": 6,
   "id": "87406af3-9c35-4d28-8cbf-1d56c3c661cb",
   "metadata": {},
   "outputs": [],
   "source": [
    "str1='python'"
   ]
  },
  {
   "cell_type": "code",
   "execution_count": 8,
   "id": "47064f6b-c035-4c32-abad-d5423cdb05ae",
   "metadata": {},
   "outputs": [
    {
     "data": {
      "text/plain": [
       "'python'"
      ]
     },
     "execution_count": 8,
     "metadata": {},
     "output_type": "execute_result"
    }
   ],
   "source": [
    "str1"
   ]
  },
  {
   "cell_type": "code",
   "execution_count": 10,
   "id": "51233f33-179c-425a-9bf8-647631cb7ced",
   "metadata": {},
   "outputs": [],
   "source": [
    "str2=\"python\""
   ]
  },
  {
   "cell_type": "code",
   "execution_count": 12,
   "id": "836cb8f4-51da-4a3f-8d46-0823f0ec92c9",
   "metadata": {},
   "outputs": [
    {
     "data": {
      "text/plain": [
       "'python'"
      ]
     },
     "execution_count": 12,
     "metadata": {},
     "output_type": "execute_result"
    }
   ],
   "source": [
    "str2"
   ]
  },
  {
   "cell_type": "code",
   "execution_count": 14,
   "id": "c9c3d268-f618-40d9-87d5-855349471cf3",
   "metadata": {},
   "outputs": [
    {
     "name": "stdout",
     "output_type": "stream",
     "text": [
      "python\n"
     ]
    }
   ],
   "source": [
    "print(str1) # do not confuse, not seeing the quotes"
   ]
  },
  {
   "cell_type": "markdown",
   "id": "67cdf87d-6e85-4d15-a8e7-eef534c4f412",
   "metadata": {},
   "source": [
    "**note**\n",
    "\n",
    "- if we mentioned single quotes or double qoutes by default provide in single quotes\n",
    "\n",
    "- if we print the strings we will see answer without quotes"
   ]
  },
  {
   "cell_type": "markdown",
   "id": "6037450b-05f2-41e9-ac56-49e94a0d410b",
   "metadata": {},
   "source": [
    "**Triple Quotes**"
   ]
  },
  {
   "cell_type": "code",
   "execution_count": 21,
   "id": "6e16c3f7-3e75-43ae-bb48-73d4de9c9ebc",
   "metadata": {},
   "outputs": [
    {
     "data": {
      "text/plain": [
       "'hi how are you\\n        im good'"
      ]
     },
     "execution_count": 21,
     "metadata": {},
     "output_type": "execute_result"
    }
   ],
   "source": [
    "str=\"\"\"hi how are you\n",
    "        im good\"\"\"\n",
    "str"
   ]
  },
  {
   "cell_type": "code",
   "execution_count": 25,
   "id": "91ead410-0024-4e60-9677-d55bc90d5edc",
   "metadata": {},
   "outputs": [
    {
     "name": "stdout",
     "output_type": "stream",
     "text": [
      "hi how are you\n",
      "        im good\n"
     ]
    }
   ],
   "source": [
    "print(str)"
   ]
  },
  {
   "cell_type": "markdown",
   "id": "ea4abc08-59ae-4c50-8473-67b98f4ad2aa",
   "metadata": {},
   "source": [
    "**note**\n",
    "\n",
    "- if we mentioned single quotes or double qoutes by default provide in single quotes\n",
    "\n",
    "- if we print the strings we will see answer without quotes\n",
    "\n",
    "- triple quotes are using for doc string\n",
    "\n",
    "- in order to convey the information about coding part we will use doc string\n",
    "\n",
    "- anything inside the single or double quotes is considered as string\n"
   ]
  },
  {
   "cell_type": "markdown",
   "id": "adc28406-93c9-473b-8628-cc85c6d332ce",
   "metadata": {},
   "source": [
    "**type**"
   ]
  },
  {
   "cell_type": "code",
   "execution_count": 34,
   "id": "23431779-edd1-4404-b036-0f8ff87e6583",
   "metadata": {},
   "outputs": [
    {
     "data": {
      "text/plain": [
       "str"
      ]
     },
     "execution_count": 34,
     "metadata": {},
     "output_type": "execute_result"
    }
   ],
   "source": [
    "type(str1) # type is string time"
   ]
  },
  {
   "cell_type": "code",
   "execution_count": null,
   "id": "c01933f7-1b8a-46b9-95da-a758910d053f",
   "metadata": {},
   "outputs": [],
   "source": [
    "str4='10' # integer value in the form of string\n",
    "str5='10.5' # float value in the form of string\n",
    "str6='123abc' # alpha numeric in the form of string\n",
    "str7='True' # boolen value in the forn of string"
   ]
  },
  {
   "cell_type": "markdown",
   "id": "97e13046-e56d-4317-87be-9c464db0733d",
   "metadata": {},
   "source": [
    "**len**"
   ]
  },
  {
   "cell_type": "code",
   "execution_count": 38,
   "id": "828c8d53-09ef-4d57-9f5e-dffc32cd4cfa",
   "metadata": {},
   "outputs": [
    {
     "data": {
      "text/plain": [
       "6"
      ]
     },
     "execution_count": 38,
     "metadata": {},
     "output_type": "execute_result"
    }
   ],
   "source": [
    "str1='python'\n",
    "len(str1)"
   ]
  },
  {
   "cell_type": "code",
   "execution_count": 40,
   "id": "e8949f38-653a-4397-9340-98052ddf3839",
   "metadata": {},
   "outputs": [
    {
     "data": {
      "text/plain": [
       "26"
      ]
     },
     "execution_count": 40,
     "metadata": {},
     "output_type": "execute_result"
    }
   ],
   "source": [
    "str10='abcdefghijklmnopqrstuvwxyz'\n",
    "len(str10)"
   ]
  },
  {
   "cell_type": "markdown",
   "id": "2523383a-e1ba-4356-a02b-c0c9f9b3cb46",
   "metadata": {},
   "source": [
    "**max and min**"
   ]
  },
  {
   "cell_type": "code",
   "execution_count": 43,
   "id": "0a86875f-f2a1-4849-b590-5744ca97ae23",
   "metadata": {},
   "outputs": [
    {
     "data": {
      "text/plain": [
       "'y'"
      ]
     },
     "execution_count": 43,
     "metadata": {},
     "output_type": "execute_result"
    }
   ],
   "source": [
    "str1='python'\n",
    "max(str1)"
   ]
  },
  {
   "cell_type": "code",
   "execution_count": 45,
   "id": "7fef008d-8ab1-489a-986e-6576681ba1fc",
   "metadata": {},
   "outputs": [
    {
     "data": {
      "text/plain": [
       "'h'"
      ]
     },
     "execution_count": 45,
     "metadata": {},
     "output_type": "execute_result"
    }
   ],
   "source": [
    "min(str1)"
   ]
  },
  {
   "cell_type": "code",
   "execution_count": 49,
   "id": "11b6e487-1c91-4cbc-ab7d-26f394f46ae4",
   "metadata": {},
   "outputs": [
    {
     "data": {
      "text/plain": [
       "(112, 121, 116, 104, 111, 110)"
      ]
     },
     "execution_count": 49,
     "metadata": {},
     "output_type": "execute_result"
    }
   ],
   "source": [
    "ord('p'),ord('y'),ord('t'),ord('h'),ord('o'),ord('n')"
   ]
  },
  {
   "cell_type": "code",
   "execution_count": 51,
   "id": "638eae62-ab38-444f-8fad-f3b8b760286b",
   "metadata": {},
   "outputs": [
    {
     "data": {
      "text/plain": [
       "'z'"
      ]
     },
     "execution_count": 51,
     "metadata": {},
     "output_type": "execute_result"
    }
   ],
   "source": [
    "str10='abcdefghijklmnopqrstuvwxyz'\n",
    "max(str10)"
   ]
  },
  {
   "cell_type": "code",
   "execution_count": 53,
   "id": "69eee857-148d-4157-8b86-563ccdcacc86",
   "metadata": {},
   "outputs": [
    {
     "data": {
      "text/plain": [
       "'a'"
      ]
     },
     "execution_count": 53,
     "metadata": {},
     "output_type": "execute_result"
    }
   ],
   "source": [
    "min(str10)"
   ]
  },
  {
   "cell_type": "markdown",
   "id": "6c801eec-b334-45a8-a2cc-dc4e780e0fb3",
   "metadata": {},
   "source": [
    "**Keywords vs Methods**"
   ]
  },
  {
   "cell_type": "code",
   "execution_count": null,
   "id": "9f50b218-e09d-49bf-b768-15f645750f65",
   "metadata": {},
   "outputs": [],
   "source": [
    "type(<>)\n",
    "print(<>)\n",
    "len(<>)\n",
    "max(<>)\n",
    "min(<>)\n",
    "eval(<>)\n",
    "input(<>)"
   ]
  },
  {
   "cell_type": "code",
   "execution_count": null,
   "id": "f3d4ff27-d223-4c8b-bc16-79abdd1ce0f7",
   "metadata": {},
   "outputs": [],
   "source": [
    "- in order to use method we need to call package\n",
    "\n",
    "import random\n",
    "random.randint()\n",
    "\n",
    "import math\n",
    "math.sqrt()\n",
    "\n",
    "import time\n",
    "time.sleep()"
   ]
  },
  {
   "cell_type": "code",
   "execution_count": 58,
   "id": "f50e7727-a8f4-4434-9d1b-6a9e83fb5fcd",
   "metadata": {},
   "outputs": [],
   "source": [
    "str='python123'"
   ]
  },
  {
   "cell_type": "code",
   "execution_count": 60,
   "id": "621d5992-d4e9-4713-91f2-b9f9afcf5cf1",
   "metadata": {},
   "outputs": [
    {
     "data": {
      "text/plain": [
       "'y'"
      ]
     },
     "execution_count": 60,
     "metadata": {},
     "output_type": "execute_result"
    }
   ],
   "source": [
    "max(str)"
   ]
  },
  {
   "cell_type": "code",
   "execution_count": 62,
   "id": "db2880e3-4af8-4356-95fe-cc3686e94879",
   "metadata": {},
   "outputs": [
    {
     "ename": "TypeError",
     "evalue": "unsupported operand type(s) for +: 'int' and 'str'",
     "output_type": "error",
     "traceback": [
      "\u001b[0;31m---------------------------------------------------------------------------\u001b[0m",
      "\u001b[0;31mTypeError\u001b[0m                                 Traceback (most recent call last)",
      "Cell \u001b[0;32mIn[62], line 2\u001b[0m\n\u001b[1;32m      1\u001b[0m str1\u001b[38;5;241m=\u001b[39m\u001b[38;5;124m'\u001b[39m\u001b[38;5;124mpython\u001b[39m\u001b[38;5;124m'\u001b[39m\n\u001b[0;32m----> 2\u001b[0m \u001b[38;5;28msum\u001b[39m(str1)\n",
      "\u001b[0;31mTypeError\u001b[0m: unsupported operand type(s) for +: 'int' and 'str'"
     ]
    }
   ],
   "source": [
    "str1='python'\n",
    "sum(str1)"
   ]
  },
  {
   "cell_type": "code",
   "execution_count": 64,
   "id": "1cffbd3b-839d-4cd8-b2fe-9808577b1bcc",
   "metadata": {},
   "outputs": [
    {
     "data": {
      "text/plain": [
       "6"
      ]
     },
     "execution_count": 64,
     "metadata": {},
     "output_type": "execute_result"
    }
   ],
   "source": [
    "sum([1,2,3])"
   ]
  },
  {
   "cell_type": "markdown",
   "id": "60a3b543-0a4f-4461-96a5-87ed6b2b25b3",
   "metadata": {},
   "source": [
    "**note**\n",
    "\n",
    "- we cannot add the string with sum(), because it is not a math function"
   ]
  },
  {
   "cell_type": "markdown",
   "id": "cae8f94c-e06b-4e72-9939-708c4f8a6c0c",
   "metadata": {},
   "source": [
    "**sorted**\n"
   ]
  },
  {
   "cell_type": "code",
   "execution_count": null,
   "id": "64a8815f-6218-459b-ab93-893d2b0227ee",
   "metadata": {},
   "outputs": [],
   "source": [
    "len('python')\n",
    "max('python')\n",
    "min('python')\n",
    "print('python')"
   ]
  },
  {
   "cell_type": "code",
   "execution_count": 70,
   "id": "f97f4916-c2d0-461a-a0fd-ab6964e1cc53",
   "metadata": {},
   "outputs": [
    {
     "data": {
      "text/plain": [
       "['h', 'n', 'o', 'p', 't', 'y']"
      ]
     },
     "execution_count": 70,
     "metadata": {},
     "output_type": "execute_result"
    }
   ],
   "source": [
    "sorted('python')"
   ]
  },
  {
   "cell_type": "markdown",
   "id": "99c095eb-23d3-4a4b-a325-82d99721a5b3",
   "metadata": {},
   "source": [
    "- sorted will gives ascending order based on ascii numbers or value\n",
    "\n",
    "- sorted is kind of a function\n",
    "\n",
    "- every function we have arguments\n",
    "\n",
    "- in that one defualt argument is **reverse=False**\n",
    "\n",
    "- by default sorted output gives **ascending order**\n",
    "\n",
    "- we can change the order, by providing **reverse=True**\n",
    "\n",
    "- **if we do not mention, it will gives the default answer** "
   ]
  },
  {
   "cell_type": "code",
   "execution_count": 75,
   "id": "c90e1c16-fa60-4069-be0e-ce756b2b0d65",
   "metadata": {},
   "outputs": [
    {
     "data": {
      "text/plain": [
       "['y', 't', 'p', 'o', 'n', 'h']"
      ]
     },
     "execution_count": 75,
     "metadata": {},
     "output_type": "execute_result"
    }
   ],
   "source": [
    "sorted(str1,reverse=True)"
   ]
  },
  {
   "cell_type": "code",
   "execution_count": 86,
   "id": "f9d5564e-5d2e-4297-92e4-58e39ff05e52",
   "metadata": {},
   "outputs": [
    {
     "data": {
      "text/plain": [
       "complex"
      ]
     },
     "execution_count": 86,
     "metadata": {},
     "output_type": "execute_result"
    }
   ],
   "source": [
    "complex # 0+0j"
   ]
  },
  {
   "cell_type": "code",
   "execution_count": 80,
   "id": "1cecb596-3c98-4e42-9c94-d339c5fb9731",
   "metadata": {},
   "outputs": [
    {
     "data": {
      "text/plain": [
       "(10+20j)"
      ]
     },
     "execution_count": 80,
     "metadata": {},
     "output_type": "execute_result"
    }
   ],
   "source": [
    "complex(10,20)"
   ]
  },
  {
   "cell_type": "code",
   "execution_count": 84,
   "id": "2be4c3fc-d8e8-4c14-947a-110e1b634c9f",
   "metadata": {},
   "outputs": [
    {
     "data": {
      "text/plain": [
       "(10+30j)"
      ]
     },
     "execution_count": 84,
     "metadata": {},
     "output_type": "execute_result"
    }
   ],
   "source": [
    "complex(real=10,imag=30)"
   ]
  },
  {
   "cell_type": "code",
   "execution_count": 88,
   "id": "6d4e60e7-a7b5-462f-9df0-a6999938083b",
   "metadata": {},
   "outputs": [
    {
     "ename": "TypeError",
     "evalue": "Random.randint() missing 2 required positional arguments: 'a' and 'b'",
     "output_type": "error",
     "traceback": [
      "\u001b[0;31m---------------------------------------------------------------------------\u001b[0m",
      "\u001b[0;31mTypeError\u001b[0m                                 Traceback (most recent call last)",
      "Cell \u001b[0;32mIn[88], line 2\u001b[0m\n\u001b[1;32m      1\u001b[0m \u001b[38;5;28;01mimport\u001b[39;00m \u001b[38;5;21;01mrandom\u001b[39;00m\n\u001b[0;32m----> 2\u001b[0m random\u001b[38;5;241m.\u001b[39mrandint()\n",
      "\u001b[0;31mTypeError\u001b[0m: Random.randint() missing 2 required positional arguments: 'a' and 'b'"
     ]
    }
   ],
   "source": [
    "import random\n",
    "random.randint()"
   ]
  },
  {
   "cell_type": "code",
   "execution_count": null,
   "id": "3b4f2b58-eb2b-4706-8f4b-66c8b8100bd7",
   "metadata": {},
   "outputs": [],
   "source": [
    "funtion() # answer\n",
    "funtion(a,b) # this might return error, if we don't give value of a,b\n",
    "function(a=10,b=20) #ans"
   ]
  },
  {
   "cell_type": "code",
   "execution_count": 92,
   "id": "b31a088e-5d44-4d66-8c62-e792104d599a",
   "metadata": {},
   "outputs": [
    {
     "data": {
      "text/plain": [
       "0.18053524534918375"
      ]
     },
     "execution_count": 92,
     "metadata": {},
     "output_type": "execute_result"
    }
   ],
   "source": [
    "import random\n",
    "random.random() # we will get answer but answer will not in our hands"
   ]
  },
  {
   "cell_type": "code",
   "execution_count": 94,
   "id": "3995860b-7b4d-4f5c-9ca8-7fdecce789b9",
   "metadata": {},
   "outputs": [
    {
     "data": {
      "text/plain": [
       "18"
      ]
     },
     "execution_count": 94,
     "metadata": {},
     "output_type": "execute_result"
    }
   ],
   "source": [
    "import random\n",
    "random.randint(10,20) # answer we can change"
   ]
  },
  {
   "cell_type": "code",
   "execution_count": 102,
   "id": "5e9a145b-d1bb-41bd-997f-d227b9a23069",
   "metadata": {},
   "outputs": [
    {
     "data": {
      "text/plain": [
       "0j"
      ]
     },
     "execution_count": 102,
     "metadata": {},
     "output_type": "execute_result"
    }
   ],
   "source": [
    "complex() # default 0,0 "
   ]
  },
  {
   "cell_type": "code",
   "execution_count": 104,
   "id": "65047591-7370-4aaa-92fd-d7f1814dbbbe",
   "metadata": {},
   "outputs": [
    {
     "data": {
      "text/plain": [
       "(10+20j)"
      ]
     },
     "execution_count": 104,
     "metadata": {},
     "output_type": "execute_result"
    }
   ],
   "source": [
    "complex(real=10,imag=20) # for default values we can change the values through our own"
   ]
  },
  {
   "cell_type": "code",
   "execution_count": 112,
   "id": "07eeebf9-ea7f-49dc-8823-c53096c8d324",
   "metadata": {},
   "outputs": [
    {
     "ename": "TypeError",
     "evalue": "sorted expected 1 argument, got 0",
     "output_type": "error",
     "traceback": [
      "\u001b[0;31m---------------------------------------------------------------------------\u001b[0m",
      "\u001b[0;31mTypeError\u001b[0m                                 Traceback (most recent call last)",
      "Cell \u001b[0;32mIn[112], line 1\u001b[0m\n\u001b[0;32m----> 1\u001b[0m \u001b[38;5;28msorted\u001b[39m(iterable\u001b[38;5;241m=\u001b[39m\u001b[38;5;124m'\u001b[39m\u001b[38;5;124mpython\u001b[39m\u001b[38;5;124m'\u001b[39m)\n",
      "\u001b[0;31mTypeError\u001b[0m: sorted expected 1 argument, got 0"
     ]
    }
   ],
   "source": [
    "sorted(iterable='python') # error"
   ]
  },
  {
   "cell_type": "code",
   "execution_count": 110,
   "id": "30937a29-7283-4deb-87e5-fa228518b3b8",
   "metadata": {},
   "outputs": [
    {
     "data": {
      "text/plain": [
       "16"
      ]
     },
     "execution_count": 110,
     "metadata": {},
     "output_type": "execute_result"
    }
   ],
   "source": [
    "random.randint(a=10,b=20) # answer"
   ]
  },
  {
   "cell_type": "markdown",
   "id": "0f963736-265a-466b-8de4-c1cf066bd41c",
   "metadata": {},
   "source": [
    "**note**\n",
    "\n",
    "- **we have two arguments before / and after slash**\n",
    "\n",
    "- **we can use the arguments names after / only**\n",
    "\n",
    "- for example sorted has two arguments one is iterable and another one is reverse\n",
    "\n",
    "- **iterable is mentioned before / symbol**\n",
    "\n",
    "- **reverse is mentioned after / symbol**\n",
    "\n",
    "- so we can use only reverse arguments name while we are doing the work\n",
    "\n",
    "- we can not use iterable arguments names\n",
    "\n",
    "- instead of using iterable name, we can provide direct value at the position "
   ]
  },
  {
   "cell_type": "markdown",
   "id": "1fae010c-79b5-4ebd-9721-682c8b1cee99",
   "metadata": {},
   "source": [
    "**reversed**"
   ]
  },
  {
   "cell_type": "code",
   "execution_count": 120,
   "id": "01c45384-2c98-4178-9c48-77373ea6b203",
   "metadata": {},
   "outputs": [
    {
     "data": {
      "text/plain": [
       "<reversed at 0x137934730>"
      ]
     },
     "execution_count": 120,
     "metadata": {},
     "output_type": "execute_result"
    }
   ],
   "source": [
    "reversed('python')"
   ]
  },
  {
   "cell_type": "markdown",
   "id": "e6f9dec2-0dae-4a3b-bb6a-ef2b95d0f0f2",
   "metadata": {},
   "source": [
    "- I already done my work\n",
    "\n",
    "- your output is stored in that memory location\n",
    "\n",
    "- whenever you see this kind of answer less than and greater than symbol or memory\n",
    "\n",
    "- use for loop to see the anser"
   ]
  },
  {
   "cell_type": "code",
   "execution_count": 123,
   "id": "289f280c-962a-4c8c-a5a4-3223c0758604",
   "metadata": {},
   "outputs": [
    {
     "name": "stdout",
     "output_type": "stream",
     "text": [
      "n\n",
      "o\n",
      "h\n",
      "t\n",
      "y\n",
      "p\n"
     ]
    }
   ],
   "source": [
    "str1='python'\n",
    "output=reversed(str1)\n",
    "for i in output:\n",
    "    print(i)"
   ]
  },
  {
   "cell_type": "code",
   "execution_count": 125,
   "id": "65b730a7-5fd5-4632-8cbe-51769558e8f8",
   "metadata": {},
   "outputs": [
    {
     "data": {
      "text/plain": [
       "['a', 'c', 'd', 'y', 'z']"
      ]
     },
     "execution_count": 125,
     "metadata": {},
     "output_type": "execute_result"
    }
   ],
   "source": [
    "sorted('azycd')"
   ]
  },
  {
   "cell_type": "markdown",
   "id": "cb24c7e9-444b-4ab9-ac1b-177a64f940f7",
   "metadata": {},
   "source": [
    "- intialization\n",
    "\n",
    "- type\n",
    "\n",
    "- len\n",
    "\n",
    "- min\n",
    "\n",
    "- max\n",
    "\n",
    "- sum\n",
    "\n",
    "- sorted\n",
    "\n",
    "- reversed"
   ]
  },
  {
   "cell_type": "code",
   "execution_count": 7,
   "id": "0eaec3c9-0ae1-4762-b502-97a8f4b6eca4",
   "metadata": {},
   "outputs": [
    {
     "data": {
      "text/plain": [
       "['a', 'e', 'h', 'n', 'r', 's']"
      ]
     },
     "execution_count": 7,
     "metadata": {},
     "output_type": "execute_result"
    }
   ],
   "source": [
    "# sorted\n",
    "# it will provide the values either ascending or decending order\n",
    "\n",
    "sorted('naresh')\n",
    "\n",
    "# when I run directly it will give one answer\n",
    "# the function has a default behaviour : ascending\n",
    "\n",
    "# how this default mentioned"
   ]
  },
  {
   "cell_type": "code",
   "execution_count": 5,
   "id": "0bccee56-ee00-43ba-9cad-15b8e84c4349",
   "metadata": {},
   "outputs": [
    {
     "data": {
      "text/plain": [
       "['s', 'r', 'n', 'h', 'e', 'a']"
      ]
     },
     "execution_count": 5,
     "metadata": {},
     "output_type": "execute_result"
    }
   ],
   "source": [
    "sorted('naresh',reverse=True)"
   ]
  },
  {
   "cell_type": "code",
   "execution_count": 11,
   "id": "d2373645-deed-4b39-a9e8-d7662f074f4f",
   "metadata": {},
   "outputs": [
    {
     "name": "stdout",
     "output_type": "stream",
     "text": [
      "h\n",
      "s\n",
      "e\n",
      "r\n",
      "a\n",
      "n\n"
     ]
    }
   ],
   "source": [
    "for i in reversed('naresh'):\n",
    "    print(i)"
   ]
  },
  {
   "cell_type": "code",
   "execution_count": 13,
   "id": "deb83080-9edb-434d-9ebe-124c745de3a5",
   "metadata": {},
   "outputs": [
    {
     "data": {
      "text/plain": [
       "[1, 2, 3, 4, 5, 6, 8]"
      ]
     },
     "execution_count": 13,
     "metadata": {},
     "output_type": "execute_result"
    }
   ],
   "source": [
    "sorted([1,2,6,4,3,8,5])"
   ]
  },
  {
   "cell_type": "code",
   "execution_count": 15,
   "id": "f398c7d6-163c-4336-938c-105ca4fb0ee1",
   "metadata": {},
   "outputs": [
    {
     "data": {
      "text/plain": [
       "[8, 6, 5, 4, 3, 2, 1]"
      ]
     },
     "execution_count": 15,
     "metadata": {},
     "output_type": "execute_result"
    }
   ],
   "source": [
    "sorted([1,2,6,4,3,8,5],reverse=True)"
   ]
  },
  {
   "cell_type": "markdown",
   "id": "9d96b49f-0198-4231-a503-29b7f5e33df9",
   "metadata": {},
   "source": [
    "**in**"
   ]
  },
  {
   "cell_type": "code",
   "execution_count": 20,
   "id": "ffbe12a5-9a39-4f60-863f-5e08336e0b86",
   "metadata": {},
   "outputs": [
    {
     "data": {
      "text/plain": [
       "True"
      ]
     },
     "execution_count": 20,
     "metadata": {},
     "output_type": "execute_result"
    }
   ],
   "source": [
    "str1='naresh'\n",
    "'n' in str1"
   ]
  },
  {
   "cell_type": "code",
   "execution_count": 22,
   "id": "b8269c94-004f-46df-ae80-1b860451cee0",
   "metadata": {},
   "outputs": [
    {
     "data": {
      "text/plain": [
       "True"
      ]
     },
     "execution_count": 22,
     "metadata": {},
     "output_type": "execute_result"
    }
   ],
   "source": [
    "'n' in 'naresh'"
   ]
  },
  {
   "cell_type": "code",
   "execution_count": null,
   "id": "c777d4e0-4cfc-467a-bc0c-fecc823d070e",
   "metadata": {},
   "outputs": [],
   "source": [
    "# strings\n",
    "# lists\n",
    "# tuples\n",
    "# sets\n",
    "# dictonary"
   ]
  },
  {
   "cell_type": "markdown",
   "id": "4fb72bc5-900e-49f4-90ca-0c43d18f8b4a",
   "metadata": {},
   "source": [
    "**note**\n",
    "\n",
    "- in operator directly access the letters "
   ]
  },
  {
   "cell_type": "code",
   "execution_count": 31,
   "id": "b6d5b29c-02b8-4cdc-84e8-c23c01eda257",
   "metadata": {},
   "outputs": [
    {
     "name": "stdout",
     "output_type": "stream",
     "text": [
      "3\n"
     ]
    }
   ],
   "source": [
    "# 1) wap ask the user count how many 'a' are present in a given string\n",
    "# str1='hai naresh how are you'\n",
    "\n",
    "# idea: count wrapper\n",
    "# step-1: count=0\n",
    "# step-2: using for loop in operator iterate through given string\n",
    "# step-3: apply the if condition, whenever the letter equal to 'a'\n",
    "# step-4: count=count+1\n",
    "\n",
    "count=0\n",
    "str1='hai naresh how are you'\n",
    "for i in str1:\n",
    "    if 'a'==i:\n",
    "        count=count+1\n",
    "print(count)\n",
    "\n",
    "# step-1: i='h' if a=='h'  false\n",
    "# step-1: i='a' if a=='a'  true\n",
    "# step-......"
   ]
  },
  {
   "cell_type": "code",
   "execution_count": 41,
   "id": "408be0f0-23d5-43c7-9198-f4b2060dfd59",
   "metadata": {},
   "outputs": [
    {
     "name": "stdout",
     "output_type": "stream",
     "text": [
      "9\n"
     ]
    }
   ],
   "source": [
    "# wap ask the user how vowels are there in a given\n",
    "# string= hai naresh how are you\n",
    "\n",
    "count=0\n",
    "str1='hai naresh how are you'\n",
    "str2='aeiou'\n",
    "for i in str1:\n",
    "    if i in str2:\n",
    "        count=count+1\n",
    "print(count)\n",
    "    "
   ]
  },
  {
   "cell_type": "code",
   "execution_count": 15,
   "id": "26784a79-6a3b-41bb-b6f2-ea06d7d7792a",
   "metadata": {},
   "outputs": [
    {
     "name": "stdout",
     "output_type": "stream",
     "text": [
      "aieou\n",
      "the count is 5\n"
     ]
    }
   ],
   "source": [
    "# 3) home work gn\n",
    "# str1='hai naresh how are you'\n",
    "# repeated vowels are there\n",
    "# we dont want repeated vowels\n",
    "# count the vowels avoid the repeatation : unique words\n",
    "\n",
    "# step1: count=0\n",
    "# step2: take one more empty string: ex= s2=''\n",
    "# step3: using for loop in operator iterate through given string\n",
    "# step4: condition-1: that letter should not avaiable in s2\n",
    "# step5:      condition-2: vowel check condition\n",
    "# step6:           count=count+1\n",
    "# step7:             update the s2= s2= s2+<letter>\n",
    "\n",
    "count=0\n",
    "str1='hai naresh how are you'\n",
    "str2=''\n",
    "str3='aeiou'\n",
    "for i in str1:\n",
    "    if i not in str2:\n",
    "        if i in str3:\n",
    "            count=count+1\n",
    "            str2=str2+i\n",
    "print(str2,sep='')\n",
    "print('the count is',count)"
   ]
  },
  {
   "cell_type": "code",
   "execution_count": 49,
   "id": "2435188b-6fc9-4ee5-9fa8-69ec1ebffc15",
   "metadata": {},
   "outputs": [
    {
     "data": {
      "text/plain": [
       "'python'"
      ]
     },
     "execution_count": 49,
     "metadata": {},
     "output_type": "execute_result"
    }
   ],
   "source": [
    "s1='python'\n",
    "s2=''\n",
    "\n",
    "for i in s1:\n",
    "    s2=s2+i  #concatenation\n",
    "\n",
    "\n",
    "s2"
   ]
  },
  {
   "cell_type": "code",
   "execution_count": 63,
   "id": "88d2f1bd-f134-4669-8cf0-03df3afcb39c",
   "metadata": {},
   "outputs": [
    {
     "data": {
      "text/plain": [
       "'hellobye'"
      ]
     },
     "execution_count": 63,
     "metadata": {},
     "output_type": "execute_result"
    }
   ],
   "source": [
    "s1='hello'\n",
    "s2='bye'\n",
    "s1+s2"
   ]
  },
  {
   "cell_type": "code",
   "execution_count": 55,
   "id": "dae0811a-2fa2-451d-a6e9-e18f418aad9a",
   "metadata": {},
   "outputs": [
    {
     "data": {
      "text/plain": [
       "'hello bye'"
      ]
     },
     "execution_count": 55,
     "metadata": {},
     "output_type": "execute_result"
    }
   ],
   "source": [
    "s1='hello '\n",
    "s2='bye'\n",
    "s1+s2"
   ]
  },
  {
   "cell_type": "code",
   "execution_count": 57,
   "id": "a671d62e-910f-447d-8088-c93fb7b0a196",
   "metadata": {},
   "outputs": [
    {
     "data": {
      "text/plain": [
       "'hello bye'"
      ]
     },
     "execution_count": 57,
     "metadata": {},
     "output_type": "execute_result"
    }
   ],
   "source": [
    "s1='hello'\n",
    "s2=' bye'\n",
    "s1+s2"
   ]
  },
  {
   "cell_type": "code",
   "execution_count": 61,
   "id": "03d479dc-9ac0-4c94-b840-67c2ec52c86c",
   "metadata": {},
   "outputs": [
    {
     "data": {
      "text/plain": [
       "'hello bye'"
      ]
     },
     "execution_count": 61,
     "metadata": {},
     "output_type": "execute_result"
    }
   ],
   "source": [
    "s1='hello'\n",
    "s2=' '\n",
    "s3='bye'\n",
    "s1+s2+s3"
   ]
  },
  {
   "cell_type": "code",
   "execution_count": 65,
   "id": "f670d9ff-10b4-4a68-ae91-93e4a520a420",
   "metadata": {},
   "outputs": [
    {
     "data": {
      "text/plain": [
       "'hello bye'"
      ]
     },
     "execution_count": 65,
     "metadata": {},
     "output_type": "execute_result"
    }
   ],
   "source": [
    "s1='hello'\n",
    "s2=' '\n",
    "s3='bye'\n",
    "s4=s1+s2+s3\n",
    "s4"
   ]
  },
  {
   "cell_type": "code",
   "execution_count": 67,
   "id": "e671a167-485e-4e6c-9374-9ba8765833cc",
   "metadata": {},
   "outputs": [
    {
     "ename": "TypeError",
     "evalue": "can't multiply sequence by non-int of type 'str'",
     "output_type": "error",
     "traceback": [
      "\u001b[0;31m---------------------------------------------------------------------------\u001b[0m",
      "\u001b[0;31mTypeError\u001b[0m                                 Traceback (most recent call last)",
      "Cell \u001b[0;32mIn[67], line 3\u001b[0m\n\u001b[1;32m      1\u001b[0m s1\u001b[38;5;241m=\u001b[39m\u001b[38;5;124m'\u001b[39m\u001b[38;5;124mhello\u001b[39m\u001b[38;5;124m'\u001b[39m\n\u001b[1;32m      2\u001b[0m s2\u001b[38;5;241m=\u001b[39m\u001b[38;5;124m'\u001b[39m\u001b[38;5;124mbye\u001b[39m\u001b[38;5;124m'\u001b[39m\n\u001b[0;32m----> 3\u001b[0m s1\u001b[38;5;241m*\u001b[39ms2\n",
      "\u001b[0;31mTypeError\u001b[0m: can't multiply sequence by non-int of type 'str'"
     ]
    }
   ],
   "source": [
    "s1='hello'\n",
    "s2='bye'\n",
    "s1*s2"
   ]
  },
  {
   "cell_type": "code",
   "execution_count": 69,
   "id": "b4c10653-a6c5-44b2-aa59-46f15ce59579",
   "metadata": {},
   "outputs": [
    {
     "ename": "TypeError",
     "evalue": "unsupported operand type(s) for /: 'str' and 'str'",
     "output_type": "error",
     "traceback": [
      "\u001b[0;31m---------------------------------------------------------------------------\u001b[0m",
      "\u001b[0;31mTypeError\u001b[0m                                 Traceback (most recent call last)",
      "Cell \u001b[0;32mIn[69], line 3\u001b[0m\n\u001b[1;32m      1\u001b[0m s1\u001b[38;5;241m=\u001b[39m\u001b[38;5;124m'\u001b[39m\u001b[38;5;124mhello\u001b[39m\u001b[38;5;124m'\u001b[39m\n\u001b[1;32m      2\u001b[0m s2\u001b[38;5;241m=\u001b[39m\u001b[38;5;124m'\u001b[39m\u001b[38;5;124mbye\u001b[39m\u001b[38;5;124m'\u001b[39m\n\u001b[0;32m----> 3\u001b[0m s1\u001b[38;5;241m/\u001b[39ms2\n",
      "\u001b[0;31mTypeError\u001b[0m: unsupported operand type(s) for /: 'str' and 'str'"
     ]
    }
   ],
   "source": [
    "s1='hello'\n",
    "s2='bye'\n",
    "s1/s2"
   ]
  },
  {
   "cell_type": "code",
   "execution_count": 71,
   "id": "dc0214fd-6182-41ae-947d-2aeca9c58c93",
   "metadata": {},
   "outputs": [
    {
     "ename": "TypeError",
     "evalue": "unsupported operand type(s) for -: 'str' and 'str'",
     "output_type": "error",
     "traceback": [
      "\u001b[0;31m---------------------------------------------------------------------------\u001b[0m",
      "\u001b[0;31mTypeError\u001b[0m                                 Traceback (most recent call last)",
      "Cell \u001b[0;32mIn[71], line 3\u001b[0m\n\u001b[1;32m      1\u001b[0m s1\u001b[38;5;241m=\u001b[39m\u001b[38;5;124m'\u001b[39m\u001b[38;5;124mhello\u001b[39m\u001b[38;5;124m'\u001b[39m\n\u001b[1;32m      2\u001b[0m s2\u001b[38;5;241m=\u001b[39m\u001b[38;5;124m'\u001b[39m\u001b[38;5;124mbye\u001b[39m\u001b[38;5;124m'\u001b[39m\n\u001b[0;32m----> 3\u001b[0m s1\u001b[38;5;241m-\u001b[39ms2\n",
      "\u001b[0;31mTypeError\u001b[0m: unsupported operand type(s) for -: 'str' and 'str'"
     ]
    }
   ],
   "source": [
    "s1='hello'\n",
    "s2='bye'\n",
    "s1-s2"
   ]
  },
  {
   "cell_type": "code",
   "execution_count": 80,
   "id": "835a67c2-ad90-4f77-a8c0-dd7a1cf31b65",
   "metadata": {},
   "outputs": [
    {
     "data": {
      "text/plain": [
       "'hellohello'"
      ]
     },
     "execution_count": 80,
     "metadata": {},
     "output_type": "execute_result"
    }
   ],
   "source": [
    "s1='hello'\n",
    "s2=2\n",
    "s1*s2  # s1+s1===>s1*2"
   ]
  },
  {
   "cell_type": "markdown",
   "id": "f528a38f-362c-4541-b56a-f61729e62c54",
   "metadata": {},
   "source": [
    "**index**\n",
    "\n",
    "- Index meaning a number attached to a letter\n",
    "\n",
    "- in python index starts with 0\n",
    "\n",
    "- we have two direction\n",
    "\n",
    "    - postive + direction\n",
    "       - postive starts with zero\n",
    "    - negative - direction\n",
    "       - negative starts with -1, applicable to last letter "
   ]
  },
  {
   "cell_type": "code",
   "execution_count": null,
   "id": "607fa7a7-ccd4-4eb9-963c-3a5b3705c8b0",
   "metadata": {},
   "outputs": [],
   "source": [
    "s1='python'\n",
    "\n",
    "-6 -5  -4  -3  -2  -1  ==> negative\n",
    "p   y   t   h   o   n\n",
    "0   1   2   3   4   5 ===> positive"
   ]
  },
  {
   "cell_type": "code",
   "execution_count": 85,
   "id": "6a3d076c-b836-42cf-916a-9cc29382ad63",
   "metadata": {},
   "outputs": [
    {
     "data": {
      "text/plain": [
       "('p', 'y', 't', 'h', 'o', 'n')"
      ]
     },
     "execution_count": 85,
     "metadata": {},
     "output_type": "execute_result"
    }
   ],
   "source": [
    "s1='python'\n",
    "s1[0],s1[1],s1[2],s1[3],s1[4],s1[5]\n"
   ]
  },
  {
   "cell_type": "code",
   "execution_count": 87,
   "id": "72d435f9-f530-4751-9d53-deb0f119a20d",
   "metadata": {},
   "outputs": [
    {
     "data": {
      "text/plain": [
       "('p', 'y', 't', 'h', 'o', 'n')"
      ]
     },
     "execution_count": 87,
     "metadata": {},
     "output_type": "execute_result"
    }
   ],
   "source": [
    "s1='python'\n",
    "s1[-6],s1[-5],s1[-4],s1[-3],s1[-2],s1[-1]"
   ]
  },
  {
   "cell_type": "code",
   "execution_count": 3,
   "id": "17111a9d-0d6f-4ca8-af87-436b48713e4f",
   "metadata": {},
   "outputs": [
    {
     "data": {
      "text/plain": [
       "True"
      ]
     },
     "execution_count": 3,
     "metadata": {},
     "output_type": "execute_result"
    }
   ],
   "source": [
    "str1='hai naresh how are you'\n",
    "str2=''\n",
    "'h' not in str2\n",
    "        "
   ]
  },
  {
   "cell_type": "markdown",
   "id": "0be065c1-d210-4c07-b6c5-454e3ccd02d8",
   "metadata": {},
   "source": [
    "**mutable-immutable**\n",
    "\n",
    "- mutable: it can change\n",
    "\n",
    "  - we can change using indexing\n",
    "\n",
    "- immutabe: it cannot change\n",
    "\n",
    "  - we can not change using indexing "
   ]
  },
  {
   "cell_type": "code",
   "execution_count": 5,
   "id": "fe0328ae-9953-4177-b14f-567c62e7ed96",
   "metadata": {},
   "outputs": [
    {
     "ename": "TypeError",
     "evalue": "'str' object does not support item assignment",
     "output_type": "error",
     "traceback": [
      "\u001b[0;31m---------------------------------------------------------------------------\u001b[0m",
      "\u001b[0;31mTypeError\u001b[0m                                 Traceback (most recent call last)",
      "Cell \u001b[0;32mIn[5], line 6\u001b[0m\n\u001b[1;32m      1\u001b[0m s\u001b[38;5;241m=\u001b[39m\u001b[38;5;124m'\u001b[39m\u001b[38;5;124mwelcome\u001b[39m\u001b[38;5;124m'\u001b[39m\n\u001b[1;32m      2\u001b[0m \u001b[38;5;66;03m# i want to replace 'l' to 'L'\u001b[39;00m\n\u001b[1;32m      3\u001b[0m \u001b[38;5;66;03m# possible\u001b[39;00m\n\u001b[1;32m      4\u001b[0m \u001b[38;5;66;03m# not possible\u001b[39;00m\n\u001b[0;32m----> 6\u001b[0m s[\u001b[38;5;241m2\u001b[39m]\u001b[38;5;241m=\u001b[39m\u001b[38;5;124m'\u001b[39m\u001b[38;5;124mL\u001b[39m\u001b[38;5;124m'\u001b[39m\n",
      "\u001b[0;31mTypeError\u001b[0m: 'str' object does not support item assignment"
     ]
    }
   ],
   "source": [
    "s='welcome'\n",
    "# i want to replace 'l' to 'L'\n",
    "# possible\n",
    "# not possible\n",
    "\n",
    "s[2]='L'"
   ]
  },
  {
   "cell_type": "markdown",
   "id": "e34789f0-1ba6-49b4-9624-57968d3d4bfa",
   "metadata": {},
   "source": [
    "## note ##\n",
    "\n",
    "## strings are immutable, it cannot change ##"
   ]
  },
  {
   "cell_type": "code",
   "execution_count": 11,
   "id": "92a12a6d-4ae4-4866-bb6c-dbc6929dda4d",
   "metadata": {},
   "outputs": [],
   "source": [
    "l=[1,2,3,4]  #2=200\n",
    "l[1]=200"
   ]
  },
  {
   "cell_type": "code",
   "execution_count": 15,
   "id": "30afee7f-b1bd-4ca6-bcb1-65677d8d9f8c",
   "metadata": {},
   "outputs": [
    {
     "data": {
      "text/plain": [
       "[1, 200, 3, 4]"
      ]
     },
     "execution_count": 15,
     "metadata": {},
     "output_type": "execute_result"
    }
   ],
   "source": [
    "l"
   ]
  },
  {
   "cell_type": "code",
   "execution_count": null,
   "id": "89db4406-18c3-4241-b3d8-89f620bdea80",
   "metadata": {},
   "outputs": [],
   "source": [
    "s='welcome'\n",
    "s[2]='L'\n",
    "#######################\n",
    "l=[1,2,3,4]  #2=200\n",
    "l[1]=200\n",
    "l"
   ]
  },
  {
   "cell_type": "markdown",
   "id": "d6b510bb-77f8-4917-9553-c76e079740d2",
   "metadata": {},
   "source": [
    "- range belongs to which family\n",
    "\n",
    "   - math family\n",
    " \n",
    "- inside range bracket what we need to provide\n",
    "\n",
    "    - number\n",
    " \n",
    "- how many numbers we need to provide\n",
    "\n",
    "    - number of letters: len(string)\n",
    " \n",
    "- how to access the letter using number\n",
    "\n",
    "    - by using index       "
   ]
  },
  {
   "cell_type": "code",
   "execution_count": 22,
   "id": "b82e1715-8a18-41c4-88c8-6d05bea8402d",
   "metadata": {},
   "outputs": [
    {
     "name": "stdout",
     "output_type": "stream",
     "text": [
      "w\n",
      "e\n",
      "l\n",
      "c\n",
      "o\n",
      "m\n",
      "e\n"
     ]
    }
   ],
   "source": [
    "# 4) print each letter using for loop range \n",
    "# range belongs to which family\n",
    "# inside bracket we need to provide a number\n",
    "# how many numbers we need to provide\n",
    "#      number of numbers=7\n",
    "# how to access a letter using umber\n",
    "\n",
    "s='welcome'\n",
    "for i in range(7):\n",
    "    print(s[i])\n",
    "\n",
    "# i=0 s[0]:w\n",
    "# i=1 s[1]:e"
   ]
  },
  {
   "cell_type": "code",
   "execution_count": 24,
   "id": "95f424d7-56d4-4e59-9391-e7bf97728e72",
   "metadata": {},
   "outputs": [
    {
     "name": "stdout",
     "output_type": "stream",
     "text": [
      "w\n",
      "e\n",
      "l\n",
      "c\n",
      "o\n",
      "m\n",
      "e\n",
      " \n",
      "t\n",
      "o\n",
      " \n",
      "n\n",
      "a\n",
      "r\n",
      "e\n",
      "s\n",
      "h\n",
      " \n",
      "i\n",
      "t\n"
     ]
    }
   ],
   "source": [
    "s='welcome to naresh it'\n",
    "n=len(s)\n",
    "for i in range(n):\n",
    "    print(s[i])"
   ]
  },
  {
   "cell_type": "markdown",
   "id": "3f67d046-27cd-412f-b82f-6e5ad2bda930",
   "metadata": {},
   "source": [
    "**note**\n",
    "\n",
    "- **for-in** directly access the letter\n",
    "\n",
    "- **for-range** will access using the index"
   ]
  },
  {
   "cell_type": "code",
   "execution_count": 27,
   "id": "b92166de-1b8d-4b46-ab56-583c35497987",
   "metadata": {},
   "outputs": [
    {
     "name": "stdout",
     "output_type": "stream",
     "text": [
      "p\n",
      "y\n",
      "t\n",
      "h\n",
      "o\n",
      "n\n"
     ]
    }
   ],
   "source": [
    "s='python'\n",
    "for i in s:\n",
    "    print(i)"
   ]
  },
  {
   "cell_type": "code",
   "execution_count": 29,
   "id": "f19a5019-764e-4acc-b9db-71699176f74f",
   "metadata": {},
   "outputs": [
    {
     "name": "stdout",
     "output_type": "stream",
     "text": [
      "p\n",
      "y\n",
      "t\n",
      "h\n",
      "o\n",
      "n\n"
     ]
    }
   ],
   "source": [
    "s='python'\n",
    "n=len(s)\n",
    "for i in range(n):\n",
    "    print(s[i])"
   ]
  },
  {
   "cell_type": "code",
   "execution_count": 33,
   "id": "3e7659ca-0473-4bc0-b11e-88ba0e73a8e3",
   "metadata": {},
   "outputs": [
    {
     "name": "stdout",
     "output_type": "stream",
     "text": [
      "the positive index w is 0\n",
      "the positive index e is 1\n",
      "the positive index l is 2\n",
      "the positive index c is 3\n",
      "the positive index o is 4\n",
      "the positive index m is 5\n",
      "the positive index e is 6\n"
     ]
    }
   ],
   "source": [
    "# 5) wap ask the user iterate using a string\n",
    "# string='welcome'\n",
    "# print the positive index of w is 0\n",
    "#       the positive index of e is 1\n",
    "# ......\n",
    "\n",
    "s='welcome'\n",
    "n=len(s)\n",
    "for i in range(n):\n",
    "    print(f'the positive index {s[i]} is {i}')"
   ]
  },
  {
   "cell_type": "code",
   "execution_count": 45,
   "id": "a923b7bb-1b21-4ac3-8ad8-70cf0090df03",
   "metadata": {},
   "outputs": [
    {
     "name": "stdout",
     "output_type": "stream",
     "text": [
      "the negative index of w is -7\n",
      "the negative index of e is -6\n",
      "the negative index of l is -5\n",
      "the negative index of c is -4\n",
      "the negative index of o is -3\n",
      "the negative index of m is -2\n",
      "the negative index of e is -1\n"
     ]
    }
   ],
   "source": [
    "# 6) wap ask the user iterate using a string\n",
    "# string='welcome'\n",
    "# print the negative index of w is -7\n",
    "#       ......\n",
    "\n",
    "s='welcome'\n",
    "n=len(s)\n",
    "for i in range(n):\n",
    "    print(f'the negative index of {s[i]} is {i-n}')"
   ]
  },
  {
   "cell_type": "code",
   "execution_count": 53,
   "id": "4ff32ddb-9176-4ba5-b9c7-3810ba0fce3e",
   "metadata": {},
   "outputs": [
    {
     "name": "stdout",
     "output_type": "stream",
     "text": [
      "the positive index is 0 and the negtive index -7 is w\n",
      "the positive index is 1 and the negtive index -6 is e\n",
      "the positive index is 2 and the negtive index -5 is l\n",
      "the positive index is 3 and the negtive index -4 is c\n",
      "the positive index is 4 and the negtive index -3 is o\n",
      "the positive index is 5 and the negtive index -2 is m\n",
      "the positive index is 6 and the negtive index -1 is e\n"
     ]
    }
   ],
   "source": [
    "# 6) wap ask the user iterate using a string\n",
    "# string='welcome'\n",
    "# print the negative index of w is -7\n",
    "#       ......\n",
    "# the positive index is 0 and the negtive index -7 is w\n",
    "\n",
    "s='welcome'\n",
    "for i in range(len(s)):\n",
    "    print(f'the positive index is {i} and the negtive index {i-len(s)} is {s[i]}')   # to call the string we need use index number syntax s[i]"
   ]
  },
  {
   "cell_type": "code",
   "execution_count": 63,
   "id": "0017dc9f-1d42-414d-8994-143e1986f7b7",
   "metadata": {},
   "outputs": [
    {
     "name": "stdout",
     "output_type": "stream",
     "text": [
      "the index of a 1\n",
      "the index of a 8\n",
      "the index of a 18\n"
     ]
    }
   ],
   "source": [
    "# 8) wap ask the  user get the index of each 'a' in a given string\n",
    "# s='hai how are you i am good'\n",
    "s='hai how are you i am good'\n",
    "for i in range(len(s)):\n",
    "    if s[i]=='a':\n",
    "        print(f'the index of a {i}')"
   ]
  },
  {
   "cell_type": "code",
   "execution_count": 69,
   "id": "5fe6438b-8fc7-4764-a959-8817bd5b4d50",
   "metadata": {},
   "outputs": [
    {
     "name": "stdout",
     "output_type": "stream",
     "text": [
      "the total count of a is: 3\n"
     ]
    }
   ],
   "source": [
    "# 9) wap ask the user to get count of number of 'a' in a given string\n",
    "# usig for- range\n",
    "\n",
    "count=0\n",
    "s='hai how are you i am good'\n",
    "for i in range(len(s)):\n",
    "    if s[i]=='a':\n",
    "        count=count+1\n",
    "print('the total count of a is:',count)"
   ]
  },
  {
   "cell_type": "code",
   "execution_count": 71,
   "id": "4a4a26b4-83d0-4f3f-bfb7-ec3b6921bbe0",
   "metadata": {},
   "outputs": [
    {
     "name": "stdout",
     "output_type": "stream",
     "text": [
      "the total count of a is: 27\n"
     ]
    }
   ],
   "source": [
    "# 10) wap ask the user to get the sum of all index numbers of 'a'\n",
    "\n",
    "\n",
    "summ=0\n",
    "s='hai how are you i am good'\n",
    "for i in range(len(s)):\n",
    "    if s[i]=='a':\n",
    "        summ=summ+i\n",
    "print('the total count of a is:',summ)"
   ]
  },
  {
   "cell_type": "code",
   "execution_count": 75,
   "id": "8bbae551-0bdc-48b8-86f6-c6b4d45c96bb",
   "metadata": {},
   "outputs": [
    {
     "name": "stdout",
     "output_type": "stream",
     "text": [
      "a\n",
      "i\n",
      "o\n",
      "a\n",
      "e\n",
      "o\n",
      "u\n",
      "i\n",
      "a\n",
      "o\n",
      "o\n",
      "the total count of vowels 11\n"
     ]
    }
   ],
   "source": [
    "# 11) wap ask the user get the vowels from a given string using for range\n",
    "\n",
    "count=0\n",
    "s='hai how are you i am good'\n",
    "for i in range(len(s)):\n",
    "    if s[i] in 'aeiou':\n",
    "        print(s[i])\n",
    "        count=count+1\n",
    "print('the total count of vowels',count)"
   ]
  },
  {
   "cell_type": "code",
   "execution_count": 85,
   "id": "1e4f3488-d5e2-4c5e-84c3-78612365fd64",
   "metadata": {},
   "outputs": [
    {
     "name": "stdout",
     "output_type": "stream",
     "text": [
      "a\n",
      "i\n",
      "o\n",
      "e\n",
      "u\n",
      "the total count of uniqe vowels 5\n"
     ]
    }
   ],
   "source": [
    "# 12) wap ask the user get the uniqe vowels from a given string using for range\n",
    "\n",
    "count=0\n",
    "s='hai how are you i am good'\n",
    "n=''\n",
    "for i in range(len(s)):\n",
    "    if s[i] not in n:\n",
    "        if s[i] in 'aeiou':\n",
    "            print(s[i])\n",
    "            n=n+(s[i])\n",
    "            count=count+1\n",
    "print('the total count of uniqe vowels',count)"
   ]
  },
  {
   "cell_type": "code",
   "execution_count": 87,
   "id": "c6896b62-6c80-431a-acc1-ae5a302461c4",
   "metadata": {},
   "outputs": [
    {
     "name": "stdout",
     "output_type": "stream",
     "text": [
      "a\n",
      "i\n",
      "o\n",
      "e\n",
      "u\n",
      "the total count of uniqe vowels 5\n"
     ]
    }
   ],
   "source": [
    "# 13) wap ask the user get the uniqe vowels from a given string using for range and \"and operation\"\n",
    "\n",
    "count=0\n",
    "s='hai how are you i am good'\n",
    "n=''\n",
    "for i in range(len(s)):\n",
    "    if s[i] not in n and s[i] in 'aeiou':\n",
    "            print(s[i])\n",
    "            n=n+(s[i])\n",
    "            count=count+1\n",
    "print('the total count of uniqe vowels',count)"
   ]
  },
  {
   "cell_type": "code",
   "execution_count": null,
   "id": "79d48293-5bec-48c6-81b2-0158f623cef8",
   "metadata": {},
   "outputs": [],
   "source": [
    "# 14) string=1='ola ola ola'\n",
    "# no.of ola\n",
    "\n",
    "# 15)string='hello hello hello hello how how how how are you'\n",
    "# what is the most repeated word: how\n",
    "\n",
    "# 16) string1='helloooo how are u'\n",
    "# what is the maximum length of word is: hellooo\n",
    "# what is the minimum length of word is: u\n",
    "\n",
    "# with out using sorted then sort the letters"
   ]
  },
  {
   "cell_type": "code",
   "execution_count": 21,
   "id": "bc2a38f5-5a3f-4494-9ccb-a5af3276b4db",
   "metadata": {},
   "outputs": [
    {
     "name": "stdout",
     "output_type": "stream",
     "text": [
      "o\n",
      "l\n",
      "a\n",
      "the no.of ola: 3\n"
     ]
    }
   ],
   "source": [
    "# 14) string=1='ola ola ola'\n",
    "# no.of ola\n",
    "\n",
    "count=0\n",
    "s1='ola ola ola'\n",
    "s2=''\n",
    "for i in range(len(s1)):\n",
    "    if s1[i] not in s2:\n",
    "        if s1[i] in 'ola':\n",
    "            s2=s2+s1[i]\n",
    "            print(s2[i])\n",
    "            count=count+1\n",
    "print('the no.of ola:',count)"
   ]
  },
  {
   "cell_type": "code",
   "execution_count": 25,
   "id": "972fbb30-0826-424e-af31-f6aed0bdcb76",
   "metadata": {},
   "outputs": [
    {
     "name": "stdout",
     "output_type": "stream",
     "text": [
      "ola\n",
      "the no.of ola is: 3\n"
     ]
    }
   ],
   "source": [
    "# 14) string=1='ola ola ola'\n",
    "# no.of ola\n",
    "\n",
    "count=0\n",
    "s1='ola ola ola'\n",
    "s2=''\n",
    "for i in range(len(s1)):\n",
    "    if s1[i] not in s2 and s1[i] in 'ola':\n",
    "        s2=s2+s1[i]\n",
    "        count=count+1\n",
    "print(s2)\n",
    "print('the no.of ola is:',count)\n",
    "        "
   ]
  },
  {
   "cell_type": "code",
   "execution_count": 33,
   "id": "a0db2026-c716-48e1-b6c6-b96ff46de992",
   "metadata": {},
   "outputs": [
    {
     "name": "stdout",
     "output_type": "stream",
     "text": [
      "25\n"
     ]
    }
   ],
   "source": [
    "# 15)string='hello hello hello how how how how are you'\n",
    "# what is the most repeated word: how\n",
    "\n",
    "\n",
    "count=0\n",
    "s1='hello hello hello how how how how are you'\n",
    "for i in range(len(s1)):\n",
    "    if s1[i] in 'hello':\n",
    "        count=count+1\n",
    "print(count)\n"
   ]
  },
  {
   "cell_type": "code",
   "execution_count": 35,
   "id": "96239276-55fd-419e-8554-17d648f28f56",
   "metadata": {},
   "outputs": [
    {
     "name": "stdout",
     "output_type": "stream",
     "text": [
      "word\n",
      "word\n",
      "word\n",
      "word\n",
      "word\n",
      "word\n",
      "word\n",
      "word\n",
      "word\n",
      "word\n",
      "word\n",
      "word\n",
      "word\n",
      "word\n",
      "word\n",
      "word\n",
      "word\n",
      "word\n",
      "word\n",
      "word\n",
      "word\n",
      "word\n",
      "word\n",
      "word\n",
      "word\n",
      "word\n",
      "word\n",
      "word\n",
      "word\n",
      "word\n",
      "word\n",
      "word\n",
      "word\n",
      "word\n",
      "word\n",
      "word\n",
      "word\n",
      "word\n",
      "word\n",
      "word\n",
      "word\n"
     ]
    }
   ],
   "source": [
    "s1='hello hello hello how how how how are you'\n",
    "for word in s1:\n",
    "    print('word')"
   ]
  },
  {
   "cell_type": "code",
   "execution_count": 39,
   "id": "0e248398-cd45-42e0-bd37-c6b38a4e42bf",
   "metadata": {},
   "outputs": [
    {
     "name": "stdout",
     "output_type": "stream",
     "text": [
      "the positive index 0 and the negative index of -7 is w\n",
      "the positive index 1 and the negative index of -6 is e\n",
      "the positive index 2 and the negative index of -5 is l\n",
      "the positive index 3 and the negative index of -4 is c\n",
      "the positive index 4 and the negative index of -3 is o\n",
      "the positive index 5 and the negative index of -2 is m\n",
      "the positive index 6 and the negative index of -1 is e\n"
     ]
    }
   ],
   "source": [
    "# 6) wap ask the user iterate using a string\n",
    "# string='welcome'\n",
    "# print the negative index of w is -7\n",
    "#       ......\n",
    "# the positive index is 0 and the negtive index -7 is w\n",
    "\n",
    "str='welcome'\n",
    "for i in range(len(str)):\n",
    "    print(f'the positive index {i} and the negative index of {i-len(str)} is {str[i]}')\n",
    "    "
   ]
  },
  {
   "cell_type": "code",
   "execution_count": 41,
   "id": "b60d4e27-0309-47e2-857f-70de76b45d78",
   "metadata": {},
   "outputs": [
    {
     "name": "stdout",
     "output_type": "stream",
     "text": [
      "the index of a is 1\n",
      "the index of a is 8\n",
      "the index of a is 18\n"
     ]
    }
   ],
   "source": [
    "# 8) wap ask the  user get the index of each 'a' in a given string\n",
    "# s='hai how are you i am good'\n",
    "\n",
    "s='hai how are you i am good'\n",
    "for i in range(len(s)):\n",
    "    if s[i]=='a':\n",
    "        print(f'the index of a is {i}')"
   ]
  },
  {
   "cell_type": "code",
   "execution_count": 43,
   "id": "a5ee9903-6927-4b12-8ea4-9ac56d8850c8",
   "metadata": {},
   "outputs": [
    {
     "name": "stdout",
     "output_type": "stream",
     "text": [
      "the total count of a is 3\n"
     ]
    }
   ],
   "source": [
    "# 9) wap ask the user to get count of number of 'a' in a given string\n",
    "# usig for- range\n",
    "\n",
    "count=0\n",
    "s='hai how are you i am good'\n",
    "for i in range(len(s)):\n",
    "    if s[i]=='a':\n",
    "        count=count+1\n",
    "print('the total count of a is',count)"
   ]
  },
  {
   "cell_type": "code",
   "execution_count": 45,
   "id": "bd084066-3c68-4636-aea9-0cd9773b9ec1",
   "metadata": {},
   "outputs": [
    {
     "name": "stdout",
     "output_type": "stream",
     "text": [
      "the sum of all index of a is 27\n"
     ]
    }
   ],
   "source": [
    "# 10) wap ask the user to get the sum of all index numbers of 'a'\n",
    "\n",
    "summ=0\n",
    "s='hai how are you i am good'\n",
    "for i in range(len(s)):\n",
    "    if s[i]=='a':\n",
    "        summ=summ+i\n",
    "print('the sum of all index of a is',summ)"
   ]
  },
  {
   "cell_type": "code",
   "execution_count": 47,
   "id": "073f6cae-df2d-4b2f-af86-9e5846b73e37",
   "metadata": {},
   "outputs": [
    {
     "name": "stdout",
     "output_type": "stream",
     "text": [
      "the index of aeiou is: a-->1\n",
      "the index of aeiou is: i-->2\n",
      "the index of aeiou is: o-->5\n",
      "the index of aeiou is: a-->8\n",
      "the index of aeiou is: e-->10\n",
      "the index of aeiou is: o-->13\n",
      "the index of aeiou is: u-->14\n",
      "the index of aeiou is: i-->16\n",
      "the index of aeiou is: a-->18\n",
      "the index of aeiou is: o-->22\n",
      "the index of aeiou is: o-->23\n",
      "the total count aeiou is 11\n"
     ]
    }
   ],
   "source": [
    "# 11) wap ask the user get the vowels from a given string using for range\n",
    "\n",
    "count=0\n",
    "s='hai how are you i am good'\n",
    "for i in range(len(s)):\n",
    "    if s[i] in 'aeiou':\n",
    "        print(f'the index of aeiou is: {s[i]}-->{i}' )\n",
    "        count=count+1\n",
    "print('the total count aeiou is',count)"
   ]
  },
  {
   "cell_type": "code",
   "execution_count": 51,
   "id": "07bd3528-f542-46f1-bc37-00e5a214611d",
   "metadata": {},
   "outputs": [
    {
     "name": "stdout",
     "output_type": "stream",
     "text": [
      "aioeu\n",
      "the total count uniqe vowels is: 5\n"
     ]
    }
   ],
   "source": [
    "# 11) wap ask the user get the uniqe vowels from a given string using for range\n",
    "\n",
    "count=0\n",
    "s='hai how are you i am good'\n",
    "n=''\n",
    "for i in range(len(s)):\n",
    "    if s[i] not in n and s[i] in 'aeiou':\n",
    "        n=n+s[i]\n",
    "        count=count+1\n",
    "print(n)\n",
    "print('the total count uniqe vowels is:',count)"
   ]
  },
  {
   "cell_type": "markdown",
   "id": "1376e966-bdee-4aef-bccb-f769006f7439",
   "metadata": {},
   "source": [
    "**slice**"
   ]
  },
  {
   "cell_type": "markdown",
   "id": "6a85a3d4-5253-4760-9287-f50be08ddb49",
   "metadata": {},
   "source": [
    "- we can cut into pieces\n",
    "\n",
    "- similiar to range concept\n",
    "\n",
    "- start,stop,step here also"
   ]
  },
  {
   "cell_type": "code",
   "execution_count": null,
   "id": "bcbee355-a21d-4351-8b64-f597ca833c25",
   "metadata": {},
   "outputs": [],
   "source": [
    "str1='hai how are you'\n",
    "\n",
    "-15 -14 -13 -12 -11 -10 -9 -8 -7 -6 -5 -4 -3 -2 -1\n",
    "h     a   i       h   o  w     a  r  e     y  o  u\n",
    "0    1    2   3   4   5  6  7  8  9  10 11 12 13 14     "
   ]
  },
  {
   "cell_type": "code",
   "execution_count": null,
   "id": "3ae6af72-a292-4070-a5b5-604d7723f870",
   "metadata": {},
   "outputs": [],
   "source": [
    "# case-1:\n",
    "str1[start:stop:step]"
   ]
  },
  {
   "cell_type": "markdown",
   "id": "ef90cf49-1d1e-49cf-9a2b-d5a19908e5e3",
   "metadata": {},
   "source": [
    "$pattern-1$\n",
    "\n",
    "**str1[start:]**\n",
    "\n",
    "- by default start value = start only\n",
    "\n",
    "- last value nothing mentioned means automatically it will go till = last only\n",
    "\n",
    "- step nothing mention means, it is a positive direction and increment by1"
   ]
  },
  {
   "cell_type": "code",
   "execution_count": 6,
   "id": "a67fd089-5c15-4d3b-b30d-89c4715d4e31",
   "metadata": {},
   "outputs": [
    {
     "data": {
      "text/plain": [
       "'ow are you'"
      ]
     },
     "execution_count": 6,
     "metadata": {},
     "output_type": "execute_result"
    }
   ],
   "source": [
    "str1='hai how are you'\n",
    "str1[5:]"
   ]
  },
  {
   "cell_type": "code",
   "execution_count": 20,
   "id": "3304f899-165d-45d1-91d5-35580a5f4ea7",
   "metadata": {},
   "outputs": [
    {
     "data": {
      "text/plain": [
       "'hai how are you'"
      ]
     },
     "execution_count": 20,
     "metadata": {},
     "output_type": "execute_result"
    }
   ],
   "source": [
    "str1='hai how are you'\n",
    "str1[0:14+1:]"
   ]
  },
  {
   "cell_type": "code",
   "execution_count": 12,
   "id": "8553fa43-c6a4-437b-a29b-d8c89395cd9e",
   "metadata": {},
   "outputs": [
    {
     "data": {
      "text/plain": [
       "'e you'"
      ]
     },
     "execution_count": 12,
     "metadata": {},
     "output_type": "execute_result"
    }
   ],
   "source": [
    "str1='hai how are you'\n",
    "str1[-5:]"
   ]
  },
  {
   "cell_type": "code",
   "execution_count": 22,
   "id": "60970979-f625-49df-a636-8c6348b6ca06",
   "metadata": {},
   "outputs": [
    {
     "data": {
      "text/plain": [
       "'ow are you'"
      ]
     },
     "execution_count": 22,
     "metadata": {},
     "output_type": "execute_result"
    }
   ],
   "source": [
    "str1='hai how are you'\n",
    "str1[5:]"
   ]
  },
  {
   "cell_type": "code",
   "execution_count": 26,
   "id": "9e808a44-8769-4189-a8d2-5510d029ef80",
   "metadata": {},
   "outputs": [
    {
     "data": {
      "text/plain": [
       "'ow are you'"
      ]
     },
     "execution_count": 26,
     "metadata": {},
     "output_type": "execute_result"
    }
   ],
   "source": [
    "str1='hai how are you'\n",
    "str1[-10:]"
   ]
  },
  {
   "cell_type": "markdown",
   "id": "fdb6c300-3ccd-4f34-8de0-439dbbf7ce2b",
   "metadata": {},
   "source": [
    "$pattern-2$\n",
    "\n",
    "**str1[start:stop]**\n",
    "\n",
    "- start value means by default start only\n",
    "\n",
    "- step is not mentioned postive direction\n",
    "\n",
    "- last = stop-1"
   ]
  },
  {
   "cell_type": "code",
   "execution_count": 33,
   "id": "e33cdc47-0fa5-44ef-bf5a-e33fbd04e1d9",
   "metadata": {},
   "outputs": [
    {
     "data": {
      "text/plain": [
       "'ow are yo'"
      ]
     },
     "execution_count": 33,
     "metadata": {},
     "output_type": "execute_result"
    }
   ],
   "source": [
    "str1='hai how are you'\n",
    "str1[5:14]"
   ]
  },
  {
   "cell_type": "code",
   "execution_count": 3,
   "id": "d1edfa03-0d5b-47d8-ab36-636e6a53debf",
   "metadata": {},
   "outputs": [
    {
     "data": {
      "text/plain": [
       "'e yo'"
      ]
     },
     "execution_count": 3,
     "metadata": {},
     "output_type": "execute_result"
    }
   ],
   "source": [
    "str1='hai how are you'\n",
    "str1[-5:14]"
   ]
  },
  {
   "cell_type": "code",
   "execution_count": 5,
   "id": "b42b2796-deae-4e59-9ece-6974b207cdf7",
   "metadata": {},
   "outputs": [
    {
     "data": {
      "text/plain": [
       "'how are'"
      ]
     },
     "execution_count": 5,
     "metadata": {},
     "output_type": "execute_result"
    }
   ],
   "source": [
    "str1='hai how are you'\n",
    "str1[4:-4]"
   ]
  },
  {
   "cell_type": "code",
   "execution_count": 7,
   "id": "c3d86e9b-ad98-4644-8c8f-a825578eb769",
   "metadata": {},
   "outputs": [
    {
     "data": {
      "text/plain": [
       "''"
      ]
     },
     "execution_count": 7,
     "metadata": {},
     "output_type": "execute_result"
    }
   ],
   "source": [
    "str1[-5:-14]"
   ]
  },
  {
   "cell_type": "code",
   "execution_count": 9,
   "id": "2e684ff5-25f7-4655-9120-671377c4c6a1",
   "metadata": {},
   "outputs": [
    {
     "data": {
      "text/plain": [
       "'ai how ar'"
      ]
     },
     "execution_count": 9,
     "metadata": {},
     "output_type": "execute_result"
    }
   ],
   "source": [
    "str1[-14:-5]"
   ]
  },
  {
   "cell_type": "code",
   "execution_count": 5,
   "id": "fe3b194a-a044-4cd2-bac0-1200462ea049",
   "metadata": {},
   "outputs": [
    {
     "ename": "SyntaxError",
     "evalue": "invalid syntax (2822517044.py, line 4)",
     "output_type": "error",
     "traceback": [
      "\u001b[0;36m  Cell \u001b[0;32mIn[5], line 4\u001b[0;36m\u001b[0m\n\u001b[0;31m    h     a    i       h   o   w      a  r  e       y   o    u\u001b[0m\n\u001b[0m          ^\u001b[0m\n\u001b[0;31mSyntaxError\u001b[0m\u001b[0;31m:\u001b[0m invalid syntax\n"
     ]
    }
   ],
   "source": [
    "str1='hai how are you'\n",
    "\n",
    "#-15  -14  -13 -12 -11 -10 -9  -8 -7 -6 -5  -4  -3  -2   -1\n",
    "#h     a    i       h   o   w      a  r  e       y   o    u\n",
    "0     1    2   3   4   5   6   7  8  9  10  11  12  13  14     \n",
    "\n",
    "\n",
    "str1[5:14]   # works\n",
    "str1[-5:14]  # works\n",
    "str1[5:-14]  # fail\n",
    "str1[-5:-14] # fail"
   ]
  },
  {
   "cell_type": "code",
   "execution_count": 7,
   "id": "f3210e21-2929-44c5-8b82-243468fbfb8a",
   "metadata": {},
   "outputs": [],
   "source": [
    "str1='hai how are you'"
   ]
  },
  {
   "cell_type": "code",
   "execution_count": 23,
   "id": "a7180ac4-ce73-4fa2-b409-c549355cf150",
   "metadata": {},
   "outputs": [
    {
     "data": {
      "text/plain": [
       "'you'"
      ]
     },
     "execution_count": 23,
     "metadata": {},
     "output_type": "execute_result"
    }
   ],
   "source": [
    "str1[-3:]"
   ]
  },
  {
   "cell_type": "code",
   "execution_count": 11,
   "id": "76f9b42d-e574-41f5-aee0-34d9eeb182de",
   "metadata": {},
   "outputs": [
    {
     "data": {
      "text/plain": [
       "'ow are you'"
      ]
     },
     "execution_count": 11,
     "metadata": {},
     "output_type": "execute_result"
    }
   ],
   "source": [
    "str1='hai how are you'\n",
    "\n",
    "str1[5:500]"
   ]
  },
  {
   "cell_type": "markdown",
   "id": "92f9b983-0c5b-4351-9a7f-82f8c46be2ff",
   "metadata": {},
   "source": [
    "**truncation behaviour**\n",
    "\n",
    "- when ever string range is limited, but we provided unlimited number\n",
    "\n",
    "- string will consider till range we have\n",
    "\n",
    "- in the above example our range only 15 letters\n",
    "\n",
    "- we provided 500, then 500 will truncate to till 15 letters only"
   ]
  },
  {
   "cell_type": "code",
   "execution_count": null,
   "id": "3c2816ae-5a49-489f-9e16-fac0f8dbca54",
   "metadata": {},
   "outputs": [],
   "source": [
    "str1[5:500]    # works\n",
    "str1[-500:500] # works\n",
    "str1[-1:500]   # works\n",
    "str1[500:]     # fails\n",
    "str1[-500:-100] # fails "
   ]
  },
  {
   "cell_type": "code",
   "execution_count": 13,
   "id": "c730a529-118b-495e-a560-5afa0a08b879",
   "metadata": {},
   "outputs": [
    {
     "data": {
      "text/plain": [
       "'hai how are you'"
      ]
     },
     "execution_count": 13,
     "metadata": {},
     "output_type": "execute_result"
    }
   ],
   "source": [
    "str1[-500:500]"
   ]
  },
  {
   "cell_type": "code",
   "execution_count": 15,
   "id": "ce63f64c-7c75-4b1d-bf48-1740fcc1f945",
   "metadata": {},
   "outputs": [
    {
     "data": {
      "text/plain": [
       "'u'"
      ]
     },
     "execution_count": 15,
     "metadata": {},
     "output_type": "execute_result"
    }
   ],
   "source": [
    "str1[-1:500]"
   ]
  },
  {
   "cell_type": "code",
   "execution_count": 17,
   "id": "79ee16d4-0a28-4922-861d-7fc5cddb5003",
   "metadata": {},
   "outputs": [
    {
     "data": {
      "text/plain": [
       "''"
      ]
     },
     "execution_count": 17,
     "metadata": {},
     "output_type": "execute_result"
    }
   ],
   "source": [
    "str1[500:]  # it is a start value, and we enterd over limit of range"
   ]
  },
  {
   "cell_type": "code",
   "execution_count": 21,
   "id": "61e22375-16cb-496f-939d-b87e00aeb53c",
   "metadata": {},
   "outputs": [
    {
     "data": {
      "text/plain": [
       "'u'"
      ]
     },
     "execution_count": 21,
     "metadata": {},
     "output_type": "execute_result"
    }
   ],
   "source": [
    "str1[14:]   # str1[start:] it is a start value and ends with last value"
   ]
  },
  {
   "cell_type": "markdown",
   "id": "2f823592-e189-4238-b174-2b116aa4714d",
   "metadata": {},
   "source": [
    "$pattern-3$\n",
    "\n",
    "**str1[start:stop:step]**\n",
    "\n",
    "- start value means start only\n",
    "\n",
    "- if step value postive\n",
    "    \n",
    "   - last value = stop-1\n",
    "\n",
    "- if step value negative\n",
    "   \n",
    "   - last value = stop+1"
   ]
  },
  {
   "cell_type": "code",
   "execution_count": 30,
   "id": "ee1fc329-5a89-4e2c-a878-11544e94a74e",
   "metadata": {},
   "outputs": [
    {
     "data": {
      "text/plain": [
       "'hai how are yo'"
      ]
     },
     "execution_count": 30,
     "metadata": {},
     "output_type": "execute_result"
    }
   ],
   "source": [
    "str1='hai how are you'\n",
    "str1[0:14]"
   ]
  },
  {
   "cell_type": "code",
   "execution_count": 34,
   "id": "8d611c49-555c-4d8f-abd1-389e5edc2cb8",
   "metadata": {},
   "outputs": [
    {
     "data": {
      "text/plain": [
       "''"
      ]
     },
     "execution_count": 34,
     "metadata": {},
     "output_type": "execute_result"
    }
   ],
   "source": [
    "str1='hai how are you'\n",
    "str1[0:-15]"
   ]
  },
  {
   "cell_type": "code",
   "execution_count": 42,
   "id": "3b5cb952-f4c0-4b3a-be15-a1c40ca50e82",
   "metadata": {},
   "outputs": [
    {
     "data": {
      "text/plain": [
       "'hai how are yo'"
      ]
     },
     "execution_count": 42,
     "metadata": {},
     "output_type": "execute_result"
    }
   ],
   "source": [
    "str1='hai how are you'\n",
    "str1[0:-1]"
   ]
  },
  {
   "cell_type": "code",
   "execution_count": null,
   "id": "28491c28-5305-41bc-a8dd-37daa6e7de9e",
   "metadata": {},
   "outputs": [],
   "source": [
    "str1='hai how are you'\n",
    "\n",
    "-15  -14  -13 -12 -11 -10 -9  -8 -7 -6 -5  -4  -3  -2   -1\n",
    "h     a    i       h   o   w      a  r  e       y   o    u\n",
    "0     1    2   3   4   5   6   7  8  9  10  11  12  13  14     \n",
    "\n",
    "str1[2:13:2]  # w\n",
    "str1[2:13:-2] # f\n",
    "str1[2:-13:2] # f\n",
    "str1[2:-13:-2] # f\n",
    "str1[-2:13:2]  # f\n",
    "str1[-2:-13:2] # f\n",
    "str1[13:2:2]  # f\n",
    "str1[-13:2:2] # f\n",
    "str1[-13:-2:2] # w\n",
    "str1[-13:-2:-2] # f\n",
    "str1[-13:2:-2] # w"
   ]
  },
  {
   "cell_type": "code",
   "execution_count": 46,
   "id": "d91c6e08-ca08-4fbf-aed6-4118c0e319ed",
   "metadata": {},
   "outputs": [
    {
     "data": {
      "text/plain": [
       "'o r o '"
      ]
     },
     "execution_count": 46,
     "metadata": {},
     "output_type": "execute_result"
    }
   ],
   "source": [
    "str1[-2:-13:-2]"
   ]
  },
  {
   "cell_type": "code",
   "execution_count": 54,
   "id": "d18237cb-518c-4b08-8cb0-974c05cd66a3",
   "metadata": {},
   "outputs": [
    {
     "data": {
      "text/plain": [
       "''"
      ]
     },
     "execution_count": 54,
     "metadata": {},
     "output_type": "execute_result"
    }
   ],
   "source": [
    "str1[2:13:-2]"
   ]
  },
  {
   "cell_type": "code",
   "execution_count": 56,
   "id": "b89013a4-fdc4-4dc0-a729-fe6e4f8a3f88",
   "metadata": {},
   "outputs": [
    {
     "data": {
      "text/plain": [
       "''"
      ]
     },
     "execution_count": 56,
     "metadata": {},
     "output_type": "execute_result"
    }
   ],
   "source": [
    "str1[2:-13:2]"
   ]
  },
  {
   "cell_type": "code",
   "execution_count": 64,
   "id": "9f8e1626-d095-4e0d-b7c3-1f9ab20851c9",
   "metadata": {},
   "outputs": [
    {
     "data": {
      "text/plain": [
       "''"
      ]
     },
     "execution_count": 64,
     "metadata": {},
     "output_type": "execute_result"
    }
   ],
   "source": [
    "str1[2:-13:-2]"
   ]
  },
  {
   "cell_type": "code",
   "execution_count": 60,
   "id": "c3b0c0b6-b2b9-4839-b4a6-f9fc943fd7a4",
   "metadata": {},
   "outputs": [
    {
     "data": {
      "text/plain": [
       "''"
      ]
     },
     "execution_count": 60,
     "metadata": {},
     "output_type": "execute_result"
    }
   ],
   "source": [
    "str1[-2:13:2]"
   ]
  },
  {
   "cell_type": "code",
   "execution_count": 66,
   "id": "1a49f21a-09ab-4ff1-a8c4-0cd5f036dc01",
   "metadata": {},
   "outputs": [
    {
     "data": {
      "text/plain": [
       "''"
      ]
     },
     "execution_count": 66,
     "metadata": {},
     "output_type": "execute_result"
    }
   ],
   "source": [
    "str1[-2:-13:2]"
   ]
  },
  {
   "cell_type": "code",
   "execution_count": 68,
   "id": "e48b372a-0321-45d4-95cb-8e573e1bd112",
   "metadata": {},
   "outputs": [
    {
     "data": {
      "text/plain": [
       "''"
      ]
     },
     "execution_count": 68,
     "metadata": {},
     "output_type": "execute_result"
    }
   ],
   "source": [
    "str1[-13:2:2]"
   ]
  },
  {
   "cell_type": "code",
   "execution_count": null,
   "id": "6ee9dd7d-72c7-4681-8c77-dbb39c95d34e",
   "metadata": {},
   "outputs": [],
   "source": [
    "str1[:]   # complete string\n",
    "str1[::]  # complete string\n",
    "str1[::-1]  # reverse string with full\n",
    "str1[:5:-1] # reverse string till '5' index"
   ]
  },
  {
   "cell_type": "markdown",
   "id": "ace0c54e-d8da-45fb-8212-dd265a949a12",
   "metadata": {},
   "source": [
    "**methods**\n",
    "\n",
    "- stringlists tuple dictionary every data type has its own methods\n",
    "\n",
    "- we already seen that packages has different method\n",
    "\n",
    "- for example random package: randint method\n",
    "\n",
    "- math package: sqrt\n",
    "\n",
    "- in the same way strings also have method\n",
    "\n",
    "- in order to see methods for the packages\n",
    "\n",
    "   - we are importing the packages\n",
    " \n",
    "   - we are applying dir\n",
    "\n",
    "- in the similar way in order to see the methods of string, we need to apply dir only  "
   ]
  },
  {
   "cell_type": "code",
   "execution_count": 77,
   "id": "2892891e-d97c-4fad-9dc3-4aa2384b7364",
   "metadata": {},
   "outputs": [
    {
     "data": {
      "text/plain": [
       "['__add__',\n",
       " '__class__',\n",
       " '__contains__',\n",
       " '__delattr__',\n",
       " '__dir__',\n",
       " '__doc__',\n",
       " '__eq__',\n",
       " '__format__',\n",
       " '__ge__',\n",
       " '__getattribute__',\n",
       " '__getitem__',\n",
       " '__getnewargs__',\n",
       " '__getstate__',\n",
       " '__gt__',\n",
       " '__hash__',\n",
       " '__init__',\n",
       " '__init_subclass__',\n",
       " '__iter__',\n",
       " '__le__',\n",
       " '__len__',\n",
       " '__lt__',\n",
       " '__mod__',\n",
       " '__mul__',\n",
       " '__ne__',\n",
       " '__new__',\n",
       " '__reduce__',\n",
       " '__reduce_ex__',\n",
       " '__repr__',\n",
       " '__rmod__',\n",
       " '__rmul__',\n",
       " '__setattr__',\n",
       " '__sizeof__',\n",
       " '__str__',\n",
       " '__subclasshook__',\n",
       " 'capitalize',\n",
       " 'casefold',\n",
       " 'center',\n",
       " 'count',\n",
       " 'encode',\n",
       " 'endswith',\n",
       " 'expandtabs',\n",
       " 'find',\n",
       " 'format',\n",
       " 'format_map',\n",
       " 'index',\n",
       " 'isalnum',\n",
       " 'isalpha',\n",
       " 'isascii',\n",
       " 'isdecimal',\n",
       " 'isdigit',\n",
       " 'isidentifier',\n",
       " 'islower',\n",
       " 'isnumeric',\n",
       " 'isprintable',\n",
       " 'isspace',\n",
       " 'istitle',\n",
       " 'isupper',\n",
       " 'join',\n",
       " 'ljust',\n",
       " 'lower',\n",
       " 'lstrip',\n",
       " 'maketrans',\n",
       " 'partition',\n",
       " 'removeprefix',\n",
       " 'removesuffix',\n",
       " 'replace',\n",
       " 'rfind',\n",
       " 'rindex',\n",
       " 'rjust',\n",
       " 'rpartition',\n",
       " 'rsplit',\n",
       " 'rstrip',\n",
       " 'split',\n",
       " 'splitlines',\n",
       " 'startswith',\n",
       " 'strip',\n",
       " 'swapcase',\n",
       " 'title',\n",
       " 'translate',\n",
       " 'upper',\n",
       " 'zfill']"
      ]
     },
     "execution_count": 77,
     "metadata": {},
     "output_type": "execute_result"
    }
   ],
   "source": [
    "dir('') \n",
    "# dir('hai')\n",
    "# str1='apple'\n",
    "#dir('str1')"
   ]
  },
  {
   "cell_type": "markdown",
   "id": "aeda1520-2ad8-4177-9e4c-d6b80f13f0bd",
   "metadata": {},
   "source": [
    "- lower\n",
    "\n",
    "- upper\n",
    "\n",
    "- capitalize\n",
    "\n",
    "- title\n",
    "\n",
    "- casefold\n",
    "\n",
    "- center"
   ]
  },
  {
   "cell_type": "markdown",
   "id": "bfadffab-761a-444b-a91e-5344cadd2005",
   "metadata": {},
   "source": [
    "**upper**"
   ]
  },
  {
   "cell_type": "code",
   "execution_count": 79,
   "id": "95e4bbed-bbb0-4e12-95f2-1b62710ee789",
   "metadata": {},
   "outputs": [],
   "source": [
    "str1='hai how are you'"
   ]
  },
  {
   "cell_type": "code",
   "execution_count": 82,
   "id": "73940396-223b-4a29-a2b7-ff2485ddb015",
   "metadata": {},
   "outputs": [
    {
     "name": "stdout",
     "output_type": "stream",
     "text": [
      "Help on built-in function upper:\n",
      "\n",
      "upper() method of builtins.str instance\n",
      "    Return a copy of the string converted to uppercase.\n",
      "\n"
     ]
    }
   ],
   "source": [
    "help(str1.upper)"
   ]
  },
  {
   "cell_type": "code",
   "execution_count": 84,
   "id": "aa4e0107-4687-483b-8790-4796ea709b19",
   "metadata": {},
   "outputs": [
    {
     "data": {
      "text/plain": [
       "'HAI HOW ARE YOU'"
      ]
     },
     "execution_count": 84,
     "metadata": {},
     "output_type": "execute_result"
    }
   ],
   "source": [
    "str1.upper()"
   ]
  },
  {
   "cell_type": "markdown",
   "id": "0b9457ce-6d49-4e2d-91d3-bcd2ae3da556",
   "metadata": {},
   "source": [
    "**lower**"
   ]
  },
  {
   "cell_type": "code",
   "execution_count": 89,
   "id": "bd0f9664-8253-4482-b753-ebb90b14527e",
   "metadata": {},
   "outputs": [
    {
     "name": "stdout",
     "output_type": "stream",
     "text": [
      "Help on built-in function lower:\n",
      "\n",
      "lower() method of builtins.str instance\n",
      "    Return a copy of the string converted to lowercase.\n",
      "\n"
     ]
    }
   ],
   "source": [
    "help(str1.lower)"
   ]
  },
  {
   "cell_type": "code",
   "execution_count": 91,
   "id": "c2b8d4e4-9bda-41ce-bc2f-170454188943",
   "metadata": {},
   "outputs": [
    {
     "data": {
      "text/plain": [
       "'hai how are you'"
      ]
     },
     "execution_count": 91,
     "metadata": {},
     "output_type": "execute_result"
    }
   ],
   "source": [
    "str1.lower()"
   ]
  },
  {
   "cell_type": "code",
   "execution_count": 93,
   "id": "48e9b63e-416c-4172-8316-0c7d22bf7bd5",
   "metadata": {},
   "outputs": [
    {
     "name": "stdout",
     "output_type": "stream",
     "text": [
      "Help on built-in function capitalize:\n",
      "\n",
      "capitalize() method of builtins.str instance\n",
      "    Return a capitalized version of the string.\n",
      "    \n",
      "    More specifically, make the first character have upper case and the rest lower\n",
      "    case.\n",
      "\n"
     ]
    }
   ],
   "source": [
    "help(str1.capitalize)"
   ]
  },
  {
   "cell_type": "code",
   "execution_count": 95,
   "id": "b295bd4d-f084-4c7e-9af9-48598e864bca",
   "metadata": {},
   "outputs": [
    {
     "data": {
      "text/plain": [
       "'Hai how are you'"
      ]
     },
     "execution_count": 95,
     "metadata": {},
     "output_type": "execute_result"
    }
   ],
   "source": [
    "str1.capitalize()"
   ]
  },
  {
   "cell_type": "code",
   "execution_count": 101,
   "id": "bc563081-adf8-4822-b614-3afc23837490",
   "metadata": {},
   "outputs": [
    {
     "name": "stdout",
     "output_type": "stream",
     "text": [
      "Help on built-in function title:\n",
      "\n",
      "title() method of builtins.str instance\n",
      "    Return a version of the string where each word is titlecased.\n",
      "    \n",
      "    More specifically, words start with uppercased characters and all remaining\n",
      "    cased characters have lower case.\n",
      "\n"
     ]
    }
   ],
   "source": [
    "help(str1.title)"
   ]
  },
  {
   "cell_type": "code",
   "execution_count": 103,
   "id": "00145177-3433-4962-a576-2ad4c0b9e506",
   "metadata": {},
   "outputs": [
    {
     "data": {
      "text/plain": [
       "'Hai How Are You'"
      ]
     },
     "execution_count": 103,
     "metadata": {},
     "output_type": "execute_result"
    }
   ],
   "source": [
    "str1.title()"
   ]
  },
  {
   "cell_type": "code",
   "execution_count": null,
   "id": "3327fd84-f077-4849-bd7b-d3ec231b9fc6",
   "metadata": {},
   "outputs": [],
   "source": [
    "# str1='hai how are you'\n",
    "# o/p='Hai How Are You'\n",
    "# without using any method\n",
    "# one level : iterate each letters apply caplital\n",
    "# scrach: ord char"
   ]
  },
  {
   "cell_type": "code",
   "execution_count": 105,
   "id": "68b1f162-6aa4-4828-a017-200b2bc4476e",
   "metadata": {},
   "outputs": [
    {
     "name": "stdout",
     "output_type": "stream",
     "text": [
      "Help on built-in function center:\n",
      "\n",
      "center(width, fillchar=' ', /) method of builtins.str instance\n",
      "    Return a centered string of length width.\n",
      "    \n",
      "    Padding is done using the specified fill character (default is a space).\n",
      "\n"
     ]
    }
   ],
   "source": [
    "help(str1.center)"
   ]
  },
  {
   "cell_type": "code",
   "execution_count": 107,
   "id": "fb841e95-ed62-404b-bfc6-7e262cfd5be7",
   "metadata": {},
   "outputs": [
    {
     "data": {
      "text/plain": [
       "'  hai how are you   '"
      ]
     },
     "execution_count": 107,
     "metadata": {},
     "output_type": "execute_result"
    }
   ],
   "source": [
    "str1.center(20)"
   ]
  },
  {
   "cell_type": "code",
   "execution_count": 109,
   "id": "fe482389-a690-46d8-88eb-37675e7641bb",
   "metadata": {},
   "outputs": [
    {
     "data": {
      "text/plain": [
       "20"
      ]
     },
     "execution_count": 109,
     "metadata": {},
     "output_type": "execute_result"
    }
   ],
   "source": [
    "len(str1.center(20))"
   ]
  },
  {
   "cell_type": "markdown",
   "id": "c26a15aa-9172-415b-9b41-a4cb42b8c133",
   "metadata": {},
   "source": [
    "- center has two arguments\n",
    "\n",
    "   - width\n",
    " \n",
    "   - fill char \n",
    "\n",
    "- original string already : 15 letters\n",
    "\n",
    "- we want to create a new string with 20 letters\n",
    "\n",
    "- remaining 5 letters by default empty\n",
    "\n",
    "- we can fill with characters also"
   ]
  },
  {
   "cell_type": "code",
   "execution_count": 113,
   "id": "6ce663da-6019-4101-ada1-fd56cf26af0c",
   "metadata": {},
   "outputs": [
    {
     "data": {
      "text/plain": [
       "'*****hai how are you******'"
      ]
     },
     "execution_count": 113,
     "metadata": {},
     "output_type": "execute_result"
    }
   ],
   "source": [
    "str1.center(26,'*')"
   ]
  },
  {
   "cell_type": "code",
   "execution_count": 15,
   "id": "bfd69a49-3b00-478f-928a-cc3135b0747b",
   "metadata": {},
   "outputs": [
    {
     "name": "stdout",
     "output_type": "stream",
     "text": [
      "Hai How Are You\n"
     ]
    }
   ],
   "source": [
    "# str1='hai how are you'\n",
    "# o/p='Hai How Are You'\n",
    "# without using any method\n",
    "# one level : iterate each letters apply caplital\n",
    "# scrach: ord char\n",
    "\n",
    "str1='hai how are you'\n",
    "str2=''\n",
    "for i in range(len(str1)):\n",
    "    if i==0:\n",
    "        change=chr(ord(str1[i])-32)\n",
    "        str2=str2+change\n",
    "    elif str1[i-1]==' ':\n",
    "        change1=chr(ord(str1[i])-32)\n",
    "        str2=str2+change1\n",
    "    else:\n",
    "        str2=str2+str1[i]\n",
    "print(str2)"
   ]
  },
  {
   "cell_type": "code",
   "execution_count": 3,
   "id": "8afc1cb0-301f-4031-b75c-b7c509297f0d",
   "metadata": {},
   "outputs": [
    {
     "name": "stdout",
     "output_type": "stream",
     "text": [
      "Help on built-in function casefold:\n",
      "\n",
      "casefold() method of builtins.str instance\n",
      "    Return a version of the string suitable for caseless comparisons.\n",
      "\n"
     ]
    }
   ],
   "source": [
    "str1='hai how are you'\n",
    "help(str1.casefold)"
   ]
  },
  {
   "cell_type": "code",
   "execution_count": 5,
   "id": "8814903c-649f-4800-80cd-1d090ec9a52b",
   "metadata": {},
   "outputs": [
    {
     "data": {
      "text/plain": [
       "'hai how are you'"
      ]
     },
     "execution_count": 5,
     "metadata": {},
     "output_type": "execute_result"
    }
   ],
   "source": [
    "str1.casefold()"
   ]
  },
  {
   "cell_type": "markdown",
   "id": "acea7041-4a86-466d-88d9-7f9d9953caa6",
   "metadata": {},
   "source": [
    "- upper\n",
    "\n",
    "- lower\n",
    "\n",
    "- casefold\n",
    "\n",
    "- title\n",
    "\n",
    "- capitalize\n",
    "\n",
    "- center"
   ]
  },
  {
   "cell_type": "markdown",
   "id": "1e391d6d-bed0-4971-915b-f2b40aaa34e5",
   "metadata": {},
   "source": [
    "**count**"
   ]
  },
  {
   "cell_type": "code",
   "execution_count": 11,
   "id": "390206aa-9205-4c21-a1ae-2fec757ddb94",
   "metadata": {},
   "outputs": [],
   "source": [
    "str1='hai how are you'\n",
    "# how many 'a's are there"
   ]
  },
  {
   "cell_type": "code",
   "execution_count": 21,
   "id": "17d0d538-762e-4102-84cb-d089d918a51f",
   "metadata": {},
   "outputs": [
    {
     "name": "stdout",
     "output_type": "stream",
     "text": [
      "2\n"
     ]
    }
   ],
   "source": [
    "count=0\n",
    "for i in str1:\n",
    "    if i in 'a':\n",
    "        count=count+1\n",
    "print(count)"
   ]
  },
  {
   "cell_type": "code",
   "execution_count": 15,
   "id": "5ee3222d-323c-42c6-9c6b-7db919388b0f",
   "metadata": {},
   "outputs": [
    {
     "data": {
      "text/plain": [
       "2"
      ]
     },
     "execution_count": 15,
     "metadata": {},
     "output_type": "execute_result"
    }
   ],
   "source": [
    "str1.count('a')"
   ]
  },
  {
   "cell_type": "code",
   "execution_count": 23,
   "id": "55114ce9-dd9d-4dc6-9047-bb01c8d84aa2",
   "metadata": {},
   "outputs": [
    {
     "data": {
      "text/plain": [
       "3"
      ]
     },
     "execution_count": 23,
     "metadata": {},
     "output_type": "execute_result"
    }
   ],
   "source": [
    "str1='hai hai hai'\n",
    "str1.count('a')"
   ]
  },
  {
   "cell_type": "markdown",
   "id": "7b495422-5f56-46a6-9691-21b4dfa4bd82",
   "metadata": {},
   "source": [
    "- we want number of 'a' from a specific index\n",
    "\n",
    "- we want number of a between two index"
   ]
  },
  {
   "cell_type": "code",
   "execution_count": 26,
   "id": "d3867f30-a95f-4248-861c-6800af103286",
   "metadata": {},
   "outputs": [
    {
     "data": {
      "text/plain": [
       "2"
      ]
     },
     "execution_count": 26,
     "metadata": {},
     "output_type": "execute_result"
    }
   ],
   "source": [
    "\n",
    "-11 -10 -9 -8 -7 -6 -5 -4 -3 -2 -1\n",
    "# h  a  i    h  a  i    h   a  i\n",
    "#0  1   2  3 4  5  6  7  8 9  10\n",
    "\n",
    "str1.count('a',5)"
   ]
  },
  {
   "cell_type": "code",
   "execution_count": 32,
   "id": "2c4bca9d-bd08-46b6-a285-6c119e365c8a",
   "metadata": {},
   "outputs": [
    {
     "data": {
      "text/plain": [
       "2"
      ]
     },
     "execution_count": 32,
     "metadata": {},
     "output_type": "execute_result"
    }
   ],
   "source": [
    "str1.count('a',3)  # only single index"
   ]
  },
  {
   "cell_type": "code",
   "execution_count": 34,
   "id": "3b592bed-5df5-43e8-9522-7c1d6b1e0ee3",
   "metadata": {},
   "outputs": [
    {
     "data": {
      "text/plain": [
       "1"
      ]
     },
     "execution_count": 34,
     "metadata": {},
     "output_type": "execute_result"
    }
   ],
   "source": [
    "str1.count('a',4,8) # two index number start and end "
   ]
  },
  {
   "cell_type": "code",
   "execution_count": null,
   "id": "757fb961-d3ec-4886-aa59-431fe9190c54",
   "metadata": {},
   "outputs": [],
   "source": [
    "str1.count('a',-7)"
   ]
  },
  {
   "cell_type": "code",
   "execution_count": 40,
   "id": "f52b1ca5-327a-4947-9b02-1031b96de48c",
   "metadata": {},
   "outputs": [
    {
     "ename": "TypeError",
     "evalue": "'str' object is not callable",
     "output_type": "error",
     "traceback": [
      "\u001b[0;31m---------------------------------------------------------------------------\u001b[0m",
      "\u001b[0;31mTypeError\u001b[0m                                 Traceback (most recent call last)",
      "Cell \u001b[0;32mIn[40], line 2\u001b[0m\n\u001b[1;32m      1\u001b[0m \u001b[38;5;66;03m# reverse\u001b[39;00m\n\u001b[0;32m----> 2\u001b[0m str1(\u001b[38;5;124m'\u001b[39m\u001b[38;5;124ma\u001b[39m\u001b[38;5;124m'\u001b[39m,\u001b[38;5;241m-\u001b[39m\u001b[38;5;241m2\u001b[39m,\u001b[38;5;241m-\u001b[39m\u001b[38;5;241m9\u001b[39m)\n",
      "\u001b[0;31mTypeError\u001b[0m: 'str' object is not callable"
     ]
    }
   ],
   "source": [
    "# reverse\n",
    "str1('a',-2,-9)"
   ]
  },
  {
   "cell_type": "code",
   "execution_count": 38,
   "id": "de819d0d-b954-49ba-a79c-7162fd200095",
   "metadata": {},
   "outputs": [
    {
     "data": {
      "text/plain": [
       "3"
      ]
     },
     "execution_count": 38,
     "metadata": {},
     "output_type": "execute_result"
    }
   ],
   "source": [
    "str1='ola ola ola'\n",
    "str1.count('ola')"
   ]
  },
  {
   "cell_type": "markdown",
   "id": "2be30be7-4678-42b8-ae16-6ccc210c1e25",
   "metadata": {},
   "source": [
    "**window method**"
   ]
  },
  {
   "cell_type": "code",
   "execution_count": 47,
   "id": "5f72b581-e573-486e-9c58-6201c3cdd276",
   "metadata": {},
   "outputs": [
    {
     "name": "stdout",
     "output_type": "stream",
     "text": [
      "3\n"
     ]
    }
   ],
   "source": [
    "count=0\n",
    "str1='ola ola ola'\n",
    "for i in range(len(str1)):\n",
    "    if str1[i:i+3]=='ola':\n",
    "        count=count+1\n",
    "print(count)\n",
    "\n",
    "# step-1 i=0 0:0+3 ==='ola' true\n",
    "#..."
   ]
  },
  {
   "cell_type": "code",
   "execution_count": 49,
   "id": "8b3fbc76-47f9-43d1-873c-85c7b8fae279",
   "metadata": {},
   "outputs": [
    {
     "data": {
      "text/plain": [
       "2"
      ]
     },
     "execution_count": 49,
     "metadata": {},
     "output_type": "execute_result"
    }
   ],
   "source": [
    "str1.count('ola ')"
   ]
  },
  {
   "cell_type": "code",
   "execution_count": 51,
   "id": "6805a7b8-b088-49ac-be7c-ad8e895ee176",
   "metadata": {},
   "outputs": [
    {
     "data": {
      "text/plain": [
       "1"
      ]
     },
     "execution_count": 51,
     "metadata": {},
     "output_type": "execute_result"
    }
   ],
   "source": [
    "str1.count('ola ola ')"
   ]
  },
  {
   "cell_type": "code",
   "execution_count": 53,
   "id": "e1004edc-079a-4b6a-83f2-a7a869f8c396",
   "metadata": {},
   "outputs": [
    {
     "data": {
      "text/plain": [
       "0"
      ]
     },
     "execution_count": 53,
     "metadata": {},
     "output_type": "execute_result"
    }
   ],
   "source": [
    "str1.count('z')"
   ]
  },
  {
   "cell_type": "markdown",
   "id": "396b4a18-1fe5-4cd5-9214-58da137281ea",
   "metadata": {},
   "source": [
    "**replace**"
   ]
  },
  {
   "cell_type": "code",
   "execution_count": 56,
   "id": "05064efe-709e-4d39-a38c-50281a7b4b64",
   "metadata": {},
   "outputs": [],
   "source": [
    "str1='welcome'\n",
    "# i want to replace with 'l' with 'L'"
   ]
  },
  {
   "cell_type": "code",
   "execution_count": 62,
   "id": "aff3b47a-4471-453a-8f24-c4c293fb1d2f",
   "metadata": {},
   "outputs": [
    {
     "data": {
      "text/plain": [
       "'weLcome'"
      ]
     },
     "execution_count": 62,
     "metadata": {},
     "output_type": "execute_result"
    }
   ],
   "source": [
    "# we kow that strings are immutable\n",
    "# we cannot use index operations also\n",
    "# slice and concatentation\n",
    "# divide welcome: we come\n",
    "# s1='we'\n",
    "# s2='come'\n",
    "# s1+'L'+s2\n",
    "\n",
    "str1='welcome'\n",
    "s1=str1[0:2]\n",
    "s2=str1[3:]\n",
    "s1+'L'+s2"
   ]
  },
  {
   "cell_type": "code",
   "execution_count": 64,
   "id": "ba7e993b-86bf-4617-9fca-c6e6b48f46fe",
   "metadata": {},
   "outputs": [
    {
     "data": {
      "text/plain": [
       "'L'"
      ]
     },
     "execution_count": 64,
     "metadata": {},
     "output_type": "execute_result"
    }
   ],
   "source": [
    "chr(ord('l')-32)"
   ]
  },
  {
   "cell_type": "code",
   "execution_count": 66,
   "id": "be0e18a3-4a55-4114-9727-dc6601025e8d",
   "metadata": {},
   "outputs": [
    {
     "data": {
      "text/plain": [
       "'weLcome'"
      ]
     },
     "execution_count": 66,
     "metadata": {},
     "output_type": "execute_result"
    }
   ],
   "source": [
    "str1='welcome'\n",
    "str1.replace('l','L')"
   ]
  },
  {
   "cell_type": "code",
   "execution_count": 68,
   "id": "7064f0c3-860e-49c7-be49-0b2342f5c31c",
   "metadata": {},
   "outputs": [
    {
     "data": {
      "text/plain": [
       "'weLLcome'"
      ]
     },
     "execution_count": 68,
     "metadata": {},
     "output_type": "execute_result"
    }
   ],
   "source": [
    "str1='wellcome'\n",
    "str1.replace('l','L')"
   ]
  },
  {
   "cell_type": "code",
   "execution_count": 70,
   "id": "777f611c-5419-4694-9f46-04cc5e82d1a5",
   "metadata": {},
   "outputs": [
    {
     "name": "stdout",
     "output_type": "stream",
     "text": [
      "Help on built-in function replace:\n",
      "\n",
      "replace(old, new, count=-1, /) method of builtins.str instance\n",
      "    Return a copy with all occurrences of substring old replaced by new.\n",
      "    \n",
      "      count\n",
      "        Maximum number of occurrences to replace.\n",
      "        -1 (the default value) means replace all occurrences.\n",
      "    \n",
      "    If the optional argument count is given, only the first count occurrences are\n",
      "    replaced.\n",
      "\n"
     ]
    }
   ],
   "source": [
    "help(str1.replace)"
   ]
  },
  {
   "cell_type": "markdown",
   "id": "00bd31af-c9bd-424b-9ff7-c95d2c9a1908",
   "metadata": {},
   "source": [
    "- by default replace will change all the occurances\n",
    "\n",
    "- count= -1 is responsible for that\n",
    "\n",
    "- which means we can provide some come also, which how many i want to change\n",
    "\n",
    "- give wellcome and chnage count=1 and count=2 explore it"
   ]
  },
  {
   "cell_type": "code",
   "execution_count": 79,
   "id": "ef2dc7a4-66c0-4027-b42c-1de62d08e895",
   "metadata": {},
   "outputs": [
    {
     "data": {
      "text/plain": [
       "'weLlcome'"
      ]
     },
     "execution_count": 79,
     "metadata": {},
     "output_type": "execute_result"
    }
   ],
   "source": [
    "str1='wellcome'\n",
    "str1.replace('l','L',1)\n",
    "\n",
    "# when we write count=1\n",
    "# it will change only one letter\n",
    "# that to first occurance only"
   ]
  },
  {
   "cell_type": "code",
   "execution_count": 77,
   "id": "caccab9b-9805-47d3-a25d-678f03b2fc78",
   "metadata": {},
   "outputs": [
    {
     "data": {
      "text/plain": [
       "'weLLcome'"
      ]
     },
     "execution_count": 77,
     "metadata": {},
     "output_type": "execute_result"
    }
   ],
   "source": [
    "str1.replace('l','L',2)"
   ]
  },
  {
   "cell_type": "code",
   "execution_count": 101,
   "id": "4488dfe8-07ba-427c-9f8c-dd42a37a17bd",
   "metadata": {},
   "outputs": [
    {
     "data": {
      "text/plain": [
       "'resta$t'"
      ]
     },
     "execution_count": 101,
     "metadata": {},
     "output_type": "execute_result"
    }
   ],
   "source": [
    "# str1='restart'\n",
    "# i/p='resta$t'\n",
    "\n",
    "str1='restart'\n",
    "s1=str1[0:2]\n",
    "s2=str1[2:]\n",
    "s3=s2.replace('r','$')\n",
    "s1+s3"
   ]
  },
  {
   "cell_type": "code",
   "execution_count": 103,
   "id": "67a16ef6-52af-4ae1-b7c7-7d363041cbdf",
   "metadata": {},
   "outputs": [
    {
     "data": {
      "text/plain": [
       "'resta$t'"
      ]
     },
     "execution_count": 103,
     "metadata": {},
     "output_type": "execute_result"
    }
   ],
   "source": [
    "str1[::-1].replace('r','$',1)[::-1]"
   ]
  },
  {
   "cell_type": "markdown",
   "id": "f3972966-cae7-4ab7-88d6-a0fbe169b233",
   "metadata": {},
   "source": [
    "**index-find**"
   ]
  },
  {
   "cell_type": "code",
   "execution_count": 106,
   "id": "2c5339bb-d4e5-446f-8845-3a8dced8268f",
   "metadata": {},
   "outputs": [
    {
     "data": {
      "text/plain": [
       "['__add__',\n",
       " '__class__',\n",
       " '__contains__',\n",
       " '__delattr__',\n",
       " '__dir__',\n",
       " '__doc__',\n",
       " '__eq__',\n",
       " '__format__',\n",
       " '__ge__',\n",
       " '__getattribute__',\n",
       " '__getitem__',\n",
       " '__getnewargs__',\n",
       " '__getstate__',\n",
       " '__gt__',\n",
       " '__hash__',\n",
       " '__init__',\n",
       " '__init_subclass__',\n",
       " '__iter__',\n",
       " '__le__',\n",
       " '__len__',\n",
       " '__lt__',\n",
       " '__mod__',\n",
       " '__mul__',\n",
       " '__ne__',\n",
       " '__new__',\n",
       " '__reduce__',\n",
       " '__reduce_ex__',\n",
       " '__repr__',\n",
       " '__rmod__',\n",
       " '__rmul__',\n",
       " '__setattr__',\n",
       " '__sizeof__',\n",
       " '__str__',\n",
       " '__subclasshook__',\n",
       " 'capitalize',\n",
       " 'casefold',\n",
       " 'center',\n",
       " 'count',\n",
       " 'encode',\n",
       " 'endswith',\n",
       " 'expandtabs',\n",
       " 'find',\n",
       " 'format',\n",
       " 'format_map',\n",
       " 'index',\n",
       " 'isalnum',\n",
       " 'isalpha',\n",
       " 'isascii',\n",
       " 'isdecimal',\n",
       " 'isdigit',\n",
       " 'isidentifier',\n",
       " 'islower',\n",
       " 'isnumeric',\n",
       " 'isprintable',\n",
       " 'isspace',\n",
       " 'istitle',\n",
       " 'isupper',\n",
       " 'join',\n",
       " 'ljust',\n",
       " 'lower',\n",
       " 'lstrip',\n",
       " 'maketrans',\n",
       " 'partition',\n",
       " 'removeprefix',\n",
       " 'removesuffix',\n",
       " 'replace',\n",
       " 'rfind',\n",
       " 'rindex',\n",
       " 'rjust',\n",
       " 'rpartition',\n",
       " 'rsplit',\n",
       " 'rstrip',\n",
       " 'split',\n",
       " 'splitlines',\n",
       " 'startswith',\n",
       " 'strip',\n",
       " 'swapcase',\n",
       " 'title',\n",
       " 'translate',\n",
       " 'upper',\n",
       " 'zfill']"
      ]
     },
     "execution_count": 106,
     "metadata": {},
     "output_type": "execute_result"
    }
   ],
   "source": [
    "dir('')"
   ]
  },
  {
   "cell_type": "code",
   "execution_count": null,
   "id": "b56ee5bf-236f-4072-9dbf-ba5debe3bc03",
   "metadata": {},
   "outputs": [],
   "source": [
    "'isalnum',\n",
    " 'isalpha',\n",
    " 'isascii',\n",
    " 'isdecimal',\n",
    " 'isdigit',\n",
    " 'isidentifier',\n",
    " 'islower',\n",
    " 'isnumeric',\n",
    " 'isprintable',\n",
    " 'isspace',\n",
    " 'istitle',\n",
    " 'isupper',"
   ]
  },
  {
   "cell_type": "code",
   "execution_count": 108,
   "id": "14d131d3-1790-44f3-9d83-edac18263ea2",
   "metadata": {},
   "outputs": [
    {
     "data": {
      "text/plain": [
       "True"
      ]
     },
     "execution_count": 108,
     "metadata": {},
     "output_type": "execute_result"
    }
   ],
   "source": [
    "str1='HELLO'\n",
    "str1.isupper()"
   ]
  },
  {
   "cell_type": "markdown",
   "id": "b815dc4f-c164-42b0-bc5b-91ccb8232b50",
   "metadata": {},
   "source": [
    "**index**\n",
    "\n",
    "- index says that it will give the index of any letter in a given string\n",
    "\n",
    "- we already seen about count: count will give how many letters are there in string\n",
    "\n",
    "   - at that index you want to count\n",
    " \n",
    "   - between indexex also we can count the letters\n",
    "\n",
    "- index meaning it will provide the index\n",
    "\n",
    "- imagine that there same letters repeated\n",
    "\n",
    "- how can we find the next index"
   ]
  },
  {
   "cell_type": "code",
   "execution_count": 19,
   "id": "17e9b099-e284-4b35-9215-b195d33a5e4b",
   "metadata": {},
   "outputs": [
    {
     "data": {
      "text/plain": [
       "1"
      ]
     },
     "execution_count": 19,
     "metadata": {},
     "output_type": "execute_result"
    }
   ],
   "source": [
    "-11 -10  -9  -8  -7   -6  -5 -4 -3   -2   -1\n",
    "#h   a    i      h    a   i     h     a    i\n",
    "#0   1    2   3  4    5   6  7  8     9   10 \n",
    "\n",
    "# i want always a return a lowest index only\n",
    "str1='hai hai hai'\n",
    "str1.index('a')"
   ]
  },
  {
   "cell_type": "code",
   "execution_count": 21,
   "id": "ffb2fd20-73ae-4202-b758-edf1f0211777",
   "metadata": {},
   "outputs": [
    {
     "data": {
      "text/plain": [
       "5"
      ]
     },
     "execution_count": 21,
     "metadata": {},
     "output_type": "execute_result"
    }
   ],
   "source": [
    "# i want to know next 'a' index  after 3rd index\n",
    "\n",
    "str1='hai hai hai'\n",
    "str1.index('a',3)"
   ]
  },
  {
   "cell_type": "code",
   "execution_count": 17,
   "id": "bb3e74e9-ab48-4519-ad55-ee2fdddeb72d",
   "metadata": {},
   "outputs": [
    {
     "data": {
      "text/plain": [
       "5"
      ]
     },
     "execution_count": 17,
     "metadata": {},
     "output_type": "execute_result"
    }
   ],
   "source": [
    "# i want to know 'a' between 3rd to 7th index\n",
    "\n",
    "str1='hai hai hai'\n",
    "str1.index('a',3,7)"
   ]
  },
  {
   "cell_type": "code",
   "execution_count": null,
   "id": "af0a01ce-cace-4df6-bb3e-95ea5983c9ca",
   "metadata": {},
   "outputs": [],
   "source": [
    "str1='hai hai hai'\n",
    "str1.index('a')   # among all the indexes the lowset index is'1'\n",
    "\n",
    "str1='hai hai hai'\n",
    "str1.index('a',3)  # after 3rd index the lowset index is '5'\n",
    "\n",
    "str1='hai hai hai'\n",
    "str1.index('a',3,7)  # between 3-7 index the lowset is '5'"
   ]
  },
  {
   "cell_type": "code",
   "execution_count": 27,
   "id": "fb942ba4-cdb7-4d1c-8eeb-4f623f87df32",
   "metadata": {},
   "outputs": [
    {
     "data": {
      "text/plain": [
       "5"
      ]
     },
     "execution_count": 27,
     "metadata": {},
     "output_type": "execute_result"
    }
   ],
   "source": [
    "str1='hai hai hai'\n",
    "str1.index('a',-8,-5)"
   ]
  },
  {
   "cell_type": "code",
   "execution_count": 33,
   "id": "aa1e21c2-ccc9-40b8-b20a-abc1f59fe5c2",
   "metadata": {},
   "outputs": [
    {
     "data": {
      "text/plain": [
       "1"
      ]
     },
     "execution_count": 33,
     "metadata": {},
     "output_type": "execute_result"
    }
   ],
   "source": [
    "str1='hai hai hai'\n",
    "str1.index('a',-10)"
   ]
  },
  {
   "cell_type": "code",
   "execution_count": 37,
   "id": "f414ca70-3c53-4349-a634-ad773e9a1681",
   "metadata": {},
   "outputs": [
    {
     "name": "stdout",
     "output_type": "stream",
     "text": [
      "3\n",
      "2\n",
      "1\n"
     ]
    }
   ],
   "source": [
    "-11 -10  -9  -8  -7   -6  -5 -4 -3   -2   -1\n",
    "#h   a    i      h    a   i     h     a    i\n",
    "#0   1    2   3  4    5   6  7  8     9   10 \n",
    "\n",
    "\n",
    "str1='hai hai hai'\n",
    "print(str1.count('a'))\n",
    "print(str1.count('a',3))\n",
    "print(str1.count('a',3,7))"
   ]
  },
  {
   "cell_type": "code",
   "execution_count": 41,
   "id": "14ff46f4-d0ca-4cb5-b632-f4d5c12219c9",
   "metadata": {},
   "outputs": [
    {
     "name": "stdout",
     "output_type": "stream",
     "text": [
      "1\n",
      "5\n",
      "5\n"
     ]
    }
   ],
   "source": [
    "str1='hai hai hai'\n",
    "print(str1.index('a'))\n",
    "print(str1.index('a',3))\n",
    "print(str1.index('a',3,7))  # 3 to 7 start:3 index and end: 7-1=6 index"
   ]
  },
  {
   "cell_type": "code",
   "execution_count": 43,
   "id": "c5793aa1-908c-475b-9f8a-9d7a72931542",
   "metadata": {},
   "outputs": [
    {
     "name": "stdout",
     "output_type": "stream",
     "text": [
      "1\n",
      "5\n",
      "9\n"
     ]
    }
   ],
   "source": [
    "str1='hai hai hai'\n",
    "# i want to know all the indexes of 'a'\n",
    "for i in range(len(str1)):\n",
    "    if str1[i]=='a':\n",
    "        print(i)"
   ]
  },
  {
   "cell_type": "code",
   "execution_count": 53,
   "id": "7f84c15c-1e09-4dad-aa8e-385ac939f7e0",
   "metadata": {},
   "outputs": [
    {
     "name": "stdout",
     "output_type": "stream",
     "text": [
      "1\n",
      "5\n",
      "9\n",
      "13\n"
     ]
    },
    {
     "ename": "ValueError",
     "evalue": "substring not found",
     "output_type": "error",
     "traceback": [
      "\u001b[0;31m---------------------------------------------------------------------------\u001b[0m",
      "\u001b[0;31mValueError\u001b[0m                                Traceback (most recent call last)",
      "Cell \u001b[0;32mIn[53], line 10\u001b[0m\n\u001b[1;32m      8\u001b[0m i4\u001b[38;5;241m=\u001b[39mstr1\u001b[38;5;241m.\u001b[39mindex(\u001b[38;5;124m'\u001b[39m\u001b[38;5;124ma\u001b[39m\u001b[38;5;124m'\u001b[39m,i3\u001b[38;5;241m+\u001b[39m\u001b[38;5;241m1\u001b[39m)\n\u001b[1;32m      9\u001b[0m \u001b[38;5;28mprint\u001b[39m(i4)\n\u001b[0;32m---> 10\u001b[0m i5\u001b[38;5;241m=\u001b[39mstr1\u001b[38;5;241m.\u001b[39mindex(\u001b[38;5;124m'\u001b[39m\u001b[38;5;124ma\u001b[39m\u001b[38;5;124m'\u001b[39m,i4\u001b[38;5;241m+\u001b[39m\u001b[38;5;241m1\u001b[39m)\n\u001b[1;32m     11\u001b[0m \u001b[38;5;28mprint\u001b[39m(i5)\n",
      "\u001b[0;31mValueError\u001b[0m: substring not found"
     ]
    }
   ],
   "source": [
    "str1='hai hai hai hai'\n",
    "i1=str1.index('a')\n",
    "print(i1)\n",
    "i2=str1.index('a',i1+1)\n",
    "print(i2)\n",
    "i3=str1.index('a',i2+1)\n",
    "print(i3)\n",
    "i4=str1.index('a',i3+1)\n",
    "print(i4)\n",
    "i5=str1.index('a',i4+1)\n",
    "print(i5)"
   ]
  },
  {
   "cell_type": "code",
   "execution_count": null,
   "id": "503b0f06-16f8-4ba8-a662-af14a0da2f24",
   "metadata": {},
   "outputs": [],
   "source": [
    "str1='hai hai hai'\n",
    "i1=0\n",
    "for i in range(len(str1)):\n",
    "    if str1=='a':\n",
    "        print()"
   ]
  },
  {
   "cell_type": "markdown",
   "id": "b6343375-bd84-4439-b099-8b59b142bf84",
   "metadata": {},
   "source": [
    "**find**"
   ]
  },
  {
   "cell_type": "code",
   "execution_count": 56,
   "id": "c861361f-c03f-4f58-a82e-c4e578a8a2b0",
   "metadata": {},
   "outputs": [
    {
     "name": "stdout",
     "output_type": "stream",
     "text": [
      "Help on built-in function find:\n",
      "\n",
      "find(...) method of builtins.str instance\n",
      "    S.find(sub[, start[, end]]) -> int\n",
      "    \n",
      "    Return the lowest index in S where substring sub is found,\n",
      "    such that sub is contained within S[start:end].  Optional\n",
      "    arguments start and end are interpreted as in slice notation.\n",
      "    \n",
      "    Return -1 on failure.\n",
      "\n"
     ]
    }
   ],
   "source": [
    "help(str1.find)"
   ]
  },
  {
   "cell_type": "code",
   "execution_count": 58,
   "id": "7f9ee7d9-d9ce-46f9-82a8-7bdb5cc53d2b",
   "metadata": {},
   "outputs": [
    {
     "data": {
      "text/plain": [
       "1"
      ]
     },
     "execution_count": 58,
     "metadata": {},
     "output_type": "execute_result"
    }
   ],
   "source": [
    "str1='hai hai hai'\n",
    "str1.find('a')"
   ]
  },
  {
   "cell_type": "code",
   "execution_count": 60,
   "id": "126c09e4-1a2e-48d9-9c11-546d62565807",
   "metadata": {},
   "outputs": [
    {
     "data": {
      "text/plain": [
       "-1"
      ]
     },
     "execution_count": 60,
     "metadata": {},
     "output_type": "execute_result"
    }
   ],
   "source": [
    "str1='hai hai hai'\n",
    "str1.find('a',2,4)"
   ]
  },
  {
   "cell_type": "code",
   "execution_count": 66,
   "id": "1d8b12e2-3e78-4cc8-8576-9ce974b0a34c",
   "metadata": {},
   "outputs": [
    {
     "name": "stdout",
     "output_type": "stream",
     "text": [
      "1\n",
      "5\n",
      "9\n",
      "13\n",
      "-1\n"
     ]
    }
   ],
   "source": [
    "str1='hai hai hai hai'\n",
    "i1=str1.find('a')\n",
    "print(i1)\n",
    "i2=str1.find('a',i1+1)\n",
    "print(i2)\n",
    "i3=str1.find('a',i2+1)\n",
    "print(i3)\n",
    "i4=str1.find('a',i3+1)\n",
    "print(i4)\n",
    "i5=str1.find('a',i4+1)   # here extra index has been added then the result will -1 for in find() method\n",
    "print(i5)"
   ]
  },
  {
   "cell_type": "code",
   "execution_count": 68,
   "id": "57891867-5cb3-443b-af33-68a6c0d40da8",
   "metadata": {},
   "outputs": [
    {
     "data": {
      "text/plain": [
       "'hai hai hai'"
      ]
     },
     "execution_count": 68,
     "metadata": {},
     "output_type": "execute_result"
    }
   ],
   "source": [
    "str1='hai hai hai'\n",
    "str1.replace('z','Z')"
   ]
  },
  {
   "cell_type": "code",
   "execution_count": 70,
   "id": "d4dc9189-1299-46ec-aaf7-12baa612935c",
   "metadata": {},
   "outputs": [
    {
     "data": {
      "text/plain": [
       "0"
      ]
     },
     "execution_count": 70,
     "metadata": {},
     "output_type": "execute_result"
    }
   ],
   "source": [
    "str1='hai hai hai'\n",
    "str1.count('z')"
   ]
  },
  {
   "cell_type": "markdown",
   "id": "67d974cb-2b09-4515-a48c-5978d7f257e0",
   "metadata": {},
   "source": [
    "- if substring not found\n",
    "\n",
    "- count method will give zero(0)\n",
    "\n",
    "- replace mehod will original string\n",
    "\n",
    "- index method will give error (sub string not found)\n",
    "\n",
    "- find will give (-1)"
   ]
  },
  {
   "cell_type": "code",
   "execution_count": 11,
   "id": "707eed6b-1d6f-4c38-bb7c-e17267fbf6d3",
   "metadata": {},
   "outputs": [
    {
     "name": "stdout",
     "output_type": "stream",
     "text": [
      "first name: omkar\n",
      "second name: nallagoni\n",
      "company name: cognizant\n"
     ]
    }
   ],
   "source": [
    "str1='omkar.nallagoni@cognizant.com'\n",
    "# first name = omkar\n",
    "# second name = nallagoni\n",
    "# company name = cognizant\n",
    "\n",
    "f1=str1.find('.')\n",
    "print('first name:',str1[:f1])\n",
    "f2=str1.find('@')\n",
    "print('second name:',str1[f1+1:f2])\n",
    "f3=str1.find('.',f1+1)\n",
    "print('company name:',str1[f2+1:f3])"
   ]
  },
  {
   "cell_type": "markdown",
   "id": "3b86622d-9ea1-44e0-a635-fa4cd07c0644",
   "metadata": {},
   "source": [
    "- upper/lower/casefold\n",
    "\n",
    "- capitalize/title\n",
    "\n",
    "- count\n",
    "\n",
    "- replace\n",
    "\n",
    "- index/find\n",
    "\n",
    "- start with is\n",
    "\n"
   ]
  },
  {
   "cell_type": "markdown",
   "id": "848c7d02-f95c-401f-847e-973fc8eff8e3",
   "metadata": {},
   "source": [
    "- split\n",
    "\n",
    "- strip/lstrip/rstrip\n",
    "\n",
    "- start/swith/end"
   ]
  },
  {
   "cell_type": "code",
   "execution_count": 27,
   "id": "16aa1938-6095-4b53-bfeb-c6a349286f07",
   "metadata": {},
   "outputs": [
    {
     "name": "stdout",
     "output_type": "stream",
     "text": [
      "Help on built-in function removeprefix:\n",
      "\n",
      "removeprefix(prefix, /) method of builtins.str instance\n",
      "    Return a str with the given prefix string removed if present.\n",
      "    \n",
      "    If the string starts with the prefix string, return string[len(prefix):].\n",
      "    Otherwise, return a copy of the original string.\n",
      "\n"
     ]
    }
   ],
   "source": [
    "help(''.removeprefix)"
   ]
  },
  {
   "cell_type": "code",
   "execution_count": 1,
   "id": "8bd81da5-5edc-4971-9b5f-19018b1c933b",
   "metadata": {},
   "outputs": [
    {
     "data": {
      "text/plain": [
       "['hai',\n",
       " 'apple',\n",
       " 'how',\n",
       " 'are',\n",
       " 'you',\n",
       " 'apple',\n",
       " 'im',\n",
       " 'good',\n",
       " 'apple',\n",
       " 'thank',\n",
       " 'you',\n",
       " 'apple']"
      ]
     },
     "execution_count": 1,
     "metadata": {},
     "output_type": "execute_result"
    }
   ],
   "source": [
    "str='hai apple how are you apple im good apple thank you apple'\n",
    "str1=str.split()\n",
    "str1"
   ]
  },
  {
   "cell_type": "code",
   "execution_count": 13,
   "id": "5bf27939-7357-4989-a75e-080ab2767b42",
   "metadata": {},
   "outputs": [
    {
     "name": "stdout",
     "output_type": "stream",
     "text": [
      "1\n",
      "4\n",
      "6\n",
      "8\n"
     ]
    },
    {
     "ename": "IndexError",
     "evalue": "list index out of range",
     "output_type": "error",
     "traceback": [
      "\u001b[0;31m---------------------------------------------------------------------------\u001b[0m",
      "\u001b[0;31mIndexError\u001b[0m                                Traceback (most recent call last)",
      "Cell \u001b[0;32mIn[13], line 4\u001b[0m\n\u001b[1;32m      2\u001b[0m str1\u001b[38;5;241m=\u001b[39m\u001b[38;5;28mstr\u001b[39m\u001b[38;5;241m.\u001b[39msplit()\n\u001b[1;32m      3\u001b[0m \u001b[38;5;28;01mfor\u001b[39;00m i \u001b[38;5;129;01min\u001b[39;00m \u001b[38;5;28mrange\u001b[39m(\u001b[38;5;28mlen\u001b[39m(str1)):\n\u001b[0;32m----> 4\u001b[0m     \u001b[38;5;28;01mif\u001b[39;00m str1[i]\u001b[38;5;241m==\u001b[39m\u001b[38;5;124m'\u001b[39m\u001b[38;5;124mapple\u001b[39m\u001b[38;5;124m'\u001b[39m:\n\u001b[1;32m      5\u001b[0m         \u001b[38;5;28mprint\u001b[39m(i)\n\u001b[1;32m      6\u001b[0m         str1\u001b[38;5;241m.\u001b[39mpop(i)\n",
      "\u001b[0;31mIndexError\u001b[0m: list index out of range"
     ]
    }
   ],
   "source": [
    "str='hai apple how are you apple im good apple thank you apple'\n",
    "str1=str.split()\n",
    "for i in range(len(str1)):\n",
    "    if str1[i]=='apple':\n",
    "        print(i)\n",
    "        str1.pop(i)\n",
    "str1"
   ]
  },
  {
   "cell_type": "code",
   "execution_count": 1,
   "id": "74649c93-4537-4131-9963-0f87946f15dd",
   "metadata": {},
   "outputs": [
    {
     "data": {
      "text/plain": [
       "['__add__',\n",
       " '__class__',\n",
       " '__class_getitem__',\n",
       " '__contains__',\n",
       " '__delattr__',\n",
       " '__delitem__',\n",
       " '__dir__',\n",
       " '__doc__',\n",
       " '__eq__',\n",
       " '__format__',\n",
       " '__ge__',\n",
       " '__getattribute__',\n",
       " '__getitem__',\n",
       " '__getstate__',\n",
       " '__gt__',\n",
       " '__hash__',\n",
       " '__iadd__',\n",
       " '__imul__',\n",
       " '__init__',\n",
       " '__init_subclass__',\n",
       " '__iter__',\n",
       " '__le__',\n",
       " '__len__',\n",
       " '__lt__',\n",
       " '__mul__',\n",
       " '__ne__',\n",
       " '__new__',\n",
       " '__reduce__',\n",
       " '__reduce_ex__',\n",
       " '__repr__',\n",
       " '__reversed__',\n",
       " '__rmul__',\n",
       " '__setattr__',\n",
       " '__setitem__',\n",
       " '__sizeof__',\n",
       " '__str__',\n",
       " '__subclasshook__',\n",
       " 'append',\n",
       " 'clear',\n",
       " 'copy',\n",
       " 'count',\n",
       " 'extend',\n",
       " 'index',\n",
       " 'insert',\n",
       " 'pop',\n",
       " 'remove',\n",
       " 'reverse',\n",
       " 'sort']"
      ]
     },
     "execution_count": 1,
     "metadata": {},
     "output_type": "execute_result"
    }
   ],
   "source": [
    "dir([])"
   ]
  },
  {
   "cell_type": "code",
   "execution_count": 3,
   "id": "566b94b1-3e1d-4746-8e11-6f7e312375a2",
   "metadata": {},
   "outputs": [
    {
     "data": {
      "text/plain": [
       "['__add__',\n",
       " '__class__',\n",
       " '__contains__',\n",
       " '__delattr__',\n",
       " '__dir__',\n",
       " '__doc__',\n",
       " '__eq__',\n",
       " '__format__',\n",
       " '__ge__',\n",
       " '__getattribute__',\n",
       " '__getitem__',\n",
       " '__getnewargs__',\n",
       " '__getstate__',\n",
       " '__gt__',\n",
       " '__hash__',\n",
       " '__init__',\n",
       " '__init_subclass__',\n",
       " '__iter__',\n",
       " '__le__',\n",
       " '__len__',\n",
       " '__lt__',\n",
       " '__mod__',\n",
       " '__mul__',\n",
       " '__ne__',\n",
       " '__new__',\n",
       " '__reduce__',\n",
       " '__reduce_ex__',\n",
       " '__repr__',\n",
       " '__rmod__',\n",
       " '__rmul__',\n",
       " '__setattr__',\n",
       " '__sizeof__',\n",
       " '__str__',\n",
       " '__subclasshook__',\n",
       " 'capitalize',\n",
       " 'casefold',\n",
       " 'center',\n",
       " 'count',\n",
       " 'encode',\n",
       " 'endswith',\n",
       " 'expandtabs',\n",
       " 'find',\n",
       " 'format',\n",
       " 'format_map',\n",
       " 'index',\n",
       " 'isalnum',\n",
       " 'isalpha',\n",
       " 'isascii',\n",
       " 'isdecimal',\n",
       " 'isdigit',\n",
       " 'isidentifier',\n",
       " 'islower',\n",
       " 'isnumeric',\n",
       " 'isprintable',\n",
       " 'isspace',\n",
       " 'istitle',\n",
       " 'isupper',\n",
       " 'join',\n",
       " 'ljust',\n",
       " 'lower',\n",
       " 'lstrip',\n",
       " 'maketrans',\n",
       " 'partition',\n",
       " 'removeprefix',\n",
       " 'removesuffix',\n",
       " 'replace',\n",
       " 'rfind',\n",
       " 'rindex',\n",
       " 'rjust',\n",
       " 'rpartition',\n",
       " 'rsplit',\n",
       " 'rstrip',\n",
       " 'split',\n",
       " 'splitlines',\n",
       " 'startswith',\n",
       " 'strip',\n",
       " 'swapcase',\n",
       " 'title',\n",
       " 'translate',\n",
       " 'upper',\n",
       " 'zfill']"
      ]
     },
     "execution_count": 3,
     "metadata": {},
     "output_type": "execute_result"
    }
   ],
   "source": [
    "dir('')"
   ]
  },
  {
   "cell_type": "code",
   "execution_count": null,
   "id": "cfedfd6f-2c3f-4815-90c7-ac031e297c42",
   "metadata": {},
   "outputs": [],
   "source": [
    "list.pop()"
   ]
  }
 ],
 "metadata": {
  "kernelspec": {
   "display_name": "Python 3 (ipykernel)",
   "language": "python",
   "name": "python3"
  },
  "language_info": {
   "codemirror_mode": {
    "name": "ipython",
    "version": 3
   },
   "file_extension": ".py",
   "mimetype": "text/x-python",
   "name": "python",
   "nbconvert_exporter": "python",
   "pygments_lexer": "ipython3",
   "version": "3.11.7"
  }
 },
 "nbformat": 4,
 "nbformat_minor": 5
}
