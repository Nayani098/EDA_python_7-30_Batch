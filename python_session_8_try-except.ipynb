{
 "cells": [
  {
   "cell_type": "markdown",
   "id": "43789a3c-0db8-4259-9240-e81b20553808",
   "metadata": {},
   "source": [
    "**try-except**\n",
    "\n",
    "- generally in real time we will write n number of python lines\n",
    "\n",
    "- there is a situation we might get errortr, that error might be unknown\n",
    "\n",
    "- this unknown error does not cause any harm\n",
    "\n",
    "- even though we are getting error, we need to proceed further\n",
    "\n",
    "- also we need to catch that error\n",
    "\n",
    "- because we already know python is a sequential process\n",
    "\n",
    "- means the lines will execute step by step\n",
    "\n",
    "- suppose you have an error at particular line, the code execution will stop at that line only\n",
    "\n",
    "- but you know that error is not harmful\n",
    "\n",
    "- so you want to continue that execution\n",
    "\n",
    "- then we required try-exception"
   ]
  },
  {
   "cell_type": "markdown",
   "id": "4019756a-0233-4f67-beff-703ca0d38727",
   "metadata": {},
   "source": [
    "- try-except has two blocks\n",
    "\n",
    "- try block as actual code\n",
    "\n",
    "- except block will catch the error"
   ]
  },
  {
   "cell_type": "code",
   "execution_count": 3,
   "id": "6d835984-cc55-4c07-9eab-6bb46461ac3e",
   "metadata": {},
   "outputs": [
    {
     "name": "stdin",
     "output_type": "stream",
     "text": [
      "enter a number1: 10\n",
      "enter a number2: ten\n"
     ]
    },
    {
     "ename": "NameError",
     "evalue": "name 'ten' is not defined",
     "output_type": "error",
     "traceback": [
      "\u001b[0;31m---------------------------------------------------------------------------\u001b[0m",
      "\u001b[0;31mNameError\u001b[0m                                 Traceback (most recent call last)",
      "Cell \u001b[0;32mIn[3], line 2\u001b[0m\n\u001b[1;32m      1\u001b[0m n1\u001b[38;5;241m=\u001b[39m\u001b[38;5;28meval\u001b[39m(\u001b[38;5;28minput\u001b[39m(\u001b[38;5;124m'\u001b[39m\u001b[38;5;124menter a number1:\u001b[39m\u001b[38;5;124m'\u001b[39m))\n\u001b[0;32m----> 2\u001b[0m n2\u001b[38;5;241m=\u001b[39m\u001b[38;5;28meval\u001b[39m(\u001b[38;5;28minput\u001b[39m(\u001b[38;5;124m'\u001b[39m\u001b[38;5;124menter a number2:\u001b[39m\u001b[38;5;124m'\u001b[39m))\n\u001b[1;32m      3\u001b[0m add\u001b[38;5;241m=\u001b[39mn1\u001b[38;5;241m+\u001b[39mn2\n\u001b[1;32m      4\u001b[0m \u001b[38;5;28mprint\u001b[39m(add)\n",
      "File \u001b[0;32m<string>:1\u001b[0m\n",
      "\u001b[0;31mNameError\u001b[0m: name 'ten' is not defined"
     ]
    }
   ],
   "source": [
    "n1=eval(input('enter a number1:'))\n",
    "n2=eval(input('enter a number2:'))\n",
    "add=n1+n2\n",
    "print(add)"
   ]
  },
  {
   "cell_type": "code",
   "execution_count": 5,
   "id": "abc4b605-4763-459b-adc8-89f052232a22",
   "metadata": {},
   "outputs": [
    {
     "name": "stdin",
     "output_type": "stream",
     "text": [
      "enter a number1: 10\n",
      "enter a number2: ten\n"
     ]
    },
    {
     "name": "stdout",
     "output_type": "stream",
     "text": [
      "hello\n",
      "you are getting error\n",
      "check the code properly\n"
     ]
    }
   ],
   "source": [
    "try:\n",
    "   n1=eval(input('enter a number1:'))\n",
    "   n2=eval(input('enter a number2:'))\n",
    "   add=n1+n2\n",
    "   print(add) \n",
    "except:\n",
    "    print('hello')\n",
    "    print('you are getting error')\n",
    "    print('check the code properly')"
   ]
  },
  {
   "cell_type": "markdown",
   "id": "2469b5dc-ccfc-43ab-b557-bc52ffb055d9",
   "metadata": {},
   "source": [
    "**note**\n",
    "\n",
    "- generally try except block will use to catch the error"
   ]
  },
  {
   "cell_type": "code",
   "execution_count": 16,
   "id": "b1f73fea-d11c-4d09-8b7a-57ceac637639",
   "metadata": {},
   "outputs": [
    {
     "name": "stdin",
     "output_type": "stream",
     "text": [
      "enter a number1: 10\n",
      "enter a number2: 0\n"
     ]
    },
    {
     "name": "stdout",
     "output_type": "stream",
     "text": [
      "the error is division by zero\n"
     ]
    }
   ],
   "source": [
    "try:\n",
    "    n1=eval(input('enter a number1:'))\n",
    "    n2=eval(input('enter a number2:'))\n",
    "    add=n1+n2\n",
    "    div=n1/n2\n",
    "    print(add)\n",
    "except Exception as e:\n",
    "    print(f'the error is {e}')"
   ]
  },
  {
   "cell_type": "code",
   "execution_count": 18,
   "id": "7b9ebebc-1f3f-45bd-80a5-e13ec2a5eda3",
   "metadata": {},
   "outputs": [],
   "source": [
    "# now onwards every code\n",
    "# need to use try-except"
   ]
  },
  {
   "cell_type": "code",
   "execution_count": 20,
   "id": "318f618b-4934-4948-bd72-46f6696625a5",
   "metadata": {},
   "outputs": [
    {
     "name": "stdin",
     "output_type": "stream",
     "text": [
      "enter the number: ten\n"
     ]
    },
    {
     "name": "stdout",
     "output_type": "stream",
     "text": [
      "name 'ten' is not defined\n"
     ]
    }
   ],
   "source": [
    "try:\n",
    "    num=eval(input('enter the number:'))\n",
    "    if num%2==0:\n",
    "        print('the number is even')\n",
    "    else:\n",
    "        print('the number is odd')\n",
    "except Exception as e:\n",
    "    print(e)"
   ]
  },
  {
   "cell_type": "code",
   "execution_count": null,
   "id": "a4632b2a-d769-465d-b19c-ffbfea370597",
   "metadata": {},
   "outputs": [],
   "source": []
  }
 ],
 "metadata": {
  "kernelspec": {
   "display_name": "Python 3 (ipykernel)",
   "language": "python",
   "name": "python3"
  },
  "language_info": {
   "codemirror_mode": {
    "name": "ipython",
    "version": 3
   },
   "file_extension": ".py",
   "mimetype": "text/x-python",
   "name": "python",
   "nbconvert_exporter": "python",
   "pygments_lexer": "ipython3",
   "version": "3.11.7"
  }
 },
 "nbformat": 4,
 "nbformat_minor": 5
}
