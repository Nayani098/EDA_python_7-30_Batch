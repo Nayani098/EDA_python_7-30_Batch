{
 "cells": [
  {
   "cell_type": "markdown",
   "id": "48fef990-0313-4570-85f1-320ae17d155f",
   "metadata": {},
   "source": [
    "**Dictionary**\n",
    "\n",
    "- we already seen\n",
    "\n",
    "- string\n",
    "\n",
    "- list\n",
    "\n",
    "- tuple\n",
    "\n",
    "- set\n",
    "\n",
    "- dictionary\n",
    "\n",
    "- int float bool complex\n",
    "\n",
    "- range\n",
    "\n",
    "- eval is not a data type"
   ]
  },
  {
   "cell_type": "code",
   "execution_count": 1,
   "id": "1b3989dd-fca4-4308-bdf9-ef1638283163",
   "metadata": {},
   "outputs": [],
   "source": [
    "# by using lambda list reduce\n",
    "# reduce(lambda...)"
   ]
  },
  {
   "cell_type": "code",
   "execution_count": null,
   "id": "a69f1bc9-d42f-408b-b69d-531343cb9ca0",
   "metadata": {},
   "outputs": [],
   "source": [
    "string=''\n",
    "list=[]\n",
    "tuple=()\n",
    "set={}\n",
    "dictionary={key:value}"
   ]
  },
  {
   "cell_type": "markdown",
   "id": "73fdda0e-3548-4e62-9f1d-ea6c79453379",
   "metadata": {},
   "source": [
    "**Zip**"
   ]
  },
  {
   "cell_type": "code",
   "execution_count": 5,
   "id": "c9b01a60-bf25-4637-a7e4-a2ba1a6270bb",
   "metadata": {},
   "outputs": [
    {
     "name": "stdout",
     "output_type": "stream",
     "text": [
      "Ramesh 10\n",
      "Suresh 20\n",
      "Satish 30\n"
     ]
    }
   ],
   "source": [
    "name=['Ramesh','Suresh','Satish']\n",
    "age=[10,20,30]\n",
    "\n",
    "for i,j in zip(name,age):\n",
    "    print(i,j)"
   ]
  },
  {
   "cell_type": "code",
   "execution_count": 10,
   "id": "5f6f1fa7-e63c-4ceb-b120-638a8f8c52cf",
   "metadata": {},
   "outputs": [
    {
     "data": {
      "text/plain": [
       "<zip at 0x134b41e00>"
      ]
     },
     "execution_count": 10,
     "metadata": {},
     "output_type": "execute_result"
    }
   ],
   "source": [
    "zip(name,age)"
   ]
  },
  {
   "cell_type": "code",
   "execution_count": 14,
   "id": "ec5c3dfb-126d-4597-982e-4c5c080fd3df",
   "metadata": {},
   "outputs": [
    {
     "data": {
      "text/plain": [
       "[('Ramesh', 10), ('Suresh', 20), ('Satish', 30)]"
      ]
     },
     "execution_count": 14,
     "metadata": {},
     "output_type": "execute_result"
    }
   ],
   "source": [
    "list(zip(name,age))"
   ]
  },
  {
   "cell_type": "code",
   "execution_count": null,
   "id": "f94156b1-9cac-443c-91a9-307d072cbb21",
   "metadata": {},
   "outputs": [],
   "source": [
    "# dict1={<key>:<value>}\n",
    "# name=['Ramesh','Suresh','Satish']\n",
    "# age=[10,20,30]\n",
    "\n",
    "# 'Ramesh' is the key ==== 20 its related value\n",
    "# dict1={'Ramesh':10,'Suresh':20,'Satish':30}"
   ]
  },
  {
   "cell_type": "code",
   "execution_count": 16,
   "id": "11834005-ae88-4ffa-97ec-0979cc370358",
   "metadata": {},
   "outputs": [
    {
     "data": {
      "text/plain": [
       "dict"
      ]
     },
     "execution_count": 16,
     "metadata": {},
     "output_type": "execute_result"
    }
   ],
   "source": [
    "dict1={'Ramesh':10,'Suresh':20,'Satish':30}\n",
    "type(dict1)"
   ]
  },
  {
   "cell_type": "code",
   "execution_count": null,
   "id": "0ef4389b-2f67-4d9b-bf1d-b31504167468",
   "metadata": {},
   "outputs": [],
   "source": [
    "# if the list are two different length?\n",
    "# if the both will have same length?\n",
    "# yes it will have same length"
   ]
  },
  {
   "cell_type": "markdown",
   "id": "75a05a6b-295a-43fb-a9ab-d031e7d28a01",
   "metadata": {},
   "source": [
    "**initilization** -\n",
    "**create all types of dictionaries**"
   ]
  },
  {
   "cell_type": "code",
   "execution_count": 22,
   "id": "87844ac8-6441-4868-a374-9cc25a650a04",
   "metadata": {},
   "outputs": [
    {
     "data": {
      "text/plain": [
       "dict"
      ]
     },
     "execution_count": 22,
     "metadata": {},
     "output_type": "execute_result"
    }
   ],
   "source": [
    "dict2={10:'Ramesh',20:'Suresh',30:'Satish'}\n",
    "type(dict2)"
   ]
  },
  {
   "cell_type": "code",
   "execution_count": 24,
   "id": "97afd896-19ee-4dc7-ac38-97334a486c32",
   "metadata": {},
   "outputs": [
    {
     "data": {
      "text/plain": [
       "dict"
      ]
     },
     "execution_count": 24,
     "metadata": {},
     "output_type": "execute_result"
    }
   ],
   "source": [
    "dict3={'Ramesh':'B','Suresh':'S','Satish':'A'}\n",
    "type(dict3)"
   ]
  },
  {
   "cell_type": "code",
   "execution_count": 26,
   "id": "e924d0f2-f8a2-4e9f-a089-94cbb10a6a87",
   "metadata": {},
   "outputs": [
    {
     "data": {
      "text/plain": [
       "dict"
      ]
     },
     "execution_count": 26,
     "metadata": {},
     "output_type": "execute_result"
    }
   ],
   "source": [
    "dict4={'Ramesh':10.25,'Suresh':'B','Satish':10}\n",
    "type(dict4)"
   ]
  },
  {
   "cell_type": "code",
   "execution_count": 28,
   "id": "15943446-8cfc-4b54-88b2-439aa7fa1db2",
   "metadata": {},
   "outputs": [
    {
     "data": {
      "text/plain": [
       "dict"
      ]
     },
     "execution_count": 28,
     "metadata": {},
     "output_type": "execute_result"
    }
   ],
   "source": [
    "dict5={10.25:'Ramesh','Suresh':'B',10:'Satish'}\n",
    "type(dict5)"
   ]
  },
  {
   "cell_type": "code",
   "execution_count": 30,
   "id": "fea1b287-25a4-4344-aea2-fd4be1a33bec",
   "metadata": {},
   "outputs": [
    {
     "data": {
      "text/plain": [
       "dict"
      ]
     },
     "execution_count": 30,
     "metadata": {},
     "output_type": "execute_result"
    }
   ],
   "source": [
    "dict6={10:20,'apple':'B',10.25:10.56}\n",
    "type(dict6)"
   ]
  },
  {
   "cell_type": "code",
   "execution_count": 34,
   "id": "32a4d3a3-be7f-43f7-9eec-9b56e2607014",
   "metadata": {},
   "outputs": [
    {
     "data": {
      "text/plain": [
       "{10: ['apple']}"
      ]
     },
     "execution_count": 34,
     "metadata": {},
     "output_type": "execute_result"
    }
   ],
   "source": [
    "dict7={10:['apple']}\n",
    "dict7"
   ]
  },
  {
   "cell_type": "code",
   "execution_count": 36,
   "id": "01609035-8cc6-4a79-be2f-984c2f0681e5",
   "metadata": {},
   "outputs": [
    {
     "data": {
      "text/plain": [
       "{'apple': 20}"
      ]
     },
     "execution_count": 36,
     "metadata": {},
     "output_type": "execute_result"
    }
   ],
   "source": [
    "dict8={'apple':10,'apple':20}\n",
    "dict8"
   ]
  },
  {
   "cell_type": "code",
   "execution_count": null,
   "id": "47e1f8e6-1f0b-46a5-a67c-efd1f301a18b",
   "metadata": {},
   "outputs": [],
   "source": [
    "dict9={'friutes':['apple','cherry']}\n",
    "dict10={['apple','cherry']:'fruites'}\n",
    "dict11={('apple','cherry'):'fruites'}\n",
    "dict12={'ajay':20,'ajay':40}\n",
    "dict13={20:'ajay',40:'ajay'}\n",
    "dict14={'friutes':{'mango':40}}"
   ]
  },
  {
   "cell_type": "code",
   "execution_count": 40,
   "id": "e5891d9c-360d-4408-bf90-5318ac42233b",
   "metadata": {},
   "outputs": [
    {
     "data": {
      "text/plain": [
       "{'friutes': ['apple', 'cherry']}"
      ]
     },
     "execution_count": 40,
     "metadata": {},
     "output_type": "execute_result"
    }
   ],
   "source": [
    "dict9={'friutes':['apple','cherry']}\n",
    "dict9"
   ]
  },
  {
   "cell_type": "code",
   "execution_count": 42,
   "id": "69cf8796-846d-49c0-b7d9-e46eead79fe4",
   "metadata": {},
   "outputs": [
    {
     "ename": "TypeError",
     "evalue": "unhashable type: 'list'",
     "output_type": "error",
     "traceback": [
      "\u001b[0;31m---------------------------------------------------------------------------\u001b[0m",
      "\u001b[0;31mTypeError\u001b[0m                                 Traceback (most recent call last)",
      "Cell \u001b[0;32mIn[42], line 1\u001b[0m\n\u001b[0;32m----> 1\u001b[0m dict10\u001b[38;5;241m=\u001b[39m{[\u001b[38;5;124m'\u001b[39m\u001b[38;5;124mapple\u001b[39m\u001b[38;5;124m'\u001b[39m,\u001b[38;5;124m'\u001b[39m\u001b[38;5;124mcherry\u001b[39m\u001b[38;5;124m'\u001b[39m]:\u001b[38;5;124m'\u001b[39m\u001b[38;5;124mfruites\u001b[39m\u001b[38;5;124m'\u001b[39m}\n\u001b[1;32m      2\u001b[0m dict10\n",
      "\u001b[0;31mTypeError\u001b[0m: unhashable type: 'list'"
     ]
    }
   ],
   "source": [
    "dict10={['apple','cherry']:'fruites'}\n",
    "dict10"
   ]
  },
  {
   "cell_type": "code",
   "execution_count": 44,
   "id": "8ebb73a9-189e-4d7f-a0bc-050f73eb3d3f",
   "metadata": {},
   "outputs": [
    {
     "data": {
      "text/plain": [
       "{('apple', 'cherry'): 'fruites'}"
      ]
     },
     "execution_count": 44,
     "metadata": {},
     "output_type": "execute_result"
    }
   ],
   "source": [
    "dict11={('apple','cherry'):'fruites'}\n",
    "dict11"
   ]
  },
  {
   "cell_type": "code",
   "execution_count": 46,
   "id": "6a6ba730-57fb-424d-882c-2d1985353cef",
   "metadata": {},
   "outputs": [
    {
     "data": {
      "text/plain": [
       "{'ajay': 40}"
      ]
     },
     "execution_count": 46,
     "metadata": {},
     "output_type": "execute_result"
    }
   ],
   "source": [
    "dict12={'ajay':20,'ajay':40}\n",
    "dict12"
   ]
  },
  {
   "cell_type": "code",
   "execution_count": 48,
   "id": "cc329a02-4438-48f8-a436-5d0e2ba78b9e",
   "metadata": {},
   "outputs": [
    {
     "data": {
      "text/plain": [
       "{20: 'ajay', 40: 'ajay'}"
      ]
     },
     "execution_count": 48,
     "metadata": {},
     "output_type": "execute_result"
    }
   ],
   "source": [
    "dict13={20:'ajay',40:'ajay'}\n",
    "dict13"
   ]
  },
  {
   "cell_type": "code",
   "execution_count": 50,
   "id": "9ad04feb-b2ae-4fb6-b8aa-e84d00f6f4c9",
   "metadata": {},
   "outputs": [
    {
     "data": {
      "text/plain": [
       "{'friutes': {'mango': 40}}"
      ]
     },
     "execution_count": 50,
     "metadata": {},
     "output_type": "execute_result"
    }
   ],
   "source": [
    "dict14={'friutes':{'mango':40}}\n",
    "dict14"
   ]
  },
  {
   "cell_type": "markdown",
   "id": "b714096b-ffd2-4817-ad3f-803dc1521f71",
   "metadata": {},
   "source": [
    "- **keys are important**\n",
    "\n",
    "- keys have only latest values\n",
    "\n",
    "- no duplicates keys\n",
    "\n",
    "- keys should only one\n",
    "\n",
    "- values can be duplicate\n",
    "\n",
    "- which means different keys can have same value\n",
    "\n",
    "- list can not be a key, Because lists are mutable\n",
    "\n",
    "- tuple can be a key, Because tuple are immutale"
   ]
  },
  {
   "cell_type": "markdown",
   "id": "dca6ee61-88f3-4577-b54b-a21594b015a2",
   "metadata": {},
   "source": [
    "**max**"
   ]
  },
  {
   "cell_type": "code",
   "execution_count": 54,
   "id": "f7aedfdc-9cd2-459b-b0cc-0348ae378e2b",
   "metadata": {},
   "outputs": [
    {
     "data": {
      "text/plain": [
       "'sub'"
      ]
     },
     "execution_count": 54,
     "metadata": {},
     "output_type": "execute_result"
    }
   ],
   "source": [
    "d1={'man':25,'sub':20,'gov':15}\n",
    "max(d1)\n",
    "\n",
    "# operations are apply for only keys\n",
    "# keys are important in dictonary"
   ]
  },
  {
   "cell_type": "code",
   "execution_count": 56,
   "id": "250dbf68-326a-4ddb-83a9-20bfff0aa758",
   "metadata": {},
   "outputs": [
    {
     "data": {
      "text/plain": [
       "'sub'"
      ]
     },
     "execution_count": 56,
     "metadata": {},
     "output_type": "execute_result"
    }
   ],
   "source": [
    "d2={'man':'25','sub':'20','gov':'15'}\n",
    "max(d2)"
   ]
  },
  {
   "cell_type": "code",
   "execution_count": 58,
   "id": "1d875e20-e601-4d1d-a32d-bbbe87e6e4ac",
   "metadata": {},
   "outputs": [
    {
     "data": {
      "text/plain": [
       "25"
      ]
     },
     "execution_count": 58,
     "metadata": {},
     "output_type": "execute_result"
    }
   ],
   "source": [
    "d3={25:'man',10:'sub',15:'gov'}\n",
    "max(d3)"
   ]
  },
  {
   "cell_type": "code",
   "execution_count": 60,
   "id": "095c74a8-c80c-4583-95e8-f46c932451f8",
   "metadata": {},
   "outputs": [
    {
     "data": {
      "text/plain": [
       "'sub'"
      ]
     },
     "execution_count": 60,
     "metadata": {},
     "output_type": "execute_result"
    }
   ],
   "source": [
    "d4={'man':25,'sub':'20','gov':15}\n",
    "max(d4)"
   ]
  },
  {
   "cell_type": "code",
   "execution_count": 62,
   "id": "1fea6bf5-4bae-46d0-9fe5-002c5d0a0adc",
   "metadata": {},
   "outputs": [
    {
     "ename": "TypeError",
     "evalue": "'>' not supported between instances of 'str' and 'int'",
     "output_type": "error",
     "traceback": [
      "\u001b[0;31m---------------------------------------------------------------------------\u001b[0m",
      "\u001b[0;31mTypeError\u001b[0m                                 Traceback (most recent call last)",
      "Cell \u001b[0;32mIn[62], line 2\u001b[0m\n\u001b[1;32m      1\u001b[0m d5\u001b[38;5;241m=\u001b[39m{\u001b[38;5;241m25\u001b[39m:\u001b[38;5;124m'\u001b[39m\u001b[38;5;124mman\u001b[39m\u001b[38;5;124m'\u001b[39m,\u001b[38;5;124m'\u001b[39m\u001b[38;5;124m20\u001b[39m\u001b[38;5;124m'\u001b[39m:\u001b[38;5;124m'\u001b[39m\u001b[38;5;124msub\u001b[39m\u001b[38;5;124m'\u001b[39m,\u001b[38;5;241m15\u001b[39m:\u001b[38;5;124m'\u001b[39m\u001b[38;5;124mgov\u001b[39m\u001b[38;5;124m'\u001b[39m}\n\u001b[0;32m----> 2\u001b[0m \u001b[38;5;28mmax\u001b[39m(d5)\n",
      "\u001b[0;31mTypeError\u001b[0m: '>' not supported between instances of 'str' and 'int'"
     ]
    }
   ],
   "source": [
    "d5={25:'man','20':'sub',15:'gov'}\n",
    "max(d5)"
   ]
  },
  {
   "cell_type": "code",
   "execution_count": 64,
   "id": "dad0312c-6a06-4e4b-b062-46b9ad8a9b9a",
   "metadata": {},
   "outputs": [
    {
     "data": {
      "text/plain": [
       "'sub'"
      ]
     },
     "execution_count": 64,
     "metadata": {},
     "output_type": "execute_result"
    }
   ],
   "source": [
    "d6={'man':20,'sub':20,'gov':20}\n",
    "max(d6)"
   ]
  },
  {
   "cell_type": "code",
   "execution_count": 68,
   "id": "019599c0-44d8-4be9-a59e-b78bd6b15855",
   "metadata": {},
   "outputs": [
    {
     "data": {
      "text/plain": [
       "20"
      ]
     },
     "execution_count": 68,
     "metadata": {},
     "output_type": "execute_result"
    }
   ],
   "source": [
    "d7={20:'man',20:'sub',20:'gov'}\n",
    "max(d7)"
   ]
  },
  {
   "cell_type": "markdown",
   "id": "76545de5-537d-4b3f-ae50-eb4013e1269d",
   "metadata": {},
   "source": [
    "**min**"
   ]
  },
  {
   "cell_type": "code",
   "execution_count": 71,
   "id": "870a4d06-8b72-4cbf-aafe-451294e4434d",
   "metadata": {},
   "outputs": [
    {
     "data": {
      "text/plain": [
       "'gov'"
      ]
     },
     "execution_count": 71,
     "metadata": {},
     "output_type": "execute_result"
    }
   ],
   "source": [
    "d1={'man':25,'sub':20,'gov':15}\n",
    "min(d1)"
   ]
  },
  {
   "cell_type": "code",
   "execution_count": 73,
   "id": "b83a875a-31c9-497d-9eab-ecfc54c9d43e",
   "metadata": {},
   "outputs": [
    {
     "data": {
      "text/plain": [
       "'gov'"
      ]
     },
     "execution_count": 73,
     "metadata": {},
     "output_type": "execute_result"
    }
   ],
   "source": [
    "d2={'man':'25','sub':'20','gov':'15'}\n",
    "min(d2)"
   ]
  },
  {
   "cell_type": "code",
   "execution_count": 75,
   "id": "882203fd-606e-4a29-8cc6-06877d74353c",
   "metadata": {},
   "outputs": [
    {
     "data": {
      "text/plain": [
       "10"
      ]
     },
     "execution_count": 75,
     "metadata": {},
     "output_type": "execute_result"
    }
   ],
   "source": [
    "d3={25:'man',10:'sub',15:'gov'}\n",
    "min(d3)"
   ]
  },
  {
   "cell_type": "code",
   "execution_count": 77,
   "id": "87f015f5-367c-4c83-bd48-d299b3136b01",
   "metadata": {},
   "outputs": [
    {
     "data": {
      "text/plain": [
       "'gov'"
      ]
     },
     "execution_count": 77,
     "metadata": {},
     "output_type": "execute_result"
    }
   ],
   "source": [
    "d4={'man':25,'sub':'20','gov':15}\n",
    "min(d4)"
   ]
  },
  {
   "cell_type": "code",
   "execution_count": 79,
   "id": "e62fa1ed-e3e5-415f-af6d-e08497f7b63f",
   "metadata": {},
   "outputs": [
    {
     "ename": "TypeError",
     "evalue": "'<' not supported between instances of 'str' and 'int'",
     "output_type": "error",
     "traceback": [
      "\u001b[0;31m---------------------------------------------------------------------------\u001b[0m",
      "\u001b[0;31mTypeError\u001b[0m                                 Traceback (most recent call last)",
      "Cell \u001b[0;32mIn[79], line 2\u001b[0m\n\u001b[1;32m      1\u001b[0m d5\u001b[38;5;241m=\u001b[39m{\u001b[38;5;241m25\u001b[39m:\u001b[38;5;124m'\u001b[39m\u001b[38;5;124mman\u001b[39m\u001b[38;5;124m'\u001b[39m,\u001b[38;5;124m'\u001b[39m\u001b[38;5;124m20\u001b[39m\u001b[38;5;124m'\u001b[39m:\u001b[38;5;124m'\u001b[39m\u001b[38;5;124msub\u001b[39m\u001b[38;5;124m'\u001b[39m,\u001b[38;5;241m15\u001b[39m:\u001b[38;5;124m'\u001b[39m\u001b[38;5;124mgov\u001b[39m\u001b[38;5;124m'\u001b[39m}\n\u001b[0;32m----> 2\u001b[0m \u001b[38;5;28mmin\u001b[39m(d5)\n",
      "\u001b[0;31mTypeError\u001b[0m: '<' not supported between instances of 'str' and 'int'"
     ]
    }
   ],
   "source": [
    "d5={25:'man','20':'sub',15:'gov'}\n",
    "min(d5)"
   ]
  },
  {
   "cell_type": "code",
   "execution_count": 81,
   "id": "436a2f17-2203-4ac0-94e1-04ef55639b4c",
   "metadata": {},
   "outputs": [
    {
     "data": {
      "text/plain": [
       "'gov'"
      ]
     },
     "execution_count": 81,
     "metadata": {},
     "output_type": "execute_result"
    }
   ],
   "source": [
    "d6={'man':20,'sub':20,'gov':20}\n",
    "min(d6)"
   ]
  },
  {
   "cell_type": "code",
   "execution_count": 83,
   "id": "ba58b663-6b0f-4431-b8a4-d8940d91e1a0",
   "metadata": {},
   "outputs": [
    {
     "data": {
      "text/plain": [
       "20"
      ]
     },
     "execution_count": 83,
     "metadata": {},
     "output_type": "execute_result"
    }
   ],
   "source": [
    "d7={20:'man',20:'sub',20:'gov'}\n",
    "min(d7)"
   ]
  },
  {
   "cell_type": "markdown",
   "id": "b4fb7fbf-fd2d-470e-bdc9-fe4f8de95fa8",
   "metadata": {},
   "source": [
    "**sorted**"
   ]
  },
  {
   "cell_type": "code",
   "execution_count": 88,
   "id": "9ab57eba-64da-4d17-8024-d95bccd1ed7d",
   "metadata": {},
   "outputs": [
    {
     "data": {
      "text/plain": [
       "['gov', 'man', 'sub']"
      ]
     },
     "execution_count": 88,
     "metadata": {},
     "output_type": "execute_result"
    }
   ],
   "source": [
    "d1={'man':25,'sub':20,'gov':15}\n",
    "sorted(d1)"
   ]
  },
  {
   "cell_type": "code",
   "execution_count": 90,
   "id": "3aac735e-d78a-49f0-818c-9ebca8f0eead",
   "metadata": {},
   "outputs": [
    {
     "data": {
      "text/plain": [
       "['gov', 'man', 'sub']"
      ]
     },
     "execution_count": 90,
     "metadata": {},
     "output_type": "execute_result"
    }
   ],
   "source": [
    "d2={'man':'25','sub':'20','gov':'15'}\n",
    "sorted(d2)"
   ]
  },
  {
   "cell_type": "markdown",
   "id": "eb42af10-4259-47f6-9988-7957b14fbeef",
   "metadata": {},
   "source": [
    "**reversed**"
   ]
  },
  {
   "cell_type": "code",
   "execution_count": 93,
   "id": "ca04a2ca-4330-4f4a-8bfb-10392fa9048f",
   "metadata": {},
   "outputs": [
    {
     "data": {
      "text/plain": [
       "<dict_reversekeyiterator at 0x134bd3920>"
      ]
     },
     "execution_count": 93,
     "metadata": {},
     "output_type": "execute_result"
    }
   ],
   "source": [
    "d1={'man':25,'sub':20,'gov':15}\n",
    "reversed(d1)"
   ]
  },
  {
   "cell_type": "code",
   "execution_count": 95,
   "id": "29c062a6-ca86-4bca-8150-4c3e3d048970",
   "metadata": {},
   "outputs": [
    {
     "data": {
      "text/plain": [
       "['gov', 'sub', 'man']"
      ]
     },
     "execution_count": 95,
     "metadata": {},
     "output_type": "execute_result"
    }
   ],
   "source": [
    "d1={'man':25,'sub':20,'gov':15}\n",
    "list(reversed(d1))"
   ]
  },
  {
   "cell_type": "markdown",
   "id": "27968bbd-6002-4a3e-b247-2caeb2b709e6",
   "metadata": {},
   "source": [
    "**in**"
   ]
  },
  {
   "cell_type": "code",
   "execution_count": 102,
   "id": "a3681672-9304-4258-8aa6-dff362582bfa",
   "metadata": {},
   "outputs": [
    {
     "name": "stdout",
     "output_type": "stream",
     "text": [
      "man sub gov "
     ]
    }
   ],
   "source": [
    "d1={'man':25,'sub':20,'gov':15}\n",
    "for i in d1:\n",
    "    print(i,end=' ')"
   ]
  },
  {
   "cell_type": "code",
   "execution_count": 104,
   "id": "829eab7c-ee6f-467f-8f46-8d5b3a50c275",
   "metadata": {},
   "outputs": [
    {
     "ename": "KeyError",
     "evalue": "0",
     "output_type": "error",
     "traceback": [
      "\u001b[0;31m---------------------------------------------------------------------------\u001b[0m",
      "\u001b[0;31mKeyError\u001b[0m                                  Traceback (most recent call last)",
      "Cell \u001b[0;32mIn[104], line 2\u001b[0m\n\u001b[1;32m      1\u001b[0m d1\u001b[38;5;241m=\u001b[39m{\u001b[38;5;124m'\u001b[39m\u001b[38;5;124mman\u001b[39m\u001b[38;5;124m'\u001b[39m:\u001b[38;5;241m25\u001b[39m,\u001b[38;5;124m'\u001b[39m\u001b[38;5;124msub\u001b[39m\u001b[38;5;124m'\u001b[39m:\u001b[38;5;241m20\u001b[39m,\u001b[38;5;124m'\u001b[39m\u001b[38;5;124mgov\u001b[39m\u001b[38;5;124m'\u001b[39m:\u001b[38;5;241m15\u001b[39m}\n\u001b[0;32m----> 2\u001b[0m d1[\u001b[38;5;241m0\u001b[39m]\n",
      "\u001b[0;31mKeyError\u001b[0m: 0"
     ]
    }
   ],
   "source": [
    "d1={'man':25,'sub':20,'gov':15}\n",
    "d1[0]"
   ]
  },
  {
   "cell_type": "code",
   "execution_count": 9,
   "id": "96de065f-6de2-440d-99e0-4f3ce5b3b090",
   "metadata": {},
   "outputs": [
    {
     "data": {
      "text/plain": [
       "25"
      ]
     },
     "execution_count": 9,
     "metadata": {},
     "output_type": "execute_result"
    }
   ],
   "source": [
    "d1={'man':25,'sub':20,'gov':15}\n",
    "d1['man'] \n",
    "# only key will be used in index\n",
    "# key is very important in index"
   ]
  },
  {
   "cell_type": "code",
   "execution_count": 5,
   "id": "62d0f658-7079-476d-b10f-3c5de9cbf22a",
   "metadata": {},
   "outputs": [
    {
     "ename": "KeyError",
     "evalue": "25",
     "output_type": "error",
     "traceback": [
      "\u001b[0;31m---------------------------------------------------------------------------\u001b[0m",
      "\u001b[0;31mKeyError\u001b[0m                                  Traceback (most recent call last)",
      "Cell \u001b[0;32mIn[5], line 1\u001b[0m\n\u001b[0;32m----> 1\u001b[0m d1[\u001b[38;5;241m25\u001b[39m]\n",
      "\u001b[0;31mKeyError\u001b[0m: 25"
     ]
    }
   ],
   "source": [
    "d1[25]"
   ]
  },
  {
   "cell_type": "code",
   "execution_count": 1,
   "id": "e414ba7d-b363-4ec2-8168-1140fa4c1874",
   "metadata": {},
   "outputs": [
    {
     "data": {
      "text/plain": [
       "3"
      ]
     },
     "execution_count": 1,
     "metadata": {},
     "output_type": "execute_result"
    }
   ],
   "source": [
    "d1={'man':25,'sub':20,'gov':15}\n",
    "len(d1)"
   ]
  },
  {
   "cell_type": "code",
   "execution_count": 11,
   "id": "04f976d2-716e-45da-994f-cbb6bd46fe4e",
   "metadata": {},
   "outputs": [
    {
     "data": {
      "text/plain": [
       "20"
      ]
     },
     "execution_count": 11,
     "metadata": {},
     "output_type": "execute_result"
    }
   ],
   "source": [
    "d1={'man':25,'sub':20,'gov':15}\n",
    "# dictionary is a key: value pair\n",
    "# we can not use index number directly\n",
    "# whenever you want to call a value, we will use key\n",
    "d1['sub']\n",
    "d1['man']\n",
    "d1['gov']\n",
    "\n",
    "d1[i]"
   ]
  },
  {
   "cell_type": "code",
   "execution_count": 17,
   "id": "324f4b2d-e7f2-4174-9c13-c43f880eaf49",
   "metadata": {},
   "outputs": [
    {
     "name": "stdout",
     "output_type": "stream",
     "text": [
      "man 25\n",
      "sub 20\n",
      "gov 15\n"
     ]
    }
   ],
   "source": [
    "for i in d1:\n",
    "    print(i,d1[i])"
   ]
  },
  {
   "cell_type": "code",
   "execution_count": 19,
   "id": "ea7159de-f068-4c7b-a2a0-53d7feb93f12",
   "metadata": {},
   "outputs": [
    {
     "name": "stdout",
     "output_type": "stream",
     "text": [
      "man has age 25\n",
      "sub has age 20\n",
      "gov has age 15\n"
     ]
    }
   ],
   "source": [
    "for i in d1:\n",
    "    print(f'{i} has age {d1[i]}')"
   ]
  },
  {
   "cell_type": "code",
   "execution_count": 21,
   "id": "27222d74-edce-4451-91e7-965f9626d911",
   "metadata": {},
   "outputs": [
    {
     "name": "stdout",
     "output_type": "stream",
     "text": [
      "Vignesh has age 20\n",
      "Mohit has age 25\n",
      "Nagesh has age 30\n"
     ]
    }
   ],
   "source": [
    "names=['Vignesh','Mohit','Nagesh']\n",
    "age=[20,25,30]\n",
    "for i,j in zip(names,age):\n",
    "    print(f'{i} has age {j}')"
   ]
  },
  {
   "cell_type": "markdown",
   "id": "a8cf0ff3-381b-4112-bb30-274313d510d1",
   "metadata": {},
   "source": [
    "**Dictionary to list**"
   ]
  },
  {
   "cell_type": "code",
   "execution_count": 25,
   "id": "98ed879d-a137-4dfa-9d96-6d6eaffbf2b9",
   "metadata": {},
   "outputs": [
    {
     "data": {
      "text/plain": [
       "['man', 'sub', 'gov']"
      ]
     },
     "execution_count": 25,
     "metadata": {},
     "output_type": "execute_result"
    }
   ],
   "source": [
    "d1={'man':25,'sub':20,'gov':15}\n",
    "d2=[]\n",
    "d3=[]\n",
    "for i in d1:\n",
    "    d2.append(i)\n",
    "    d3.append(d1[i])\n",
    "d2"
   ]
  },
  {
   "cell_type": "code",
   "execution_count": 27,
   "id": "5c690524-41b7-42c0-a3c8-fe5a7e9f986f",
   "metadata": {},
   "outputs": [
    {
     "data": {
      "text/plain": [
       "[25, 20, 15]"
      ]
     },
     "execution_count": 27,
     "metadata": {},
     "output_type": "execute_result"
    }
   ],
   "source": [
    "d3"
   ]
  },
  {
   "cell_type": "code",
   "execution_count": 30,
   "id": "9b254e48-d06e-4ec6-bb61-5d29a66d1366",
   "metadata": {},
   "outputs": [],
   "source": [
    "keys=[i for i in d1]\n",
    "values=[d1[i] for i in d1]"
   ]
  },
  {
   "cell_type": "markdown",
   "id": "7d55daff-7f7f-4e32-9367-e5e374fbbbef",
   "metadata": {},
   "source": [
    "**How to create a empty list**"
   ]
  },
  {
   "cell_type": "code",
   "execution_count": 33,
   "id": "07d9b746-6219-4040-bdf7-4281e323c2f2",
   "metadata": {},
   "outputs": [
    {
     "data": {
      "text/plain": [
       "[20]"
      ]
     },
     "execution_count": 33,
     "metadata": {},
     "output_type": "execute_result"
    }
   ],
   "source": [
    "l=[]\n",
    "l.append(20)\n",
    "l"
   ]
  },
  {
   "cell_type": "markdown",
   "id": "de0f9dbf-347f-4e60-847c-271991b808ea",
   "metadata": {},
   "source": [
    "**empty string**"
   ]
  },
  {
   "cell_type": "code",
   "execution_count": 40,
   "id": "2b37f4c8-d2cb-4e92-99ba-f007c3f87168",
   "metadata": {},
   "outputs": [
    {
     "data": {
      "text/plain": [
       "'a'"
      ]
     },
     "execution_count": 40,
     "metadata": {},
     "output_type": "execute_result"
    }
   ],
   "source": [
    "s=''\n",
    "s=s+'a'\n",
    "s"
   ]
  },
  {
   "cell_type": "markdown",
   "id": "d3936b00-4d6c-4272-a959-313b06f3766b",
   "metadata": {},
   "source": [
    "**empty dictonary**"
   ]
  },
  {
   "cell_type": "code",
   "execution_count": 43,
   "id": "16b7de6d-191d-410f-a314-0ec3deab0da6",
   "metadata": {},
   "outputs": [],
   "source": [
    "d={}\n",
    "# d[<key>]=<value>\n",
    "d['tejesh']=20\n"
   ]
  },
  {
   "cell_type": "code",
   "execution_count": 45,
   "id": "8b595df6-82ee-4a54-b11c-294f15a0dc6b",
   "metadata": {},
   "outputs": [
    {
     "data": {
      "text/plain": [
       "{'tejesh': 20}"
      ]
     },
     "execution_count": 45,
     "metadata": {},
     "output_type": "execute_result"
    }
   ],
   "source": [
    "d"
   ]
  },
  {
   "cell_type": "code",
   "execution_count": 53,
   "id": "da5f4eed-6693-4e3e-be9f-5e6276ff0533",
   "metadata": {},
   "outputs": [
    {
     "data": {
      "text/plain": [
       "{'Vignesh': 20, 'Mohit': 25, 'Nagesh': 30}"
      ]
     },
     "execution_count": 53,
     "metadata": {},
     "output_type": "execute_result"
    }
   ],
   "source": [
    "names=['Vignesh','Mohit','Nagesh']\n",
    "age=[20,25,30]\n",
    "d={}\n",
    "for i,j in zip(names,age):\n",
    "    d[i]=j\n",
    "d"
   ]
  },
  {
   "cell_type": "markdown",
   "id": "fd815584-a3b9-4302-8735-fefffb240e11",
   "metadata": {},
   "source": [
    "**string to list**"
   ]
  },
  {
   "cell_type": "code",
   "execution_count": 56,
   "id": "3ed9061e-c189-4bcb-a33b-e990ff0856bf",
   "metadata": {},
   "outputs": [
    {
     "data": {
      "text/plain": [
       "['hello', 'how', 'are', 'you']"
      ]
     },
     "execution_count": 56,
     "metadata": {},
     "output_type": "execute_result"
    }
   ],
   "source": [
    "s='hello how are you'\n",
    "s1=s.split()\n",
    "s1"
   ]
  },
  {
   "cell_type": "markdown",
   "id": "10d6d9c0-c55e-4045-b0bd-a625d3cfd427",
   "metadata": {},
   "source": [
    "**word frequency**"
   ]
  },
  {
   "cell_type": "code",
   "execution_count": 58,
   "id": "b9643844-9ae8-4d4c-adb2-a397a7acb1ff",
   "metadata": {},
   "outputs": [
    {
     "data": {
      "text/plain": [
       "['hello', 'hai', 'hai', 'how', 'how', 'are', 'you']"
      ]
     },
     "execution_count": 58,
     "metadata": {},
     "output_type": "execute_result"
    }
   ],
   "source": [
    "s='hello hai hai how how are you'\n",
    "s1=s.split()\n",
    "s1"
   ]
  },
  {
   "cell_type": "code",
   "execution_count": 63,
   "id": "8776dbe5-74ca-451a-84a1-cc876bbf3949",
   "metadata": {},
   "outputs": [
    {
     "data": {
      "text/plain": [
       "{'hello': 1, 'hai': 2, 'how': 2, 'are': 1, 'you': 1}"
      ]
     },
     "execution_count": 63,
     "metadata": {},
     "output_type": "execute_result"
    }
   ],
   "source": [
    "s='hello hai hai how how are you'\n",
    "words=s.split()\n",
    "dic={}\n",
    "# o/p:{'hello':1,'hai:2',...}\n",
    "for word in words:\n",
    "    dic[word]=s.count(word)\n",
    "dic  "
   ]
  },
  {
   "cell_type": "code",
   "execution_count": null,
   "id": "8e83d4d9-9287-4f58-a413-a508db5c29e6",
   "metadata": {},
   "outputs": [],
   "source": [
    "# task-1: in above sentence you need to remove a, an, the\n",
    "# task-2: data science "
   ]
  },
  {
   "cell_type": "code",
   "execution_count": 65,
   "id": "ae2b3cd7-f6dc-494b-b6d3-9922cec564b6",
   "metadata": {},
   "outputs": [],
   "source": [
    "string1=\"\"\"Data science is an interdisciplinary academic field that uses statistics, \n",
    "          scientific computing, scientific methods, processes, scientific visualization, \n",
    "          algorithms and systems to extract or extrapolate knowledge and insights from potentially noisy, structured, or unstructured data.\n",
    "         Data science also integrates domain knowledge from the underlying applicatin.Data science is multifaceted and can be described as a science, \n",
    "         a research paradigm, a research method, a discipline, a workflow, and a profession.\"\"\"\n",
    "\n",
    "# task -1: in the above sentence you need to remove a,an,is,the\n",
    "# task-2: Data first letter Ascii value: 68\n",
    "#         scince first letter Ascii value : 115\n",
    "# {'Data science':68,'science':115}"
   ]
  },
  {
   "cell_type": "markdown",
   "id": "a9a2da4b-d081-4d1d-af7a-ada319d28a29",
   "metadata": {},
   "source": [
    "**Mutable-immutable**\n",
    "\n",
    "- change the element using index\n",
    "\n",
    "- but in dictinoary there is no index\n",
    "\n",
    "- in dictionary we will change the value based on key only\n",
    "\n",
    "- instend of using the index, change the value using key\n",
    "\n",
    "- if it is change it is mutable\n",
    "\n",
    "- if it is not change it is mutable"
   ]
  },
  {
   "cell_type": "code",
   "execution_count": 73,
   "id": "05054355-9d85-41e4-82b1-0b46e6ab06dc",
   "metadata": {},
   "outputs": [
    {
     "data": {
      "text/plain": [
       "{'man': 25, 'sub': 20, 'gov': 30}"
      ]
     },
     "execution_count": 73,
     "metadata": {},
     "output_type": "execute_result"
    }
   ],
   "source": [
    "d1={'man':25,'sub':20,'gov':15}\n",
    "d1['gov']=30\n",
    "d1"
   ]
  },
  {
   "cell_type": "markdown",
   "id": "6cbd52b3-80a1-41c8-9ad2-7f5f1a76815d",
   "metadata": {},
   "source": [
    "- list and dictionary are mutable\n",
    "\n",
    "- tuple and string are immutable\n",
    "\n",
    "- difference between list and tuple"
   ]
  },
  {
   "cell_type": "code",
   "execution_count": 82,
   "id": "853ef69a-b70d-4841-bd52-7e8b0be1718e",
   "metadata": {},
   "outputs": [
    {
     "data": {
      "text/plain": [
       "'Mango'"
      ]
     },
     "execution_count": 82,
     "metadata": {},
     "output_type": "execute_result"
    }
   ],
   "source": [
    "d={'Fruites':['Mango']}\n",
    "d['Fruites'][0]"
   ]
  },
  {
   "cell_type": "code",
   "execution_count": 96,
   "id": "a6544332-df8b-4539-a3a9-261c5bcf136c",
   "metadata": {},
   "outputs": [
    {
     "data": {
      "text/plain": [
       "'Kashmir'"
      ]
     },
     "execution_count": 96,
     "metadata": {},
     "output_type": "execute_result"
    }
   ],
   "source": [
    "d={'Fruites':[{'Apple':['Kashmir']}]}\n",
    "d['Fruites'][0]['Apple'][0]"
   ]
  },
  {
   "cell_type": "code",
   "execution_count": 6,
   "id": "22e4a1ae-06a5-4284-b695-19af3a26026e",
   "metadata": {},
   "outputs": [
    {
     "data": {
      "text/plain": [
       "'India'"
      ]
     },
     "execution_count": 6,
     "metadata": {},
     "output_type": "execute_result"
    }
   ],
   "source": [
    "d={'Fruites':[{'Apple':{'Kashmir':['India']}}]}\n",
    "d['Fruites'][0]['Apple']['Kashmir'][0]"
   ]
  },
  {
   "cell_type": "code",
   "execution_count": 13,
   "id": "63eca8c0-602c-40b7-9a3b-2b735332cf1c",
   "metadata": {},
   "outputs": [
    {
     "data": {
      "text/plain": [
       "{'Shambaji'}"
      ]
     },
     "execution_count": 13,
     "metadata": {},
     "output_type": "execute_result"
    }
   ],
   "source": [
    "d={'Fruites':{'Benganapalli':{'Mango':{'Nagpur':{'MH':{'Shivaji':{'Shambaji'}}}}}}}\n",
    "d['Fruites']['Benganapalli']['Mango']['Nagpur']['MH']['Shivaji']"
   ]
  },
  {
   "cell_type": "markdown",
   "id": "4c52e165-866b-4a16-835f-3ee6e6370298",
   "metadata": {},
   "source": [
    "**Dictinory Methods**"
   ]
  },
  {
   "cell_type": "code",
   "execution_count": null,
   "id": "bd97954a-bc95-40b9-805c-4f8d7fe418eb",
   "metadata": {},
   "outputs": [],
   "source": [
    "dir('') # string methods\n",
    "dir([]) # list methods\n",
    "dir(()) # tuples methods\n",
    "dir({}) # dictonary methods"
   ]
  },
  {
   "cell_type": "code",
   "execution_count": 9,
   "id": "27521322-912b-4bad-a8ab-881cd8ee21e0",
   "metadata": {},
   "outputs": [
    {
     "data": {
      "text/plain": [
       "['__class__',\n",
       " '__class_getitem__',\n",
       " '__contains__',\n",
       " '__delattr__',\n",
       " '__delitem__',\n",
       " '__dir__',\n",
       " '__doc__',\n",
       " '__eq__',\n",
       " '__format__',\n",
       " '__ge__',\n",
       " '__getattribute__',\n",
       " '__getitem__',\n",
       " '__getstate__',\n",
       " '__gt__',\n",
       " '__hash__',\n",
       " '__init__',\n",
       " '__init_subclass__',\n",
       " '__ior__',\n",
       " '__iter__',\n",
       " '__le__',\n",
       " '__len__',\n",
       " '__lt__',\n",
       " '__ne__',\n",
       " '__new__',\n",
       " '__or__',\n",
       " '__reduce__',\n",
       " '__reduce_ex__',\n",
       " '__repr__',\n",
       " '__reversed__',\n",
       " '__ror__',\n",
       " '__setattr__',\n",
       " '__setitem__',\n",
       " '__sizeof__',\n",
       " '__str__',\n",
       " '__subclasshook__',\n",
       " 'clear',\n",
       " 'copy',\n",
       " 'fromkeys',\n",
       " 'get',\n",
       " 'items',\n",
       " 'keys',\n",
       " 'pop',\n",
       " 'popitem',\n",
       " 'setdefault',\n",
       " 'update',\n",
       " 'values']"
      ]
     },
     "execution_count": 9,
     "metadata": {},
     "output_type": "execute_result"
    }
   ],
   "source": [
    "dir({})"
   ]
  },
  {
   "cell_type": "markdown",
   "id": "97c781eb-da2e-4af1-9230-aee441a77cfe",
   "metadata": {},
   "source": [
    "- string, list, tuple, dictionary all are class objects"
   ]
  },
  {
   "cell_type": "code",
   "execution_count": 14,
   "id": "e84fa608-e4e7-4862-89a0-c47abc263ba8",
   "metadata": {},
   "outputs": [
    {
     "name": "stdout",
     "output_type": "stream",
     "text": [
      "<class 'dict'>\n"
     ]
    }
   ],
   "source": [
    "print(type({}))"
   ]
  },
  {
   "cell_type": "markdown",
   "id": "09a71068-82ff-4ed0-80a6-8681d6a4155a",
   "metadata": {},
   "source": [
    "**items-keys-values**"
   ]
  },
  {
   "cell_type": "code",
   "execution_count": 17,
   "id": "837a03b8-0777-4a5f-85d3-6350f944cc30",
   "metadata": {},
   "outputs": [
    {
     "data": {
      "text/plain": [
       "{'Vignesh': 20, 'Mohit': 25, 'Nagesh': 30}"
      ]
     },
     "execution_count": 17,
     "metadata": {},
     "output_type": "execute_result"
    }
   ],
   "source": [
    "d={'Vignesh': 20, 'Mohit': 25, 'Nagesh': 30}\n",
    "d"
   ]
  },
  {
   "cell_type": "code",
   "execution_count": 19,
   "id": "6c26b2ce-d0fd-4098-851c-67f9e786ed2f",
   "metadata": {},
   "outputs": [
    {
     "data": {
      "text/plain": [
       "dict_items([('Vignesh', 20), ('Mohit', 25), ('Nagesh', 30)])"
      ]
     },
     "execution_count": 19,
     "metadata": {},
     "output_type": "execute_result"
    }
   ],
   "source": [
    "d.items()"
   ]
  },
  {
   "cell_type": "code",
   "execution_count": 21,
   "id": "c344cd3c-7cb8-4646-897d-01039027b8c9",
   "metadata": {},
   "outputs": [
    {
     "data": {
      "text/plain": [
       "dict_keys(['Vignesh', 'Mohit', 'Nagesh'])"
      ]
     },
     "execution_count": 21,
     "metadata": {},
     "output_type": "execute_result"
    }
   ],
   "source": [
    "d.keys()"
   ]
  },
  {
   "cell_type": "code",
   "execution_count": 23,
   "id": "e6a97e8c-294e-4df4-b00e-d40ba7e1eee9",
   "metadata": {},
   "outputs": [
    {
     "data": {
      "text/plain": [
       "dict_values([20, 25, 30])"
      ]
     },
     "execution_count": 23,
     "metadata": {},
     "output_type": "execute_result"
    }
   ],
   "source": [
    "d.values()"
   ]
  },
  {
   "cell_type": "code",
   "execution_count": 33,
   "id": "69152db6-aa8b-48ff-a0ad-c6269b912d02",
   "metadata": {},
   "outputs": [
    {
     "data": {
      "text/plain": [
       "(['Vignesh', 'Mohit', 'Nagesh'], [20, 25, 30])"
      ]
     },
     "execution_count": 33,
     "metadata": {},
     "output_type": "execute_result"
    }
   ],
   "source": [
    "# we already learn how to make list from dict\n",
    "\n",
    "d={'Vignesh': 20, 'Mohit': 25, 'Nagesh': 30}\n",
    "keys,values=[],[]\n",
    "for i in d:\n",
    "    keys.append(i)\n",
    "    values.append(d[i])\n",
    "keys,values"
   ]
  },
  {
   "cell_type": "code",
   "execution_count": 27,
   "id": "187c7056-99e6-4216-ab35-732f98b9b721",
   "metadata": {},
   "outputs": [
    {
     "data": {
      "text/plain": [
       "['Vignesh', 'Mohit', 'Nagesh']"
      ]
     },
     "execution_count": 27,
     "metadata": {},
     "output_type": "execute_result"
    }
   ],
   "source": [
    "keys"
   ]
  },
  {
   "cell_type": "code",
   "execution_count": 29,
   "id": "f0e81aa5-d27c-4442-9eaf-3246023c9bbd",
   "metadata": {},
   "outputs": [
    {
     "data": {
      "text/plain": [
       "[20, 25, 30]"
      ]
     },
     "execution_count": 29,
     "metadata": {},
     "output_type": "execute_result"
    }
   ],
   "source": [
    "values"
   ]
  },
  {
   "cell_type": "code",
   "execution_count": 31,
   "id": "06079a15-d4ae-49c2-94ac-4d945f2c6efe",
   "metadata": {},
   "outputs": [
    {
     "name": "stdout",
     "output_type": "stream",
     "text": [
      "['Vignesh', 'Mohit', 'Nagesh'] [20, 25, 30]\n"
     ]
    }
   ],
   "source": [
    "print(keys,values)"
   ]
  },
  {
   "cell_type": "code",
   "execution_count": 35,
   "id": "84a1fea4-47ba-4bc5-92b4-bd99154e516a",
   "metadata": {},
   "outputs": [
    {
     "data": {
      "text/plain": [
       "(['Vignesh', 'Mohit', 'Nagesh'], [20, 25, 30])"
      ]
     },
     "execution_count": 35,
     "metadata": {},
     "output_type": "execute_result"
    }
   ],
   "source": [
    "list(d.keys()),list(d.values())"
   ]
  },
  {
   "cell_type": "code",
   "execution_count": 37,
   "id": "4a4e1b4f-fce0-4f16-b078-a1e77abe423d",
   "metadata": {},
   "outputs": [
    {
     "data": {
      "text/plain": [
       "(['Fruites'], [[{'Apple': {'Kashmir': ['India']}}]])"
      ]
     },
     "execution_count": 37,
     "metadata": {},
     "output_type": "execute_result"
    }
   ],
   "source": [
    "d={'Fruites':[{'Apple':{'Kashmir':['India']}}]}\n",
    "list(d.keys()),list(d.values())"
   ]
  },
  {
   "cell_type": "markdown",
   "id": "063ea740-e1d4-4f5c-bae2-3aa614daf8c1",
   "metadata": {},
   "source": [
    "- dictionary keys will give dictionary keys items in a list\n",
    "\n",
    "- it looks like a list, but it is not a list\n",
    "\n",
    "- which means we can not apply list methods\n",
    "\n",
    "- so we need to convert into list type, by using list type casting"
   ]
  },
  {
   "cell_type": "markdown",
   "id": "39ecf1fb-646a-4820-b468-b4e33a8c68c1",
   "metadata": {},
   "source": [
    "**Method-1**"
   ]
  },
  {
   "cell_type": "code",
   "execution_count": 44,
   "id": "a1fbadc9-d2e6-4320-80b6-e5e0531ad565",
   "metadata": {},
   "outputs": [
    {
     "data": {
      "text/plain": [
       "(['Vignesh', 'Mohit', 'Nagesh'], [20, 25, 30])"
      ]
     },
     "execution_count": 44,
     "metadata": {},
     "output_type": "execute_result"
    }
   ],
   "source": [
    "d={'Vignesh': 20, 'Mohit': 25, 'Nagesh': 30}\n",
    "keys,values=[],[]\n",
    "for i in d:\n",
    "    keys.append(i)\n",
    "    values.append(d[i])\n",
    "keys,values"
   ]
  },
  {
   "cell_type": "markdown",
   "id": "cf7f5f50-62ff-420c-9ec3-21b044be2368",
   "metadata": {},
   "source": [
    "**Method-2**"
   ]
  },
  {
   "cell_type": "code",
   "execution_count": 59,
   "id": "c26c3105-6a38-476c-b570-a2629bfe28db",
   "metadata": {},
   "outputs": [
    {
     "data": {
      "text/plain": [
       "(['Vignesh', 'Mohit', 'Nagesh'], [20, 25, 30])"
      ]
     },
     "execution_count": 59,
     "metadata": {},
     "output_type": "execute_result"
    }
   ],
   "source": [
    "d={'Vignesh': 20, 'Mohit': 25, 'Nagesh': 30}\n",
    "keys=list(d.keys())\n",
    "values=list(d.values())\n",
    "keys,values"
   ]
  },
  {
   "cell_type": "markdown",
   "id": "8b81528b-0b20-4a50-b73e-05f865f8fac7",
   "metadata": {},
   "source": [
    "**Method-3**"
   ]
  },
  {
   "cell_type": "code",
   "execution_count": 51,
   "id": "c0b24f67-95c0-49ad-b298-20e7f597b4df",
   "metadata": {},
   "outputs": [
    {
     "data": {
      "text/plain": [
       "dict_items([('Vignesh', 20), ('Mohit', 25), ('Nagesh', 30)])"
      ]
     },
     "execution_count": 51,
     "metadata": {},
     "output_type": "execute_result"
    }
   ],
   "source": [
    "d.items()"
   ]
  },
  {
   "cell_type": "code",
   "execution_count": 57,
   "id": "ee79507a-d264-4e83-b63f-ce6cd454570f",
   "metadata": {},
   "outputs": [
    {
     "data": {
      "text/plain": [
       "(['Vignesh', 'Mohit', 'Nagesh'], [20, 25, 30])"
      ]
     },
     "execution_count": 57,
     "metadata": {},
     "output_type": "execute_result"
    }
   ],
   "source": [
    "keys,values=[],[]\n",
    "for i,j in d.items():\n",
    "    keys.append(i)\n",
    "    values.append(j)\n",
    "keys,values"
   ]
  },
  {
   "cell_type": "code",
   "execution_count": null,
   "id": "d3ce4557-418b-4a53-8efa-e2b54a0f686c",
   "metadata": {},
   "outputs": [],
   "source": [
    "a=10,20   # works\n",
    "a,b=10,20 # works\n",
    "a,b=10    # fails"
   ]
  },
  {
   "cell_type": "code",
   "execution_count": 62,
   "id": "95eaac4d-8e6d-4f0b-a61f-ee0fe394485a",
   "metadata": {},
   "outputs": [],
   "source": [
    "#assignment"
   ]
  },
  {
   "cell_type": "code",
   "execution_count": null,
   "id": "ba7434df-c2e9-4a6e-b620-d167930a214f",
   "metadata": {},
   "outputs": [],
   "source": []
  }
 ],
 "metadata": {
  "kernelspec": {
   "display_name": "Python 3 (ipykernel)",
   "language": "python",
   "name": "python3"
  },
  "language_info": {
   "codemirror_mode": {
    "name": "ipython",
    "version": 3
   },
   "file_extension": ".py",
   "mimetype": "text/x-python",
   "name": "python",
   "nbconvert_exporter": "python",
   "pygments_lexer": "ipython3",
   "version": "3.11.7"
  }
 },
 "nbformat": 4,
 "nbformat_minor": 5
}
