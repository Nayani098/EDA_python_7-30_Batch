{
 "cells": [
  {
   "cell_type": "code",
   "execution_count": 1,
   "id": "0ed43c4a-fe69-4359-8c2b-7507958d2784",
   "metadata": {},
   "outputs": [],
   "source": [
    "true=True"
   ]
  },
  {
   "cell_type": "code",
   "execution_count": 3,
   "id": "678f4db9-044b-4345-be1d-61d15451aaff",
   "metadata": {},
   "outputs": [
    {
     "data": {
      "text/plain": [
       "True"
      ]
     },
     "execution_count": 3,
     "metadata": {},
     "output_type": "execute_result"
    }
   ],
   "source": [
    "true"
   ]
  },
  {
   "cell_type": "code",
   "execution_count": 5,
   "id": "f4118dcf-cd12-4cb1-acaa-bcb23ad5a03c",
   "metadata": {},
   "outputs": [
    {
     "data": {
      "text/plain": [
       "bool"
      ]
     },
     "execution_count": 5,
     "metadata": {},
     "output_type": "execute_result"
    }
   ],
   "source": [
    "type(true)"
   ]
  },
  {
   "cell_type": "markdown",
   "id": "ed77bee9-768f-48bc-8509-24bbcc9ce919",
   "metadata": {},
   "source": [
    "- intger data type int\n",
    "\n",
    "- float data type  float\n",
    "\n",
    "- string data type str\n",
    "\n",
    "- boolean data type bool"
   ]
  },
  {
   "cell_type": "markdown",
   "id": "dc8e608a-c344-4a7a-a8cb-fa92fe28959e",
   "metadata": {},
   "source": [
    "**Type Casting**\n",
    "\n",
    "- convert one data type to another data type is called as type casting\n",
    "\n",
    "- which means we want to convert\n",
    "\n",
    "- integer type to all other(float,str,bool) data types\n",
    "  \n",
    "- float type to all other (int,str,bool)data types\n",
    "\n",
    "- str type to all other (int,float,bool) data types\n",
    "\n",
    "- bool type to all other(int,str,float) data types"
   ]
  },
  {
   "cell_type": "markdown",
   "id": "180d2083-0ada-4dd2-a33b-eec02e171c8d",
   "metadata": {},
   "source": [
    "$int-float$"
   ]
  },
  {
   "cell_type": "code",
   "execution_count": 12,
   "id": "2d08a1b8-8a52-4d8b-9963-18fcad89448a",
   "metadata": {},
   "outputs": [
    {
     "data": {
      "text/plain": [
       "int"
      ]
     },
     "execution_count": 12,
     "metadata": {},
     "output_type": "execute_result"
    }
   ],
   "source": [
    "num=100\n",
    "type(num)"
   ]
  },
  {
   "cell_type": "code",
   "execution_count": 14,
   "id": "0b3e8bbd-8b1d-443f-b55a-229770113fc4",
   "metadata": {},
   "outputs": [
    {
     "data": {
      "text/plain": [
       "float"
      ]
     },
     "execution_count": 14,
     "metadata": {},
     "output_type": "execute_result"
    }
   ],
   "source": [
    "float_num=float(num)\n",
    "type(float_num)"
   ]
  },
  {
   "cell_type": "code",
   "execution_count": 16,
   "id": "abbf5ad5-56d5-4cd1-ade2-8c8186344a02",
   "metadata": {},
   "outputs": [
    {
     "data": {
      "text/plain": [
       "'100'"
      ]
     },
     "execution_count": 16,
     "metadata": {},
     "output_type": "execute_result"
    }
   ],
   "source": [
    "str_num=str(num)\n",
    "str_num"
   ]
  },
  {
   "cell_type": "code",
   "execution_count": 18,
   "id": "33581f0a-44b4-4056-9b67-fe398fa58bd7",
   "metadata": {},
   "outputs": [
    {
     "data": {
      "text/plain": [
       "True"
      ]
     },
     "execution_count": 18,
     "metadata": {},
     "output_type": "execute_result"
    }
   ],
   "source": [
    "bool_num=bool(num)\n",
    "bool_num"
   ]
  },
  {
   "cell_type": "code",
   "execution_count": 20,
   "id": "81e540d5-3e24-4d7c-b9c1-3e5c9aa16373",
   "metadata": {},
   "outputs": [
    {
     "data": {
      "text/plain": [
       "(200.0, '200', True)"
      ]
     },
     "execution_count": 20,
     "metadata": {},
     "output_type": "execute_result"
    }
   ],
   "source": [
    "float(200),str(200),bool(200)"
   ]
  },
  {
   "cell_type": "code",
   "execution_count": 22,
   "id": "4a112c0c-9499-45b1-a8bd-2be9cf9ac922",
   "metadata": {},
   "outputs": [
    {
     "data": {
      "text/plain": [
       "(-200.0, '-200', True)"
      ]
     },
     "execution_count": 22,
     "metadata": {},
     "output_type": "execute_result"
    }
   ],
   "source": [
    "float(-200),str(-200),bool(-200)"
   ]
  },
  {
   "cell_type": "code",
   "execution_count": 29,
   "id": "bedfcd6b-8c8b-4c9d-acad-a1285a59201c",
   "metadata": {},
   "outputs": [
    {
     "data": {
      "text/plain": [
       "False"
      ]
     },
     "execution_count": 29,
     "metadata": {},
     "output_type": "execute_result"
    }
   ],
   "source": [
    "# when integer of boolen converstion becomes False\n",
    "bool(0)"
   ]
  },
  {
   "cell_type": "markdown",
   "id": "e399e6ed-b11c-41a7-bb79-f395f55e328f",
   "metadata": {},
   "source": [
    "**Note**\n",
    "\n",
    "- integer =0 then only boolen will be False\n",
    "\n",
    "- otherwise for any positive number or any negtive number it become True"
   ]
  },
  {
   "cell_type": "markdown",
   "id": "5771dda4-75d7-4552-bc50-72511c9c930a",
   "metadata": {},
   "source": [
    "**Float to another type**"
   ]
  },
  {
   "cell_type": "code",
   "execution_count": 38,
   "id": "cbad94a9-0fe4-43de-90f3-3a9b5a867be1",
   "metadata": {},
   "outputs": [
    {
     "data": {
      "text/plain": [
       "(200, '200.5', True)"
      ]
     },
     "execution_count": 38,
     "metadata": {},
     "output_type": "execute_result"
    }
   ],
   "source": [
    "int(200.5),str(200.5),bool(200.5)"
   ]
  },
  {
   "cell_type": "code",
   "execution_count": 40,
   "id": "a34da242-fc19-483f-b152-71659aa98ed7",
   "metadata": {},
   "outputs": [
    {
     "data": {
      "text/plain": [
       "(200, '200.5', False)"
      ]
     },
     "execution_count": 40,
     "metadata": {},
     "output_type": "execute_result"
    }
   ],
   "source": [
    "int(200.5),str(200.5),bool(0.0)"
   ]
  },
  {
   "cell_type": "code",
   "execution_count": null,
   "id": "c78f9e94-05de-43c4-92ad-991d123326db",
   "metadata": {},
   "outputs": [],
   "source": [
    "#case1\n",
    "str='apple'\n",
    "#case2\n",
    "str='10'\n",
    "#case3\n",
    "str='10.5'"
   ]
  },
  {
   "cell_type": "code",
   "execution_count": 44,
   "id": "f6cb0f92-18a8-4140-9240-a3ab280f04c4",
   "metadata": {},
   "outputs": [
    {
     "ename": "ValueError",
     "evalue": "invalid literal for int() with base 10: 'apple'",
     "output_type": "error",
     "traceback": [
      "\u001b[0;31m---------------------------------------------------------------------------\u001b[0m",
      "\u001b[0;31mValueError\u001b[0m                                Traceback (most recent call last)",
      "Cell \u001b[0;32mIn[44], line 1\u001b[0m\n\u001b[0;32m----> 1\u001b[0m \u001b[38;5;28mint\u001b[39m(\u001b[38;5;124m'\u001b[39m\u001b[38;5;124mapple\u001b[39m\u001b[38;5;124m'\u001b[39m)\n",
      "\u001b[0;31mValueError\u001b[0m: invalid literal for int() with base 10: 'apple'"
     ]
    }
   ],
   "source": [
    "int('apple')"
   ]
  },
  {
   "cell_type": "code",
   "execution_count": 50,
   "id": "0005cc29-e037-471d-834e-411f44034b60",
   "metadata": {},
   "outputs": [
    {
     "ename": "ValueError",
     "evalue": "could not convert string to float: 'apple'",
     "output_type": "error",
     "traceback": [
      "\u001b[0;31m---------------------------------------------------------------------------\u001b[0m",
      "\u001b[0;31mValueError\u001b[0m                                Traceback (most recent call last)",
      "Cell \u001b[0;32mIn[50], line 1\u001b[0m\n\u001b[0;32m----> 1\u001b[0m \u001b[38;5;28mfloat\u001b[39m(\u001b[38;5;124m'\u001b[39m\u001b[38;5;124mapple\u001b[39m\u001b[38;5;124m'\u001b[39m)\n",
      "\u001b[0;31mValueError\u001b[0m: could not convert string to float: 'apple'"
     ]
    }
   ],
   "source": [
    "float('apple')"
   ]
  },
  {
   "cell_type": "code",
   "execution_count": null,
   "id": "0750074e-edc4-4f62-b1e7-faa7e6a1d7f2",
   "metadata": {},
   "outputs": [],
   "source": [
    "int('10')# pass\n",
    "int('10.5')#fail\n",
    "float('10')#pass\n",
    "float('10.5')#pass"
   ]
  },
  {
   "cell_type": "code",
   "execution_count": 48,
   "id": "c7685d18-3ce7-4739-aeef-120811a09f20",
   "metadata": {},
   "outputs": [
    {
     "data": {
      "text/plain": [
       "True"
      ]
     },
     "execution_count": 48,
     "metadata": {},
     "output_type": "execute_result"
    }
   ],
   "source": [
    "bool('apple')"
   ]
  },
  {
   "cell_type": "code",
   "execution_count": 52,
   "id": "71aa588b-87d9-47d2-8bc9-e3f8b9459872",
   "metadata": {},
   "outputs": [
    {
     "data": {
      "text/plain": [
       "10"
      ]
     },
     "execution_count": 52,
     "metadata": {},
     "output_type": "execute_result"
    }
   ],
   "source": [
    "int('10')"
   ]
  },
  {
   "cell_type": "code",
   "execution_count": 54,
   "id": "77085837-580b-4a15-aed1-b423f29a3a93",
   "metadata": {},
   "outputs": [
    {
     "data": {
      "text/plain": [
       "10.0"
      ]
     },
     "execution_count": 54,
     "metadata": {},
     "output_type": "execute_result"
    }
   ],
   "source": [
    "float('10')"
   ]
  },
  {
   "cell_type": "code",
   "execution_count": 58,
   "id": "681788a2-21e7-4806-95c3-67f3baa35816",
   "metadata": {},
   "outputs": [
    {
     "data": {
      "text/plain": [
       "True"
      ]
     },
     "execution_count": 58,
     "metadata": {},
     "output_type": "execute_result"
    }
   ],
   "source": [
    "bool('10')"
   ]
  },
  {
   "cell_type": "markdown",
   "id": "69891884-d0cf-4a0a-812c-ca49df2a8295",
   "metadata": {},
   "source": [
    "- float is the boss\n",
    "\n",
    "- float of any value either it is integer in string format\n",
    "\n",
    "- or float in strings format will works\n",
    "\n",
    "- but integer will works only for integer in strings format\n",
    "\n",
    "- integer type casting will fail for float in string format"
   ]
  },
  {
   "cell_type": "code",
   "execution_count": 63,
   "id": "0be6f813-24ff-4b61-bd99-88d3b3c71882",
   "metadata": {},
   "outputs": [
    {
     "data": {
      "text/plain": [
       "True"
      ]
     },
     "execution_count": 63,
     "metadata": {},
     "output_type": "execute_result"
    }
   ],
   "source": [
    "bool('0')"
   ]
  },
  {
   "cell_type": "code",
   "execution_count": 65,
   "id": "d933c0fb-6d59-42ae-a3b1-bad2aee614dd",
   "metadata": {},
   "outputs": [
    {
     "data": {
      "text/plain": [
       "False"
      ]
     },
     "execution_count": 65,
     "metadata": {},
     "output_type": "execute_result"
    }
   ],
   "source": [
    "bool(0)"
   ]
  },
  {
   "cell_type": "code",
   "execution_count": 82,
   "id": "a53df04b-cf06-46e7-a122-7a7d050f056b",
   "metadata": {},
   "outputs": [
    {
     "data": {
      "text/plain": [
       "False"
      ]
     },
     "execution_count": 82,
     "metadata": {},
     "output_type": "execute_result"
    }
   ],
   "source": [
    "bool('')"
   ]
  },
  {
   "cell_type": "markdown",
   "id": "d17c60c7-c86b-44e2-a39b-4e8e5fb23b25",
   "metadata": {},
   "source": [
    "- empty string of boolen give false\n",
    "\n",
    "- flase means nothing either 0 or empty string"
   ]
  },
  {
   "cell_type": "code",
   "execution_count": 68,
   "id": "f53d84ac-25ce-4afe-9202-69ec7f76af78",
   "metadata": {},
   "outputs": [],
   "source": [
    "# boolean to other type"
   ]
  },
  {
   "cell_type": "code",
   "execution_count": 70,
   "id": "24b86620-0e66-4c7c-8de4-7273d5136e89",
   "metadata": {},
   "outputs": [
    {
     "data": {
      "text/plain": [
       "1"
      ]
     },
     "execution_count": 70,
     "metadata": {},
     "output_type": "execute_result"
    }
   ],
   "source": [
    "int(True)"
   ]
  },
  {
   "cell_type": "code",
   "execution_count": 72,
   "id": "dcb0a6d4-b05d-47e3-ac66-a413c9bd3ff2",
   "metadata": {},
   "outputs": [
    {
     "data": {
      "text/plain": [
       "1.0"
      ]
     },
     "execution_count": 72,
     "metadata": {},
     "output_type": "execute_result"
    }
   ],
   "source": [
    "float(True)"
   ]
  },
  {
   "cell_type": "code",
   "execution_count": 74,
   "id": "1f6790d6-5f09-4214-83fb-9af18b269270",
   "metadata": {},
   "outputs": [
    {
     "data": {
      "text/plain": [
       "'True'"
      ]
     },
     "execution_count": 74,
     "metadata": {},
     "output_type": "execute_result"
    }
   ],
   "source": [
    "str(True)"
   ]
  },
  {
   "cell_type": "code",
   "execution_count": 84,
   "id": "d4939266-c993-4ecd-8372-35fc2e46c8ab",
   "metadata": {},
   "outputs": [
    {
     "data": {
      "text/plain": [
       "0"
      ]
     },
     "execution_count": 84,
     "metadata": {},
     "output_type": "execute_result"
    }
   ],
   "source": [
    "int(False)"
   ]
  },
  {
   "cell_type": "code",
   "execution_count": 86,
   "id": "264fc4d9-1e77-4ffc-bc33-a4175b201a7d",
   "metadata": {},
   "outputs": [
    {
     "data": {
      "text/plain": [
       "0.0"
      ]
     },
     "execution_count": 86,
     "metadata": {},
     "output_type": "execute_result"
    }
   ],
   "source": [
    "float(False)"
   ]
  },
  {
   "cell_type": "code",
   "execution_count": 88,
   "id": "0827a37c-10fd-4cd0-9d72-cad59c04cb6c",
   "metadata": {},
   "outputs": [
    {
     "data": {
      "text/plain": [
       "'False'"
      ]
     },
     "execution_count": 88,
     "metadata": {},
     "output_type": "execute_result"
    }
   ],
   "source": [
    "str(False)"
   ]
  },
  {
   "cell_type": "code",
   "execution_count": 90,
   "id": "dd1783fe-1483-4f4e-873d-0776c1db75c2",
   "metadata": {},
   "outputs": [],
   "source": [
    "#integer to other type"
   ]
  },
  {
   "cell_type": "code",
   "execution_count": 92,
   "id": "c85291cb-a5a1-4046-a270-ddd3c8922a5d",
   "metadata": {},
   "outputs": [
    {
     "data": {
      "text/plain": [
       "'100'"
      ]
     },
     "execution_count": 92,
     "metadata": {},
     "output_type": "execute_result"
    }
   ],
   "source": [
    "str(100)"
   ]
  },
  {
   "cell_type": "code",
   "execution_count": 94,
   "id": "16d16b1b-2e8c-4929-b8ab-2112e0231a1c",
   "metadata": {},
   "outputs": [
    {
     "data": {
      "text/plain": [
       "100.0"
      ]
     },
     "execution_count": 94,
     "metadata": {},
     "output_type": "execute_result"
    }
   ],
   "source": [
    "float(100)"
   ]
  },
  {
   "cell_type": "code",
   "execution_count": 96,
   "id": "a7149e0a-aa59-4ef1-b59e-403624a52996",
   "metadata": {},
   "outputs": [
    {
     "data": {
      "text/plain": [
       "True"
      ]
     },
     "execution_count": 96,
     "metadata": {},
     "output_type": "execute_result"
    }
   ],
   "source": [
    "bool(100)"
   ]
  },
  {
   "cell_type": "code",
   "execution_count": 98,
   "id": "77be6d41-30e6-4ebc-9cf1-6dd318b4e452",
   "metadata": {},
   "outputs": [],
   "source": [
    "#float to other types"
   ]
  },
  {
   "cell_type": "code",
   "execution_count": 102,
   "id": "2804f957-f467-473b-bbf1-fd8009008ed1",
   "metadata": {},
   "outputs": [
    {
     "data": {
      "text/plain": [
       "'100.5'"
      ]
     },
     "execution_count": 102,
     "metadata": {},
     "output_type": "execute_result"
    }
   ],
   "source": [
    "str(100.5)"
   ]
  },
  {
   "cell_type": "code",
   "execution_count": 4,
   "id": "c06b8368-94f5-4c84-a945-59d0d7a929a5",
   "metadata": {},
   "outputs": [
    {
     "data": {
      "text/plain": [
       "100"
      ]
     },
     "execution_count": 4,
     "metadata": {},
     "output_type": "execute_result"
    }
   ],
   "source": [
    "int(100.5)"
   ]
  },
  {
   "cell_type": "code",
   "execution_count": 106,
   "id": "869f6978-efdc-44e6-87cb-635ca2ab2f8a",
   "metadata": {},
   "outputs": [
    {
     "data": {
      "text/plain": [
       "True"
      ]
     },
     "execution_count": 106,
     "metadata": {},
     "output_type": "execute_result"
    }
   ],
   "source": [
    "bool(100.5)"
   ]
  },
  {
   "cell_type": "code",
   "execution_count": 108,
   "id": "515f73f6-2e32-43ab-b665-5ca4c87985c7",
   "metadata": {},
   "outputs": [],
   "source": [
    "# str to other types"
   ]
  },
  {
   "cell_type": "code",
   "execution_count": 110,
   "id": "fe70bcbc-0d95-4007-9535-04f20e532844",
   "metadata": {},
   "outputs": [
    {
     "ename": "ValueError",
     "evalue": "invalid literal for int() with base 10: 'apple'",
     "output_type": "error",
     "traceback": [
      "\u001b[0;31m---------------------------------------------------------------------------\u001b[0m",
      "\u001b[0;31mValueError\u001b[0m                                Traceback (most recent call last)",
      "Cell \u001b[0;32mIn[110], line 1\u001b[0m\n\u001b[0;32m----> 1\u001b[0m \u001b[38;5;28mint\u001b[39m(\u001b[38;5;124m'\u001b[39m\u001b[38;5;124mapple\u001b[39m\u001b[38;5;124m'\u001b[39m)\n",
      "\u001b[0;31mValueError\u001b[0m: invalid literal for int() with base 10: 'apple'"
     ]
    }
   ],
   "source": [
    "int('apple')"
   ]
  },
  {
   "cell_type": "code",
   "execution_count": 122,
   "id": "7963542d-9637-490d-a45e-feeb60cfb324",
   "metadata": {},
   "outputs": [
    {
     "ename": "ValueError",
     "evalue": "could not convert string to float: 'apple'",
     "output_type": "error",
     "traceback": [
      "\u001b[0;31m---------------------------------------------------------------------------\u001b[0m",
      "\u001b[0;31mValueError\u001b[0m                                Traceback (most recent call last)",
      "Cell \u001b[0;32mIn[122], line 1\u001b[0m\n\u001b[0;32m----> 1\u001b[0m \u001b[38;5;28mfloat\u001b[39m(\u001b[38;5;124m'\u001b[39m\u001b[38;5;124mapple\u001b[39m\u001b[38;5;124m'\u001b[39m)\n",
      "\u001b[0;31mValueError\u001b[0m: could not convert string to float: 'apple'"
     ]
    }
   ],
   "source": [
    "float('apple')"
   ]
  },
  {
   "cell_type": "code",
   "execution_count": 114,
   "id": "376c44fa-62a5-44d9-93f0-70568aac3ff0",
   "metadata": {},
   "outputs": [
    {
     "data": {
      "text/plain": [
       "True"
      ]
     },
     "execution_count": 114,
     "metadata": {},
     "output_type": "execute_result"
    }
   ],
   "source": [
    "bool('apple')"
   ]
  },
  {
   "cell_type": "code",
   "execution_count": 25,
   "id": "fa361c81-eb8a-4136-8b3a-78468b09a5e0",
   "metadata": {},
   "outputs": [
    {
     "data": {
      "text/plain": [
       "False"
      ]
     },
     "execution_count": 25,
     "metadata": {},
     "output_type": "execute_result"
    }
   ],
   "source": [
    "bool('')"
   ]
  },
  {
   "cell_type": "code",
   "execution_count": 128,
   "id": "56612000-521e-4fa3-b2c9-a153a12b8fe7",
   "metadata": {},
   "outputs": [
    {
     "data": {
      "text/plain": [
       "True"
      ]
     },
     "execution_count": 128,
     "metadata": {},
     "output_type": "execute_result"
    }
   ],
   "source": [
    "bool('0')"
   ]
  },
  {
   "cell_type": "code",
   "execution_count": 130,
   "id": "fe67d6cd-0642-4ddc-bd46-7ea2491aa12c",
   "metadata": {},
   "outputs": [
    {
     "data": {
      "text/plain": [
       "False"
      ]
     },
     "execution_count": 130,
     "metadata": {},
     "output_type": "execute_result"
    }
   ],
   "source": [
    "bool(0)"
   ]
  },
  {
   "cell_type": "code",
   "execution_count": 116,
   "id": "b3415422-bcd8-4ca5-a2b8-2fff601d9690",
   "metadata": {},
   "outputs": [],
   "source": [
    "# bool to other types"
   ]
  },
  {
   "cell_type": "code",
   "execution_count": 118,
   "id": "7a95f856-ca26-4e3f-9c76-3a767f8ad013",
   "metadata": {},
   "outputs": [
    {
     "data": {
      "text/plain": [
       "1"
      ]
     },
     "execution_count": 118,
     "metadata": {},
     "output_type": "execute_result"
    }
   ],
   "source": [
    "int(True)"
   ]
  },
  {
   "cell_type": "code",
   "execution_count": 120,
   "id": "dd6d78eb-3b43-4138-8aa8-0e79a7fd8ebe",
   "metadata": {},
   "outputs": [
    {
     "data": {
      "text/plain": [
       "1.0"
      ]
     },
     "execution_count": 120,
     "metadata": {},
     "output_type": "execute_result"
    }
   ],
   "source": [
    "float(True)"
   ]
  },
  {
   "cell_type": "code",
   "execution_count": 124,
   "id": "3ebcd68e-9970-4ce1-bb34-c298c794c522",
   "metadata": {},
   "outputs": [
    {
     "data": {
      "text/plain": [
       "'True'"
      ]
     },
     "execution_count": 124,
     "metadata": {},
     "output_type": "execute_result"
    }
   ],
   "source": [
    "str(True)"
   ]
  },
  {
   "cell_type": "code",
   "execution_count": 3,
   "id": "649de6d4-8272-4962-abe3-c618e621dfbe",
   "metadata": {},
   "outputs": [
    {
     "data": {
      "text/plain": [
       "100.0"
      ]
     },
     "execution_count": 3,
     "metadata": {},
     "output_type": "execute_result"
    }
   ],
   "source": [
    "(100)"
   ]
  },
  {
   "cell_type": "code",
   "execution_count": 17,
   "id": "c5308d99-92e4-4d80-858f-df3b27b35a4e",
   "metadata": {},
   "outputs": [
    {
     "data": {
      "text/plain": [
       "100.5"
      ]
     },
     "execution_count": 17,
     "metadata": {},
     "output_type": "execute_result"
    }
   ],
   "source": []
  },
  {
   "cell_type": "code",
   "execution_count": null,
   "id": "197d956a-47b8-405c-a63f-0c09f3f8934e",
   "metadata": {},
   "outputs": [],
   "source": []
  }
 ],
 "metadata": {
  "kernelspec": {
   "display_name": "Python 3 (ipykernel)",
   "language": "python",
   "name": "python3"
  },
  "language_info": {
   "codemirror_mode": {
    "name": "ipython",
    "version": 3
   },
   "file_extension": ".py",
   "mimetype": "text/x-python",
   "name": "python",
   "nbconvert_exporter": "python",
   "pygments_lexer": "ipython3",
   "version": "3.11.7"
  }
 },
 "nbformat": 4,
 "nbformat_minor": 5
}
