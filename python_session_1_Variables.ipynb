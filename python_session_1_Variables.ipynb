{
 "cells": [
  {
   "cell_type": "markdown",
   "id": "7dc24fd8-a180-441a-85b5-4af4197f7407",
   "metadata": {},
   "source": [
    "## Variables\n",
    "\n",
    "- variables are used to store the values\n",
    "\n",
    "- and the values can be changed"
   ]
  },
  {
   "cell_type": "code",
   "execution_count": 11,
   "id": "ef34367b-5055-4fd2-993a-88f6e835492f",
   "metadata": {},
   "outputs": [
    {
     "data": {
      "text/plain": [
       "100"
      ]
     },
     "execution_count": 11,
     "metadata": {},
     "output_type": "execute_result"
    }
   ],
   "source": [
    "number=100 # value 100 stored in a variable name called 'number'\n",
    "number     #shift+enter"
   ]
  },
  {
   "cell_type": "code",
   "execution_count": 9,
   "id": "f71d78af-eb03-445b-bbcd-6625d6e12458",
   "metadata": {},
   "outputs": [
    {
     "data": {
      "text/plain": [
       "200"
      ]
     },
     "execution_count": 9,
     "metadata": {},
     "output_type": "execute_result"
    }
   ],
   "source": [
    "number=200 #value 200 stored in a variable name called 'number'\n",
    "number"
   ]
  },
  {
   "cell_type": "markdown",
   "id": "17260279-88f5-4c47-a1c3-a7d576fc89d7",
   "metadata": {},
   "source": [
    "**Note**\n",
    "\n",
    "- python is step by step process\n",
    "\n",
    "- python will take last output as the latest value\n",
    "    \n",
    "- in above code we are using same variable: number\n",
    "\n",
    "- but number value changed two times\n",
    "\n",
    "- first time 100\n",
    "\n",
    "- second time 200\n",
    "\n",
    "- latest value 200"
   ]
  },
  {
   "cell_type": "code",
   "execution_count": 14,
   "id": "d6f79db3-dadc-4d5a-bb02-8307b6858df2",
   "metadata": {},
   "outputs": [
    {
     "data": {
      "text/plain": [
       "200"
      ]
     },
     "execution_count": 14,
     "metadata": {},
     "output_type": "execute_result"
    }
   ],
   "source": [
    "NUMBER=200\n",
    "NUMBER"
   ]
  },
  {
   "cell_type": "code",
   "execution_count": 18,
   "id": "ad32130a-0540-4b91-a099-d423754b4e33",
   "metadata": {},
   "outputs": [
    {
     "data": {
      "text/plain": [
       "(100, 200)"
      ]
     },
     "execution_count": 18,
     "metadata": {},
     "output_type": "execute_result"
    }
   ],
   "source": [
    "number, NUMBER"
   ]
  },
  {
   "cell_type": "code",
   "execution_count": 20,
   "id": "123e839f-8e89-4691-89f1-5e9f60d2dc13",
   "metadata": {},
   "outputs": [
    {
     "data": {
      "text/plain": [
       "300"
      ]
     },
     "execution_count": 20,
     "metadata": {},
     "output_type": "execute_result"
    }
   ],
   "source": [
    "NUMber=300\n",
    "NUMber"
   ]
  },
  {
   "cell_type": "code",
   "execution_count": 22,
   "id": "39ae1cee-ddd4-4321-a9df-226e90539852",
   "metadata": {},
   "outputs": [
    {
     "data": {
      "text/plain": [
       "400"
      ]
     },
     "execution_count": 22,
     "metadata": {},
     "output_type": "execute_result"
    }
   ],
   "source": [
    "number123=400\n",
    "number123"
   ]
  },
  {
   "cell_type": "code",
   "execution_count": 24,
   "id": "72e1bd6f-58f8-49b8-ba02-90cc899e0cf3",
   "metadata": {},
   "outputs": [
    {
     "ename": "SyntaxError",
     "evalue": "invalid decimal literal (359278068.py, line 1)",
     "output_type": "error",
     "traceback": [
      "\u001b[0;36m  Cell \u001b[0;32mIn[24], line 1\u001b[0;36m\u001b[0m\n\u001b[0;31m    123number=400\u001b[0m\n\u001b[0m      ^\u001b[0m\n\u001b[0;31mSyntaxError\u001b[0m\u001b[0;31m:\u001b[0m invalid decimal literal\n"
     ]
    }
   ],
   "source": [
    "123number=400\n",
    "123number"
   ]
  },
  {
   "cell_type": "code",
   "execution_count": 26,
   "id": "12b32344-49fb-48f9-9f1b-8f14e7c81265",
   "metadata": {},
   "outputs": [
    {
     "ename": "SyntaxError",
     "evalue": "cannot assign to expression here. Maybe you meant '==' instead of '='? (1823274275.py, line 1)",
     "output_type": "error",
     "traceback": [
      "\u001b[0;36m  Cell \u001b[0;32mIn[26], line 1\u001b[0;36m\u001b[0m\n\u001b[0;31m    numb%er=600\u001b[0m\n\u001b[0m    ^\u001b[0m\n\u001b[0;31mSyntaxError\u001b[0m\u001b[0;31m:\u001b[0m cannot assign to expression here. Maybe you meant '==' instead of '='?\n"
     ]
    }
   ],
   "source": [
    "numb%er=600\n",
    "numb%er"
   ]
  },
  {
   "cell_type": "code",
   "execution_count": 28,
   "id": "1014bfe7-4f8c-486d-8dba-09c22588300d",
   "metadata": {},
   "outputs": [
    {
     "ename": "SyntaxError",
     "evalue": "invalid syntax (2656576567.py, line 1)",
     "output_type": "error",
     "traceback": [
      "\u001b[0;36m  Cell \u001b[0;32mIn[28], line 1\u001b[0;36m\u001b[0m\n\u001b[0;31m    number one=800\u001b[0m\n\u001b[0m           ^\u001b[0m\n\u001b[0;31mSyntaxError\u001b[0m\u001b[0;31m:\u001b[0m invalid syntax\n"
     ]
    }
   ],
   "source": [
    "number one=800\n",
    "number one"
   ]
  },
  {
   "cell_type": "code",
   "execution_count": 30,
   "id": "2ff108c7-db47-45ea-8354-1f5794cbba7b",
   "metadata": {},
   "outputs": [
    {
     "data": {
      "text/plain": [
       "1000"
      ]
     },
     "execution_count": 30,
     "metadata": {},
     "output_type": "execute_result"
    }
   ],
   "source": [
    "number_one=1000\n",
    "number_one"
   ]
  },
  {
   "cell_type": "code",
   "execution_count": 32,
   "id": "a0106e34-f49b-446b-a09d-728672c45987",
   "metadata": {},
   "outputs": [
    {
     "data": {
      "text/plain": [
       "900"
      ]
     },
     "execution_count": 32,
     "metadata": {},
     "output_type": "execute_result"
    }
   ],
   "source": [
    "_=900\n",
    "_"
   ]
  },
  {
   "cell_type": "code",
   "execution_count": 34,
   "id": "9c1b0331-efa3-4a17-a4f4-e8d89ffe0202",
   "metadata": {},
   "outputs": [
    {
     "data": {
      "text/plain": [
       "(100, 200)"
      ]
     },
     "execution_count": 34,
     "metadata": {},
     "output_type": "execute_result"
    }
   ],
   "source": [
    "n1=100,200\n",
    "n1"
   ]
  },
  {
   "cell_type": "code",
   "execution_count": 36,
   "id": "172c6118-ab35-427e-b795-b4369c41796f",
   "metadata": {},
   "outputs": [
    {
     "ename": "TypeError",
     "evalue": "cannot unpack non-iterable int object",
     "output_type": "error",
     "traceback": [
      "\u001b[0;31m---------------------------------------------------------------------------\u001b[0m",
      "\u001b[0;31mTypeError\u001b[0m                                 Traceback (most recent call last)",
      "Cell \u001b[0;32mIn[36], line 1\u001b[0m\n\u001b[0;32m----> 1\u001b[0m n2,n3\u001b[38;5;241m=\u001b[39m\u001b[38;5;241m200\u001b[39m\n\u001b[1;32m      2\u001b[0m n2,n3\n",
      "\u001b[0;31mTypeError\u001b[0m: cannot unpack non-iterable int object"
     ]
    }
   ],
   "source": [
    "n2,n3=200\n",
    "n2,n3"
   ]
  },
  {
   "cell_type": "code",
   "execution_count": 40,
   "id": "0cd46335-a007-4513-9abd-b5075c762fc2",
   "metadata": {},
   "outputs": [
    {
     "name": "stdout",
     "output_type": "stream",
     "text": [
      "100\n",
      "200\n"
     ]
    }
   ],
   "source": [
    "n4,n5=100,200\n",
    "print(n4)\n",
    "print(n5)"
   ]
  },
  {
   "cell_type": "code",
   "execution_count": 42,
   "id": "778149a4-fccd-40b0-bb25-eed5d1789c5e",
   "metadata": {},
   "outputs": [
    {
     "data": {
      "text/plain": [
       "200"
      ]
     },
     "execution_count": 42,
     "metadata": {},
     "output_type": "execute_result"
    }
   ],
   "source": [
    "n4,n5=100,200\n",
    "n4\n",
    "n5"
   ]
  },
  {
   "cell_type": "code",
   "execution_count": 44,
   "id": "bfb18f4f-914e-448a-8fe8-f37daff6617b",
   "metadata": {},
   "outputs": [],
   "source": [
    "n1,_=100,200"
   ]
  },
  {
   "cell_type": "code",
   "execution_count": 47,
   "id": "91c15206-87fb-47a6-a7a4-3b72010050a1",
   "metadata": {},
   "outputs": [
    {
     "ename": "SyntaxError",
     "evalue": "invalid syntax (162871516.py, line 1)",
     "output_type": "error",
     "traceback": [
      "\u001b[0;36m  Cell \u001b[0;32mIn[47], line 1\u001b[0;36m\u001b[0m\n\u001b[0;31m    if\u001b[0m\n\u001b[0m       ^\u001b[0m\n\u001b[0;31mSyntaxError\u001b[0m\u001b[0;31m:\u001b[0m invalid syntax\n"
     ]
    }
   ],
   "source": [
    "if \n",
    "else\n",
    "while\n"
   ]
  },
  {
   "cell_type": "markdown",
   "id": "52e3fe91-7325-43f6-8183-89734e8195df",
   "metadata": {},
   "source": [
    "- python variables are case sensitive\n",
    "\n",
    "- variables can be declare as capital letters\n",
    "\n",
    "- variables can be declare as small letters\n",
    "\n",
    "- variables can not start with Numbers (prefix)\n",
    "\n",
    "- numbers can be start with suffix\n",
    "\n",
    "- variables can not have spl charcters expect **_**\n",
    "    \n",
    "- variables does not have space between the names\n",
    "    \n",
    "- only **_** is possible\n",
    "    \n",
    "- keywords or reserved words can not use a variables\n",
    "    \n",
    "- two values can be assign to single variable\n",
    "    \n",
    "- one value can not be assign to a two variables    \n"
   ]
  },
  {
   "cell_type": "code",
   "execution_count": null,
   "id": "3af02841-e898-4ea9-8c13-626e5c57f789",
   "metadata": {},
   "outputs": [],
   "source": []
  }
 ],
 "metadata": {
  "kernelspec": {
   "display_name": "Python 3 (ipykernel)",
   "language": "python",
   "name": "python3"
  },
  "language_info": {
   "codemirror_mode": {
    "name": "ipython",
    "version": 3
   },
   "file_extension": ".py",
   "mimetype": "text/x-python",
   "name": "python",
   "nbconvert_exporter": "python",
   "pygments_lexer": "ipython3",
   "version": "3.11.7"
  }
 },
 "nbformat": 4,
 "nbformat_minor": 5
}
