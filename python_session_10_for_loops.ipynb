{
 "cells": [
  {
   "cell_type": "markdown",
   "id": "d948b54b-adaa-4258-a682-99b0378baaea",
   "metadata": {},
   "source": [
    "**Loops**\n",
    "\n",
    "- Iterate a peice of code untill the condition satisfy\n",
    "\n",
    "- we can run a code normally\n",
    "\n",
    "- we can run a code by using function wrapper(functions)\n",
    "\n",
    "- we can run a code multiple times(loops)\n",
    "\n",
    "- we can run a code by using condition (conditions)"
   ]
  },
  {
   "cell_type": "markdown",
   "id": "cc31cb6f-097a-4346-81ff-b00e191e5bfe",
   "metadata": {},
   "source": [
    "- For loop\n",
    "\n",
    "- While loop\n",
    "\n",
    "- any loop\n",
    "\n",
    "   - Intial point to start the loop\n",
    " \n",
    "   - increment or decrement\n",
    " \n",
    "   - condition to stop the loop"
   ]
  },
  {
   "cell_type": "markdown",
   "id": "57ef9331-c471-4ff1-9bba-db6d84b53cc2",
   "metadata": {},
   "source": [
    "### For loop ###"
   ]
  },
  {
   "cell_type": "markdown",
   "id": "9b142a7a-801d-47ac-a28f-0adefb0b4815",
   "metadata": {},
   "source": [
    "### pattern-1 ###\n",
    "\n",
    "**range(stop)**"
   ]
  },
  {
   "cell_type": "code",
   "execution_count": null,
   "id": "66a314bf-3037-46f4-a097-f607bdc29575",
   "metadata": {},
   "outputs": [],
   "source": [
    "# syntax\n",
    "for i in range(<value>):\n",
    "    # start write our code"
   ]
  },
  {
   "cell_type": "markdown",
   "id": "42b9399e-61d8-4bba-bdd8-e9c4318df748",
   "metadata": {},
   "source": [
    "- when ever you see the word range it belongs to math family\n",
    "\n",
    "- inside range we need to provide one value ex: range(3)\n",
    "\n",
    "- if you provide only one value\n",
    "\n",
    "   - start value = 0\n",
    " \n",
    "   - increment = +1\n",
    " \n",
    "   - last = stop-1\n",
    " \n",
    "- range(3)\n",
    "  \n",
    "    - start value = 0\n",
    " \n",
    "    - increment = 1\n",
    " \n",
    "    - last = 3-1 = 2\n",
    " \n",
    "**note** in python the index always start with zero "
   ]
  },
  {
   "cell_type": "code",
   "execution_count": 12,
   "id": "52c986a8-6e16-43f1-9ded-a99ecaac76b5",
   "metadata": {},
   "outputs": [
    {
     "name": "stdout",
     "output_type": "stream",
     "text": [
      "0\n",
      "1\n",
      "2\n"
     ]
    }
   ],
   "source": [
    "for i in range(3):\n",
    "    print(i)"
   ]
  },
  {
   "cell_type": "code",
   "execution_count": null,
   "id": "c9d74a26-5356-46b4-b742-2ccf73b0b9aa",
   "metadata": {},
   "outputs": [],
   "source": [
    "print(0)\n",
    "print(1)\n",
    "print(2)\n",
    "print(3)\n",
    "print(4)\n",
    "\n",
    "print(i)\n",
    "\n",
    "for i in range(5):\n",
    "    print(i)"
   ]
  },
  {
   "cell_type": "code",
   "execution_count": 14,
   "id": "a45e54d8-8d45-4711-be8f-b57eb76bcfe2",
   "metadata": {},
   "outputs": [
    {
     "name": "stdout",
     "output_type": "stream",
     "text": [
      "hello\n",
      "hello\n",
      "hello\n",
      "hello\n",
      "hello\n"
     ]
    }
   ],
   "source": [
    "# I want to print hello 5 times\n",
    "\n",
    "for i in range(5):\n",
    "    print('hello')"
   ]
  },
  {
   "cell_type": "code",
   "execution_count": 16,
   "id": "f7205ec2-3986-497c-a69a-89e6ace34123",
   "metadata": {},
   "outputs": [
    {
     "name": "stdout",
     "output_type": "stream",
     "text": [
      "it is odd 35\n"
     ]
    }
   ],
   "source": [
    "# for example\n",
    "# take a random number between 1 to 100\n",
    "# print it is a even number or odd number\n",
    "# you need to generate 3 random number\n",
    "\n",
    "import random\n",
    "random_num=random.randint(1,100)\n",
    "if random_num%2==0:\n",
    "    print('it is even',random_num)\n",
    "else:\n",
    "    print('it is odd',random_num)\n"
   ]
  },
  {
   "cell_type": "code",
   "execution_count": 22,
   "id": "1daa760d-cde7-40cb-b33c-a72f07e071c8",
   "metadata": {},
   "outputs": [
    {
     "name": "stdout",
     "output_type": "stream",
     "text": [
      "it is even 8\n",
      "it is odd 29\n",
      "it is even 68\n"
     ]
    }
   ],
   "source": [
    "for i in range(3):\n",
    "    random_num=random.randint(1,100)\n",
    "    if random_num%2==0:\n",
    "        print('it is even',random_num)\n",
    "    else:\n",
    "        print('it is odd',random_num)"
   ]
  },
  {
   "cell_type": "code",
   "execution_count": 24,
   "id": "911315ee-a993-4a6a-bd6a-e0bbc05a4e8e",
   "metadata": {},
   "outputs": [
    {
     "name": "stdout",
     "output_type": "stream",
     "text": [
      "0 1 2 3 4 5 6 7 8 9 "
     ]
    }
   ],
   "source": [
    "for i in range(10):\n",
    "    print(i,end=\" \")"
   ]
  },
  {
   "cell_type": "code",
   "execution_count": null,
   "id": "e162f288-0c38-43ba-bb03-cc33fefb21d9",
   "metadata": {},
   "outputs": [],
   "source": [
    "print(0,end=' ')\n",
    "print(1,end=' ')\n",
    "print(2,end=' ')\n",
    "print(3,end=' ')\n",
    "print(4,end=' ')\n",
    "\n",
    "print(i,end=' ')"
   ]
  },
  {
   "cell_type": "code",
   "execution_count": null,
   "id": "55bc97b9-3c52-4ddf-9cdf-c0be4d430e4c",
   "metadata": {},
   "outputs": [],
   "source": [
    "# sep: will seperate multiple values in same print statement\n",
    "# end: combine the multiple print staements"
   ]
  },
  {
   "cell_type": "markdown",
   "id": "ea30efe0-59bb-4feb-83ac-19ed20833435",
   "metadata": {},
   "source": [
    "$Pattern-2$\n",
    "\n",
    "**range(start,stop)**\n",
    "\n",
    "- range(10,20)\n",
    "\n",
    "    - start value = 10\n",
    " \n",
    "    - increment = +1\n",
    " \n",
    "    - last = stop-1 = 20-1=19\n",
    " \n",
    "    - ans = 10 11 12 13 14 15 16 17 18 19"
   ]
  },
  {
   "cell_type": "code",
   "execution_count": 28,
   "id": "b0157abe-e018-4b98-a7b4-fb02ccba1f9c",
   "metadata": {},
   "outputs": [
    {
     "name": "stdout",
     "output_type": "stream",
     "text": [
      "10 11 12 13 14 15 16 17 18 19 "
     ]
    }
   ],
   "source": [
    "for i in range(10,20):\n",
    "    print(i,end=' ')"
   ]
  },
  {
   "cell_type": "code",
   "execution_count": 39,
   "id": "f42a27c2-b175-4154-8e0f-ff8bddcb5a5e",
   "metadata": {},
   "outputs": [
    {
     "name": "stdout",
     "output_type": "stream",
     "text": [
      "the square of 20 400\n",
      "the square of 21 441\n",
      "the square of 22 484\n",
      "the square of 23 529\n",
      "the square of 24 576\n"
     ]
    }
   ],
   "source": [
    "# wap ask the user print square of the number between \n",
    "# 20 to 25\n",
    "for i in range(20,25):\n",
    "    square=i*i\n",
    "    print(f'the square of {i}',square)\n"
   ]
  },
  {
   "cell_type": "code",
   "execution_count": 37,
   "id": "7398de94-f36d-4947-9e65-8cf4ae1d9082",
   "metadata": {},
   "outputs": [
    {
     "name": "stdout",
     "output_type": "stream",
     "text": [
      "it is even 10\n",
      "it is odd 11\n",
      "it is even 12\n",
      "it is odd 13\n",
      "it is even 14\n",
      "it is odd 15\n",
      "it is even 16\n",
      "it is odd 17\n",
      "it is even 18\n",
      "it is odd 19\n"
     ]
    }
   ],
   "source": [
    "# wap ask the user print the number is even or odd between 10 to 20\n",
    "\n",
    "for i in range(10,20):\n",
    "    if i%2==0:\n",
    "        print('it is even',i)\n",
    "    else:\n",
    "        print('it is odd',i)"
   ]
  },
  {
   "cell_type": "markdown",
   "id": "8c8ddae6-d7df-4f91-a825-9869d2ae9a5c",
   "metadata": {},
   "source": [
    "$Pattern-3$\n",
    "\n",
    "**range(start,stop,step)**\n",
    "\n",
    "- start value = start values\n",
    "\n",
    "- step value\n",
    "\n",
    "    - positive step value\n",
    "\n",
    "      - if step value is positive : increment\n",
    "     \n",
    "      - last = step-1\n",
    "        \n",
    "    - negative step value\n",
    " \n",
    "      - if step value is negative : decrement\n",
    "     \n",
    "      - last = stop+1    "
   ]
  },
  {
   "cell_type": "code",
   "execution_count": 44,
   "id": "70ff9dfa-e25b-4021-811d-ddcd9c89a38f",
   "metadata": {},
   "outputs": [
    {
     "name": "stdout",
     "output_type": "stream",
     "text": [
      "2 4 6 8 10 12 14 16 18 "
     ]
    }
   ],
   "source": [
    "# case-1:\n",
    "\n",
    "for i in range(2,20,2):  #range(start,stop,step)\n",
    "    print(i,end=' ')\n",
    "\n",
    "# start= 2\n",
    "# step = +ve 2\n",
    "# last= stop-1= 20-1 =19\n",
    "# 2 4 6 8 10 12 14 16 18"
   ]
  },
  {
   "cell_type": "code",
   "execution_count": 46,
   "id": "57d2de8d-3432-4bc9-9483-b03180caaaea",
   "metadata": {},
   "outputs": [
    {
     "name": "stdout",
     "output_type": "stream",
     "text": [
      "10 "
     ]
    }
   ],
   "source": [
    "for i in range(10,20,30):\n",
    "    print(i,end=' ')"
   ]
  },
  {
   "cell_type": "code",
   "execution_count": 48,
   "id": "230d60cb-1444-4dc9-bac3-78d089442b72",
   "metadata": {},
   "outputs": [],
   "source": [
    "# case-2:\n",
    "\n",
    "for i in range(2,20,-2):\n",
    "    print(i,end=' ')\n",
    "\n",
    "# start = 2\n",
    "# step = -ve 2 (negtive direction)\n",
    "# stop = stop-1 = 20+1 = 21 \n",
    "\n",
    "# no error no answer"
   ]
  },
  {
   "cell_type": "code",
   "execution_count": 50,
   "id": "a764e421-60b2-4254-b72b-dc7b0dfadc96",
   "metadata": {},
   "outputs": [
    {
     "name": "stdout",
     "output_type": "stream",
     "text": [
      "20 18 16 14 12 10 8 6 4 "
     ]
    }
   ],
   "source": [
    "# case-3\n",
    "\n",
    "for i in range(20,2,-2):\n",
    "    print(i,end=' ')\n",
    "\n",
    "# start = 20\n",
    "# step = -2\n",
    "# stop = stop+1 = 2+1 = 3"
   ]
  },
  {
   "cell_type": "code",
   "execution_count": 54,
   "id": "979d317f-2731-47e6-810f-bf54fd52b6ed",
   "metadata": {},
   "outputs": [],
   "source": [
    "# case-4:\n",
    "\n",
    "for i in range(-20,2,-2):\n",
    "    print(i,end=' ')\n",
    "\n",
    "# start = -20\n",
    "# step = -2\n",
    "# stop = stop+1= 2+1 = 3\n",
    "\n",
    "# no error no answer"
   ]
  },
  {
   "cell_type": "code",
   "execution_count": 3,
   "id": "f85236ea-e922-42fb-abfb-3dc6c1557f30",
   "metadata": {},
   "outputs": [
    {
     "name": "stdout",
     "output_type": "stream",
     "text": [
      "5*1=5\n",
      "5*2=10\n",
      "5*3=15\n",
      "5*4=20\n",
      "5*5=25\n",
      "5*6=30\n",
      "5*7=35\n",
      "5*8=40\n",
      "5*9=45\n",
      "5*10=50\n"
     ]
    }
   ],
   "source": [
    "# wap to print 5 table \n",
    "\n",
    "for i in range(1,11):\n",
    "    table=5*i\n",
    "    print(f'5*{i}={table}')"
   ]
  },
  {
   "cell_type": "code",
   "execution_count": 9,
   "id": "e318520d-3a26-4c89-a504-293718c066c9",
   "metadata": {},
   "outputs": [
    {
     "name": "stdout",
     "output_type": "stream",
     "text": [
      "1 2 3 4 5 6 7 8 9 10 "
     ]
    }
   ],
   "source": [
    "# Print the first 10 natural numbers using for loop.\n",
    "\n",
    "for i in range(1,11):\n",
    "    print(i,end=' ')"
   ]
  },
  {
   "cell_type": "code",
   "execution_count": 17,
   "id": "befa6c47-765e-46d0-9d1d-74f335c8752d",
   "metadata": {},
   "outputs": [
    {
     "name": "stdout",
     "output_type": "stream",
     "text": [
      "2 4 6 8 10 12 14 16 18 20 22 24 26 28 30 32 34 36 38 40 42 44 46 48 "
     ]
    }
   ],
   "source": [
    "# Python program to print all the even numbers within the given range.\n",
    "\n",
    "for i in range(2,50):\n",
    "    if i%2==0:\n",
    "        print(i,end=' ')"
   ]
  },
  {
   "cell_type": "code",
   "execution_count": null,
   "id": "d726e3ec-42e9-4d34-aa9b-8b9e36c048a4",
   "metadata": {},
   "outputs": [],
   "source": [
    "range(3,20,2) # P\n",
    "range(3,20,-2) # NP\n",
    "range(3,-20,2) # NP\n",
    "range(3,-20,-2) # P\n",
    "range(-3,20,2) # P\n",
    "range(-3,-20,2) # NP\n",
    "range(-3,20,-2) # NP\n",
    "range(-3,-20,-2) # P\n",
    "range(20,3,2) # NP\n",
    "range(20,3,-2) # P\n",
    "range(20,-3,-2) # P\n",
    "range(-20,-3,-2) # NP"
   ]
  },
  {
   "cell_type": "code",
   "execution_count": 3,
   "id": "ded0d63a-8a84-45b7-93f4-6d1ed611e44c",
   "metadata": {},
   "outputs": [
    {
     "name": "stdout",
     "output_type": "stream",
     "text": [
      "3 5 7 9 11 13 15 17 19 "
     ]
    }
   ],
   "source": [
    "for i in range(3,20,2):\n",
    "    print(i,end=' ')\n",
    "\n",
    "# start: 3\n",
    "# step: +ve 2 (positive direction)\n",
    "# stop: stop-1= 20-1= 19\n",
    "\n",
    "# 3 5 ...."
   ]
  },
  {
   "cell_type": "code",
   "execution_count": 5,
   "id": "fa5ebbab-7fdc-4699-b28c-23f8139774b2",
   "metadata": {},
   "outputs": [],
   "source": [
    "for i in range(3,20,-2):\n",
    "    print(i,end=' ')\n",
    "\n",
    "# strat: 3\n",
    "# step: -ve 2 (negtive direction)\n",
    "# stop: stop+1=21 (but it is not possible)\n",
    "\n",
    "# no error no answer"
   ]
  },
  {
   "cell_type": "code",
   "execution_count": 10,
   "id": "51f28c5f-2eb3-49ec-a2b6-7ce8ef7e03b2",
   "metadata": {},
   "outputs": [
    {
     "name": "stdin",
     "output_type": "stream",
     "text": [
      "enter a number: 2\n"
     ]
    },
    {
     "name": "stdout",
     "output_type": "stream",
     "text": [
      "the square of 2 is 4\n"
     ]
    },
    {
     "name": "stdin",
     "output_type": "stream",
     "text": [
      "enter a number: 3\n"
     ]
    },
    {
     "name": "stdout",
     "output_type": "stream",
     "text": [
      "the square of 3 is 9\n"
     ]
    },
    {
     "name": "stdin",
     "output_type": "stream",
     "text": [
      "enter a number: 4\n"
     ]
    },
    {
     "name": "stdout",
     "output_type": "stream",
     "text": [
      "the square of 4 is 16\n"
     ]
    }
   ],
   "source": [
    "# wap ask the user enter a number three times find the square of the number\n",
    "\n",
    "for i in range(3):\n",
    "    num=eval(input('enter a number:'))\n",
    "    print(f'the square of {num} is {num*num}')"
   ]
  },
  {
   "cell_type": "code",
   "execution_count": 22,
   "id": "b617046d-800f-46e5-bc9f-6f8c14d4ea6d",
   "metadata": {},
   "outputs": [
    {
     "name": "stdout",
     "output_type": "stream",
     "text": [
      "14 x 1 = 14\n",
      "14 x 2 = 28\n",
      "14 x 3 = 42\n",
      "14 x 4 = 56\n",
      "14 x 5 = 70\n",
      "14 x 6 = 84\n",
      "14 x 7 = 98\n",
      "14 x 8 = 112\n",
      "14 x 9 = 126\n",
      "14 x 10 = 140\n"
     ]
    }
   ],
   "source": [
    "# print the 14th table\n",
    "\n",
    "for i in range(1,11):\n",
    "    table=14*i\n",
    "    print(f'14 x {i} = {table}')"
   ]
  },
  {
   "cell_type": "code",
   "execution_count": 24,
   "id": "9e454b54-2c31-4cad-b669-7580e9e5b9a0",
   "metadata": {},
   "outputs": [
    {
     "name": "stdin",
     "output_type": "stream",
     "text": [
      "enter a table number: 15\n"
     ]
    },
    {
     "name": "stdout",
     "output_type": "stream",
     "text": [
      "15 x 1 = 15\n",
      "15 x 2 = 30\n",
      "15 x 3 = 45\n",
      "15 x 4 = 60\n",
      "15 x 5 = 75\n",
      "15 x 6 = 90\n",
      "15 x 7 = 105\n",
      "15 x 8 = 120\n",
      "15 x 9 = 135\n",
      "15 x 10 = 150\n"
     ]
    }
   ],
   "source": [
    "# print any table\n",
    "\n",
    "num=eval(input('enter a table number:'))\n",
    "for i in range(1,11):\n",
    "    table=num*i\n",
    "    print(f'{num} x {i} = {table}')"
   ]
  },
  {
   "cell_type": "code",
   "execution_count": 28,
   "id": "0de54de1-51a3-4ad6-9ba0-81beaab9bebe",
   "metadata": {},
   "outputs": [
    {
     "name": "stdin",
     "output_type": "stream",
     "text": [
      "enter a number 75\n"
     ]
    },
    {
     "name": "stdout",
     "output_type": "stream",
     "text": [
      "1 is the divisor of 75\n",
      "3 is the divisor of 75\n",
      "5 is the divisor of 75\n",
      "15 is the divisor of 75\n",
      "25 is the divisor of 75\n",
      "75 is the divisor of 75\n"
     ]
    }
   ],
   "source": [
    "# find the factors of 75\n",
    "# step-1: iterate the loop = which number factor you want\n",
    "# step-2: apply the if condition\n",
    "#         cond= divide the number with each i\n",
    "num=eval(input('enter a number'))\n",
    "for i in range(1,num+1):\n",
    "    if num%i==0:\n",
    "        print(f'{i} is the divisor of {num}')"
   ]
  },
  {
   "cell_type": "code",
   "execution_count": 44,
   "id": "ee91a084-ded4-40e5-b5a7-24ca18d96a3d",
   "metadata": {},
   "outputs": [
    {
     "name": "stdin",
     "output_type": "stream",
     "text": [
      "enter what 10 nutural number you want: 10\n"
     ]
    },
    {
     "name": "stdout",
     "output_type": "stream",
     "text": [
      "0 + 1 = 1\n",
      "1 + 2 = 3\n",
      "3 + 3 = 6\n",
      "6 + 4 = 10\n",
      "10 + 5 = 15\n",
      "15 + 6 = 21\n",
      "21 + 7 = 28\n",
      "28 + 8 = 36\n",
      "36 + 9 = 45\n",
      "45 + 10 = 55\n"
     ]
    }
   ],
   "source": [
    "# write the sum of first 10 natural number\n",
    "\n",
    "num=eval(input('enter what 10 nutural number you want:'))\n",
    "summ=0\n",
    "for i in range(1,num+1):\n",
    "    print(f'{summ} + {i} = {summ+i}')\n",
    "    summ +=i"
   ]
  },
  {
   "cell_type": "markdown",
   "id": "f8142e19-5ebe-409b-b83d-da7367e0e2b7",
   "metadata": {},
   "source": [
    "**summation wrapper**\n",
    "\n",
    "- intially we need to keep summ=0\n",
    "\n",
    "- make sure that to not provide **sum**\n",
    "\n",
    "- because sum is a keyword\n",
    "\n",
    "- inside for loop:summ=summ+i"
   ]
  },
  {
   "cell_type": "code",
   "execution_count": 51,
   "id": "4a107944-782d-46b3-9e80-cde363a998f0",
   "metadata": {},
   "outputs": [
    {
     "name": "stdin",
     "output_type": "stream",
     "text": [
      "enter what 10 nutural number you want: 10\n"
     ]
    },
    {
     "name": "stdout",
     "output_type": "stream",
     "text": [
      "55 + 10 = 55\n"
     ]
    }
   ],
   "source": [
    "num=eval(input('enter what 10 nutural number you want:'))\n",
    "summ=0\n",
    "for i in range(1,num+1):\n",
    "    summ=summ+i\n",
    "print(f'{summ} + {i} = {summ}')"
   ]
  },
  {
   "cell_type": "markdown",
   "id": "e69aeaeb-b7b9-4267-9125-18d122f71e2b",
   "metadata": {},
   "source": [
    "**note**\n",
    "\n",
    "- if we print answer from out of for loop, last answer will print"
   ]
  },
  {
   "cell_type": "code",
   "execution_count": 71,
   "id": "f75ae015-6e7b-4328-9e1c-e11084808ffe",
   "metadata": {},
   "outputs": [
    {
     "name": "stdin",
     "output_type": "stream",
     "text": [
      "enter a number: 10\n"
     ]
    },
    {
     "name": "stdout",
     "output_type": "stream",
     "text": [
      "5.5\n"
     ]
    }
   ],
   "source": [
    "# average first 1 to 10 number\n",
    "# avg= summation of all the numbers/total number\n",
    "\n",
    "summ=0\n",
    "num=eval(input('enter a number:'))\n",
    "for i in range(1,num+1):\n",
    "    summ=summ+i\n",
    "print(summ/num)"
   ]
  },
  {
   "cell_type": "markdown",
   "id": "3f7bdb8a-b3bb-420c-8a47-2fbd841f915d",
   "metadata": {},
   "source": [
    "**counter wrapper**\n",
    "\n",
    "- before for loop initilaise with count=0\n",
    "\n",
    "- under for loop count=count+1\n",
    "\n",
    "- counter always increase by 1 only"
   ]
  },
  {
   "cell_type": "code",
   "execution_count": 70,
   "id": "e54d8ce9-82a0-47cc-a9fd-ce0e4eee737c",
   "metadata": {},
   "outputs": [
    {
     "name": "stdin",
     "output_type": "stream",
     "text": [
      "enter a factorial: 75\n"
     ]
    },
    {
     "name": "stdout",
     "output_type": "stream",
     "text": [
      "6\n"
     ]
    }
   ],
   "source": [
    "# find the number of divisor of 75\n",
    "# ans: 1,3,5,15,25,75\n",
    "# number= 6\n",
    "\n",
    "count=0\n",
    "num=eval(input('enter a factorial:'))\n",
    "for i in range(1,num+1):\n",
    "    if num%i==0:\n",
    "        count=count+1\n",
    "print(count)"
   ]
  },
  {
   "cell_type": "code",
   "execution_count": 66,
   "id": "2c2d2c93-1e28-4216-b836-52f43601c4df",
   "metadata": {},
   "outputs": [
    {
     "name": "stdin",
     "output_type": "stream",
     "text": [
      "enter a number: 1\n"
     ]
    },
    {
     "name": "stdout",
     "output_type": "stream",
     "text": [
      "fail\n"
     ]
    },
    {
     "name": "stdin",
     "output_type": "stream",
     "text": [
      "enter a number: 2\n"
     ]
    },
    {
     "name": "stdout",
     "output_type": "stream",
     "text": [
      "fail\n"
     ]
    },
    {
     "name": "stdin",
     "output_type": "stream",
     "text": [
      "enter a number: 3\n"
     ]
    },
    {
     "name": "stdout",
     "output_type": "stream",
     "text": [
      "fail\n"
     ]
    }
   ],
   "source": [
    "# get a random number between 1 to 10: num1\n",
    "# ask the user enter a number:num2\n",
    "# if num1==num2 then print won\n",
    "# else print fail\n",
    "\n",
    "# give 3 chances\n",
    "\n",
    "import random\n",
    "for i in range(3):\n",
    "    num1=random.randint(1,10)\n",
    "    num2=eval(input('enter a number:'))\n",
    "    if num1==num2:\n",
    "        print('won')\n",
    "    else:\n",
    "        print('fail')"
   ]
  },
  {
   "cell_type": "code",
   "execution_count": 68,
   "id": "3511225c-ee34-4d06-89bf-c7ad13d0aaa1",
   "metadata": {},
   "outputs": [
    {
     "name": "stdout",
     "output_type": "stream",
     "text": [
      "3\n"
     ]
    },
    {
     "name": "stdin",
     "output_type": "stream",
     "text": [
      "enter a number: 3\n"
     ]
    },
    {
     "name": "stdout",
     "output_type": "stream",
     "text": [
      "won\n"
     ]
    }
   ],
   "source": [
    "# case-2: when ever you won the code should stop\n",
    "\n",
    "import random\n",
    "for i in range(3):\n",
    "    num1=random.randint(1,10)\n",
    "    print(num1)\n",
    "    num2=eval(input('enter a number:'))\n",
    "    if num1==num2:\n",
    "        print('won')\n",
    "        break\n",
    "    else:\n",
    "        print('fail')"
   ]
  },
  {
   "cell_type": "code",
   "execution_count": 9,
   "id": "abd2c23d-217a-4d96-ab03-46d6fd6a7bf4",
   "metadata": {},
   "outputs": [
    {
     "name": "stdin",
     "output_type": "stream",
     "text": [
      "enter a chances: 4\n"
     ]
    },
    {
     "name": "stdout",
     "output_type": "stream",
     "text": [
      "the random number1 is: 5\n"
     ]
    },
    {
     "name": "stdin",
     "output_type": "stream",
     "text": [
      "enter a number2: 3\n"
     ]
    },
    {
     "name": "stdout",
     "output_type": "stream",
     "text": [
      "you fail\n",
      "you have more 3 chances are left\n",
      "the random number1 is: 8\n"
     ]
    },
    {
     "name": "stdin",
     "output_type": "stream",
     "text": [
      "enter a number2: 2\n"
     ]
    },
    {
     "name": "stdout",
     "output_type": "stream",
     "text": [
      "you fail\n",
      "you have more 2 chances are left\n",
      "the random number1 is: 10\n"
     ]
    },
    {
     "name": "stdin",
     "output_type": "stream",
     "text": [
      "enter a number2: 2\n"
     ]
    },
    {
     "name": "stdout",
     "output_type": "stream",
     "text": [
      "you fail\n",
      "you have more 1 chances are left\n",
      "the random number1 is: 5\n"
     ]
    },
    {
     "name": "stdin",
     "output_type": "stream",
     "text": [
      "enter a number2: 2\n"
     ]
    },
    {
     "name": "stdout",
     "output_type": "stream",
     "text": [
      "you fail\n",
      "you have more 0 chances are left\n",
      "all the chances you are used\n",
      "try again after 24 hrs\n"
     ]
    }
   ],
   "source": [
    "# case-3:\n",
    "# suppose i want to give 4 chances\n",
    "# every time you fail i want to display \n",
    "#      number of chances left\n",
    "# if all the chances you are used\n",
    "#   try again after 24 hrs\n",
    "# if you won \n",
    "\n",
    "import random\n",
    "count=eval(input('enter a chances:'))\n",
    "for i in range(count):\n",
    "    num1=random.randint(1,10)\n",
    "    print('the random number1 is:',num1)\n",
    "    num2=eval(input('enter a number2:'))\n",
    "    count=count-1\n",
    "    if num1==num2:\n",
    "        print('you won')\n",
    "        break\n",
    "    else:\n",
    "        print('you fail')\n",
    "        print(f'you have more {count} chances are left')\n",
    "    if count==0:    \n",
    "        print('all the chances you are used')\n",
    "        print('try again after 24 hrs')           "
   ]
  },
  {
   "cell_type": "code",
   "execution_count": 35,
   "id": "0160cc22-79bb-4f82-b682-956844ed1f72",
   "metadata": {},
   "outputs": [
    {
     "name": "stdout",
     "output_type": "stream",
     "text": [
      "0\n",
      "1\n",
      "2\n"
     ]
    }
   ],
   "source": [
    "for i in range(3):\n",
    "    print(i)"
   ]
  },
  {
   "cell_type": "code",
   "execution_count": 53,
   "id": "f0deac43-82d8-44ae-aa4b-d3fa30a4b397",
   "metadata": {},
   "outputs": [
    {
     "name": "stdin",
     "output_type": "stream",
     "text": [
      "enter a number: 2\n"
     ]
    },
    {
     "name": "stdout",
     "output_type": "stream",
     "text": [
      "the square of 2 is: 4\n"
     ]
    },
    {
     "name": "stdin",
     "output_type": "stream",
     "text": [
      "enter a number: 3\n"
     ]
    },
    {
     "name": "stdout",
     "output_type": "stream",
     "text": [
      "the square of 3 is: 9\n"
     ]
    },
    {
     "name": "stdin",
     "output_type": "stream",
     "text": [
      "enter a number: 5\n"
     ]
    },
    {
     "name": "stdout",
     "output_type": "stream",
     "text": [
      "the square of 5 is: 25\n"
     ]
    }
   ],
   "source": [
    "# wap ask the user enter a number three times find the square of the number\n",
    "\n",
    "for i in range(3):\n",
    "    num=eval(input('enter a number:'))\n",
    "    print(f'the square of {num} is:',num*num)"
   ]
  },
  {
   "cell_type": "code",
   "execution_count": 55,
   "id": "f2a7f50d-e320-4fb8-b2d5-e2cf0984548f",
   "metadata": {},
   "outputs": [
    {
     "name": "stdout",
     "output_type": "stream",
     "text": [
      "14 x 1 = 14\n",
      "14 x 2 = 28\n",
      "14 x 3 = 42\n",
      "14 x 4 = 56\n",
      "14 x 5 = 70\n",
      "14 x 6 = 84\n",
      "14 x 7 = 98\n",
      "14 x 8 = 112\n",
      "14 x 9 = 126\n",
      "14 x 10 = 140\n"
     ]
    }
   ],
   "source": [
    "# print the 14th table\n",
    "\n",
    "for i in range(1,11):\n",
    "    print(f'14 x {i} = {14*i}')"
   ]
  },
  {
   "cell_type": "code",
   "execution_count": 59,
   "id": "8568571a-f2a7-4c20-a63e-15dccdc74e16",
   "metadata": {},
   "outputs": [
    {
     "name": "stdin",
     "output_type": "stream",
     "text": [
      "enter a factorial number: 1\n"
     ]
    },
    {
     "name": "stdout",
     "output_type": "stream",
     "text": [
      "1 is a divisor of 1\n"
     ]
    }
   ],
   "source": [
    "# find the factors of 75\n",
    "# step-1: iterate the loop = which number factor you want\n",
    "# step-2: apply the if condition\n",
    "#         cond= divide the number with each i\n",
    "\n",
    "num=eval(input('enter a factorial number:'))\n",
    "for i in range(1,num+1):\n",
    "    if num%i==0:\n",
    "        print(f'{i} is a divisor of {num}')"
   ]
  },
  {
   "cell_type": "code",
   "execution_count": 67,
   "id": "5efe7da9-a496-47a2-a41c-2c20e8a6cdc4",
   "metadata": {},
   "outputs": [
    {
     "name": "stdin",
     "output_type": "stream",
     "text": [
      "start number of the ten natural number: 1\n",
      "ending number of the ten natural number: 10\n"
     ]
    },
    {
     "name": "stdout",
     "output_type": "stream",
     "text": [
      "0 + 1 = 1\n",
      "1 + 2 = 3\n",
      "3 + 3 = 6\n",
      "6 + 4 = 10\n",
      "10 + 5 = 15\n",
      "15 + 6 = 21\n",
      "21 + 7 = 28\n",
      "28 + 8 = 36\n",
      "36 + 9 = 45\n",
      "45 + 10 = 55\n"
     ]
    }
   ],
   "source": [
    "# write the sum of first 10 natural number\n",
    "\n",
    "num1=eval(input('start number of the ten natural number:'))\n",
    "num2=eval(input('ending number of the ten natural number:'))\n",
    "summ=0\n",
    "for i in range(num1,num2+1):\n",
    "    value=summ\n",
    "    summ=summ+i\n",
    "    print(f'{value} + {i} = {summ}')\n",
    "\n",
    "\n"
   ]
  },
  {
   "cell_type": "code",
   "execution_count": 77,
   "id": "f5892742-ae57-4aee-b23c-613f56c85baa",
   "metadata": {},
   "outputs": [
    {
     "name": "stdin",
     "output_type": "stream",
     "text": [
      "enter a number: 10\n"
     ]
    },
    {
     "name": "stdout",
     "output_type": "stream",
     "text": [
      "5.5\n"
     ]
    }
   ],
   "source": [
    "# average first 1 to 10 number\n",
    "# avg= summation of all the numbers/total number\n",
    "\n",
    "summ=0\n",
    "num=eval(input('enter a number:'))\n",
    "for i in range(1,num+1):\n",
    "    summ=summ+i\n",
    "print(summ/num)"
   ]
  },
  {
   "cell_type": "code",
   "execution_count": 11,
   "id": "1accb588-8429-4c68-bdd6-e7833fc0f886",
   "metadata": {},
   "outputs": [
    {
     "name": "stdout",
     "output_type": "stream",
     "text": [
      "the total no.of even number are: 1\n",
      "the total no.of odd number are: 4\n"
     ]
    }
   ],
   "source": [
    "# wap ask the user get 5 ramdon numbers\n",
    "# get wheather it is even number or odd number\n",
    "# also count how many even numbers are their\n",
    "# count how many odd numbers are their\n",
    "\n",
    "import random\n",
    "even_count=0\n",
    "odd_count=0\n",
    "for num in range(5):\n",
    "    num=random.randint(1,10)\n",
    "    if num%2==0:\n",
    "        even_count=even_count+1\n",
    "    else:\n",
    "        odd_count=odd_count+1\n",
    "print('the total no.of even number are:',even_count)\n",
    "print('the total no.of odd number are:',odd_count)"
   ]
  },
  {
   "cell_type": "code",
   "execution_count": 15,
   "id": "0d5a47e9-632d-4a2b-bba2-cec954d126c8",
   "metadata": {},
   "outputs": [
    {
     "name": "stdout",
     "output_type": "stream",
     "text": [
      "the total no.of even number are: 0\n",
      "the total no.of odd number are: 5\n",
      "the summ of even is: 0\n",
      "the summ of odd is: 27\n"
     ]
    }
   ],
   "source": [
    "# wap ask the user get 5 ramdon numbers\n",
    "# get wheather it is even number or odd number\n",
    "# also count how many even numbers are their\n",
    "# count how many odd numbers are their\n",
    "# summ of even and odd\n",
    "\n",
    "import random\n",
    "even_count=0\n",
    "odd_count=0\n",
    "even_summ=0\n",
    "odd_summ=0\n",
    "for i in range(5):\n",
    "    num=random.randint(1,10)\n",
    "    if num%2==0:\n",
    "        even_count=even_count+1\n",
    "        even_summ=even_summ+num\n",
    "    else:\n",
    "        odd_count=odd_count+1\n",
    "        odd_summ=odd_summ+num\n",
    "print('the total no.of even number are:',even_count)\n",
    "print('the total no.of odd number are:',odd_count)\n",
    "print('the summ of even is:',even_summ)\n",
    "print('the summ of odd is:',odd_summ)"
   ]
  },
  {
   "cell_type": "code",
   "execution_count": 21,
   "id": "18530510-1530-44c3-9371-b3b56c12353e",
   "metadata": {},
   "outputs": [
    {
     "name": "stdout",
     "output_type": "stream",
     "text": [
      "the total no.of even number are: 5\n",
      "the total no.of odd number are: 0\n",
      "the summ of even is: 32\n",
      "the summ of odd is: 0\n"
     ]
    }
   ],
   "source": [
    "# function\n",
    "\n",
    "import random\n",
    "def all_fun():\n",
    "    even_count=0\n",
    "    odd_count=0\n",
    "    even_summ=0\n",
    "    odd_summ=0\n",
    "    for i in range(5):\n",
    "        num=random.randint(1,10)\n",
    "        if num%2==0:\n",
    "            even_count=even_count+1\n",
    "            even_summ=even_summ+num\n",
    "        else:\n",
    "            odd_count=odd_count+1\n",
    "            odd_summ=odd_summ+num\n",
    "    return(even_summ,even_count,odd_summ,odd_count)\n",
    "even_summ,even_count,odd_summ,odd_count=all_fun()            \n",
    "print('the total no.of even number are:',even_count)\n",
    "print('the total no.of odd number are:',odd_count)\n",
    "print('the summ of even is:',even_summ)\n",
    "print('the summ of odd is:',odd_summ)\n",
    "\n"
   ]
  },
  {
   "cell_type": "markdown",
   "id": "472d8ca0-e9de-4c44-8d8b-c25de35099f4",
   "metadata": {},
   "source": [
    "**in operator**"
   ]
  },
  {
   "cell_type": "code",
   "execution_count": 30,
   "id": "ac3336fd-b079-4321-8c3d-785e25233e03",
   "metadata": {},
   "outputs": [
    {
     "data": {
      "text/plain": [
       "True"
      ]
     },
     "execution_count": 30,
     "metadata": {},
     "output_type": "execute_result"
    }
   ],
   "source": [
    "string1='python'\n",
    "'p' in string1\n",
    "'y' in string1"
   ]
  },
  {
   "cell_type": "code",
   "execution_count": 28,
   "id": "bc9c2e99-6263-4433-96ef-842b98101016",
   "metadata": {},
   "outputs": [
    {
     "name": "stdout",
     "output_type": "stream",
     "text": [
      "p\n",
      "y\n",
      "t\n",
      "h\n",
      "o\n",
      "n\n"
     ]
    }
   ],
   "source": [
    "for i in string1:\n",
    "    print(i)"
   ]
  },
  {
   "cell_type": "code",
   "execution_count": null,
   "id": "977a58b0-86c8-4738-a41b-bf5f4b916638",
   "metadata": {},
   "outputs": [],
   "source": [
    "for i in range(string1):\n",
    "    print(i)"
   ]
  },
  {
   "cell_type": "markdown",
   "id": "314ec7e6-0eb6-430d-80cf-f5bc81bf2caa",
   "metadata": {},
   "source": [
    "**difference between in operator and range operator**\n",
    "\n",
    "- range belongs to math family\n",
    "\n",
    "- inside $range$ we need to keep numbers only\n",
    "\n",
    "- whenever if we want iterate through a english letters\n",
    "\n",
    "- we need to choose $in$ operator\n",
    "\n",
    "- range means numbers\n",
    "\n",
    "- in means english"
   ]
  },
  {
   "cell_type": "code",
   "execution_count": 35,
   "id": "2a801a84-739f-45d0-8203-943b2277ea3e",
   "metadata": {},
   "outputs": [
    {
     "data": {
      "text/plain": [
       "True"
      ]
     },
     "execution_count": 35,
     "metadata": {},
     "output_type": "execute_result"
    }
   ],
   "source": [
    "'p'>'P'"
   ]
  },
  {
   "cell_type": "markdown",
   "id": "933a9dbd-410a-4eca-a692-5ab30a1cec78",
   "metadata": {},
   "source": [
    "- every english letter \n",
    "\n",
    "- every spl characters how machine will understand\n",
    "\n",
    "- machine language always considers as numbers only\n",
    "\n",
    "- every non numeric assign a number\n",
    "\n",
    "- ASCII: American Standard Code for Information Interchange\n",
    "\n",
    "- A:65, a:97"
   ]
  },
  {
   "cell_type": "markdown",
   "id": "e34a0da7-7161-4992-a801-901d21ad47c1",
   "metadata": {},
   "source": [
    "**ord-chr**"
   ]
  },
  {
   "cell_type": "code",
   "execution_count": null,
   "id": "346cc484-56ca-4f12-b6a2-037a25cf31ff",
   "metadata": {},
   "outputs": [],
   "source": [
    "A===65===0b1000001"
   ]
  },
  {
   "cell_type": "code",
   "execution_count": 41,
   "id": "8ce8363e-bfcd-43e1-be9a-0299ca6308b3",
   "metadata": {},
   "outputs": [
    {
     "data": {
      "text/plain": [
       "(65, 97)"
      ]
     },
     "execution_count": 41,
     "metadata": {},
     "output_type": "execute_result"
    }
   ],
   "source": [
    "ord('A'),ord('a')"
   ]
  },
  {
   "cell_type": "code",
   "execution_count": 45,
   "id": "f1100818-0ee4-467d-b47c-d85f23320cd1",
   "metadata": {},
   "outputs": [
    {
     "data": {
      "text/plain": [
       "(112, 80)"
      ]
     },
     "execution_count": 45,
     "metadata": {},
     "output_type": "execute_result"
    }
   ],
   "source": [
    "ord('p'),ord('P')"
   ]
  },
  {
   "cell_type": "code",
   "execution_count": 49,
   "id": "16d8b1a1-38fb-4219-9a8c-e4bcfc2e7ee4",
   "metadata": {},
   "outputs": [
    {
     "data": {
      "text/plain": [
       "('p', 'P', 'A', 'a')"
      ]
     },
     "execution_count": 49,
     "metadata": {},
     "output_type": "execute_result"
    }
   ],
   "source": [
    "chr(112),chr(80),chr(65),chr(97)"
   ]
  },
  {
   "cell_type": "code",
   "execution_count": 55,
   "id": "bba30b12-dd4b-4dc3-856f-65fe21dee445",
   "metadata": {},
   "outputs": [
    {
     "name": "stdout",
     "output_type": "stream",
     "text": [
      "the ascii number for p is 112\n",
      "the ascii number for y is 121\n",
      "the ascii number for t is 116\n",
      "the ascii number for h is 104\n",
      "the ascii number for o is 111\n",
      "the ascii number for n is 110\n"
     ]
    }
   ],
   "source": [
    "# I want string1 : 'python'\n",
    "# print all ascii numbers for 'python'\n",
    "\n",
    "for i in 'python':\n",
    "    print(f'the ascii number for {i} is {ord(i)}')"
   ]
  },
  {
   "cell_type": "code",
   "execution_count": 59,
   "id": "129dd1d3-54dc-44b6-917d-b206ce408c65",
   "metadata": {},
   "outputs": [
    {
     "name": "stdout",
     "output_type": "stream",
     "text": [
      "the summation is: 674\n"
     ]
    }
   ],
   "source": [
    "summ=0\n",
    "for i in 'python':\n",
    "    summ=summ+ord(i)\n",
    "print('the summation is:',summ)"
   ]
  },
  {
   "cell_type": "code",
   "execution_count": 61,
   "id": "eafa0c23-5e7a-4155-94a5-c70550abeb68",
   "metadata": {},
   "outputs": [],
   "source": [
    "# i want to know all asscii number from A to Z\n",
    "\n",
    "# package called : string\n",
    "# import package\n",
    "# apply the dir\n",
    "# there are some methods are there\n",
    "# in that one method will capital letters\n",
    "\n",
    "import string"
   ]
  },
  {
   "cell_type": "code",
   "execution_count": 63,
   "id": "54732bd7-bbb6-4e1c-8788-95d7e6926983",
   "metadata": {},
   "outputs": [
    {
     "data": {
      "text/plain": [
       "['Formatter',\n",
       " 'Template',\n",
       " '_ChainMap',\n",
       " '__all__',\n",
       " '__builtins__',\n",
       " '__cached__',\n",
       " '__doc__',\n",
       " '__file__',\n",
       " '__loader__',\n",
       " '__name__',\n",
       " '__package__',\n",
       " '__spec__',\n",
       " '_re',\n",
       " '_sentinel_dict',\n",
       " '_string',\n",
       " 'ascii_letters',\n",
       " 'ascii_lowercase',\n",
       " 'ascii_uppercase',\n",
       " 'capwords',\n",
       " 'digits',\n",
       " 'hexdigits',\n",
       " 'octdigits',\n",
       " 'printable',\n",
       " 'punctuation',\n",
       " 'whitespace']"
      ]
     },
     "execution_count": 63,
     "metadata": {},
     "output_type": "execute_result"
    }
   ],
   "source": [
    "dir(string)"
   ]
  },
  {
   "cell_type": "code",
   "execution_count": 67,
   "id": "4ef1440c-a4ad-49f8-8560-bec935eb9043",
   "metadata": {},
   "outputs": [
    {
     "name": "stdout",
     "output_type": "stream",
     "text": [
      "No Python documentation found for 'ABCDEFGHIJKLMNOPQRSTUVWXYZ'.\n",
      "Use help() to get the interactive help utility.\n",
      "Use help(str) for help on the str class.\n",
      "\n"
     ]
    }
   ],
   "source": [
    "help(string.ascii_uppercase)"
   ]
  },
  {
   "cell_type": "code",
   "execution_count": 77,
   "id": "2e2de6ff-2ea4-4bbe-8ed2-2036c5a56a1b",
   "metadata": {},
   "outputs": [
    {
     "name": "stdout",
     "output_type": "stream",
     "text": [
      "A 65\n",
      "B 66\n",
      "C 67\n",
      "D 68\n",
      "E 69\n",
      "F 70\n",
      "G 71\n",
      "H 72\n",
      "I 73\n",
      "J 74\n",
      "K 75\n",
      "L 76\n",
      "M 77\n",
      "N 78\n",
      "O 79\n",
      "P 80\n",
      "Q 81\n",
      "R 82\n",
      "S 83\n",
      "T 84\n",
      "U 85\n",
      "V 86\n",
      "W 87\n",
      "X 88\n",
      "Y 89\n",
      "Z 90\n"
     ]
    }
   ],
   "source": [
    "import string\n",
    "string1=string.ascii_uppercase\n",
    "for i in string1:\n",
    "    print(i,ord(i))"
   ]
  },
  {
   "cell_type": "code",
   "execution_count": 79,
   "id": "d0e4966e-c7ad-441a-801b-9d657286e53b",
   "metadata": {},
   "outputs": [
    {
     "name": "stdout",
     "output_type": "stream",
     "text": [
      "a 97\n",
      "b 98\n",
      "c 99\n",
      "d 100\n",
      "e 101\n",
      "f 102\n",
      "g 103\n",
      "h 104\n",
      "i 105\n",
      "j 106\n",
      "k 107\n",
      "l 108\n",
      "m 109\n",
      "n 110\n",
      "o 111\n",
      "p 112\n",
      "q 113\n",
      "r 114\n",
      "s 115\n",
      "t 116\n",
      "u 117\n",
      "v 118\n",
      "w 119\n",
      "x 120\n",
      "y 121\n",
      "z 122\n"
     ]
    }
   ],
   "source": [
    "import string\n",
    "string2=string.ascii_lowercase\n",
    "for i in string2:\n",
    "    print(i,ord(i))"
   ]
  },
  {
   "cell_type": "code",
   "execution_count": 83,
   "id": "42cda2a2-1805-42c9-a2d1-d6cb1da1ede5",
   "metadata": {},
   "outputs": [
    {
     "data": {
      "text/plain": [
       "'!\"#$%&\\'()*+,-./:;<=>?@[\\\\]^_`{|}~'"
      ]
     },
     "execution_count": 83,
     "metadata": {},
     "output_type": "execute_result"
    }
   ],
   "source": [
    "string.punctuation"
   ]
  },
  {
   "cell_type": "code",
   "execution_count": 85,
   "id": "285e65ef-ad59-4c41-b033-1b4fb554f72d",
   "metadata": {},
   "outputs": [
    {
     "name": "stdout",
     "output_type": "stream",
     "text": [
      "! 33\n",
      "\" 34\n",
      "# 35\n",
      "$ 36\n",
      "% 37\n",
      "& 38\n",
      "' 39\n",
      "( 40\n",
      ") 41\n",
      "* 42\n",
      "+ 43\n",
      ", 44\n",
      "- 45\n",
      ". 46\n",
      "/ 47\n",
      ": 58\n",
      "; 59\n",
      "< 60\n",
      "= 61\n",
      "> 62\n",
      "? 63\n",
      "@ 64\n",
      "[ 91\n",
      "\\ 92\n",
      "] 93\n",
      "^ 94\n",
      "_ 95\n",
      "` 96\n",
      "{ 123\n",
      "| 124\n",
      "} 125\n",
      "~ 126\n"
     ]
    }
   ],
   "source": [
    "spl=string.punctuation\n",
    "for i in spl:\n",
    "    print(i,ord(i))"
   ]
  },
  {
   "cell_type": "code",
   "execution_count": 93,
   "id": "93451506-36b6-493e-9897-d3875fddc086",
   "metadata": {},
   "outputs": [
    {
     "name": "stdout",
     "output_type": "stream",
     "text": [
      "1 \u0001--2 \u0002--3 \u0003--4 \u0004--5 \u0005--6 \u0006--7 \u0007--8--9 \t--10 \n",
      "--14 \u000e--15 \u000f--16 \u0010--17 \u0011--18 \u0012--19 \u0013--20 \u0014--21 \u0015--22 \u0016--23 \u0017--24 \u0018--25 \u0019--26 \u001a--27 \u001b--28 \u001c",
      "--29 \u001d",
      "--30 \u001e",
      "--31 \u001f--32  --33 !--34 \"--35 #--36 $--37 %--38 &--39 '--40 (--41 )--42 *--43 +--44 ,--45 ---46 .--47 /--48 0--49 1--50 2--51 3--52 4--53 5--54 6--55 7--56 8--57 9--58 :--59 ;--60 <--61 =--62 >--63 ?--64 @--65 A--66 B--67 C--68 D--69 E--70 F--71 G--72 H--73 I--74 J--75 K--76 L--77 M--78 N--79 O--80 P--81 Q--82 R--83 S--84 T--85 U--86 V--87 W--88 X--89 Y--90 Z--91 [--92 \\--93 ]--94 ^--95 _--96 `--97 a--98 b--99 c--100 d--101 e--102 f--103 g--104 h--105 i--106 j--107 k--108 l--109 m--110 n--111 o--112 p--113 q--114 r--115 s--116 t--117 u--118 v--119 w--120 x--121 y--122 z--123 {--124 |--125 }--126 ~--127 --128 --129 --130 --131 --132 --133 ",
      "--134 --135 --136 --137 --138 --139 --140 --141 --142 --143 --144 --145 --146 --147 --148 --149 --150 --151 --152 --153 --154 --155 --156 --157 --158 --159 --160  --161 ¡--162 ¢--163 £--164 ¤--165 ¥--166 ¦--167 §--168 ¨--169 ©--170 ª--171 «--172 ¬--173 ­--174 ®--175 ¯--176 °--177 ±--178 ²--179 ³--180 ´--181 µ--182 ¶--183 ·--184 ¸--185 ¹--186 º--187 »--188 ¼--189 ½--190 ¾--191 ¿--192 À--193 Á--194 Â--195 Ã--196 Ä--197 Å--198 Æ--199 Ç--200 È--201 É--202 Ê--203 Ë--204 Ì--205 Í--206 Î--207 Ï--208 Ð--209 Ñ--210 Ò--211 Ó--212 Ô--213 Õ--214 Ö--215 ×--216 Ø--217 Ù--218 Ú--219 Û--220 Ü--221 Ý--222 Þ--223 ß--224 à--225 á--226 â--227 ã--228 ä--229 å--230 æ--231 ç--232 è--233 é--234 ê--235 ë--236 ì--237 í--238 î--239 ï--240 ð--241 ñ--242 ò--243 ó--244 ô--245 õ--246 ö--247 ÷--248 ø--249 ù--250 ú--251 û--252 ü--253 ý--254 þ--255 ÿ--256 Ā--257 ā--258 Ă--259 ă--260 Ą--261 ą--262 Ć--263 ć--264 Ĉ--265 ĉ--266 Ċ--267 ċ--268 Č--269 č--270 Ď--271 ď--272 Đ--273 đ--274 Ē--275 ē--276 Ĕ--277 ĕ--278 Ė--279 ė--280 Ę--281 ę--282 Ě--283 ě--284 Ĝ--285 ĝ--286 Ğ--287 ğ--288 Ġ--289 ġ--290 Ģ--291 ģ--292 Ĥ--293 ĥ--294 Ħ--295 ħ--296 Ĩ--297 ĩ--298 Ī--299 ī--300 Ĭ--301 ĭ--302 Į--303 į--304 İ--305 ı--306 Ĳ--307 ĳ--308 Ĵ--309 ĵ--310 Ķ--311 ķ--312 ĸ--313 Ĺ--314 ĺ--315 Ļ--316 ļ--317 Ľ--318 ľ--319 Ŀ--320 ŀ--321 Ł--322 ł--323 Ń--324 ń--325 Ņ--326 ņ--327 Ň--328 ň--329 ŉ--330 Ŋ--331 ŋ--332 Ō--333 ō--334 Ŏ--335 ŏ--336 Ő--337 ő--338 Œ--339 œ--340 Ŕ--341 ŕ--342 Ŗ--343 ŗ--344 Ř--345 ř--346 Ś--347 ś--348 Ŝ--349 ŝ--350 Ş--351 ş--352 Š--353 š--354 Ţ--355 ţ--356 Ť--357 ť--358 Ŧ--359 ŧ--360 Ũ--361 ũ--362 Ū--363 ū--364 Ŭ--365 ŭ--366 Ů--367 ů--368 Ű--369 ű--370 Ų--371 ų--372 Ŵ--373 ŵ--374 Ŷ--375 ŷ--376 Ÿ--377 Ź--378 ź--379 Ż--380 ż--381 Ž--382 ž--383 ſ--384 ƀ--385 Ɓ--386 Ƃ--387 ƃ--388 Ƅ--389 ƅ--390 Ɔ--391 Ƈ--392 ƈ--393 Ɖ--394 Ɗ--395 Ƌ--396 ƌ--397 ƍ--398 Ǝ--399 Ə--400 Ɛ--401 Ƒ--402 ƒ--403 Ɠ--404 Ɣ--405 ƕ--406 Ɩ--407 Ɨ--408 Ƙ--409 ƙ--410 ƚ--411 ƛ--412 Ɯ--413 Ɲ--414 ƞ--415 Ɵ--416 Ơ--417 ơ--418 Ƣ--419 ƣ--420 Ƥ--421 ƥ--422 Ʀ--423 Ƨ--424 ƨ--425 Ʃ--426 ƪ--427 ƫ--428 Ƭ--429 ƭ--430 Ʈ--431 Ư--432 ư--433 Ʊ--434 Ʋ--435 Ƴ--436 ƴ--437 Ƶ--438 ƶ--439 Ʒ--440 Ƹ--441 ƹ--442 ƺ--443 ƻ--444 Ƽ--445 ƽ--446 ƾ--447 ƿ--448 ǀ--449 ǁ--450 ǂ--451 ǃ--452 Ǆ--453 ǅ--454 ǆ--455 Ǉ--456 ǈ--457 ǉ--458 Ǌ--459 ǋ--460 ǌ--461 Ǎ--462 ǎ--463 Ǐ--464 ǐ--465 Ǒ--466 ǒ--467 Ǔ--468 ǔ--469 Ǖ--470 ǖ--471 Ǘ--472 ǘ--473 Ǚ--474 ǚ--475 Ǜ--476 ǜ--477 ǝ--478 Ǟ--479 ǟ--480 Ǡ--481 ǡ--482 Ǣ--483 ǣ--484 Ǥ--485 ǥ--486 Ǧ--487 ǧ--488 Ǩ--489 ǩ--490 Ǫ--491 ǫ--492 Ǭ--493 ǭ--494 Ǯ--495 ǯ--496 ǰ--497 Ǳ--498 ǲ--499 ǳ--500 Ǵ--501 ǵ--502 Ƕ--503 Ƿ--504 Ǹ--505 ǹ--506 Ǻ--507 ǻ--508 Ǽ--509 ǽ--510 Ǿ--511 ǿ--512 Ȁ--513 ȁ--514 Ȃ--515 ȃ--516 Ȅ--517 ȅ--518 Ȇ--519 ȇ--520 Ȉ--521 ȉ--522 Ȋ--523 ȋ--524 Ȍ--525 ȍ--526 Ȏ--527 ȏ--528 Ȑ--529 ȑ--530 Ȓ--531 ȓ--532 Ȕ--533 ȕ--534 Ȗ--535 ȗ--536 Ș--537 ș--538 Ț--539 ț--540 Ȝ--541 ȝ--542 Ȟ--543 ȟ--544 Ƞ--545 ȡ--546 Ȣ--547 ȣ--548 Ȥ--549 ȥ--550 Ȧ--551 ȧ--552 Ȩ--553 ȩ--554 Ȫ--555 ȫ--556 Ȭ--557 ȭ--558 Ȯ--559 ȯ--560 Ȱ--561 ȱ--562 Ȳ--563 ȳ--564 ȴ--565 ȵ--566 ȶ--567 ȷ--568 ȸ--569 ȹ--570 Ⱥ--571 Ȼ--572 ȼ--573 Ƚ--574 Ⱦ--575 ȿ--576 ɀ--577 Ɂ--578 ɂ--579 Ƀ--580 Ʉ--581 Ʌ--582 Ɇ--583 ɇ--584 Ɉ--585 ɉ--586 Ɋ--587 ɋ--588 Ɍ--589 ɍ--590 Ɏ--591 ɏ--592 ɐ--593 ɑ--594 ɒ--595 ɓ--596 ɔ--597 ɕ--598 ɖ--599 ɗ--600 ɘ--601 ə--602 ɚ--603 ɛ--604 ɜ--605 ɝ--606 ɞ--607 ɟ--608 ɠ--609 ɡ--610 ɢ--611 ɣ--612 ɤ--613 ɥ--614 ɦ--615 ɧ--616 ɨ--617 ɩ--618 ɪ--619 ɫ--620 ɬ--621 ɭ--622 ɮ--623 ɯ--624 ɰ--625 ɱ--626 ɲ--627 ɳ--628 ɴ--629 ɵ--630 ɶ--631 ɷ--632 ɸ--633 ɹ--634 ɺ--635 ɻ--636 ɼ--637 ɽ--638 ɾ--639 ɿ--640 ʀ--641 ʁ--642 ʂ--643 ʃ--644 ʄ--645 ʅ--646 ʆ--647 ʇ--648 ʈ--649 ʉ--650 ʊ--651 ʋ--652 ʌ--653 ʍ--654 ʎ--655 ʏ--656 ʐ--657 ʑ--658 ʒ--659 ʓ--660 ʔ--661 ʕ--662 ʖ--663 ʗ--664 ʘ--665 ʙ--666 ʚ--667 ʛ--668 ʜ--669 ʝ--670 ʞ--671 ʟ--672 ʠ--673 ʡ--674 ʢ--675 ʣ--676 ʤ--677 ʥ--678 ʦ--679 ʧ--680 ʨ--681 ʩ--682 ʪ--683 ʫ--684 ʬ--685 ʭ--686 ʮ--687 ʯ--688 ʰ--689 ʱ--690 ʲ--691 ʳ--692 ʴ--693 ʵ--694 ʶ--695 ʷ--696 ʸ--697 ʹ--698 ʺ--699 ʻ--700 ʼ--701 ʽ--702 ʾ--703 ʿ--704 ˀ--705 ˁ--706 ˂--707 ˃--708 ˄--709 ˅--710 ˆ--711 ˇ--712 ˈ--713 ˉ--714 ˊ--715 ˋ--716 ˌ--717 ˍ--718 ˎ--719 ˏ--720 ː--721 ˑ--722 ˒--723 ˓--724 ˔--725 ˕--726 ˖--727 ˗--728 ˘--729 ˙--730 ˚--731 ˛--732 ˜--733 ˝--734 ˞--735 ˟--736 ˠ--737 ˡ--738 ˢ--739 ˣ--740 ˤ--741 ˥--742 ˦--743 ˧--744 ˨--745 ˩--746 ˪--747 ˫--748 ˬ--749 ˭--750 ˮ--751 ˯--752 ˰--753 ˱--754 ˲--755 ˳--756 ˴--757 ˵--758 ˶--759 ˷--760 ˸--761 ˹--762 ˺--763 ˻--764 ˼--765 ˽--766 ˾--767 ˿--768 ̀--769 ́--770 ̂--771 ̃--772 ̄--773 ̅--774 ̆--775 ̇--776 ̈--777 ̉--778 ̊--779 ̋--780 ̌--781 ̍--782 ̎--783 ̏--784 ̐--785 ̑--786 ̒--787 ̓--788 ̔--789 ̕--790 ̖--791 ̗--792 ̘--793 ̙--794 ̚--795 ̛--796 ̜--797 ̝--798 ̞--799 ̟--800 ̠--801 ̡--802 ̢--803 ̣--804 ̤--805 ̥--806 ̦--807 ̧--808 ̨--809 ̩--810 ̪--811 ̫--812 ̬--813 ̭--814 ̮--815 ̯--816 ̰--817 ̱--818 ̲--819 ̳--820 ̴--821 ̵--822 ̶--823 ̷--824 ̸--825 ̹--826 ̺--827 ̻--828 ̼--829 ̽--830 ̾--831 ̿--832 ̀--833 ́--834 ͂--835 ̓--836 ̈́--837 ͅ--838 ͆--839 ͇--840 ͈--841 ͉--842 ͊--843 ͋--844 ͌--845 ͍--846 ͎--847 ͏--848 ͐--849 ͑--850 ͒--851 ͓--852 ͔--853 ͕--854 ͖--855 ͗--856 ͘--857 ͙--858 ͚--859 ͛--860 ͜--861 ͝--862 ͞--863 ͟--864 ͠--865 ͡--866 ͢--867 ͣ--868 ͤ--869 ͥ--870 ͦ--871 ͧ--872 ͨ--873 ͩ--874 ͪ--875 ͫ--876 ͬ--877 ͭ--878 ͮ--879 ͯ--880 Ͱ--881 ͱ--882 Ͳ--883 ͳ--884 ʹ--885 ͵--886 Ͷ--887 ͷ--888 ͸--889 ͹--890 ͺ--891 ͻ--892 ͼ--893 ͽ--894 ;--895 Ϳ--896 ΀--897 ΁--898 ΂--899 ΃--900 ΄--901 ΅--902 Ά--903 ·--904 Έ--905 Ή--906 Ί--907 ΋--908 Ό--909 ΍--910 Ύ--911 Ώ--912 ΐ--913 Α--914 Β--915 Γ--916 Δ--917 Ε--918 Ζ--919 Η--920 Θ--921 Ι--922 Κ--923 Λ--924 Μ--925 Ν--926 Ξ--927 Ο--928 Π--929 Ρ--930 ΢--931 Σ--932 Τ--933 Υ--934 Φ--935 Χ--936 Ψ--937 Ω--938 Ϊ--939 Ϋ--940 ά--941 έ--942 ή--943 ί--944 ΰ--945 α--946 β--947 γ--948 δ--949 ε--950 ζ--951 η--952 θ--953 ι--954 κ--955 λ--956 μ--957 ν--958 ξ--959 ο--960 π--961 ρ--962 ς--963 σ--964 τ--965 υ--966 φ--967 χ--968 ψ--969 ω--970 ϊ--971 ϋ--972 ό--973 ύ--974 ώ--975 Ϗ--976 ϐ--977 ϑ--978 ϒ--979 ϓ--980 ϔ--981 ϕ--982 ϖ--983 ϗ--984 Ϙ--985 ϙ--986 Ϛ--987 ϛ--988 Ϝ--989 ϝ--990 Ϟ--991 ϟ--992 Ϡ--993 ϡ--994 Ϣ--995 ϣ--996 Ϥ--997 ϥ--998 Ϧ--999 ϧ--1000 Ϩ--1001 ϩ--1002 Ϫ--1003 ϫ--1004 Ϭ--1005 ϭ--1006 Ϯ--1007 ϯ--1008 ϰ--1009 ϱ--1010 ϲ--1011 ϳ--1012 ϴ--1013 ϵ--1014 ϶--1015 Ϸ--1016 ϸ--1017 Ϲ--1018 Ϻ--1019 ϻ--1020 ϼ--1021 Ͻ--1022 Ͼ--1023 Ͽ--1024 Ѐ--1025 Ё--1026 Ђ--1027 Ѓ--1028 Є--1029 Ѕ--1030 І--1031 Ї--1032 Ј--1033 Љ--1034 Њ--1035 Ћ--1036 Ќ--1037 Ѝ--1038 Ў--1039 Џ--1040 А--1041 Б--1042 В--1043 Г--1044 Д--1045 Е--1046 Ж--1047 З--1048 И--1049 Й--1050 К--1051 Л--1052 М--1053 Н--1054 О--1055 П--1056 Р--1057 С--1058 Т--1059 У--1060 Ф--1061 Х--1062 Ц--1063 Ч--1064 Ш--1065 Щ--1066 Ъ--1067 Ы--1068 Ь--1069 Э--1070 Ю--1071 Я--1072 а--1073 б--1074 в--1075 г--1076 д--1077 е--1078 ж--1079 з--1080 и--1081 й--1082 к--1083 л--1084 м--1085 н--1086 о--1087 п--1088 р--1089 с--1090 т--1091 у--1092 ф--1093 х--1094 ц--1095 ч--1096 ш--1097 щ--1098 ъ--1099 ы--1100 ь--1101 э--1102 ю--1103 я--1104 ѐ--1105 ё--1106 ђ--1107 ѓ--1108 є--1109 ѕ--1110 і--1111 ї--1112 ј--1113 љ--1114 њ--1115 ћ--1116 ќ--1117 ѝ--1118 ў--1119 џ--1120 Ѡ--1121 ѡ--1122 Ѣ--1123 ѣ--1124 Ѥ--1125 ѥ--1126 Ѧ--1127 ѧ--1128 Ѩ--1129 ѩ--1130 Ѫ--1131 ѫ--1132 Ѭ--1133 ѭ--1134 Ѯ--1135 ѯ--1136 Ѱ--1137 ѱ--1138 Ѳ--1139 ѳ--1140 Ѵ--1141 ѵ--1142 Ѷ--1143 ѷ--1144 Ѹ--1145 ѹ--1146 Ѻ--1147 ѻ--1148 Ѽ--1149 ѽ--1150 Ѿ--1151 ѿ--1152 Ҁ--1153 ҁ--1154 ҂--1155 ҃--1156 ҄--1157 ҅--1158 ҆--1159 ҇--1160 ҈--1161 ҉--1162 Ҋ--1163 ҋ--1164 Ҍ--1165 ҍ--1166 Ҏ--1167 ҏ--1168 Ґ--1169 ґ--1170 Ғ--1171 ғ--1172 Ҕ--1173 ҕ--1174 Җ--1175 җ--1176 Ҙ--1177 ҙ--1178 Қ--1179 қ--1180 Ҝ--1181 ҝ--1182 Ҟ--1183 ҟ--1184 Ҡ--1185 ҡ--1186 Ң--1187 ң--1188 Ҥ--1189 ҥ--1190 Ҧ--1191 ҧ--1192 Ҩ--1193 ҩ--1194 Ҫ--1195 ҫ--1196 Ҭ--1197 ҭ--1198 Ү--1199 ү--1200 Ұ--1201 ұ--1202 Ҳ--1203 ҳ--1204 Ҵ--1205 ҵ--1206 Ҷ--1207 ҷ--1208 Ҹ--1209 ҹ--1210 Һ--1211 һ--1212 Ҽ--1213 ҽ--1214 Ҿ--1215 ҿ--1216 Ӏ--1217 Ӂ--1218 ӂ--1219 Ӄ--1220 ӄ--1221 Ӆ--1222 ӆ--1223 Ӈ--1224 ӈ--1225 Ӊ--1226 ӊ--1227 Ӌ--1228 ӌ--1229 Ӎ--1230 ӎ--1231 ӏ--1232 Ӑ--1233 ӑ--1234 Ӓ--1235 ӓ--1236 Ӕ--1237 ӕ--1238 Ӗ--1239 ӗ--1240 Ә--1241 ә--1242 Ӛ--1243 ӛ--1244 Ӝ--1245 ӝ--1246 Ӟ--1247 ӟ--1248 Ӡ--1249 ӡ--1250 Ӣ--1251 ӣ--1252 Ӥ--1253 ӥ--1254 Ӧ--1255 ӧ--1256 Ө--1257 ө--1258 Ӫ--1259 ӫ--1260 Ӭ--1261 ӭ--1262 Ӯ--1263 ӯ--1264 Ӱ--1265 ӱ--1266 Ӳ--1267 ӳ--1268 Ӵ--1269 ӵ--1270 Ӷ--1271 ӷ--1272 Ӹ--1273 ӹ--1274 Ӻ--1275 ӻ--1276 Ӽ--1277 ӽ--1278 Ӿ--1279 ӿ--1280 Ԁ--1281 ԁ--1282 Ԃ--1283 ԃ--1284 Ԅ--1285 ԅ--1286 Ԇ--1287 ԇ--1288 Ԉ--1289 ԉ--1290 Ԋ--1291 ԋ--1292 Ԍ--1293 ԍ--1294 Ԏ--1295 ԏ--1296 Ԑ--1297 ԑ--1298 Ԓ--1299 ԓ--1300 Ԕ--1301 ԕ--1302 Ԗ--1303 ԗ--1304 Ԙ--1305 ԙ--1306 Ԛ--1307 ԛ--1308 Ԝ--1309 ԝ--1310 Ԟ--1311 ԟ--1312 Ԡ--1313 ԡ--1314 Ԣ--1315 ԣ--1316 Ԥ--1317 ԥ--1318 Ԧ--1319 ԧ--1320 Ԩ--1321 ԩ--1322 Ԫ--1323 ԫ--1324 Ԭ--1325 ԭ--1326 Ԯ--1327 ԯ--1328 ԰--1329 Ա--1330 Բ--1331 Գ--1332 Դ--1333 Ե--1334 Զ--1335 Է--1336 Ը--1337 Թ--1338 Ժ--1339 Ի--1340 Լ--1341 Խ--1342 Ծ--1343 Կ--1344 Հ--1345 Ձ--1346 Ղ--1347 Ճ--1348 Մ--1349 Յ--1350 Ն--1351 Շ--1352 Ո--1353 Չ--1354 Պ--1355 Ջ--1356 Ռ--1357 Ս--1358 Վ--1359 Տ--1360 Ր--1361 Ց--1362 Ւ--1363 Փ--1364 Ք--1365 Օ--1366 Ֆ--1367 ՗--1368 ՘--1369 ՙ--1370 ՚--1371 ՛--1372 ՜--1373 ՝--1374 ՞--1375 ՟--1376 ՠ--1377 ա--1378 բ--1379 գ--1380 դ--1381 ե--1382 զ--1383 է--1384 ը--1385 թ--1386 ժ--1387 ի--1388 լ--1389 խ--1390 ծ--1391 կ--1392 հ--1393 ձ--1394 ղ--1395 ճ--1396 մ--1397 յ--1398 ն--1399 շ--1400 ո--1401 չ--1402 պ--1403 ջ--1404 ռ--1405 ս--1406 վ--1407 տ--1408 ր--1409 ց--1410 ւ--1411 փ--1412 ք--1413 օ--1414 ֆ--1415 և--1416 ֈ--1417 ։--1418 ֊--1419 ֋--1420 ֌--1421 ֍--1422 ֎--1423 ֏--1424 ֐--1425 ֑--1426 ֒--1427 ֓--1428 ֔--1429 ֕--1430 ֖--1431 ֗--1432 ֘--1433 ֙--1434 ֚--1435 ֛--1436 ֜--1437 ֝--1438 ֞--1439 ֟--1440 ֠--1441 ֡--1442 ֢--1443 ֣--1444 ֤--1445 ֥--1446 ֦--1447 ֧--1448 ֨--1449 ֩--1450 ֪--1451 ֫--1452 ֬--1453 ֭--1454 ֮--1455 ֯--1456 ְ--1457 ֱ--1458 ֲ--1459 ֳ--1460 ִ--1461 ֵ--1462 ֶ--1463 ַ--1464 ָ--1465 ֹ--1466 ֺ--1467 ֻ--1468 ּ--1469 ֽ--1470 ־--1471 ֿ--1472 ׀--1473 ׁ--1474 ׂ--1475 ׃--1476 ׄ--1477 ׅ--1478 ׆--1479 ׇ--1480 ׈--1481 ׉--1482 ׊--1483 ׋--1484 ׌--1485 ׍--1486 ׎--1487 ׏--1488 א--1489 ב--1490 ג--1491 ד--1492 ה--1493 ו--1494 ז--1495 ח--1496 ט--1497 י--1498 ך--1499 כ--1500 ל--1501 ם--1502 מ--1503 ן--1504 נ--1505 ס--1506 ע--1507 ף--1508 פ--1509 ץ--1510 צ--1511 ק--1512 ר--1513 ש--1514 ת--1515 ׫--1516 ׬--1517 ׭--1518 ׮--1519 ׯ--1520 װ--1521 ױ--1522 ײ--1523 ׳--1524 ״--1525 ׵--1526 ׶--1527 ׷--1528 ׸--1529 ׹--1530 ׺--1531 ׻--1532 ׼--1533 ׽--1534 ׾--1535 ׿--1536 ؀--1537 ؁--1538 ؂--1539 ؃--1540 ؄--1541 ؅--1542 ؆--1543 ؇--1544 ؈--1545 ؉--1546 ؊--1547 ؋--1548 ،--1549 ؍--1550 ؎--1551 ؏--1552 ؐ--1553 ؑ--1554 ؒ--1555 ؓ--1556 ؔ--1557 ؕ--1558 ؖ--1559 ؗ--1560 ؘ--1561 ؙ--1562 ؚ--1563 ؛--1564 ؜--1565 ؝--1566 ؞--1567 ؟--1568 ؠ--1569 ء--1570 آ--1571 أ--1572 ؤ--1573 إ--1574 ئ--1575 ا--1576 ب--1577 ة--1578 ت--1579 ث--1580 ج--1581 ح--1582 خ--1583 د--1584 ذ--1585 ر--1586 ز--1587 س--1588 ش--1589 ص--1590 ض--1591 ط--1592 ظ--1593 ع--1594 غ--1595 ػ--1596 ؼ--1597 ؽ--1598 ؾ--1599 ؿ--1600 ـ--1601 ف--1602 ق--1603 ك--1604 ل--1605 م--1606 ن--1607 ه--1608 و--1609 ى--1610 ي--1611 ً--1612 ٌ--1613 ٍ--1614 َ--1615 ُ--1616 ِ--1617 ّ--1618 ْ--1619 ٓ--1620 ٔ--1621 ٕ--1622 ٖ--1623 ٗ--1624 ٘--1625 ٙ--1626 ٚ--1627 ٛ--1628 ٜ--1629 ٝ--1630 ٞ--1631 ٟ--1632 ٠--1633 ١--1634 ٢--1635 ٣--1636 ٤--1637 ٥--1638 ٦--1639 ٧--1640 ٨--1641 ٩--1642 ٪--1643 ٫--1644 ٬--1645 ٭--1646 ٮ--1647 ٯ--1648 ٰ--1649 ٱ--1650 ٲ--1651 ٳ--1652 ٴ--1653 ٵ--1654 ٶ--1655 ٷ--1656 ٸ--1657 ٹ--1658 ٺ--1659 ٻ--1660 ټ--1661 ٽ--1662 پ--1663 ٿ--1664 ڀ--1665 ځ--1666 ڂ--1667 ڃ--1668 ڄ--1669 څ--1670 چ--1671 ڇ--1672 ڈ--1673 ډ--1674 ڊ--1675 ڋ--1676 ڌ--1677 ڍ--1678 ڎ--1679 ڏ--1680 ڐ--1681 ڑ--1682 ڒ--1683 ړ--1684 ڔ--1685 ڕ--1686 ږ--1687 ڗ--1688 ژ--1689 ڙ--1690 ښ--1691 ڛ--1692 ڜ--1693 ڝ--1694 ڞ--1695 ڟ--1696 ڠ--1697 ڡ--1698 ڢ--1699 ڣ--1700 ڤ--1701 ڥ--1702 ڦ--1703 ڧ--1704 ڨ--1705 ک--1706 ڪ--1707 ګ--1708 ڬ--1709 ڭ--1710 ڮ--1711 گ--1712 ڰ--1713 ڱ--1714 ڲ--1715 ڳ--1716 ڴ--1717 ڵ--1718 ڶ--1719 ڷ--1720 ڸ--1721 ڹ--1722 ں--1723 ڻ--1724 ڼ--1725 ڽ--1726 ھ--1727 ڿ--1728 ۀ--1729 ہ--1730 ۂ--1731 ۃ--1732 ۄ--1733 ۅ--1734 ۆ--1735 ۇ--1736 ۈ--1737 ۉ--1738 ۊ--1739 ۋ--1740 ی--1741 ۍ--1742 ێ--1743 ۏ--1744 ې--1745 ۑ--1746 ے--1747 ۓ--1748 ۔--1749 ە--1750 ۖ--1751 ۗ--1752 ۘ--1753 ۙ--1754 ۚ--1755 ۛ--1756 ۜ--1757 ۝--1758 ۞--1759 ۟--1760 ۠--1761 ۡ--1762 ۢ--1763 ۣ--1764 ۤ--1765 ۥ--1766 ۦ--1767 ۧ--1768 ۨ--1769 ۩--1770 ۪--1771 ۫--1772 ۬--1773 ۭ--1774 ۮ--1775 ۯ--1776 ۰--1777 ۱--1778 ۲--1779 ۳--1780 ۴--1781 ۵--1782 ۶--1783 ۷--1784 ۸--1785 ۹--1786 ۺ--1787 ۻ--1788 ۼ--1789 ۽--1790 ۾--1791 ۿ--1792 ܀--1793 ܁--1794 ܂--1795 ܃--1796 ܄--1797 ܅--1798 ܆--1799 ܇--1800 ܈--1801 ܉--1802 ܊--1803 ܋--1804 ܌--1805 ܍--1806 ܎--1807 ܏--1808 ܐ--1809 ܑ--1810 ܒ--1811 ܓ--1812 ܔ--1813 ܕ--1814 ܖ--1815 ܗ--1816 ܘ--1817 ܙ--1818 ܚ--1819 ܛ--1820 ܜ--1821 ܝ--1822 ܞ--1823 ܟ--1824 ܠ--1825 ܡ--1826 ܢ--1827 ܣ--1828 ܤ--1829 ܥ--1830 ܦ--1831 ܧ--1832 ܨ--1833 ܩ--1834 ܪ--1835 ܫ--1836 ܬ--1837 ܭ--1838 ܮ--1839 ܯ--1840 ܰ--1841 ܱ--1842 ܲ--1843 ܳ--1844 ܴ--1845 ܵ--1846 ܶ--1847 ܷ--1848 ܸ--1849 ܹ--1850 ܺ--1851 ܻ--1852 ܼ--1853 ܽ--1854 ܾ--1855 ܿ--1856 ݀--1857 ݁--1858 ݂--1859 ݃--1860 ݄--1861 ݅--1862 ݆--1863 ݇--1864 ݈--1865 ݉--1866 ݊--1867 ݋--1868 ݌--1869 ݍ--1870 ݎ--1871 ݏ--1872 ݐ--1873 ݑ--1874 ݒ--1875 ݓ--1876 ݔ--1877 ݕ--1878 ݖ--1879 ݗ--1880 ݘ--1881 ݙ--1882 ݚ--1883 ݛ--1884 ݜ--1885 ݝ--1886 ݞ--1887 ݟ--1888 ݠ--1889 ݡ--1890 ݢ--1891 ݣ--1892 ݤ--1893 ݥ--1894 ݦ--1895 ݧ--1896 ݨ--1897 ݩ--1898 ݪ--1899 ݫ--1900 ݬ--1901 ݭ--1902 ݮ--1903 ݯ--1904 ݰ--1905 ݱ--1906 ݲ--1907 ݳ--1908 ݴ--1909 ݵ--1910 ݶ--1911 ݷ--1912 ݸ--1913 ݹ--1914 ݺ--1915 ݻ--1916 ݼ--1917 ݽ--1918 ݾ--1919 ݿ--1920 ހ--1921 ށ--1922 ނ--1923 ރ--1924 ބ--1925 ޅ--1926 ކ--1927 އ--1928 ވ--1929 މ--1930 ފ--1931 ދ--1932 ތ--1933 ލ--1934 ގ--1935 ޏ--1936 ސ--1937 ޑ--1938 ޒ--1939 ޓ--1940 ޔ--1941 ޕ--1942 ޖ--1943 ޗ--1944 ޘ--1945 ޙ--1946 ޚ--1947 ޛ--1948 ޜ--1949 ޝ--1950 ޞ--1951 ޟ--1952 ޠ--1953 ޡ--1954 ޢ--1955 ޣ--1956 ޤ--1957 ޥ--1958 ަ--1959 ާ--1960 ި--1961 ީ--1962 ު--1963 ޫ--1964 ެ--1965 ޭ--1966 ޮ--1967 ޯ--1968 ް--1969 ޱ--1970 ޲--1971 ޳--1972 ޴--1973 ޵--1974 ޶--1975 ޷--1976 ޸--1977 ޹--1978 ޺--1979 ޻--1980 ޼--1981 ޽--1982 ޾--1983 ޿--1984 ߀--1985 ߁--1986 ߂--1987 ߃--1988 ߄--1989 ߅--1990 ߆--1991 ߇--1992 ߈--1993 ߉--1994 ߊ--1995 ߋ--1996 ߌ--1997 ߍ--1998 ߎ--1999 ߏ--2000 ߐ--2001 ߑ--2002 ߒ--2003 ߓ--2004 ߔ--2005 ߕ--2006 ߖ--2007 ߗ--2008 ߘ--2009 ߙ--2010 ߚ--2011 ߛ--2012 ߜ--2013 ߝ--2014 ߞ--2015 ߟ--2016 ߠ--2017 ߡ--2018 ߢ--2019 ߣ--2020 ߤ--2021 ߥ--2022 ߦ--2023 ߧ--2024 ߨ--2025 ߩ--2026 ߪ--2027 ߫--2028 ߬--2029 ߭--2030 ߮--2031 ߯--2032 ߰--2033 ߱--2034 ߲--2035 ߳--2036 ߴ--2037 ߵ--2038 ߶--2039 ߷--2040 ߸--2041 ߹--2042 ߺ--2043 ߻--2044 ߼--2045 ߽--2046 ߾--2047 ߿--2048 ࠀ--2049 ࠁ--2050 ࠂ--2051 ࠃ--2052 ࠄ--2053 ࠅ--2054 ࠆ--2055 ࠇ--2056 ࠈ--2057 ࠉ--2058 ࠊ--2059 ࠋ--2060 ࠌ--2061 ࠍ--2062 ࠎ--2063 ࠏ--2064 ࠐ--2065 ࠑ--2066 ࠒ--2067 ࠓ--2068 ࠔ--2069 ࠕ--2070 ࠖ--2071 ࠗ--2072 ࠘--2073 ࠙--2074 ࠚ--2075 ࠛ--2076 ࠜ--2077 ࠝ--2078 ࠞ--2079 ࠟ--2080 ࠠ--2081 ࠡ--2082 ࠢ--2083 ࠣ--2084 ࠤ--2085 ࠥ--2086 ࠦ--2087 ࠧ--2088 ࠨ--2089 ࠩ--2090 ࠪ--2091 ࠫ--2092 ࠬ--2093 ࠭--2094 ࠮--2095 ࠯--2096 ࠰--2097 ࠱--2098 ࠲--2099 ࠳--2100 ࠴--2101 ࠵--2102 ࠶--2103 ࠷--2104 ࠸--2105 ࠹--2106 ࠺--2107 ࠻--2108 ࠼--2109 ࠽--2110 ࠾--2111 ࠿--2112 ࡀ--2113 ࡁ--2114 ࡂ--2115 ࡃ--2116 ࡄ--2117 ࡅ--2118 ࡆ--2119 ࡇ--2120 ࡈ--2121 ࡉ--2122 ࡊ--2123 ࡋ--2124 ࡌ--2125 ࡍ--2126 ࡎ--2127 ࡏ--2128 ࡐ--2129 ࡑ--2130 ࡒ--2131 ࡓ--2132 ࡔ--2133 ࡕ--2134 ࡖ--2135 ࡗ--2136 ࡘ--2137 ࡙--2138 ࡚--2139 ࡛--2140 ࡜--2141 ࡝--2142 ࡞--2143 ࡟--2144 ࡠ--2145 ࡡ--2146 ࡢ--2147 ࡣ--2148 ࡤ--2149 ࡥ--2150 ࡦ--2151 ࡧ--2152 ࡨ--2153 ࡩ--2154 ࡪ--2155 ࡫--2156 ࡬--2157 ࡭--2158 ࡮--2159 ࡯--2160 ࡰ--2161 ࡱ--2162 ࡲ--2163 ࡳ--2164 ࡴ--2165 ࡵ--2166 ࡶ--2167 ࡷ--2168 ࡸ--2169 ࡹ--2170 ࡺ--2171 ࡻ--2172 ࡼ--2173 ࡽ--2174 ࡾ--2175 ࡿ--2176 ࢀ--2177 ࢁ--2178 ࢂ--2179 ࢃ--2180 ࢄ--2181 ࢅ--2182 ࢆ--2183 ࢇ--2184 ࢈--2185 ࢉ--2186 ࢊ--2187 ࢋ--2188 ࢌ--2189 ࢍ--2190 ࢎ--2191 ࢏--2192 ࢐--2193 ࢑--2194 ࢒--2195 ࢓--2196 ࢔--2197 ࢕--2198 ࢖--2199 ࢗ--2200 ࢘--2201 ࢙--2202 ࢚--2203 ࢛--2204 ࢜--2205 ࢝--2206 ࢞--2207 ࢟--2208 ࢠ--2209 ࢡ--2210 ࢢ--2211 ࢣ--2212 ࢤ--2213 ࢥ--2214 ࢦ--2215 ࢧ--2216 ࢨ--2217 ࢩ--2218 ࢪ--2219 ࢫ--2220 ࢬ--2221 ࢭ--2222 ࢮ--2223 ࢯ--2224 ࢰ--2225 ࢱ--2226 ࢲ--2227 ࢳ--2228 ࢴ--2229 ࢵ--2230 ࢶ--2231 ࢷ--2232 ࢸ--2233 ࢹ--2234 ࢺ--2235 ࢻ--2236 ࢼ--2237 ࢽ--2238 ࢾ--2239 ࢿ--2240 ࣀ--2241 ࣁ--2242 ࣂ--2243 ࣃ--2244 ࣄ--2245 ࣅ--2246 ࣆ--2247 ࣇ--2248 ࣈ--2249 ࣉ--2250 ࣊--2251 ࣋--2252 ࣌--2253 ࣍--2254 ࣎--2255 ࣏--2256 ࣐--2257 ࣑--2258 ࣒--2259 ࣓--2260 ࣔ--2261 ࣕ--2262 ࣖ--2263 ࣗ--2264 ࣘ--2265 ࣙ--2266 ࣚ--2267 ࣛ--2268 ࣜ--2269 ࣝ--2270 ࣞ--2271 ࣟ--2272 ࣠--2273 ࣡--2274 ࣢--2275 ࣣ--2276 ࣤ--2277 ࣥ--2278 ࣦ--2279 ࣧ--2280 ࣨ--2281 ࣩ--2282 ࣪--2283 ࣫--2284 ࣬--2285 ࣭--2286 ࣮--2287 ࣯--2288 ࣰ--2289 ࣱ--2290 ࣲ--2291 ࣳ--2292 ࣴ--2293 ࣵ--2294 ࣶ--2295 ࣷ--2296 ࣸ--2297 ࣹ--2298 ࣺ--2299 ࣻ--2300 ࣼ--2301 ࣽ--2302 ࣾ--2303 ࣿ--2304 ऀ--2305 ँ--2306 ं--2307 ः--2308 ऄ--2309 अ--2310 आ--2311 इ--2312 ई--2313 उ--2314 ऊ--2315 ऋ--2316 ऌ--2317 ऍ--2318 ऎ--2319 ए--2320 ऐ--2321 ऑ--2322 ऒ--2323 ओ--2324 औ--2325 क--2326 ख--2327 ग--2328 घ--2329 ङ--2330 च--2331 छ--2332 ज--2333 झ--2334 ञ--2335 ट--2336 ठ--2337 ड--2338 ढ--2339 ण--2340 त--2341 थ--2342 द--2343 ध--2344 न--2345 ऩ--2346 प--2347 फ--2348 ब--2349 भ--2350 म--2351 य--2352 र--2353 ऱ--2354 ल--2355 ळ--2356 ऴ--2357 व--2358 श--2359 ष--2360 स--2361 ह--2362 ऺ--2363 ऻ--2364 ़--2365 ऽ--2366 ा--2367 ि--2368 ी--2369 ु--2370 ू--2371 ृ--2372 ॄ--2373 ॅ--2374 ॆ--2375 े--2376 ै--2377 ॉ--2378 ॊ--2379 ो--2380 ौ--2381 ्--2382 ॎ--2383 ॏ--2384 ॐ--2385 ॑--2386 ॒--2387 ॓--2388 ॔--2389 ॕ--2390 ॖ--2391 ॗ--2392 क़--2393 ख़--2394 ग़--2395 ज़--2396 ड़--2397 ढ़--2398 फ़--2399 य़--2400 ॠ--2401 ॡ--2402 ॢ--2403 ॣ--2404 ।--2405 ॥--2406 ०--2407 १--2408 २--2409 ३--2410 ४--2411 ५--2412 ६--2413 ७--2414 ८--2415 ९--2416 ॰--2417 ॱ--2418 ॲ--2419 ॳ--2420 ॴ--2421 ॵ--2422 ॶ--2423 ॷ--2424 ॸ--2425 ॹ--2426 ॺ--2427 ॻ--2428 ॼ--2429 ॽ--2430 ॾ--2431 ॿ--2432 ঀ--2433 ঁ--2434 ং--2435 ঃ--2436 ঄--2437 অ--2438 আ--2439 ই--2440 ঈ--2441 উ--2442 ঊ--2443 ঋ--2444 ঌ--2445 ঍--2446 ঎--2447 এ--2448 ঐ--2449 ঑--2450 ঒--2451 ও--2452 ঔ--2453 ক--2454 খ--2455 গ--2456 ঘ--2457 ঙ--2458 চ--2459 ছ--2460 জ--2461 ঝ--2462 ঞ--2463 ট--2464 ঠ--2465 ড--2466 ঢ--2467 ণ--2468 ত--2469 থ--2470 দ--2471 ধ--2472 ন--2473 ঩--2474 প--2475 ফ--2476 ব--2477 ভ--2478 ম--2479 য--2480 র--2481 ঱--2482 ল--2483 ঳--2484 ঴--2485 ঵--2486 শ--2487 ষ--2488 স--2489 হ--2490 ঺--2491 ঻--2492 ়--2493 ঽ--2494 া--2495 ি--2496 ী--2497 ু--2498 ূ--2499 ৃ--2500 ৄ--2501 ৅--2502 ৆--2503 ে--2504 ৈ--2505 ৉--2506 ৊--2507 ো--2508 ৌ--2509 ্--2510 ৎ--2511 ৏--2512 ৐--2513 ৑--2514 ৒--2515 ৓--2516 ৔--2517 ৕--2518 ৖--2519 ৗ--2520 ৘--2521 ৙--2522 ৚--2523 ৛--2524 ড়--2525 ঢ়--2526 ৞--2527 য়--2528 ৠ--2529 ৡ--2530 ৢ--2531 ৣ--2532 ৤--2533 ৥--2534 ০--2535 ১--2536 ২--2537 ৩--2538 ৪--2539 ৫--2540 ৬--2541 ৭--2542 ৮--2543 ৯--2544 ৰ--2545 ৱ--2546 ৲--2547 ৳--2548 ৴--2549 ৵--2550 ৶--2551 ৷--2552 ৸--2553 ৹--2554 ৺--2555 ৻--2556 ৼ--2557 ৽--2558 ৾--2559 ৿--2560 ਀--2561 ਁ--2562 ਂ--2563 ਃ--2564 ਄--2565 ਅ--2566 ਆ--2567 ਇ--2568 ਈ--2569 ਉ--2570 ਊ--2571 ਋--2572 ਌--2573 ਍--2574 ਎--2575 ਏ--2576 ਐ--2577 ਑--2578 ਒--2579 ਓ--2580 ਔ--2581 ਕ--2582 ਖ--2583 ਗ--2584 ਘ--2585 ਙ--2586 ਚ--2587 ਛ--2588 ਜ--2589 ਝ--2590 ਞ--2591 ਟ--2592 ਠ--2593 ਡ--2594 ਢ--2595 ਣ--2596 ਤ--2597 ਥ--2598 ਦ--2599 ਧ--2600 ਨ--2601 ਩--2602 ਪ--2603 ਫ--2604 ਬ--2605 ਭ--2606 ਮ--2607 ਯ--2608 ਰ--2609 ਱--2610 ਲ--2611 ਲ਼--2612 ਴--2613 ਵ--2614 ਸ਼--2615 ਷--2616 ਸ--2617 ਹ--2618 ਺--2619 ਻--2620 ਼--2621 ਽--2622 ਾ--2623 ਿ--2624 ੀ--2625 ੁ--2626 ੂ--2627 ੃--2628 ੄--2629 ੅--2630 ੆--2631 ੇ--2632 ੈ--2633 ੉--2634 ੊--2635 ੋ--2636 ੌ--2637 ੍--2638 ੎--2639 ੏--2640 ੐--2641 ੑ--2642 ੒--2643 ੓--2644 ੔--2645 ੕--2646 ੖--2647 ੗--2648 ੘--2649 ਖ਼--2650 ਗ਼--2651 ਜ਼--2652 ੜ--2653 ੝--2654 ਫ਼--2655 ੟--2656 ੠--2657 ੡--2658 ੢--2659 ੣--2660 ੤--2661 ੥--2662 ੦--2663 ੧--2664 ੨--2665 ੩--2666 ੪--2667 ੫--2668 ੬--2669 ੭--2670 ੮--2671 ੯--2672 ੰ--2673 ੱ--2674 ੲ--2675 ੳ--2676 ੴ--2677 ੵ--2678 ੶--2679 ੷--2680 ੸--2681 ੹--2682 ੺--2683 ੻--2684 ੼--2685 ੽--2686 ੾--2687 ੿--2688 ઀--2689 ઁ--2690 ં--2691 ઃ--2692 ઄--2693 અ--2694 આ--2695 ઇ--2696 ઈ--2697 ઉ--2698 ઊ--2699 ઋ--2700 ઌ--2701 ઍ--2702 ઎--2703 એ--2704 ઐ--2705 ઑ--2706 ઒--2707 ઓ--2708 ઔ--2709 ક--2710 ખ--2711 ગ--2712 ઘ--2713 ઙ--2714 ચ--2715 છ--2716 જ--2717 ઝ--2718 ઞ--2719 ટ--2720 ઠ--2721 ડ--2722 ઢ--2723 ણ--2724 ત--2725 થ--2726 દ--2727 ધ--2728 ન--2729 ઩--2730 પ--2731 ફ--2732 બ--2733 ભ--2734 મ--2735 ય--2736 ર--2737 ઱--2738 લ--2739 ળ--2740 ઴--2741 વ--2742 શ--2743 ષ--2744 સ--2745 હ--2746 ઺--2747 ઻--2748 ઼--2749 ઽ--2750 ા--2751 િ--2752 ી--2753 ુ--2754 ૂ--2755 ૃ--2756 ૄ--2757 ૅ--2758 ૆--2759 ે--2760 ૈ--2761 ૉ--2762 ૊--2763 ો--2764 ૌ--2765 ્--2766 ૎--2767 ૏--2768 ૐ--2769 ૑--2770 ૒--2771 ૓--2772 ૔--2773 ૕--2774 ૖--2775 ૗--2776 ૘--2777 ૙--2778 ૚--2779 ૛--2780 ૜--2781 ૝--2782 ૞--2783 ૟--2784 ૠ--2785 ૡ--2786 ૢ--2787 ૣ--2788 ૤--2789 ૥--2790 ૦--2791 ૧--2792 ૨--2793 ૩--2794 ૪--2795 ૫--2796 ૬--2797 ૭--2798 ૮--2799 ૯--2800 ૰--2801 ૱--2802 ૲--2803 ૳--2804 ૴--2805 ૵--2806 ૶--2807 ૷--2808 ૸--2809 ૹ--2810 ૺ--2811 ૻ--2812 ૼ--2813 ૽--2814 ૾--2815 ૿--2816 ଀--2817 ଁ--2818 ଂ--2819 ଃ--2820 ଄--2821 ଅ--2822 ଆ--2823 ଇ--2824 ଈ--2825 ଉ--2826 ଊ--2827 ଋ--2828 ଌ--2829 ଍--2830 ଎--2831 ଏ--2832 ଐ--2833 ଑--2834 ଒--2835 ଓ--2836 ଔ--2837 କ--2838 ଖ--2839 ଗ--2840 ଘ--2841 ଙ--2842 ଚ--2843 ଛ--2844 ଜ--2845 ଝ--2846 ଞ--2847 ଟ--2848 ଠ--2849 ଡ--2850 ଢ--2851 ଣ--2852 ତ--2853 ଥ--2854 ଦ--2855 ଧ--2856 ନ--2857 ଩--2858 ପ--2859 ଫ--2860 ବ--2861 ଭ--2862 ମ--2863 ଯ--2864 ର--2865 ଱--2866 ଲ--2867 ଳ--2868 ଴--2869 ଵ--2870 ଶ--2871 ଷ--2872 ସ--2873 ହ--2874 ଺--2875 ଻--2876 ଼--2877 ଽ--2878 ା--2879 ି--2880 ୀ--2881 ୁ--2882 ୂ--2883 ୃ--2884 ୄ--2885 ୅--2886 ୆--2887 େ--2888 ୈ--2889 ୉--2890 ୊--2891 ୋ--2892 ୌ--2893 ୍--2894 ୎--2895 ୏--2896 ୐--2897 ୑--2898 ୒--2899 ୓--2900 ୔--2901 ୕--2902 ୖ--2903 ୗ--2904 ୘--2905 ୙--2906 ୚--2907 ୛--2908 ଡ଼--2909 ଢ଼--2910 ୞--2911 ୟ--2912 ୠ--2913 ୡ--2914 ୢ--2915 ୣ--2916 ୤--2917 ୥--2918 ୦--2919 ୧--2920 ୨--2921 ୩--2922 ୪--2923 ୫--2924 ୬--2925 ୭--2926 ୮--2927 ୯--2928 ୰--2929 ୱ--2930 ୲--2931 ୳--2932 ୴--2933 ୵--2934 ୶--2935 ୷--2936 ୸--2937 ୹--2938 ୺--2939 ୻--2940 ୼--2941 ୽--2942 ୾--2943 ୿--2944 ஀--2945 ஁--2946 ஂ--2947 ஃ--2948 ஄--2949 அ--2950 ஆ--2951 இ--2952 ஈ--2953 உ--2954 ஊ--2955 ஋--2956 ஌--2957 ஍--2958 எ--2959 ஏ--2960 ஐ--2961 ஑--2962 ஒ--2963 ஓ--2964 ஔ--2965 க--2966 ஖--2967 ஗--2968 ஘--2969 ங--2970 ச--2971 ஛--2972 ஜ--2973 ஝--2974 ஞ--2975 ட--2976 ஠--2977 ஡--2978 ஢--2979 ண--2980 த--2981 ஥--2982 ஦--2983 ஧--2984 ந--2985 ன--2986 ப--2987 ஫--2988 ஬--2989 ஭--2990 ம--2991 ய--2992 ர--2993 ற--2994 ல--2995 ள--2996 ழ--2997 வ--2998 ஶ--2999 ஷ--3000 ஸ--3001 ஹ--3002 ஺--3003 ஻--3004 ஼--3005 ஽--3006 ா--3007 ி--3008 ீ--3009 ு--3010 ூ--3011 ௃--3012 ௄--3013 ௅--3014 ெ--3015 ே--3016 ை--3017 ௉--3018 ொ--3019 ோ--3020 ௌ--3021 ்--3022 ௎--3023 ௏--3024 ௐ--3025 ௑--3026 ௒--3027 ௓--3028 ௔--3029 ௕--3030 ௖--3031 ௗ--3032 ௘--3033 ௙--3034 ௚--3035 ௛--3036 ௜--3037 ௝--3038 ௞--3039 ௟--3040 ௠--3041 ௡--3042 ௢--3043 ௣--3044 ௤--3045 ௥--3046 ௦--3047 ௧--3048 ௨--3049 ௩--3050 ௪--3051 ௫--3052 ௬--3053 ௭--3054 ௮--3055 ௯--3056 ௰--3057 ௱--3058 ௲--3059 ௳--3060 ௴--3061 ௵--3062 ௶--3063 ௷--3064 ௸--3065 ௹--3066 ௺--3067 ௻--3068 ௼--3069 ௽--3070 ௾--3071 ௿--3072 ఀ--3073 ఁ--3074 ం--3075 ః--3076 ఄ--3077 అ--3078 ఆ--3079 ఇ--3080 ఈ--3081 ఉ--3082 ఊ--3083 ఋ--3084 ఌ--3085 ఍--3086 ఎ--3087 ఏ--3088 ఐ--3089 ఑--3090 ఒ--3091 ఓ--3092 ఔ--3093 క--3094 ఖ--3095 గ--3096 ఘ--3097 ఙ--3098 చ--3099 ఛ--3100 జ--3101 ఝ--3102 ఞ--3103 ట--3104 ఠ--3105 డ--3106 ఢ--3107 ణ--3108 త--3109 థ--3110 ద--3111 ధ--3112 న--3113 ఩--3114 ప--3115 ఫ--3116 బ--3117 భ--3118 మ--3119 య--3120 ర--3121 ఱ--3122 ల--3123 ళ--3124 ఴ--3125 వ--3126 శ--3127 ష--3128 స--3129 హ--3130 ఺--3131 ఻--3132 ఼--3133 ఽ--3134 ా--3135 ి--3136 ీ--3137 ు--3138 ూ--3139 ృ--3140 ౄ--3141 ౅--3142 ె--3143 ే--3144 ై--3145 ౉--3146 ొ--3147 ో--3148 ౌ--3149 ్--3150 ౎--3151 ౏--3152 ౐--3153 ౑--3154 ౒--3155 ౓--3156 ౔--3157 ౕ--3158 ౖ--3159 ౗--3160 ౘ--3161 ౙ--3162 ౚ--3163 ౛--3164 ౜--3165 ౝ--3166 ౞--3167 ౟--3168 ౠ--3169 ౡ--3170 ౢ--3171 ౣ--3172 ౤--3173 ౥--3174 ౦--3175 ౧--3176 ౨--3177 ౩--3178 ౪--3179 ౫--3180 ౬--3181 ౭--3182 ౮--3183 ౯--3184 ౰--3185 ౱--3186 ౲--3187 ౳--3188 ౴--3189 ౵--3190 ౶--3191 ౷--3192 ౸--3193 ౹--3194 ౺--3195 ౻--3196 ౼--3197 ౽--3198 ౾--3199 ౿--3200 ಀ--3201 ಁ--3202 ಂ--3203 ಃ--3204 ಄--3205 ಅ--3206 ಆ--3207 ಇ--3208 ಈ--3209 ಉ--3210 ಊ--3211 ಋ--3212 ಌ--3213 ಍--3214 ಎ--3215 ಏ--3216 ಐ--3217 ಑--3218 ಒ--3219 ಓ--3220 ಔ--3221 ಕ--3222 ಖ--3223 ಗ--3224 ಘ--3225 ಙ--3226 ಚ--3227 ಛ--3228 ಜ--3229 ಝ--3230 ಞ--3231 ಟ--3232 ಠ--3233 ಡ--3234 ಢ--3235 ಣ--3236 ತ--3237 ಥ--3238 ದ--3239 ಧ--3240 ನ--3241 ಩--3242 ಪ--3243 ಫ--3244 ಬ--3245 ಭ--3246 ಮ--3247 ಯ--3248 ರ--3249 ಱ--3250 ಲ--3251 ಳ--3252 ಴--3253 ವ--3254 ಶ--3255 ಷ--3256 ಸ--3257 ಹ--3258 ಺--3259 ಻--3260 ಼--3261 ಽ--3262 ಾ--3263 ಿ--3264 ೀ--3265 ು--3266 ೂ--3267 ೃ--3268 ೄ--3269 ೅--3270 ೆ--3271 ೇ--3272 ೈ--3273 ೉--3274 ೊ--3275 ೋ--3276 ೌ--3277 ್--3278 ೎--3279 ೏--3280 ೐--3281 ೑--3282 ೒--3283 ೓--3284 ೔--3285 ೕ--3286 ೖ--3287 ೗--3288 ೘--3289 ೙--3290 ೚--3291 ೛--3292 ೜--3293 ೝ--3294 ೞ--3295 ೟--3296 ೠ--3297 ೡ--3298 ೢ--3299 ೣ--3300 ೤--3301 ೥--3302 ೦--3303 ೧--3304 ೨--3305 ೩--3306 ೪--3307 ೫--3308 ೬--3309 ೭--3310 ೮--3311 ೯--3312 ೰--3313 ೱ--3314 ೲ--3315 ೳ--3316 ೴--3317 ೵--3318 ೶--3319 ೷--3320 ೸--3321 ೹--3322 ೺--3323 ೻--3324 ೼--3325 ೽--3326 ೾--3327 ೿--3328 ഀ--3329 ഁ--3330 ം--3331 ഃ--3332 ഄ--3333 അ--3334 ആ--3335 ഇ--3336 ഈ--3337 ഉ--3338 ഊ--3339 ഋ--3340 ഌ--3341 ഍--3342 എ--3343 ഏ--3344 ഐ--3345 ഑--3346 ഒ--3347 ഓ--3348 ഔ--3349 ക--3350 ഖ--3351 ഗ--3352 ഘ--3353 ങ--3354 ച--3355 ഛ--3356 ജ--3357 ഝ--3358 ഞ--3359 ട--3360 ഠ--3361 ഡ--3362 ഢ--3363 ണ--3364 ത--3365 ഥ--3366 ദ--3367 ധ--3368 ന--3369 ഩ--3370 പ--3371 ഫ--3372 ബ--3373 ഭ--3374 മ--3375 യ--3376 ര--3377 റ--3378 ല--3379 ള--3380 ഴ--3381 വ--3382 ശ--3383 ഷ--3384 സ--3385 ഹ--3386 ഺ--3387 ഻--3388 ഼--3389 ഽ--3390 ാ--3391 ി--3392 ീ--3393 ു--3394 ൂ--3395 ൃ--3396 ൄ--3397 ൅--3398 െ--3399 േ--3400 ൈ--3401 ൉--3402 ൊ--3403 ോ--3404 ൌ--3405 ്--3406 ൎ--3407 ൏--3408 ൐--3409 ൑--3410 ൒--3411 ൓--3412 ൔ--3413 ൕ--3414 ൖ--3415 ൗ--3416 ൘--3417 ൙--3418 ൚--3419 ൛--3420 ൜--3421 ൝--3422 ൞--3423 ൟ--3424 ൠ--3425 ൡ--3426 ൢ--3427 ൣ--3428 ൤--3429 ൥--3430 ൦--3431 ൧--3432 ൨--3433 ൩--3434 ൪--3435 ൫--3436 ൬--3437 ൭--3438 ൮--3439 ൯--3440 ൰--3441 ൱--3442 ൲--3443 ൳--3444 ൴--3445 ൵--3446 ൶--3447 ൷--3448 ൸--3449 ൹--3450 ൺ--3451 ൻ--3452 ർ--3453 ൽ--3454 ൾ--3455 ൿ--3456 ඀--3457 ඁ--3458 ං--3459 ඃ--3460 ඄--3461 අ--3462 ආ--3463 ඇ--3464 ඈ--3465 ඉ--3466 ඊ--3467 උ--3468 ඌ--3469 ඍ--3470 ඎ--3471 ඏ--3472 ඐ--3473 එ--3474 ඒ--3475 ඓ--3476 ඔ--3477 ඕ--3478 ඖ--3479 ඗--3480 ඘--3481 ඙--3482 ක--3483 ඛ--3484 ග--3485 ඝ--3486 ඞ--3487 ඟ--3488 ච--3489 ඡ--3490 ජ--3491 ඣ--3492 ඤ--3493 ඥ--3494 ඦ--3495 ට--3496 ඨ--3497 ඩ--3498 ඪ--3499 ණ--3500 ඬ--3501 ත--3502 ථ--3503 ද--3504 ධ--3505 න--3506 ඲--3507 ඳ--3508 ප--3509 ඵ--3510 බ--3511 භ--3512 ම--3513 ඹ--3514 ය--3515 ර--3516 ඼--3517 ල--3518 ඾--3519 ඿--3520 ව--3521 ශ--3522 ෂ--3523 ස--3524 හ--3525 ළ--3526 ෆ--3527 ෇--3528 ෈--3529 ෉--3530 ්--3531 ෋--3532 ෌--3533 ෍--3534 ෎--3535 ා--3536 ැ--3537 ෑ--3538 ි--3539 ී--3540 ු--3541 ෕--3542 ූ--3543 ෗--3544 ෘ--3545 ෙ--3546 ේ--3547 ෛ--3548 ො--3549 ෝ--3550 ෞ--3551 ෟ--3552 ෠--3553 ෡--3554 ෢--3555 ෣--3556 ෤--3557 ෥--3558 ෦--3559 ෧--3560 ෨--3561 ෩--3562 ෪--3563 ෫--3564 ෬--3565 ෭--3566 ෮--3567 ෯--3568 ෰--3569 ෱--3570 ෲ--3571 ෳ--3572 ෴--3573 ෵--3574 ෶--3575 ෷--3576 ෸--3577 ෹--3578 ෺--3579 ෻--3580 ෼--3581 ෽--3582 ෾--3583 ෿--3584 ฀--3585 ก--3586 ข--3587 ฃ--3588 ค--3589 ฅ--3590 ฆ--3591 ง--3592 จ--3593 ฉ--3594 ช--3595 ซ--3596 ฌ--3597 ญ--3598 ฎ--3599 ฏ--3600 ฐ--3601 ฑ--3602 ฒ--3603 ณ--3604 ด--3605 ต--3606 ถ--3607 ท--3608 ธ--3609 น--3610 บ--3611 ป--3612 ผ--3613 ฝ--3614 พ--3615 ฟ--3616 ภ--3617 ม--3618 ย--3619 ร--3620 ฤ--3621 ล--3622 ฦ--3623 ว--3624 ศ--3625 ษ--3626 ส--3627 ห--3628 ฬ--3629 อ--3630 ฮ--3631 ฯ--3632 ะ--3633 ั--3634 า--3635 ำ--3636 ิ--3637 ี--3638 ึ--3639 ื--3640 ุ--3641 ู--3642 ฺ--3643 ฻--3644 ฼--3645 ฽--3646 ฾--3647 ฿--3648 เ--3649 แ--3650 โ--3651 ใ--3652 ไ--3653 ๅ--3654 ๆ--3655 ็--3656 ่--3657 ้--3658 ๊--3659 ๋--3660 ์--3661 ํ--3662 ๎--3663 ๏--3664 ๐--3665 ๑--3666 ๒--3667 ๓--3668 ๔--3669 ๕--3670 ๖--3671 ๗--3672 ๘--3673 ๙--3674 ๚--3675 ๛--3676 ๜--3677 ๝--3678 ๞--3679 ๟--3680 ๠--3681 ๡--3682 ๢--3683 ๣--3684 ๤--3685 ๥--3686 ๦--3687 ๧--3688 ๨--3689 ๩--3690 ๪--3691 ๫--3692 ๬--3693 ๭--3694 ๮--3695 ๯--3696 ๰--3697 ๱--3698 ๲--3699 ๳--3700 ๴--3701 ๵--3702 ๶--3703 ๷--3704 ๸--3705 ๹--3706 ๺--3707 ๻--3708 ๼--3709 ๽--3710 ๾--3711 ๿--3712 ຀--3713 ກ--3714 ຂ--3715 ຃--3716 ຄ--3717 ຅--3718 ຆ--3719 ງ--3720 ຈ--3721 ຉ--3722 ຊ--3723 ຋--3724 ຌ--3725 ຍ--3726 ຎ--3727 ຏ--3728 ຐ--3729 ຑ--3730 ຒ--3731 ຓ--3732 ດ--3733 ຕ--3734 ຖ--3735 ທ--3736 ຘ--3737 ນ--3738 ບ--3739 ປ--3740 ຜ--3741 ຝ--3742 ພ--3743 ຟ--3744 ຠ--3745 ມ--3746 ຢ--3747 ຣ--3748 ຤--3749 ລ--3750 ຦--3751 ວ--3752 ຨ--3753 ຩ--3754 ສ--3755 ຫ--3756 ຬ--3757 ອ--3758 ຮ--3759 ຯ--3760 ະ--3761 ັ--3762 າ--3763 ຳ--3764 ິ--3765 ີ--3766 ຶ--3767 ື--3768 ຸ--3769 ູ--3770 ຺--3771 ົ--3772 ຼ--3773 ຽ--3774 ຾--3775 ຿--3776 ເ--3777 ແ--3778 ໂ--3779 ໃ--3780 ໄ--3781 ໅--3782 ໆ--3783 ໇--3784 ່--3785 ້--3786 ໊--3787 ໋--3788 ໌--3789 ໍ--3790 ໎--3791 ໏--3792 ໐--3793 ໑--3794 ໒--3795 ໓--3796 ໔--3797 ໕--3798 ໖--3799 ໗--3800 ໘--3801 ໙--3802 ໚--3803 ໛--3804 ໜ--3805 ໝ--3806 ໞ--3807 ໟ--3808 ໠--3809 ໡--3810 ໢--3811 ໣--3812 ໤--3813 ໥--3814 ໦--3815 ໧--3816 ໨--3817 ໩--3818 ໪--3819 ໫--3820 ໬--3821 ໭--3822 ໮--3823 ໯--3824 ໰--3825 ໱--3826 ໲--3827 ໳--3828 ໴--3829 ໵--3830 ໶--3831 ໷--3832 ໸--3833 ໹--3834 ໺--3835 ໻--3836 ໼--3837 ໽--3838 ໾--3839 ໿--3840 ༀ--3841 ༁--3842 ༂--3843 ༃--3844 ༄--3845 ༅--3846 ༆--3847 ༇--3848 ༈--3849 ༉--3850 ༊--3851 ་--3852 ༌--3853 །--3854 ༎--3855 ༏--3856 ༐--3857 ༑--3858 ༒--3859 ༓--3860 ༔--3861 ༕--3862 ༖--3863 ༗--3864 ༘--3865 ༙--3866 ༚--3867 ༛--3868 ༜--3869 ༝--3870 ༞--3871 ༟--3872 ༠--3873 ༡--3874 ༢--3875 ༣--3876 ༤--3877 ༥--3878 ༦--3879 ༧--3880 ༨--3881 ༩--3882 ༪--3883 ༫--3884 ༬--3885 ༭--3886 ༮--3887 ༯--3888 ༰--3889 ༱--3890 ༲--3891 ༳--3892 ༴--3893 ༵--3894 ༶--3895 ༷--3896 ༸--3897 ༹--3898 ༺--3899 ༻--3900 ༼--3901 ༽--3902 ༾--3903 ༿--3904 ཀ--3905 ཁ--3906 ག--3907 གྷ--3908 ང--3909 ཅ--3910 ཆ--3911 ཇ--3912 ཈--3913 ཉ--3914 ཊ--3915 ཋ--3916 ཌ--3917 ཌྷ--3918 ཎ--3919 ཏ--3920 ཐ--3921 ད--3922 དྷ--3923 ན--3924 པ--3925 ཕ--3926 བ--3927 བྷ--3928 མ--3929 ཙ--3930 ཚ--3931 ཛ--3932 ཛྷ--3933 ཝ--3934 ཞ--3935 ཟ--3936 འ--3937 ཡ--3938 ར--3939 ལ--3940 ཤ--3941 ཥ--3942 ས--3943 ཧ--3944 ཨ--3945 ཀྵ--3946 ཪ--3947 ཫ--3948 ཬ--3949 ཭--3950 ཮--3951 ཯--3952 ཰--3953 ཱ--3954 ི--3955 ཱི--3956 ུ--3957 ཱུ--3958 ྲྀ--3959 ཷ--3960 ླྀ--3961 ཹ--3962 ེ--3963 ཻ--3964 ོ--3965 ཽ--3966 ཾ--3967 ཿ--3968 ྀ--3969 ཱྀ--3970 ྂ--3971 ྃ--3972 ྄--3973 ྅--3974 ྆--3975 ྇--3976 ྈ--3977 ྉ--3978 ྊ--3979 ྋ--3980 ྌ--3981 ྍ--3982 ྎ--3983 ྏ--3984 ྐ--3985 ྑ--3986 ྒ--3987 ྒྷ--3988 ྔ--3989 ྕ--3990 ྖ--3991 ྗ--3992 ྘--3993 ྙ--3994 ྚ--3995 ྛ--3996 ྜ--3997 ྜྷ--3998 ྞ--3999 ྟ--4000 ྠ--4001 ྡ--4002 ྡྷ--4003 ྣ--4004 ྤ--4005 ྥ--4006 ྦ--4007 ྦྷ--4008 ྨ--4009 ྩ--4010 ྪ--4011 ྫ--4012 ྫྷ--4013 ྭ--4014 ྮ--4015 ྯ--4016 ྰ--4017 ྱ--4018 ྲ--4019 ླ--4020 ྴ--4021 ྵ--4022 ྶ--4023 ྷ--4024 ྸ--4025 ྐྵ--4026 ྺ--4027 ྻ--4028 ྼ--4029 ྽--4030 ྾--4031 ྿--4032 ࿀--4033 ࿁--4034 ࿂--4035 ࿃--4036 ࿄--4037 ࿅--4038 ࿆--4039 ࿇--4040 ࿈--4041 ࿉--4042 ࿊--4043 ࿋--4044 ࿌--4045 ࿍--4046 ࿎--4047 ࿏--4048 ࿐--4049 ࿑--4050 ࿒--4051 ࿓--4052 ࿔--4053 ࿕--4054 ࿖--4055 ࿗--4056 ࿘--4057 ࿙--4058 ࿚--4059 ࿛--4060 ࿜--4061 ࿝--4062 ࿞--4063 ࿟--4064 ࿠--4065 ࿡--4066 ࿢--4067 ࿣--4068 ࿤--4069 ࿥--4070 ࿦--4071 ࿧--4072 ࿨--4073 ࿩--4074 ࿪--4075 ࿫--4076 ࿬--4077 ࿭--4078 ࿮--4079 ࿯--4080 ࿰--4081 ࿱--4082 ࿲--4083 ࿳--4084 ࿴--4085 ࿵--4086 ࿶--4087 ࿷--4088 ࿸--4089 ࿹--4090 ࿺--4091 ࿻--4092 ࿼--4093 ࿽--4094 ࿾--4095 ࿿--4096 က--4097 ခ--4098 ဂ--4099 ဃ--4100 င--4101 စ--4102 ဆ--4103 ဇ--4104 ဈ--4105 ဉ--4106 ည--4107 ဋ--4108 ဌ--4109 ဍ--4110 ဎ--4111 ဏ--4112 တ--4113 ထ--4114 ဒ--4115 ဓ--4116 န--4117 ပ--4118 ဖ--4119 ဗ--4120 ဘ--4121 မ--4122 ယ--4123 ရ--4124 လ--4125 ဝ--4126 သ--4127 ဟ--4128 ဠ--4129 အ--4130 ဢ--4131 ဣ--4132 ဤ--4133 ဥ--4134 ဦ--4135 ဧ--4136 ဨ--4137 ဩ--4138 ဪ--4139 ါ--4140 ာ--4141 ိ--4142 ီ--4143 ု--4144 ူ--4145 ေ--4146 ဲ--4147 ဳ--4148 ဴ--4149 ဵ--4150 ံ--4151 ့--4152 း--4153 ္--4154 ်--4155 ျ--4156 ြ--4157 ွ--4158 ှ--4159 ဿ--4160 ၀--4161 ၁--4162 ၂--4163 ၃--4164 ၄--4165 ၅--4166 ၆--4167 ၇--4168 ၈--4169 ၉--4170 ၊--4171 ။--4172 ၌--4173 ၍--4174 ၎--4175 ၏--4176 ၐ--4177 ၑ--4178 ၒ--4179 ၓ--4180 ၔ--4181 ၕ--4182 ၖ--4183 ၗ--4184 ၘ--4185 ၙ--4186 ၚ--4187 ၛ--4188 ၜ--4189 ၝ--4190 ၞ--4191 ၟ--4192 ၠ--4193 ၡ--4194 ၢ--4195 ၣ--4196 ၤ--4197 ၥ--4198 ၦ--4199 ၧ--4200 ၨ--4201 ၩ--4202 ၪ--4203 ၫ--4204 ၬ--4205 ၭ--4206 ၮ--4207 ၯ--4208 ၰ--4209 ၱ--4210 ၲ--4211 ၳ--4212 ၴ--4213 ၵ--4214 ၶ--4215 ၷ--4216 ၸ--4217 ၹ--4218 ၺ--4219 ၻ--4220 ၼ--4221 ၽ--4222 ၾ--4223 ၿ--4224 ႀ--4225 ႁ--4226 ႂ--4227 ႃ--4228 ႄ--4229 ႅ--4230 ႆ--4231 ႇ--4232 ႈ--4233 ႉ--4234 ႊ--4235 ႋ--4236 ႌ--4237 ႍ--4238 ႎ--4239 ႏ--4240 ႐--4241 ႑--4242 ႒--4243 ႓--4244 ႔--4245 ႕--4246 ႖--4247 ႗--4248 ႘--4249 ႙--4250 ႚ--4251 ႛ--4252 ႜ--4253 ႝ--4254 ႞--4255 ႟--4256 Ⴀ--4257 Ⴁ--4258 Ⴂ--4259 Ⴃ--4260 Ⴄ--4261 Ⴅ--4262 Ⴆ--4263 Ⴇ--4264 Ⴈ--4265 Ⴉ--4266 Ⴊ--4267 Ⴋ--4268 Ⴌ--4269 Ⴍ--4270 Ⴎ--4271 Ⴏ--4272 Ⴐ--4273 Ⴑ--4274 Ⴒ--4275 Ⴓ--4276 Ⴔ--4277 Ⴕ--4278 Ⴖ--4279 Ⴗ--4280 Ⴘ--4281 Ⴙ--4282 Ⴚ--4283 Ⴛ--4284 Ⴜ--4285 Ⴝ--4286 Ⴞ--4287 Ⴟ--4288 Ⴠ--4289 Ⴡ--4290 Ⴢ--4291 Ⴣ--4292 Ⴤ--4293 Ⴥ--4294 ჆--4295 Ⴧ--4296 ჈--4297 ჉--4298 ჊--4299 ჋--4300 ჌--4301 Ⴭ--4302 ჎--4303 ჏--4304 ა--4305 ბ--4306 გ--4307 დ--4308 ე--4309 ვ--4310 ზ--4311 თ--4312 ი--4313 კ--4314 ლ--4315 მ--4316 ნ--4317 ო--4318 პ--4319 ჟ--4320 რ--4321 ს--4322 ტ--4323 უ--4324 ფ--4325 ქ--4326 ღ--4327 ყ--4328 შ--4329 ჩ--4330 ც--4331 ძ--4332 წ--4333 ჭ--4334 ხ--4335 ჯ--4336 ჰ--4337 ჱ--4338 ჲ--4339 ჳ--4340 ჴ--4341 ჵ--4342 ჶ--4343 ჷ--4344 ჸ--4345 ჹ--4346 ჺ--4347 ჻--4348 ჼ--4349 ჽ--4350 ჾ--4351 ჿ--4352 ᄀ--4353 ᄁ--4354 ᄂ--4355 ᄃ--4356 ᄄ--4357 ᄅ--4358 ᄆ--4359 ᄇ--4360 ᄈ--4361 ᄉ--4362 ᄊ--4363 ᄋ--4364 ᄌ--4365 ᄍ--4366 ᄎ--4367 ᄏ--4368 ᄐ--4369 ᄑ--4370 ᄒ--4371 ᄓ--4372 ᄔ--4373 ᄕ--4374 ᄖ--4375 ᄗ--4376 ᄘ--4377 ᄙ--4378 ᄚ--4379 ᄛ--4380 ᄜ--4381 ᄝ--4382 ᄞ--4383 ᄟ--4384 ᄠ--4385 ᄡ--4386 ᄢ--4387 ᄣ--4388 ᄤ--4389 ᄥ--4390 ᄦ--4391 ᄧ--4392 ᄨ--4393 ᄩ--4394 ᄪ--4395 ᄫ--4396 ᄬ--4397 ᄭ--4398 ᄮ--4399 ᄯ--4400 ᄰ--4401 ᄱ--4402 ᄲ--4403 ᄳ--4404 ᄴ--4405 ᄵ--4406 ᄶ--4407 ᄷ--4408 ᄸ--4409 ᄹ--4410 ᄺ--4411 ᄻ--4412 ᄼ--4413 ᄽ--4414 ᄾ--4415 ᄿ--4416 ᅀ--4417 ᅁ--4418 ᅂ--4419 ᅃ--4420 ᅄ--4421 ᅅ--4422 ᅆ--4423 ᅇ--4424 ᅈ--4425 ᅉ--4426 ᅊ--4427 ᅋ--4428 ᅌ--4429 ᅍ--4430 ᅎ--4431 ᅏ--4432 ᅐ--4433 ᅑ--4434 ᅒ--4435 ᅓ--4436 ᅔ--4437 ᅕ--4438 ᅖ--4439 ᅗ--4440 ᅘ--4441 ᅙ--4442 ᅚ--4443 ᅛ--4444 ᅜ--4445 ᅝ--4446 ᅞ--4447 ᅟ--4448 ᅠ--4449 ᅡ--4450 ᅢ--4451 ᅣ--4452 ᅤ--4453 ᅥ--4454 ᅦ--4455 ᅧ--4456 ᅨ--4457 ᅩ--4458 ᅪ--4459 ᅫ--4460 ᅬ--4461 ᅭ--4462 ᅮ--4463 ᅯ--4464 ᅰ--4465 ᅱ--4466 ᅲ--4467 ᅳ--4468 ᅴ--4469 ᅵ--4470 ᅶ--4471 ᅷ--4472 ᅸ--4473 ᅹ--4474 ᅺ--4475 ᅻ--4476 ᅼ--4477 ᅽ--4478 ᅾ--4479 ᅿ--4480 ᆀ--4481 ᆁ--4482 ᆂ--4483 ᆃ--4484 ᆄ--4485 ᆅ--4486 ᆆ--4487 ᆇ--4488 ᆈ--4489 ᆉ--4490 ᆊ--4491 ᆋ--4492 ᆌ--4493 ᆍ--4494 ᆎ--4495 ᆏ--4496 ᆐ--4497 ᆑ--4498 ᆒ--4499 ᆓ--4500 ᆔ--4501 ᆕ--4502 ᆖ--4503 ᆗ--4504 ᆘ--4505 ᆙ--4506 ᆚ--4507 ᆛ--4508 ᆜ--4509 ᆝ--4510 ᆞ--4511 ᆟ--4512 ᆠ--4513 ᆡ--4514 ᆢ--4515 ᆣ--4516 ᆤ--4517 ᆥ--4518 ᆦ--4519 ᆧ--4520 ᆨ--4521 ᆩ--4522 ᆪ--4523 ᆫ--4524 ᆬ--4525 ᆭ--4526 ᆮ--4527 ᆯ--4528 ᆰ--4529 ᆱ--4530 ᆲ--4531 ᆳ--4532 ᆴ--4533 ᆵ--4534 ᆶ--4535 ᆷ--4536 ᆸ--4537 ᆹ--4538 ᆺ--4539 ᆻ--4540 ᆼ--4541 ᆽ--4542 ᆾ--4543 ᆿ--4544 ᇀ--4545 ᇁ--4546 ᇂ--4547 ᇃ--4548 ᇄ--4549 ᇅ--4550 ᇆ--4551 ᇇ--4552 ᇈ--4553 ᇉ--4554 ᇊ--4555 ᇋ--4556 ᇌ--4557 ᇍ--4558 ᇎ--4559 ᇏ--4560 ᇐ--4561 ᇑ--4562 ᇒ--4563 ᇓ--4564 ᇔ--4565 ᇕ--4566 ᇖ--4567 ᇗ--4568 ᇘ--4569 ᇙ--4570 ᇚ--4571 ᇛ--4572 ᇜ--4573 ᇝ--4574 ᇞ--4575 ᇟ--4576 ᇠ--4577 ᇡ--4578 ᇢ--4579 ᇣ--4580 ᇤ--4581 ᇥ--4582 ᇦ--4583 ᇧ--4584 ᇨ--4585 ᇩ--4586 ᇪ--4587 ᇫ--4588 ᇬ--4589 ᇭ--4590 ᇮ--4591 ᇯ--4592 ᇰ--4593 ᇱ--4594 ᇲ--4595 ᇳ--4596 ᇴ--4597 ᇵ--4598 ᇶ--4599 ᇷ--4600 ᇸ--4601 ᇹ--4602 ᇺ--4603 ᇻ--4604 ᇼ--4605 ᇽ--4606 ᇾ--4607 ᇿ--4608 ሀ--4609 ሁ--4610 ሂ--4611 ሃ--4612 ሄ--4613 ህ--4614 ሆ--4615 ሇ--4616 ለ--4617 ሉ--4618 ሊ--4619 ላ--4620 ሌ--4621 ል--4622 ሎ--4623 ሏ--4624 ሐ--4625 ሑ--4626 ሒ--4627 ሓ--4628 ሔ--4629 ሕ--4630 ሖ--4631 ሗ--4632 መ--4633 ሙ--4634 ሚ--4635 ማ--4636 ሜ--4637 ም--4638 ሞ--4639 ሟ--4640 ሠ--4641 ሡ--4642 ሢ--4643 ሣ--4644 ሤ--4645 ሥ--4646 ሦ--4647 ሧ--4648 ረ--4649 ሩ--4650 ሪ--4651 ራ--4652 ሬ--4653 ር--4654 ሮ--4655 ሯ--4656 ሰ--4657 ሱ--4658 ሲ--4659 ሳ--4660 ሴ--4661 ስ--4662 ሶ--4663 ሷ--4664 ሸ--4665 ሹ--4666 ሺ--4667 ሻ--4668 ሼ--4669 ሽ--4670 ሾ--4671 ሿ--4672 ቀ--4673 ቁ--4674 ቂ--4675 ቃ--4676 ቄ--4677 ቅ--4678 ቆ--4679 ቇ--4680 ቈ--4681 ቉--4682 ቊ--4683 ቋ--4684 ቌ--4685 ቍ--4686 ቎--4687 ቏--4688 ቐ--4689 ቑ--4690 ቒ--4691 ቓ--4692 ቔ--4693 ቕ--4694 ቖ--4695 ቗--4696 ቘ--4697 ቙--4698 ቚ--4699 ቛ--4700 ቜ--4701 ቝ--4702 ቞--4703 ቟--4704 በ--4705 ቡ--4706 ቢ--4707 ባ--4708 ቤ--4709 ብ--4710 ቦ--4711 ቧ--4712 ቨ--4713 ቩ--4714 ቪ--4715 ቫ--4716 ቬ--4717 ቭ--4718 ቮ--4719 ቯ--4720 ተ--4721 ቱ--4722 ቲ--4723 ታ--4724 ቴ--4725 ት--4726 ቶ--4727 ቷ--4728 ቸ--4729 ቹ--4730 ቺ--4731 ቻ--4732 ቼ--4733 ች--4734 ቾ--4735 ቿ--4736 ኀ--4737 ኁ--4738 ኂ--4739 ኃ--4740 ኄ--4741 ኅ--4742 ኆ--4743 ኇ--4744 ኈ--4745 ኉--4746 ኊ--4747 ኋ--4748 ኌ--4749 ኍ--4750 ኎--4751 ኏--4752 ነ--4753 ኑ--4754 ኒ--4755 ና--4756 ኔ--4757 ን--4758 ኖ--4759 ኗ--4760 ኘ--4761 ኙ--4762 ኚ--4763 ኛ--4764 ኜ--4765 ኝ--4766 ኞ--4767 ኟ--4768 አ--4769 ኡ--4770 ኢ--4771 ኣ--4772 ኤ--4773 እ--4774 ኦ--4775 ኧ--4776 ከ--4777 ኩ--4778 ኪ--4779 ካ--4780 ኬ--4781 ክ--4782 ኮ--4783 ኯ--4784 ኰ--4785 ኱--4786 ኲ--4787 ኳ--4788 ኴ--4789 ኵ--4790 ኶--4791 ኷--4792 ኸ--4793 ኹ--4794 ኺ--4795 ኻ--4796 ኼ--4797 ኽ--4798 ኾ--4799 ኿--4800 ዀ--4801 ዁--4802 ዂ--4803 ዃ--4804 ዄ--4805 ዅ--4806 ዆--4807 ዇--4808 ወ--4809 ዉ--4810 ዊ--4811 ዋ--4812 ዌ--4813 ው--4814 ዎ--4815 ዏ--4816 ዐ--4817 ዑ--4818 ዒ--4819 ዓ--4820 ዔ--4821 ዕ--4822 ዖ--4823 ዗--4824 ዘ--4825 ዙ--4826 ዚ--4827 ዛ--4828 ዜ--4829 ዝ--4830 ዞ--4831 ዟ--4832 ዠ--4833 ዡ--4834 ዢ--4835 ዣ--4836 ዤ--4837 ዥ--4838 ዦ--4839 ዧ--4840 የ--4841 ዩ--4842 ዪ--4843 ያ--4844 ዬ--4845 ይ--4846 ዮ--4847 ዯ--4848 ደ--4849 ዱ--4850 ዲ--4851 ዳ--4852 ዴ--4853 ድ--4854 ዶ--4855 ዷ--4856 ዸ--4857 ዹ--4858 ዺ--4859 ዻ--4860 ዼ--4861 ዽ--4862 ዾ--4863 ዿ--4864 ጀ--4865 ጁ--4866 ጂ--4867 ጃ--4868 ጄ--4869 ጅ--4870 ጆ--4871 ጇ--4872 ገ--4873 ጉ--4874 ጊ--4875 ጋ--4876 ጌ--4877 ግ--4878 ጎ--4879 ጏ--4880 ጐ--4881 ጑--4882 ጒ--4883 ጓ--4884 ጔ--4885 ጕ--4886 ጖--4887 ጗--4888 ጘ--4889 ጙ--4890 ጚ--4891 ጛ--4892 ጜ--4893 ጝ--4894 ጞ--4895 ጟ--4896 ጠ--4897 ጡ--4898 ጢ--4899 ጣ--4900 ጤ--4901 ጥ--4902 ጦ--4903 ጧ--4904 ጨ--4905 ጩ--4906 ጪ--4907 ጫ--4908 ጬ--4909 ጭ--4910 ጮ--4911 ጯ--4912 ጰ--4913 ጱ--4914 ጲ--4915 ጳ--4916 ጴ--4917 ጵ--4918 ጶ--4919 ጷ--4920 ጸ--4921 ጹ--4922 ጺ--4923 ጻ--4924 ጼ--4925 ጽ--4926 ጾ--4927 ጿ--4928 ፀ--4929 ፁ--4930 ፂ--4931 ፃ--4932 ፄ--4933 ፅ--4934 ፆ--4935 ፇ--4936 ፈ--4937 ፉ--4938 ፊ--4939 ፋ--4940 ፌ--4941 ፍ--4942 ፎ--4943 ፏ--4944 ፐ--4945 ፑ--4946 ፒ--4947 ፓ--4948 ፔ--4949 ፕ--4950 ፖ--4951 ፗ--4952 ፘ--4953 ፙ--4954 ፚ--4955 ፛--4956 ፜--4957 ፝--4958 ፞--4959 ፟--4960 ፠--4961 ፡--4962 ።--4963 ፣--4964 ፤--4965 ፥--4966 ፦--4967 ፧--4968 ፨--4969 ፩--4970 ፪--4971 ፫--4972 ፬--4973 ፭--4974 ፮--4975 ፯--4976 ፰--4977 ፱--4978 ፲--4979 ፳--4980 ፴--4981 ፵--4982 ፶--4983 ፷--4984 ፸--4985 ፹--4986 ፺--4987 ፻--4988 ፼--4989 ፽--4990 ፾--4991 ፿--4992 ᎀ--4993 ᎁ--4994 ᎂ--4995 ᎃ--4996 ᎄ--4997 ᎅ--4998 ᎆ--4999 ᎇ--"
     ]
    }
   ],
   "source": [
    "# A-Z a-z\n",
    "\n",
    "for i in range(1,5000):\n",
    "    print(i,chr(i),end='--')\n",
    "    "
   ]
  },
  {
   "cell_type": "code",
   "execution_count": 95,
   "id": "958a8eea-7a34-4284-aa63-797d1253f6a1",
   "metadata": {},
   "outputs": [
    {
     "name": "stdout",
     "output_type": "stream",
     "text": [
      "3078 ఆ--3079 ఇ--3080 ఈ--3081 ఉ--3082 ఊ--3083 ఋ--3084 ఌ--3085 ఍--3086 ఎ--3087 ఏ--3088 ఐ--3089 ఑--3090 ఒ--3091 ఓ--3092 ఔ--3093 క--3094 ఖ--3095 గ--3096 ఘ--3097 ఙ--3098 చ--3099 ఛ--3100 జ--3101 ఝ--3102 ఞ--3103 ట--3104 ఠ--3105 డ--3106 ఢ--3107 ణ--3108 త--3109 థ--3110 ద--3111 ధ--3112 న--3113 ఩--3114 ప--3115 ఫ--3116 బ--3117 భ--3118 మ--3119 య--3120 ర--3121 ఱ--3122 ల--3123 ళ--3124 ఴ--3125 వ--3126 శ--3127 ష--3128 స--3129 హ--3130 ఺--3131 ఻--3132 ఼--3133 ఽ--3134 ా--3135 ి--3136 ీ--3137 ు--3138 ూ--3139 ృ--3140 ౄ--3141 ౅--3142 ె--3143 ే--3144 ై--3145 ౉--3146 ొ--3147 ో--3148 ౌ--3149 ్--3150 ౎--3151 ౏--3152 ౐--3153 ౑--3154 ౒--3155 ౓--3156 ౔--3157 ౕ--3158 ౖ--3159 ౗--3160 ౘ--3161 ౙ--3162 ౚ--3163 ౛--3164 ౜--3165 ౝ--3166 ౞--3167 ౟--3168 ౠ--3169 ౡ--3170 ౢ--3171 ౣ--3172 ౤--3173 ౥--3174 ౦--3175 ౧--3176 ౨--3177 ౩--"
     ]
    }
   ],
   "source": [
    "for i in range(3078,3178):\n",
    "    print(i,chr(i),end='--')"
   ]
  },
  {
   "cell_type": "code",
   "execution_count": null,
   "id": "0c812767-f783-4a9b-b8be-92a05b907018",
   "metadata": {},
   "outputs": [],
   "source": []
  }
 ],
 "metadata": {
  "kernelspec": {
   "display_name": "Python 3 (ipykernel)",
   "language": "python",
   "name": "python3"
  },
  "language_info": {
   "codemirror_mode": {
    "name": "ipython",
    "version": 3
   },
   "file_extension": ".py",
   "mimetype": "text/x-python",
   "name": "python",
   "nbconvert_exporter": "python",
   "pygments_lexer": "ipython3",
   "version": "3.11.7"
  }
 },
 "nbformat": 4,
 "nbformat_minor": 5
}
