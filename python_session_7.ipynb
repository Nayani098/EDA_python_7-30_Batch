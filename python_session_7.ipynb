{
 "cells": [
  {
   "cell_type": "markdown",
   "id": "69944342-1062-4d03-bc98-2736c18887d9",
   "metadata": {},
   "source": [
    "**conditional statements**"
   ]
  },
  {
   "cell_type": "markdown",
   "id": "826260e6-7813-4c70-a9ba-6607b8d7cbac",
   "metadata": {},
   "source": [
    "- conditional statement means we want to run the code line based on condition\n",
    "\n",
    "- if rain come I will not go to school other wise i will go to movie\n",
    "\n",
    "- rain is there will effect one process\n",
    "\n",
    "- rain is not there will effect another process\n",
    "\n",
    "- if\n",
    "\n",
    "- elif\n",
    "\n",
    "- else"
   ]
  },
  {
   "cell_type": "markdown",
   "id": "4e2080b7-7395-40ed-9d8b-d7f072839511",
   "metadata": {},
   "source": [
    "**if**\n"
   ]
  },
  {
   "cell_type": "code",
   "execution_count": null,
   "id": "8a83a7d6-01fa-45c4-afb0-6d5eb0a8dfc6",
   "metadata": {},
   "outputs": [],
   "source": [
    "# syntax\n",
    "\n",
    "if <condition>:\n",
    "    <codeline1>\n",
    "    <codeline2>"
   ]
  },
  {
   "cell_type": "markdown",
   "id": "eb32f48d-7c99-443c-87fe-d3791773380c",
   "metadata": {},
   "source": [
    "- whenever any line is start with **keyword(green color)** at the end of the line we have **colon(:)**\n",
    "\n",
    "- whenever we have a **colon(:)** the next lines starts with some gap\n",
    "\n",
    "- and this gap is called as **indentation**\n",
    "\n",
    "- how many lines we are maintaining gap (indentation) that all are under one area"
   ]
  },
  {
   "cell_type": "markdown",
   "id": "1afa7c03-d3b9-4548-9798-6ff5c8eec3f2",
   "metadata": {},
   "source": [
    "- if is a conditional statement, it will check the condition is True or False\n",
    "\n",
    "- is that condition will True then only it will enter inside the if area\n",
    "\n",
    "- and execute those code lines\n",
    "\n",
    "- if that condition will False, then it will not enter inside the if area\n",
    "\n",
    "- and it will not execute those code lines"
   ]
  },
  {
   "cell_type": "code",
   "execution_count": 8,
   "id": "7e4556d7-772f-4d1d-926a-fddb52fa0078",
   "metadata": {},
   "outputs": [
    {
     "data": {
      "text/plain": [
       "True"
      ]
     },
     "execution_count": 8,
     "metadata": {},
     "output_type": "execute_result"
    }
   ],
   "source": [
    "100>10"
   ]
  },
  {
   "cell_type": "code",
   "execution_count": 10,
   "id": "2fd5b3a5-2024-43a4-91f9-dc9a8bf492bb",
   "metadata": {},
   "outputs": [
    {
     "name": "stdout",
     "output_type": "stream",
     "text": [
      "hello\n"
     ]
    }
   ],
   "source": [
    "if 100>10:           # if True:\n",
    "    print('hello')"
   ]
  },
  {
   "cell_type": "markdown",
   "id": "b82cfea9-1098-4a7e-b110-e338b4ebab5c",
   "metadata": {},
   "source": [
    "**mistake-1**\n",
    "\n",
    "- indentation"
   ]
  },
  {
   "cell_type": "code",
   "execution_count": 13,
   "id": "fc794063-a224-4692-a319-bcd96805fe11",
   "metadata": {},
   "outputs": [
    {
     "ename": "IndentationError",
     "evalue": "expected an indented block after 'if' statement on line 1 (3663483495.py, line 2)",
     "output_type": "error",
     "traceback": [
      "\u001b[0;36m  Cell \u001b[0;32mIn[13], line 2\u001b[0;36m\u001b[0m\n\u001b[0;31m    print(\"hello\")\u001b[0m\n\u001b[0m    ^\u001b[0m\n\u001b[0;31mIndentationError\u001b[0m\u001b[0;31m:\u001b[0m expected an indented block after 'if' statement on line 1\n"
     ]
    }
   ],
   "source": [
    "if 100>10:\n",
    "print(\"hello\")"
   ]
  },
  {
   "cell_type": "code",
   "execution_count": 19,
   "id": "17e4157f-4e2d-4a4b-b953-21afd600a37c",
   "metadata": {},
   "outputs": [
    {
     "name": "stdout",
     "output_type": "stream",
     "text": [
      "hello\n"
     ]
    }
   ],
   "source": [
    "if 100>10:\n",
    "    print(\"hello\")\n",
    "# indentation requires 4 spaces or tab button"
   ]
  },
  {
   "cell_type": "markdown",
   "id": "2beb159b-1c29-4faa-be22-b76d87b9fa96",
   "metadata": {},
   "source": [
    "**mistake-2**\n",
    "\n",
    "- colon(:) is missing at the end of if line"
   ]
  },
  {
   "cell_type": "code",
   "execution_count": 34,
   "id": "ecb4b17e-b108-4371-8478-b11ff4ff7961",
   "metadata": {},
   "outputs": [
    {
     "ename": "SyntaxError",
     "evalue": "expected ':' (643420909.py, line 1)",
     "output_type": "error",
     "traceback": [
      "\u001b[0;36m  Cell \u001b[0;32mIn[34], line 1\u001b[0;36m\u001b[0m\n\u001b[0;31m    if 100>10\u001b[0m\n\u001b[0m                          ^\u001b[0m\n\u001b[0;31mSyntaxError\u001b[0m\u001b[0;31m:\u001b[0m expected ':'\n"
     ]
    }
   ],
   "source": [
    "if 100>10             \n",
    "    print('hello')"
   ]
  },
  {
   "cell_type": "markdown",
   "id": "9f9c3e34-c060-4876-afc7-3db848a15f40",
   "metadata": {},
   "source": [
    "**mistake-3**\n",
    "\n",
    "- if will expect a condition"
   ]
  },
  {
   "cell_type": "code",
   "execution_count": 28,
   "id": "66f7a8ef-82f6-4e0c-82cc-0716e5781f8a",
   "metadata": {},
   "outputs": [
    {
     "ename": "SyntaxError",
     "evalue": "invalid syntax (1254788784.py, line 1)",
     "output_type": "error",
     "traceback": [
      "\u001b[0;36m  Cell \u001b[0;32mIn[28], line 1\u001b[0;36m\u001b[0m\n\u001b[0;31m    if:\u001b[0m\n\u001b[0m      ^\u001b[0m\n\u001b[0;31mSyntaxError\u001b[0m\u001b[0;31m:\u001b[0m invalid syntax\n"
     ]
    }
   ],
   "source": [
    "if:\n",
    " print('hello')"
   ]
  },
  {
   "cell_type": "markdown",
   "id": "ae093728-fbaf-404b-b5b7-6e889d801652",
   "metadata": {},
   "source": [
    "**mistake-4**\n",
    "\n",
    "- missing brackets()"
   ]
  },
  {
   "cell_type": "code",
   "execution_count": 40,
   "id": "0a22ef5e-83e8-4dd1-a1a2-929838b6da58",
   "metadata": {},
   "outputs": [
    {
     "ename": "SyntaxError",
     "evalue": "Missing parentheses in call to 'print'. Did you mean print(...)? (2271781434.py, line 2)",
     "output_type": "error",
     "traceback": [
      "\u001b[0;36m  Cell \u001b[0;32mIn[40], line 2\u001b[0;36m\u001b[0m\n\u001b[0;31m    print 'hello'\u001b[0m\n\u001b[0m    ^\u001b[0m\n\u001b[0;31mSyntaxError\u001b[0m\u001b[0;31m:\u001b[0m Missing parentheses in call to 'print'. Did you mean print(...)?\n"
     ]
    }
   ],
   "source": [
    "if 100>10:\n",
    "    print 'hello'"
   ]
  },
  {
   "cell_type": "markdown",
   "id": "0e1debe4-2977-48b3-a920-ab4ad3928b55",
   "metadata": {},
   "source": [
    "**mistake-5**\n",
    "\n",
    "- never assign a variable to a print statement\n",
    "\n",
    "- print we are using for to see the answer"
   ]
  },
  {
   "cell_type": "code",
   "execution_count": 43,
   "id": "981700a5-fbc3-49b4-9661-e10cd0af9ce0",
   "metadata": {},
   "outputs": [
    {
     "name": "stdout",
     "output_type": "stream",
     "text": [
      "hello\n"
     ]
    }
   ],
   "source": [
    "if 100>10:\n",
    "    name=print('hello')"
   ]
  },
  {
   "cell_type": "markdown",
   "id": "d905cf0f-96b9-4386-837d-36f1c939372d",
   "metadata": {},
   "source": [
    "**mistake-6**\n",
    "\n",
    "- all types of syntax errors\n",
    "\n",
    "- spelling mistakes"
   ]
  },
  {
   "cell_type": "code",
   "execution_count": 46,
   "id": "1a22e915-71bc-47ca-a3dd-5b8e283aecdf",
   "metadata": {},
   "outputs": [
    {
     "ename": "SyntaxError",
     "evalue": "invalid syntax (3928827952.py, line 1)",
     "output_type": "error",
     "traceback": [
      "\u001b[0;36m  Cell \u001b[0;32mIn[46], line 1\u001b[0;36m\u001b[0m\n\u001b[0;31m    if100>10:\u001b[0m\n\u001b[0m            ^\u001b[0m\n\u001b[0;31mSyntaxError\u001b[0m\u001b[0;31m:\u001b[0m invalid syntax\n"
     ]
    }
   ],
   "source": [
    "if100>10:\n",
    "    print('hello')"
   ]
  },
  {
   "cell_type": "code",
   "execution_count": 48,
   "id": "3cc8edce-14a0-4aa9-b240-dfdb4a399727",
   "metadata": {},
   "outputs": [
    {
     "name": "stdout",
     "output_type": "stream",
     "text": [
      "hello\n",
      "good morning\n"
     ]
    }
   ],
   "source": [
    "if 100>10:\n",
    "    print('hello')\n",
    "    print('good morning')"
   ]
  },
  {
   "cell_type": "code",
   "execution_count": 54,
   "id": "54f44e61-85dc-4f31-a9c5-2caf4f0ab0ee",
   "metadata": {},
   "outputs": [
    {
     "name": "stdout",
     "output_type": "stream",
     "text": [
      "hello\n",
      "good morning\n",
      "okay\n",
      "bye\n"
     ]
    }
   ],
   "source": [
    "if 100>10:\n",
    "    print('hello')\n",
    "    print('good morning')\n",
    "#######################   \n",
    "print('okay')\n",
    "print('bye')\n",
    "\n",
    "# step-1: if 100>10 if True\n",
    "# step-2: hello\n",
    "# step-3: good morning\n",
    "# step-4: okay\n",
    "# step-4: bye"
   ]
  },
  {
   "cell_type": "code",
   "execution_count": 52,
   "id": "567d8ed0-b8e5-42e1-82ca-92707222f226",
   "metadata": {},
   "outputs": [
    {
     "name": "stdout",
     "output_type": "stream",
     "text": [
      "10\n",
      "20\n",
      "hello\n",
      "good morning\n",
      "okay\n",
      "bye\n"
     ]
    }
   ],
   "source": [
    "print(10)\n",
    "print(20)\n",
    "########################\n",
    "if 100>10:\n",
    "    print('hello')\n",
    "    print('good morning')\n",
    "#######################   \n",
    "print('okay')\n",
    "print('bye')"
   ]
  },
  {
   "cell_type": "code",
   "execution_count": 56,
   "id": "7bc20809-9ed0-43c9-b378-5fdf4ec76a5a",
   "metadata": {},
   "outputs": [
    {
     "ename": "IndentationError",
     "evalue": "unexpected indent (4160582781.py, line 4)",
     "output_type": "error",
     "traceback": [
      "\u001b[0;36m  Cell \u001b[0;32mIn[56], line 4\u001b[0;36m\u001b[0m\n\u001b[0;31m    print('okay')\u001b[0m\n\u001b[0m    ^\u001b[0m\n\u001b[0;31mIndentationError\u001b[0m\u001b[0;31m:\u001b[0m unexpected indent\n"
     ]
    }
   ],
   "source": [
    "if 100>10:\n",
    "    print('hello')\n",
    "print('good morning')  \n",
    "    print('okay')\n",
    "print('bye')"
   ]
  },
  {
   "cell_type": "code",
   "execution_count": 58,
   "id": "be3f3c3d-98a2-4679-9b54-00d86799d99e",
   "metadata": {},
   "outputs": [
    {
     "name": "stdout",
     "output_type": "stream",
     "text": [
      "hello\n",
      "good morning\n",
      "okay\n",
      "bye\n"
     ]
    }
   ],
   "source": [
    "if True:\n",
    "    print('hello')\n",
    "    print('good morning')  \n",
    "print('okay')\n",
    "print('bye')"
   ]
  },
  {
   "cell_type": "code",
   "execution_count": 62,
   "id": "8ea590a4-9380-48de-8463-26267cad291c",
   "metadata": {},
   "outputs": [
    {
     "name": "stdout",
     "output_type": "stream",
     "text": [
      "10\n",
      "okay\n",
      "bye\n"
     ]
    }
   ],
   "source": [
    "print(10)\n",
    "if 100<10:\n",
    "    print('hello')\n",
    "    print('good morning')\n",
    "print('okay')\n",
    "print('bye')"
   ]
  },
  {
   "cell_type": "code",
   "execution_count": 64,
   "id": "9a1e5405-2817-48b0-b465-b0a6db93d9ed",
   "metadata": {},
   "outputs": [
    {
     "name": "stdout",
     "output_type": "stream",
     "text": [
      "10\n",
      "okay\n",
      "bye\n"
     ]
    }
   ],
   "source": [
    "print(10)\n",
    "if False:\n",
    "    print('hello')\n",
    "    print('good morning')   \n",
    "print('okay')\n",
    "print('bye')"
   ]
  },
  {
   "cell_type": "code",
   "execution_count": 66,
   "id": "445b6425-fa09-453d-bad7-a8ac28260df6",
   "metadata": {},
   "outputs": [
    {
     "name": "stdout",
     "output_type": "stream",
     "text": [
      "10\n",
      "hello\n",
      "good morning\n",
      "okay\n",
      "bye\n"
     ]
    }
   ],
   "source": [
    "print(10)\n",
    "if 100:\n",
    "    print('hello')\n",
    "    print('good morning')   \n",
    "print('okay')\n",
    "print('bye')"
   ]
  },
  {
   "cell_type": "code",
   "execution_count": 68,
   "id": "28db9386-ac6f-4b5b-9b40-919907b32ec4",
   "metadata": {},
   "outputs": [
    {
     "name": "stdout",
     "output_type": "stream",
     "text": [
      "10\n",
      "hello\n",
      "good morning\n",
      "okay\n",
      "bye\n"
     ]
    }
   ],
   "source": [
    "print(10)\n",
    "if 'hello':\n",
    "    print('hello')\n",
    "    print('good morning')\n",
    "print('okay')\n",
    "print('bye')"
   ]
  },
  {
   "cell_type": "code",
   "execution_count": 70,
   "id": "3faa978a-52e3-47fd-b6b1-34d1bf32321d",
   "metadata": {},
   "outputs": [
    {
     "name": "stdout",
     "output_type": "stream",
     "text": [
      "10\n",
      "okay\n",
      "bye\n"
     ]
    }
   ],
   "source": [
    "print(10)\n",
    "if '':\n",
    "    print('hello')\n",
    "    print('good morning')\n",
    "print('okay')\n",
    "print('bye')"
   ]
  },
  {
   "cell_type": "code",
   "execution_count": 72,
   "id": "19ab51e0-262c-4da8-acb0-ab987452bcc6",
   "metadata": {},
   "outputs": [
    {
     "name": "stdout",
     "output_type": "stream",
     "text": [
      "10\n",
      "hello\n",
      "good morning\n",
      "okay\n",
      "bye\n"
     ]
    }
   ],
   "source": [
    "print(10)\n",
    "if '10.5':\n",
    "    print('hello')\n",
    "    print('good morning')\n",
    "print('okay')\n",
    "print('bye')"
   ]
  },
  {
   "cell_type": "code",
   "execution_count": 74,
   "id": "faaacb01-48ba-4e79-b31f-4b68897490a8",
   "metadata": {},
   "outputs": [
    {
     "name": "stdout",
     "output_type": "stream",
     "text": [
      "10\n",
      "hello\n",
      "good morning\n",
      "okay\n",
      "bye\n"
     ]
    }
   ],
   "source": [
    "print(10)\n",
    "if 10.5:\n",
    "    print('hello')\n",
    "    print('good morning')\n",
    "print('okay')\n",
    "print('bye')"
   ]
  },
  {
   "cell_type": "code",
   "execution_count": 76,
   "id": "5d810760-d49e-4fa1-868b-a0c5789e14b7",
   "metadata": {},
   "outputs": [
    {
     "name": "stdout",
     "output_type": "stream",
     "text": [
      "10\n"
     ]
    },
    {
     "ename": "NameError",
     "evalue": "name 'true' is not defined",
     "output_type": "error",
     "traceback": [
      "\u001b[0;31m---------------------------------------------------------------------------\u001b[0m",
      "\u001b[0;31mNameError\u001b[0m                                 Traceback (most recent call last)",
      "Cell \u001b[0;32mIn[76], line 2\u001b[0m\n\u001b[1;32m      1\u001b[0m \u001b[38;5;28mprint\u001b[39m(\u001b[38;5;241m10\u001b[39m)\n\u001b[0;32m----> 2\u001b[0m \u001b[38;5;28;01mif\u001b[39;00m true:\n\u001b[1;32m      3\u001b[0m     \u001b[38;5;28mprint\u001b[39m(\u001b[38;5;124m'\u001b[39m\u001b[38;5;124mhello\u001b[39m\u001b[38;5;124m'\u001b[39m)\n\u001b[1;32m      4\u001b[0m     \u001b[38;5;28mprint\u001b[39m(\u001b[38;5;124m'\u001b[39m\u001b[38;5;124mgood morning\u001b[39m\u001b[38;5;124m'\u001b[39m)\n",
      "\u001b[0;31mNameError\u001b[0m: name 'true' is not defined"
     ]
    }
   ],
   "source": [
    "print(10)\n",
    "if true:\n",
    "    print('hello')\n",
    "    print('good morning')\n",
    "print('okay')\n",
    "print('bye')"
   ]
  },
  {
   "cell_type": "code",
   "execution_count": 80,
   "id": "ca7b216a-0183-4ec8-b406-0433a06ab534",
   "metadata": {},
   "outputs": [
    {
     "name": "stdout",
     "output_type": "stream",
     "text": [
      "10\n",
      "hello\n",
      "good morning\n",
      "okay\n",
      "bye\n"
     ]
    }
   ],
   "source": [
    "print(10)\n",
    "true=True\n",
    "if true:\n",
    "    print('hello')\n",
    "    print('good morning')\n",
    "print('okay')\n",
    "print('bye')"
   ]
  },
  {
   "cell_type": "markdown",
   "id": "8c9a3f90-1b53-4dfd-b6c9-c7e7d990b118",
   "metadata": {},
   "source": [
    "**if-else**"
   ]
  },
  {
   "cell_type": "markdown",
   "id": "e07c73f1-912a-492a-9244-29f215dcc9d7",
   "metadata": {},
   "source": [
    "- if required condition\n",
    "\n",
    "- if that condition is True, then it will execute if block\n",
    "\n",
    "- otherwise, it will directly go to else block\n",
    "\n",
    "- so else block does not reqiure any condition"
   ]
  },
  {
   "cell_type": "code",
   "execution_count": null,
   "id": "67925966-4053-4823-8f4d-355e9a66bb89",
   "metadata": {},
   "outputs": [],
   "source": [
    "# syntax\n",
    "\n",
    "if <condition>:\n",
    "    <codeline>\n",
    "else:\n",
    "    <codeline>"
   ]
  },
  {
   "cell_type": "code",
   "execution_count": 84,
   "id": "83538320-7aae-4da1-8bcf-5fbeaf03b94e",
   "metadata": {},
   "outputs": [
    {
     "name": "stdout",
     "output_type": "stream",
     "text": [
      "True\n"
     ]
    }
   ],
   "source": [
    "if 100>10:\n",
    "    print('True')\n",
    "else:\n",
    "    print('False')\n",
    "    "
   ]
  },
  {
   "cell_type": "code",
   "execution_count": 86,
   "id": "be1026ec-c257-459b-a775-d81ee2ef7190",
   "metadata": {},
   "outputs": [
    {
     "name": "stdout",
     "output_type": "stream",
     "text": [
      "False\n"
     ]
    }
   ],
   "source": [
    "if 100<10:\n",
    "    print('True')\n",
    "else:\n",
    "    print('False')   "
   ]
  },
  {
   "cell_type": "code",
   "execution_count": 88,
   "id": "2974f354-f2ff-4606-bbea-cbc288be6652",
   "metadata": {},
   "outputs": [
    {
     "name": "stdout",
     "output_type": "stream",
     "text": [
      "hello\n",
      "True\n",
      "bye\n"
     ]
    }
   ],
   "source": [
    "print('hello')\n",
    "if 100>10:\n",
    "    print('True')\n",
    "else:\n",
    "    print('False')\n",
    "print('bye')"
   ]
  },
  {
   "cell_type": "code",
   "execution_count": 92,
   "id": "1669300a-d06b-44b5-8c1b-574530985843",
   "metadata": {},
   "outputs": [
    {
     "ename": "SyntaxError",
     "evalue": "invalid syntax (2750482459.py, line 5)",
     "output_type": "error",
     "traceback": [
      "\u001b[0;36m  Cell \u001b[0;32mIn[92], line 5\u001b[0;36m\u001b[0m\n\u001b[0;31m    else:\u001b[0m\n\u001b[0m    ^\u001b[0m\n\u001b[0;31mSyntaxError\u001b[0m\u001b[0;31m:\u001b[0m invalid syntax\n"
     ]
    }
   ],
   "source": [
    "print('hello')\n",
    "if 100>10:\n",
    "    print('True')\n",
    "print('why are you in middle')\n",
    "else:\n",
    "    print('False')\n",
    "print('bye')"
   ]
  },
  {
   "cell_type": "code",
   "execution_count": 94,
   "id": "023e9035-b995-48aa-a230-834eb06f7518",
   "metadata": {},
   "outputs": [
    {
     "name": "stdout",
     "output_type": "stream",
     "text": [
      "10\n",
      "0\n",
      "10\n",
      "0.0\n"
     ]
    },
    {
     "ename": "ZeroDivisionError",
     "evalue": "division by zero",
     "output_type": "error",
     "traceback": [
      "\u001b[0;31m---------------------------------------------------------------------------\u001b[0m",
      "\u001b[0;31mZeroDivisionError\u001b[0m                         Traceback (most recent call last)",
      "Cell \u001b[0;32mIn[94], line 10\u001b[0m\n\u001b[1;32m      8\u001b[0m d\u001b[38;5;241m=\u001b[39mb\u001b[38;5;241m/\u001b[39ma\n\u001b[1;32m      9\u001b[0m \u001b[38;5;28mprint\u001b[39m(d)\n\u001b[0;32m---> 10\u001b[0m e\u001b[38;5;241m=\u001b[39ma\u001b[38;5;241m/\u001b[39mb\n\u001b[1;32m     11\u001b[0m \u001b[38;5;28mprint\u001b[39m(e)\n",
      "\u001b[0;31mZeroDivisionError\u001b[0m: division by zero"
     ]
    }
   ],
   "source": [
    "if True:\n",
    "    a=10\n",
    "    b=0\n",
    "    print(a)\n",
    "    print(b)\n",
    "    c=a+b\n",
    "    print(c)\n",
    "    d=b/a\n",
    "    print(d)\n",
    "    e=a/b\n",
    "    print(e)"
   ]
  },
  {
   "cell_type": "code",
   "execution_count": 106,
   "id": "0c4a7642-b354-423c-8f3d-1ee8fd56b225",
   "metadata": {},
   "outputs": [
    {
     "data": {
      "text/plain": [
       "1.25"
      ]
     },
     "execution_count": 106,
     "metadata": {},
     "output_type": "execute_result"
    }
   ],
   "source": [
    "5/4 # normal division"
   ]
  },
  {
   "cell_type": "code",
   "execution_count": 108,
   "id": "5e482777-e893-4431-9b50-d3a7a7382bb0",
   "metadata": {},
   "outputs": [
    {
     "data": {
      "text/plain": [
       "1"
      ]
     },
     "execution_count": 108,
     "metadata": {},
     "output_type": "execute_result"
    }
   ],
   "source": [
    "5//4 # to get floor divison"
   ]
  },
  {
   "cell_type": "code",
   "execution_count": 110,
   "id": "1974d40c-fb9d-49d3-9cb2-44b200ac4975",
   "metadata": {},
   "outputs": [
    {
     "data": {
      "text/plain": [
       "1"
      ]
     },
     "execution_count": 110,
     "metadata": {},
     "output_type": "execute_result"
    }
   ],
   "source": [
    "5%4 # to get reminder"
   ]
  },
  {
   "cell_type": "code",
   "execution_count": 114,
   "id": "9041bb78-9ed2-45d5-b816-1110f7a5256f",
   "metadata": {},
   "outputs": [],
   "source": [
    "# wap ask the user enter a number \n",
    "# find it is a even number or odd number\n",
    "\n",
    "# step-1: num=eval(input())\n",
    "# step-2: if <condtion>:\n",
    "# step-3:    print()\n",
    "# step-4: else:\n",
    "# step-5:  print()"
   ]
  },
  {
   "cell_type": "code",
   "execution_count": 118,
   "id": "99bc3fbe-c41b-467c-9db8-bcbf25365358",
   "metadata": {},
   "outputs": [
    {
     "name": "stdin",
     "output_type": "stream",
     "text": [
      "enter the number: 2\n"
     ]
    },
    {
     "name": "stdout",
     "output_type": "stream",
     "text": [
      "the number is even\n"
     ]
    }
   ],
   "source": [
    "num=eval(input('enter the number:'))\n",
    "if num%2==0:\n",
    "    print('the number is even')\n",
    "else:\n",
    "    print('the number is odd')"
   ]
  },
  {
   "cell_type": "code",
   "execution_count": 13,
   "id": "62b87c3b-b722-4aa5-9fc0-34ab587d42b5",
   "metadata": {},
   "outputs": [
    {
     "name": "stdout",
     "output_type": "stream",
     "text": [
      "5\n",
      "the number is odd\n"
     ]
    }
   ],
   "source": [
    "import random\n",
    "num=random.randint(1,10)\n",
    "print(num)\n",
    "if num%2==0:\n",
    "    print('the number is even')\n",
    "else:\n",
    "    print('the number is odd')"
   ]
  },
  {
   "cell_type": "code",
   "execution_count": 19,
   "id": "9c89a667-29a2-48b2-900f-edd9cd3519a5",
   "metadata": {},
   "outputs": [
    {
     "name": "stdin",
     "output_type": "stream",
     "text": [
      "enter the age: 20\n"
     ]
    },
    {
     "name": "stdout",
     "output_type": "stream",
     "text": [
      "you are eligible to vote\n"
     ]
    }
   ],
   "source": [
    "# wap to check whether a person is eligible for voting or not (ask the user to enter the age)\n",
    "\n",
    "age=eval(input('enter the age:'))\n",
    "if age>=18:\n",
    "    print('you are eligible to vote')\n",
    "else:\n",
    "    print('sorry you are not eligible')"
   ]
  },
  {
   "cell_type": "code",
   "execution_count": 23,
   "id": "3dd31239-c1cc-4bc6-a6c9-2cd8cbab929a",
   "metadata": {},
   "outputs": [
    {
     "name": "stdin",
     "output_type": "stream",
     "text": [
      "enter a number: 13\n"
     ]
    },
    {
     "name": "stdout",
     "output_type": "stream",
     "text": [
      "the given number is:\n",
      "it is not divisible by 7\n"
     ]
    }
   ],
   "source": [
    "# wap to check whether the entered number is divisible by 7\n",
    "\n",
    "num=eval(input('enter a number:'))\n",
    "print('the given number is:')\n",
    "if num%7==0:\n",
    "    print('it is divisible by 7')\n",
    "else:\n",
    "    print('it is not divisible by 7')"
   ]
  },
  {
   "cell_type": "code",
   "execution_count": 41,
   "id": "31065d78-d89f-4c35-a78c-6b5351341782",
   "metadata": {},
   "outputs": [
    {
     "name": "stdout",
     "output_type": "stream",
     "text": [
      "last digit of your number is: 6\n",
      "it is divisible by 3\n"
     ]
    }
   ],
   "source": [
    "# wap to check the last digit of given number is divisible by 3 or not\n",
    "\n",
    "num=126\n",
    "last=num%10\n",
    "print(f'last digit of your number is: {last}')\n",
    "if last%3==0:\n",
    "    print('it is divisible by 3')\n",
    "else:\n",
    "    print('it is not divisible by 3')"
   ]
  },
  {
   "cell_type": "code",
   "execution_count": 13,
   "id": "c7ae66a4-a483-4fb3-b1a9-2ab92d63cfe9",
   "metadata": {},
   "outputs": [
    {
     "name": "stdout",
     "output_type": "stream",
     "text": [
      "the random number is:34\n",
      "it is a even number\n"
     ]
    }
   ],
   "source": [
    "import random\n",
    "\n",
    "num=random.randint(1,100)\n",
    "print('the random number is:{}'.format(num))\n",
    "if num%2==0:\n",
    "    print('it is a even number')\n",
    "else:\n",
    "    print('it is odd number')"
   ]
  },
  {
   "cell_type": "code",
   "execution_count": 15,
   "id": "8671bcb4-9f09-4d9b-916c-c8d866cb5a0f",
   "metadata": {},
   "outputs": [
    {
     "name": "stdin",
     "output_type": "stream",
     "text": [
      "enter the start number: 1\n",
      "enter the end number: 100\n"
     ]
    },
    {
     "name": "stdout",
     "output_type": "stream",
     "text": [
      "the random number is:36\n",
      "it is a even number\n"
     ]
    }
   ],
   "source": [
    "import random\n",
    "\n",
    "start=eval(input('enter the start number:'))\n",
    "end=eval(input('enter the end number:'))\n",
    "num=random.randint(start,end)\n",
    "print('the random number is:{}'.format(num))\n",
    "if num%2==0:\n",
    "    print('it is a even number')\n",
    "else:\n",
    "    print('it is odd number')"
   ]
  },
  {
   "cell_type": "markdown",
   "id": "abcf92bc-b964-44e2-a0a7-c2871de8c160",
   "metadata": {},
   "source": [
    "- we are providing values means it is hard coded\n",
    "\n",
    "- code should be always genric, with out hard coding"
   ]
  },
  {
   "cell_type": "code",
   "execution_count": 18,
   "id": "8bb8c91d-df5c-4aa6-b93f-cf09ee061044",
   "metadata": {},
   "outputs": [],
   "source": [
    "# wap ask the user enter the distance\n",
    "# if distance greater than 25km\n",
    "#   then enter the charge\n",
    "#   print the total cost\n",
    "# otherwise\n",
    "#  print free ride"
   ]
  },
  {
   "cell_type": "code",
   "execution_count": 28,
   "id": "da39cb02-6d21-431b-a592-696244428dab",
   "metadata": {},
   "outputs": [
    {
     "name": "stdin",
     "output_type": "stream",
     "text": [
      "enter the distance 50\n",
      "enter the charge: 20\n"
     ]
    },
    {
     "name": "stdout",
     "output_type": "stream",
     "text": [
      "the total cost is 1000\n"
     ]
    }
   ],
   "source": [
    "dis=eval(input('enter the distance'))\n",
    "if dis>25:\n",
    "    charge=eval(input('enter the charge:'))\n",
    "    total=dis*charge\n",
    "    print(f'the total cost is {total}')\n",
    "else:\n",
    "    print('it is a free ride')\n",
    "\n",
    "    \n",
    "    "
   ]
  },
  {
   "cell_type": "code",
   "execution_count": 32,
   "id": "b3df373d-b8b3-4d50-99a0-7e6f47b27e7f",
   "metadata": {},
   "outputs": [],
   "source": [
    "# wap ask the user enter the distance\n",
    "# if distance greater than 25km\n",
    "#   then enter the charge for reamining kms from greater than 25km\n",
    "#   print the total cost\n",
    "# otherwise\n",
    "#  print free ride"
   ]
  },
  {
   "cell_type": "code",
   "execution_count": 34,
   "id": "86486142-5069-45de-ae8b-7d36829d4bca",
   "metadata": {},
   "outputs": [
    {
     "name": "stdin",
     "output_type": "stream",
     "text": [
      "enter the distance 50\n",
      "enter the charge: 20\n"
     ]
    },
    {
     "name": "stdout",
     "output_type": "stream",
     "text": [
      "the total cost is 500\n"
     ]
    }
   ],
   "source": [
    "dis=eval(input('enter the distance'))\n",
    "if dis>25:\n",
    "    charge=eval(input('enter the charge:'))\n",
    "    total=(dis-25)*charge\n",
    "    print(f'the total cost is {total}')\n",
    "else:\n",
    "    print('it is a free ride')"
   ]
  },
  {
   "cell_type": "code",
   "execution_count": 44,
   "id": "8cd76344-cf90-4dad-8589-599b3c60e901",
   "metadata": {},
   "outputs": [
    {
     "name": "stdin",
     "output_type": "stream",
     "text": [
      "enter the distance 50\n",
      "enter the distance cutoff 25\n",
      "enter the charge: 20\n"
     ]
    },
    {
     "name": "stdout",
     "output_type": "stream",
     "text": [
      "the total cost is 500\n"
     ]
    }
   ],
   "source": [
    "dis=eval(input('enter the distance'))\n",
    "cutoff_distance=eval(input('enter the distance cutoff'))\n",
    "if dis>25:\n",
    "    charge=eval(input('enter the charge:'))\n",
    "    total=cutoff_distance*charge\n",
    "    print(f'the total cost is {total}')\n",
    "else:\n",
    "    print('it is a free ride')"
   ]
  },
  {
   "cell_type": "code",
   "execution_count": 36,
   "id": "01822dbb-f508-4d5c-aa3e-c2c31ca19172",
   "metadata": {},
   "outputs": [],
   "source": [
    "# wap ask the user enter the course\n",
    "# ask the user enter the institute\n",
    "# if the course equal to data science and institute equal to naresh it\n",
    "#    then you are good\n",
    "# other wise\n",
    "# you are bad"
   ]
  },
  {
   "cell_type": "code",
   "execution_count": 42,
   "id": "3872667a-4e24-478d-ba49-131ed3d8f6f8",
   "metadata": {},
   "outputs": [
    {
     "name": "stdin",
     "output_type": "stream",
     "text": [
      "enter your course name: data science\n",
      "enter institute name: naresh it\n"
     ]
    },
    {
     "name": "stdout",
     "output_type": "stream",
     "text": [
      "good\n"
     ]
    }
   ],
   "source": [
    "course=input('enter your course name:')\n",
    "institute=input('enter institute name:')\n",
    "if course=='data science' and institute=='naresh it':\n",
    "    print('good')\n",
    "else:\n",
    "    print('bad')"
   ]
  },
  {
   "cell_type": "markdown",
   "id": "73f37085-a24a-4536-adb2-6ee444fce3bb",
   "metadata": {},
   "source": [
    "- and means two conditions need to satisfy\n",
    "\n",
    "- or means any one condition enough to satisfy"
   ]
  },
  {
   "cell_type": "code",
   "execution_count": 47,
   "id": "e222a910-ee36-4b83-8024-8bd30761b8d0",
   "metadata": {},
   "outputs": [],
   "source": [
    "# wap ask user, enter a random number between 1 to 10\n",
    "# ask the user enter a another number from keyboard treat it as number 2\n",
    "# if number 1 equal to number 2\n",
    "# print you won\n",
    "# otherwise\n",
    "# print lost"
   ]
  },
  {
   "cell_type": "code",
   "execution_count": 53,
   "id": "9dbcacfb-3061-4d13-a1f2-0f89208add57",
   "metadata": {},
   "outputs": [
    {
     "name": "stdin",
     "output_type": "stream",
     "text": [
      "enter the another number: 7\n"
     ]
    },
    {
     "name": "stdout",
     "output_type": "stream",
     "text": [
      "bad\n"
     ]
    }
   ],
   "source": [
    "import random\n",
    "number1=random.randint(1,10)\n",
    "number2=eval(input('enter the another number:'))\n",
    "if number1==number2:\n",
    "    print('won')\n",
    "else:\n",
    "    print('bad')"
   ]
  },
  {
   "cell_type": "markdown",
   "id": "ca66214b-1a19-4cae-b35e-070f74c1ec23",
   "metadata": {},
   "source": [
    "- till now we have seen one condition problem\n",
    "\n",
    "- which means if that condition is True will get one answer\n",
    "\n",
    "- if that condition false then will get another answer\n",
    "\n",
    "- how about if we have more than 2 conditions\n",
    "\n",
    "- if-elif-else\n",
    "\n",
    "- how about if we have more than 2 conditions\n",
    "\n",
    "- if has one condition\n",
    "\n",
    "- elif has second condition\n",
    "\n",
    "- if both are false then the result is else "
   ]
  },
  {
   "cell_type": "code",
   "execution_count": null,
   "id": "5b269071-e098-4f5a-ace9-a2e68fd01bf3",
   "metadata": {},
   "outputs": [],
   "source": [
    "# syntax\n",
    "\n",
    "if <condition>:\n",
    "    <statements>\n",
    "elif <condition>:\n",
    "    <statements>\n",
    "else:\n",
    "    <statement>\n",
    "\n",
    "if else (1)\n",
    "if elif else (2)\n",
    "if elif elif else (3)"
   ]
  },
  {
   "cell_type": "code",
   "execution_count": 56,
   "id": "79a2172f-1779-4899-bd53-dc1aa1a67295",
   "metadata": {},
   "outputs": [],
   "source": [
    "# wap ask the user enter number\n",
    "# if number equal to 1 then print one\n",
    "# if number equal to 2 then print two\n",
    "# if number equal to 3 then print three\n",
    "# otherwise print enter a valid number"
   ]
  },
  {
   "cell_type": "code",
   "execution_count": 64,
   "id": "3b227d6c-efbf-41e2-a270-b0b3729e029d",
   "metadata": {},
   "outputs": [
    {
     "name": "stdin",
     "output_type": "stream",
     "text": [
      "enter a number: 3\n"
     ]
    },
    {
     "name": "stdout",
     "output_type": "stream",
     "text": [
      "three\n"
     ]
    }
   ],
   "source": [
    "num=eval(input('enter a number:'))\n",
    "if num==1:print('one')\n",
    "elif num==2:print('two')\n",
    "elif num==3:print('three')\n",
    "else:print('enter valid number')"
   ]
  },
  {
   "cell_type": "code",
   "execution_count": 66,
   "id": "064b91c4-8924-4dff-bccd-81470d0f8abe",
   "metadata": {},
   "outputs": [],
   "source": [
    "# wap ask the user enter a number\n",
    "# if that number greather than 0 print positive\n",
    "# if that number less than 0 print negative\n",
    "# otherwise print 0"
   ]
  },
  {
   "cell_type": "code",
   "execution_count": 72,
   "id": "d53695ae-39b5-451b-9e4d-15c3ad790105",
   "metadata": {},
   "outputs": [
    {
     "name": "stdin",
     "output_type": "stream",
     "text": [
      "enter a number: 0\n"
     ]
    },
    {
     "name": "stdout",
     "output_type": "stream",
     "text": [
      "zero\n"
     ]
    }
   ],
   "source": [
    "num=eval(input('enter a number:'))\n",
    "if num>0:\n",
    "    print('postive')\n",
    "elif num<0:\n",
    "    print('negative')\n",
    "else:\n",
    "    print('zero')"
   ]
  },
  {
   "cell_type": "code",
   "execution_count": 74,
   "id": "8e9158c0-a0b6-4258-b4aa-73bf1234889b",
   "metadata": {},
   "outputs": [],
   "source": [
    "# wap ask the user enter the percentage of marks\n",
    "# if percentage greathan than 90 print A grade\n",
    "# if percentage between 75 to 90 print B grade\n",
    "# if percentage between 50 to 75 print C grade\n",
    "# if percentage between 35 to 50 print D grade\n",
    "# if precentage less than 35 print fail"
   ]
  },
  {
   "cell_type": "code",
   "execution_count": 78,
   "id": "689f5cc0-4b9c-4310-85b6-33dd7c6ee3e1",
   "metadata": {},
   "outputs": [
    {
     "name": "stdin",
     "output_type": "stream",
     "text": [
      "enter the percentage of marks: 32\n"
     ]
    },
    {
     "name": "stdout",
     "output_type": "stream",
     "text": [
      "fail\n"
     ]
    }
   ],
   "source": [
    "percent=eval(input('enter the percentage of marks:'))\n",
    "if percent>=90:\n",
    "    print('A grade')\n",
    "elif percent>=75:\n",
    "    print('B grade')\n",
    "elif percent>=50:\n",
    "    print('C grade')\n",
    "elif percent>=35:\n",
    "    print('D grade')\n",
    "else:\n",
    "    print('fail')"
   ]
  },
  {
   "cell_type": "code",
   "execution_count": 80,
   "id": "d13f85f7-4c24-453f-a25f-900cbf966de7",
   "metadata": {},
   "outputs": [],
   "source": [
    "# wap ask the user enter the age\n",
    "# if the age greather than 75 print old age\n",
    "# if the age between 50 t0 75 print ss\n",
    "#                     30 to 50 print MA\n",
    "#                     15 to 30 print young age\n",
    "#                     less than 15 print kid"
   ]
  },
  {
   "cell_type": "code",
   "execution_count": 82,
   "id": "610c0ced-3bd7-443f-b078-8e21387df77c",
   "metadata": {},
   "outputs": [
    {
     "name": "stdin",
     "output_type": "stream",
     "text": [
      "enter the age: 105\n"
     ]
    },
    {
     "name": "stdout",
     "output_type": "stream",
     "text": [
      "lucky\n"
     ]
    }
   ],
   "source": [
    "age=eval(input('enter the age:'))\n",
    "if age>=100:\n",
    "    print('lucky')\n",
    "elif age>=75:\n",
    "    print('old age')\n",
    "elif age>=50:\n",
    "    print('ss')\n",
    "elif age>=30:\n",
    "    print('ma')\n",
    "elif age>=15:\n",
    "    print('young age')\n",
    "else:\n",
    "    print('kid')"
   ]
  },
  {
   "cell_type": "code",
   "execution_count": 3,
   "id": "db8095cf-ada2-4e8e-b364-2353a2523751",
   "metadata": {},
   "outputs": [
    {
     "name": "stdin",
     "output_type": "stream",
     "text": [
      "enter a number num1: 50\n",
      "enter a number num2: 30\n"
     ]
    },
    {
     "name": "stdout",
     "output_type": "stream",
     "text": [
      "enter operation 1 for addition\n",
      "enter operation 2 for multiplication\n",
      "enter operation 3 for subtraction\n",
      "enter operation 4 for division\n"
     ]
    },
    {
     "name": "stdin",
     "output_type": "stream",
     "text": [
      "enter the operation between 1 to 4: 5\n"
     ]
    },
    {
     "name": "stdout",
     "output_type": "stream",
     "text": [
      "enter valid number\n"
     ]
    }
   ],
   "source": [
    "# wap ask the user enter 2 numbers\n",
    "# num1\n",
    "# num2\n",
    "# you need to print\n",
    "# enter operation 1 for addition\n",
    "# enter operation 2 for mul\n",
    "# enter operation 3 for sub\n",
    "# enter operation 4 for div\n",
    "\n",
    "# enter the operation between 1 to 4\n",
    "# if operation equal to 1 then do add\n",
    "# if operation eqaul to 2 then do mul\n",
    "# if operation equal to 3 then do sub\n",
    "# if operation equal to 4 then do div\n",
    "# otherwise print enter valid number\n",
    "\n",
    "num1=eval(input('enter a number num1:'))\n",
    "num2=eval(input('enter a number num2:'))\n",
    "print('enter operation 1 for addition')\n",
    "print('enter operation 2 for multiplication')\n",
    "print('enter operation 3 for subtraction')\n",
    "print('enter operation 4 for division')\n",
    "operation=eval(input('enter the operation between 1 to 4:'))\n",
    "if operation==1:\n",
    "    add=num1+num2\n",
    "    print('addition is:',add)\n",
    "elif operation==2:\n",
    "    mul=num1*num2\n",
    "    print('multiplication is:',mul)\n",
    "elif operation==3:\n",
    "    sub=num1-num2\n",
    "    print('subtraction is:',sub)\n",
    "elif operation==4:\n",
    "    div=num1/num2\n",
    "    print('division is:',div)\n",
    "else:\n",
    "    print('enter valid number')"
   ]
  },
  {
   "cell_type": "code",
   "execution_count": 11,
   "id": "200a22a2-48d8-45bf-a1fd-62af0d0104b7",
   "metadata": {},
   "outputs": [
    {
     "name": "stdin",
     "output_type": "stream",
     "text": [
      "enter the gender: male\n",
      "enter age: 15\n"
     ]
    },
    {
     "name": "stdout",
     "output_type": "stream",
     "text": [
      "young man\n"
     ]
    }
   ],
   "source": [
    "# wap ask the user enter the gender\n",
    "# if gender equal to male\n",
    "#   ask the user enter age\n",
    "#   if age greater than 60 print ss\n",
    "#   if the age between 30 to 60 print man\n",
    "#   if the age between 15 to 30 print young man\n",
    "#   otherwise print boy\n",
    "# elif gender equal to female\n",
    "#   ask the user enter age\n",
    "#   if age greater than 60 print ss\n",
    "#   if the age between 30 to 60 print woman\n",
    "#   if the age between 15 to 30 print young woman\n",
    "#   otherwise print girl\n",
    "# otherwise:\n",
    "#   print enter a vaild gender\n",
    "\n",
    "gender=input('enter the gender:')\n",
    "if gender=='male':\n",
    "    age=eval(input('enter age:'))\n",
    "    if age>=60:\n",
    "        print('senior citizen')\n",
    "    elif age>=30:\n",
    "        print('man')\n",
    "    elif age>=15:\n",
    "        print('young man')\n",
    "    else:\n",
    "        print('boy')\n",
    "elif gender=='female':\n",
    "    age=eval(input('enter age:'))\n",
    "    if age>=60:\n",
    "        print('senior citizen')\n",
    "    elif age>=30:\n",
    "        print('woman')\n",
    "    elif age>=15:\n",
    "        print('young woman')\n",
    "    else:\n",
    "        print('girl')\n",
    "else:\n",
    "    print('enter a valid gender')"
   ]
  },
  {
   "cell_type": "code",
   "execution_count": 17,
   "id": "05b5cd7b-61c6-491c-a34a-e8ab8e8e0861",
   "metadata": {},
   "outputs": [
    {
     "name": "stdin",
     "output_type": "stream",
     "text": [
      "enter a number: 0\n"
     ]
    },
    {
     "name": "stdout",
     "output_type": "stream",
     "text": [
      "zero\n"
     ]
    }
   ],
   "source": [
    "# wap ask the user enter a number\n",
    "# if that number greater than or equal to zero\n",
    "#   if number equal to zero\n",
    "#         print zero\n",
    "#   else\n",
    "#      print positive\n",
    "# else\n",
    "#   print negative\n",
    "\n",
    "num=eval(input('enter a number:'))\n",
    "if num>=0:\n",
    "    if num==0:\n",
    "        print('zero')\n",
    "    else:\n",
    "        print('positive')\n",
    "else:\n",
    "    print('negative')"
   ]
  },
  {
   "cell_type": "code",
   "execution_count": 23,
   "id": "14cb318e-d941-4b63-9fe9-7b5cd147b759",
   "metadata": {},
   "outputs": [
    {
     "name": "stdin",
     "output_type": "stream",
     "text": [
      "enter a number1: 10\n",
      "enter a number2: 50\n",
      "enter a number3: 20\n"
     ]
    },
    {
     "name": "stdout",
     "output_type": "stream",
     "text": [
      "the maximum value is number2: 50\n"
     ]
    }
   ],
   "source": [
    "# take three numbers\n",
    "# num1 num2 num3\n",
    "# find the maximum value\n",
    "\n",
    "num1=eval(input('enter a number1:'))\n",
    "num2=eval(input('enter a number2:'))\n",
    "num3=eval(input('enter a number3:'))\n",
    "if num1>num2 and num1>num3:\n",
    "    print('the maximum value is number1:',num1)\n",
    "elif num2>num3 and num2>num1:\n",
    "    print('the maximum value is number2:',num2)\n",
    "else:\n",
    "    print('the maximum value is number3:',num3)\n",
    "    "
   ]
  },
  {
   "cell_type": "code",
   "execution_count": null,
   "id": "1b5e43f3-a104-4e8e-bbe9-7e3313c602cf",
   "metadata": {},
   "outputs": [],
   "source": []
  }
 ],
 "metadata": {
  "kernelspec": {
   "display_name": "Python 3 (ipykernel)",
   "language": "python",
   "name": "python3"
  },
  "language_info": {
   "codemirror_mode": {
    "name": "ipython",
    "version": 3
   },
   "file_extension": ".py",
   "mimetype": "text/x-python",
   "name": "python",
   "nbconvert_exporter": "python",
   "pygments_lexer": "ipython3",
   "version": "3.11.7"
  }
 },
 "nbformat": 4,
 "nbformat_minor": 5
}
