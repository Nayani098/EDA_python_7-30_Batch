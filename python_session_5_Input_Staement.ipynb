{
 "cells": [
  {
   "cell_type": "markdown",
   "id": "5144f4e0-e614-4be8-9a18-16faa026673b",
   "metadata": {},
   "source": [
    "$input$"
   ]
  },
  {
   "cell_type": "code",
   "execution_count": null,
   "id": "867a20eb-a70b-4cc0-86c6-c3309dad72c3",
   "metadata": {},
   "outputs": [],
   "source": [
    "num1=100\n",
    "num2=200\n",
    "add=num1+num2"
   ]
  },
  {
   "cell_type": "markdown",
   "id": "9bf8ff42-5fe3-425a-b082-72c452a40fd6",
   "metadata": {},
   "source": [
    "- input keyword i used to take the values from user"
   ]
  },
  {
   "cell_type": "code",
   "execution_count": 6,
   "id": "801202aa-3f9a-4cd8-a628-9baf3a4411ad",
   "metadata": {},
   "outputs": [
    {
     "name": "stdin",
     "output_type": "stream",
     "text": [
      " 12\n"
     ]
    },
    {
     "data": {
      "text/plain": [
       "'12'"
      ]
     },
     "execution_count": 6,
     "metadata": {},
     "output_type": "execute_result"
    }
   ],
   "source": [
    "input()"
   ]
  },
  {
   "cell_type": "code",
   "execution_count": 8,
   "id": "b839b8a7-db6a-4424-8509-22e5cf642c54",
   "metadata": {},
   "outputs": [
    {
     "name": "stdin",
     "output_type": "stream",
     "text": [
      "enter the number: 100\n"
     ]
    },
    {
     "data": {
      "text/plain": [
       "'100'"
      ]
     },
     "execution_count": 8,
     "metadata": {},
     "output_type": "execute_result"
    }
   ],
   "source": [
    "input(\"enter the number:\")"
   ]
  },
  {
   "cell_type": "code",
   "execution_count": 10,
   "id": "cca9bef4-c555-4fda-a2d8-93e4a2890640",
   "metadata": {},
   "outputs": [
    {
     "name": "stdin",
     "output_type": "stream",
     "text": [
      " 100\n",
      " 200\n"
     ]
    },
    {
     "data": {
      "text/plain": [
       "'200'"
      ]
     },
     "execution_count": 10,
     "metadata": {},
     "output_type": "execute_result"
    }
   ],
   "source": [
    "input()\n",
    "input()"
   ]
  },
  {
   "cell_type": "code",
   "execution_count": 12,
   "id": "97bd66bb-5396-4177-a0d9-2fb09805c7c7",
   "metadata": {},
   "outputs": [
    {
     "name": "stdin",
     "output_type": "stream",
     "text": [
      " 10\n",
      " 20\n",
      " 30\n"
     ]
    },
    {
     "data": {
      "text/plain": [
       "'30'"
      ]
     },
     "execution_count": 12,
     "metadata": {},
     "output_type": "execute_result"
    }
   ],
   "source": [
    "input()\n",
    "input()\n",
    "input()"
   ]
  },
  {
   "cell_type": "code",
   "execution_count": 14,
   "id": "ddce5244-ae1c-4ec4-b603-d0d18c88b276",
   "metadata": {},
   "outputs": [
    {
     "name": "stdin",
     "output_type": "stream",
     "text": [
      "enter the number1 100\n",
      "enter the number2 200\n",
      "enter the number3 300\n"
     ]
    },
    {
     "data": {
      "text/plain": [
       "'300'"
      ]
     },
     "execution_count": 14,
     "metadata": {},
     "output_type": "execute_result"
    }
   ],
   "source": [
    "input('enter the number1')\n",
    "input('enter the number2')\n",
    "input('enter the number3')"
   ]
  },
  {
   "cell_type": "code",
   "execution_count": 16,
   "id": "8ff17391-fd6a-4bdd-aa75-7fdd8b129978",
   "metadata": {},
   "outputs": [
    {
     "name": "stdin",
     "output_type": "stream",
     "text": [
      "enter the number1: 100\n",
      "enter the number2: 200\n"
     ]
    }
   ],
   "source": [
    "num1=input('enter the number1:')\n",
    "num2=input('enter the number2:')"
   ]
  },
  {
   "cell_type": "code",
   "execution_count": 18,
   "id": "a454ed57-0dad-4aa5-b517-3011216f1f6d",
   "metadata": {},
   "outputs": [
    {
     "data": {
      "text/plain": [
       "'100200'"
      ]
     },
     "execution_count": 18,
     "metadata": {},
     "output_type": "execute_result"
    }
   ],
   "source": [
    "num1+num2"
   ]
  },
  {
   "cell_type": "code",
   "execution_count": 20,
   "id": "30054f09-e879-4845-abfc-17e32126d149",
   "metadata": {},
   "outputs": [
    {
     "data": {
      "text/plain": [
       "'100'"
      ]
     },
     "execution_count": 20,
     "metadata": {},
     "output_type": "execute_result"
    }
   ],
   "source": [
    "num1"
   ]
  },
  {
   "cell_type": "markdown",
   "id": "311cb665-542e-4d59-aa7c-6b591b3658e6",
   "metadata": {},
   "source": [
    "**note**"
   ]
  },
  {
   "cell_type": "markdown",
   "id": "584d85e5-0f48-405b-902e-fc74ffa699cd",
   "metadata": {},
   "source": [
    "- input always give the string data type only\n",
    "\n",
    "- in order to perform math caluclation we need to convert into numerical format i.e int or float"
   ]
  },
  {
   "cell_type": "code",
   "execution_count": 30,
   "id": "a3f15adc-8507-4214-8052-6b8b7bfc204b",
   "metadata": {},
   "outputs": [
    {
     "name": "stdin",
     "output_type": "stream",
     "text": [
      "enter the number1: 100\n",
      "enter the number2: 200\n"
     ]
    },
    {
     "data": {
      "text/plain": [
       "'100200'"
      ]
     },
     "execution_count": 30,
     "metadata": {},
     "output_type": "execute_result"
    }
   ],
   "source": [
    "num1=input(\"enter the number1:\") #'100'\n",
    "num2=input(\"enter the number2:\") #'200'\n",
    "num1+num2 # '100'+'200'='100200'"
   ]
  },
  {
   "cell_type": "code",
   "execution_count": 28,
   "id": "b8502596-f400-404d-9923-1ed1f5dcc64b",
   "metadata": {},
   "outputs": [
    {
     "name": "stdin",
     "output_type": "stream",
     "text": [
      "enter the number1: 100\n",
      "enter the number2: 200\n"
     ]
    },
    {
     "data": {
      "text/plain": [
       "300"
      ]
     },
     "execution_count": 28,
     "metadata": {},
     "output_type": "execute_result"
    }
   ],
   "source": [
    "num1=int(input(\"enter the number1:\"))  #int(input)=100\n",
    "num2=int(input(\"enter the number2:\"))  #int(input)=200\n",
    "num1+num2 # 100+200"
   ]
  },
  {
   "cell_type": "code",
   "execution_count": 34,
   "id": "0ce85717-99bc-4c63-9f81-bc0e348fe9fa",
   "metadata": {},
   "outputs": [
    {
     "name": "stdin",
     "output_type": "stream",
     "text": [
      "enter the number1: 100\n",
      "enter the number2: 200\n"
     ]
    },
    {
     "name": "stdout",
     "output_type": "stream",
     "text": [
      "the addition of 100 and 200 is 300\n"
     ]
    }
   ],
   "source": [
    "num1=int(input(\"enter the number1:\"))\n",
    "num2=int(input(\"enter the number2:\"))\n",
    "add=num1+num2\n",
    "print(f'the addition of {num1} and {num2} is {add}')"
   ]
  },
  {
   "cell_type": "markdown",
   "id": "00ee75c5-91dd-43d4-8226-217135deb492",
   "metadata": {},
   "source": [
    "**eval**\n",
    "\n",
    "- eval means evaluate\n",
    "\n",
    "- "
   ]
  },
  {
   "cell_type": "code",
   "execution_count": 37,
   "id": "322e2b22-ff6b-42bb-806d-212c27837f8a",
   "metadata": {},
   "outputs": [
    {
     "name": "stdin",
     "output_type": "stream",
     "text": [
      "enter the number1: 100.5\n",
      "enter the number2: 200\n"
     ]
    },
    {
     "name": "stdout",
     "output_type": "stream",
     "text": [
      "the addition of 100.5 and 200 is 300.5\n"
     ]
    }
   ],
   "source": [
    "num1=eval(input(\"enter the number1:\"))\n",
    "num2=eval(input(\"enter the number2:\"))\n",
    "add=num1+num2\n",
    "print(f'the addition of {num1} and {num2} is {add}')"
   ]
  },
  {
   "cell_type": "code",
   "execution_count": null,
   "id": "6258837d-a3ef-411f-86fa-d26df6dfedc5",
   "metadata": {},
   "outputs": [],
   "source": [
    "# wap ask the user enter 3 numbers calculate average\n",
    "#"
   ]
  },
  {
   "cell_type": "code",
   "execution_count": 39,
   "id": "09def399-9ae9-48c9-a0f8-5920174c72dd",
   "metadata": {},
   "outputs": [
    {
     "name": "stdin",
     "output_type": "stream",
     "text": [
      "enter the number1: 100\n",
      "enter the number2: 200\n",
      "enter the number3: 300\n"
     ]
    },
    {
     "name": "stdout",
     "output_type": "stream",
     "text": [
      "the average of 3 numbers is:200.0\n"
     ]
    }
   ],
   "source": [
    "num1=eval(input('enter the number1:'))\n",
    "num2=eval(input('enter the number2:'))\n",
    "num3=eval(input('enter the number3:'))\n",
    "average=(num1+num2+num3)/3\n",
    "print(f'the average of 3 numbers is:{average}')"
   ]
  },
  {
   "cell_type": "code",
   "execution_count": 41,
   "id": "5ca383df-cb8a-4771-9af3-cb359da8d865",
   "metadata": {},
   "outputs": [
    {
     "name": "stdin",
     "output_type": "stream",
     "text": [
      "enter the number1: 100\n",
      "enter the number2: 200\n"
     ]
    },
    {
     "name": "stdout",
     "output_type": "stream",
     "text": [
      "the two numbers of addition is 300, subtraction is -100, multipication20000\n"
     ]
    }
   ],
   "source": [
    "num1=eval(input('enter the number1:'))\n",
    "num2=eval(input('enter the number2:'))\n",
    "sub=num1-num2\n",
    "add=num1+num2\n",
    "multip=num1*num2\n",
    "print(f'the two numbers of addition is {add}, subtraction is {sub}, multipication{multip}')"
   ]
  },
  {
   "cell_type": "code",
   "execution_count": null,
   "id": "e9d20449-d8ac-40bd-90da-ceb626ae5cac",
   "metadata": {},
   "outputs": [],
   "source": []
  }
 ],
 "metadata": {
  "kernelspec": {
   "display_name": "Python 3 (ipykernel)",
   "language": "python",
   "name": "python3"
  },
  "language_info": {
   "codemirror_mode": {
    "name": "ipython",
    "version": 3
   },
   "file_extension": ".py",
   "mimetype": "text/x-python",
   "name": "python",
   "nbconvert_exporter": "python",
   "pygments_lexer": "ipython3",
   "version": "3.11.7"
  }
 },
 "nbformat": 4,
 "nbformat_minor": 5
}
