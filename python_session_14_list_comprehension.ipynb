{
 "cells": [
  {
   "cell_type": "markdown",
   "id": "423c7209-d62f-42d8-a1cc-19d0b8571dfd",
   "metadata": {},
   "source": [
    "- we can store the output values by using append operations\n",
    "\n",
    "- we are taking empty list\n",
    "\n",
    "- we are itterating through elements from a given list\n",
    "\n",
    "- the result we are appending in a new list "
   ]
  },
  {
   "cell_type": "code",
   "execution_count": 4,
   "id": "b64c1132-5f45-40f6-8d60-bc6faaf7e3e6",
   "metadata": {},
   "outputs": [
    {
     "data": {
      "text/plain": [
       "[0, 1, 4, 9, 16, 25, 36, 49, 64, 81]"
      ]
     },
     "execution_count": 4,
     "metadata": {},
     "output_type": "execute_result"
    }
   ],
   "source": [
    "square_list=[]\n",
    "for i in range(10):\n",
    "    square_list.append(i*i)\n",
    "square_list"
   ]
  },
  {
   "cell_type": "markdown",
   "id": "bc6eb42a-544f-48b3-980e-350ca4ba35a3",
   "metadata": {},
   "source": [
    "- there are almost 3 lines are in the process\n",
    "\n",
    "- the three lines we can make into a single line\n",
    "\n",
    "- this is called as list comprehension"
   ]
  },
  {
   "cell_type": "markdown",
   "id": "246e1496-92bf-4463-adff-5433c66ab802",
   "metadata": {},
   "source": [
    "$pattern-1$\n",
    "\n",
    "**Only for loop**"
   ]
  },
  {
   "cell_type": "code",
   "execution_count": 11,
   "id": "55789c0e-d163-4fb4-859a-93d2f6bb03f3",
   "metadata": {},
   "outputs": [],
   "source": [
    "# syntax \n",
    "# [<output> <for loop>]"
   ]
  },
  {
   "cell_type": "code",
   "execution_count": 19,
   "id": "5cbfdf68-08c2-402b-be65-878a5bacac3f",
   "metadata": {},
   "outputs": [],
   "source": [
    "square_list=[]\n",
    "for i in range(10):\n",
    "    square_list.append(i*i)\n",
    "square_list\n",
    "\n",
    "# 1) what is the output? i*i\n",
    "# 2) what is the output list name? square_list\n",
    "# 3) what is the for loop? for i in range(10)\n",
    "\n",
    "sq_list=[i*i for i in range(10)]"
   ]
  },
  {
   "cell_type": "code",
   "execution_count": 21,
   "id": "691a7fba-72c5-4864-b53d-9e13a3b29f13",
   "metadata": {},
   "outputs": [
    {
     "data": {
      "text/plain": [
       "[0, 1, 4, 9, 16, 25, 36, 49, 64, 81]"
      ]
     },
     "execution_count": 21,
     "metadata": {},
     "output_type": "execute_result"
    }
   ],
   "source": [
    "sq_list"
   ]
  },
  {
   "cell_type": "code",
   "execution_count": 23,
   "id": "37da205b-c005-4180-acad-9a06ccd12001",
   "metadata": {},
   "outputs": [
    {
     "data": {
      "text/plain": [
       "['HYD', 'MUMBAI', 'CHENNAI', 'BLR']"
      ]
     },
     "execution_count": 23,
     "metadata": {},
     "output_type": "execute_result"
    }
   ],
   "source": [
    "# Q2) l1=['hyd','mumbai','chennai','blr']\n",
    "#     ans=['Hyd','Hyd','Chennai','Blr']\n",
    "\n",
    "l1=['hyd','mumbai','chennai','blr']\n",
    "upper_list=[]\n",
    "for i in l1:\n",
    "    upper_list.append(i.upper())\n",
    "upper_list"
   ]
  },
  {
   "cell_type": "code",
   "execution_count": 29,
   "id": "52f74ec7-f6c7-4810-86e0-c1bef228168b",
   "metadata": {},
   "outputs": [
    {
     "data": {
      "text/plain": [
       "['HYD', 'MUMBAI', 'CHENNAI', 'BLR']"
      ]
     },
     "execution_count": 29,
     "metadata": {},
     "output_type": "execute_result"
    }
   ],
   "source": [
    "# 1) what is the output? i.upper()\n",
    "# 2) what is the output list name? upperlist\n",
    "# 3) what is the for loop? for i in l1\n",
    "\n",
    "upperlist=[i.upper() for i in l1]\n",
    "\n",
    "upperlist"
   ]
  },
  {
   "cell_type": "code",
   "execution_count": 33,
   "id": "84989152-b784-4d3b-8509-d53afc621b4b",
   "metadata": {},
   "outputs": [
    {
     "data": {
      "text/plain": [
       "['hyd', 'mumbai', 'chennai', 'blr']"
      ]
     },
     "execution_count": 33,
     "metadata": {},
     "output_type": "execute_result"
    }
   ],
   "source": [
    "# 3) l=['Hyd','Hyd','Chennai','Blr']\n",
    "# lower list=['hyd','mumbai','chennai','blr']\n",
    "\n",
    "l1=['Hyd','Mumbai','Chennai','Blr']\n",
    "lower_list=[]\n",
    "for i in l1:\n",
    "    lower_list.append(i.lower())\n",
    "lower_list"
   ]
  },
  {
   "cell_type": "code",
   "execution_count": 35,
   "id": "7cf663b5-d174-4580-881b-1743726d3f74",
   "metadata": {},
   "outputs": [],
   "source": [
    "lowerlist=[i.lower() for i in l1]"
   ]
  },
  {
   "cell_type": "code",
   "execution_count": 37,
   "id": "b56550ce-94f7-4820-85b6-ce3d84a46580",
   "metadata": {},
   "outputs": [
    {
     "data": {
      "text/plain": [
       "['hyd', 'mumbai', 'chennai', 'blr']"
      ]
     },
     "execution_count": 37,
     "metadata": {},
     "output_type": "execute_result"
    }
   ],
   "source": [
    "lowerlist"
   ]
  },
  {
   "cell_type": "code",
   "execution_count": 41,
   "id": "fb742e53-c024-4fc1-a995-0beeca31c0b3",
   "metadata": {},
   "outputs": [
    {
     "data": {
      "text/plain": [
       "[0, 1, 2, 3]"
      ]
     },
     "execution_count": 41,
     "metadata": {},
     "output_type": "execute_result"
    }
   ],
   "source": [
    "# 4) l2=['Hyd','Mumbai','Chennai','Blr']\n",
    "# sum of the indexex of all elements\n",
    "\n",
    "l2=['Hyd','Mumbai','Chennai','Blr']\n",
    "index_list=[]\n",
    "for i in range(len(l2)):\n",
    "    index_list.append(i)\n",
    "index_list"
   ]
  },
  {
   "cell_type": "code",
   "execution_count": 43,
   "id": "56672c26-14b2-4440-9ac4-bf49f5126c7b",
   "metadata": {},
   "outputs": [],
   "source": [
    "indexlist=[i for i in range(len(l2))]"
   ]
  },
  {
   "cell_type": "code",
   "execution_count": 45,
   "id": "bfe414da-f5a8-4e60-8145-6ef4e1f96cf7",
   "metadata": {},
   "outputs": [
    {
     "data": {
      "text/plain": [
       "[0, 1, 2, 3]"
      ]
     },
     "execution_count": 45,
     "metadata": {},
     "output_type": "execute_result"
    }
   ],
   "source": [
    "indexlist"
   ]
  },
  {
   "cell_type": "code",
   "execution_count": 47,
   "id": "6bda1538-cba5-4e0d-947c-cf00525fbcae",
   "metadata": {},
   "outputs": [
    {
     "data": {
      "text/plain": [
       "6"
      ]
     },
     "execution_count": 47,
     "metadata": {},
     "output_type": "execute_result"
    }
   ],
   "source": [
    "l2=['Hyd','Mumbai','Chennai','Blr']\n",
    "index_list=[]\n",
    "for i in l2:\n",
    "    index_list.append(l2.index(i))\n",
    "sum(index_list)"
   ]
  },
  {
   "cell_type": "code",
   "execution_count": 51,
   "id": "8f96cdc3-bad9-47ae-8efa-6d525b6f8a80",
   "metadata": {},
   "outputs": [
    {
     "data": {
      "text/plain": [
       "6"
      ]
     },
     "execution_count": 51,
     "metadata": {},
     "output_type": "execute_result"
    }
   ],
   "source": [
    "# 1) what is the output? l2.index(i)\n",
    "# 2) what is the output list name? indexlist\n",
    "# 3) what is the for loop? for i in l1\n",
    "\n",
    "indexlist=[(l2.index(i)) for i in l2]\n",
    "sum(indexlist)"
   ]
  },
  {
   "cell_type": "markdown",
   "id": "b3d6a8a6-1dbf-4ff7-a017-9e9542e57573",
   "metadata": {},
   "source": [
    "- making empty list will not works in list comprehension\n",
    "\n",
    "- intialization will not work in list comprehension\n",
    "\n",
    "- assignment operations also not works"
   ]
  },
  {
   "cell_type": "code",
   "execution_count": null,
   "id": "bad3ce1b-7f8b-4dce-8d87-0dad2a3c9499",
   "metadata": {},
   "outputs": [],
   "source": [
    "# Fail\n",
    "\n",
    "l2=['Hyd','Mumbai','Chennai','Blr']\n",
    "index_list=[]\n",
    "for i in l2:\n",
    "    h=l2.index(i)\n",
    "    index_list.append(h)\n",
    "sum(index_list)"
   ]
  },
  {
   "cell_type": "markdown",
   "id": "965862d9-2c89-4626-b399-c65c33240477",
   "metadata": {},
   "source": [
    "$pattern-2$\n",
    "\n",
    "**for loop - if condition**"
   ]
  },
  {
   "cell_type": "code",
   "execution_count": 55,
   "id": "c1e42807-8480-474a-a2c2-d385174f7a59",
   "metadata": {},
   "outputs": [],
   "source": [
    "# syntax\n",
    "\n",
    "# [<output> <for loop> <if condition>]"
   ]
  },
  {
   "cell_type": "code",
   "execution_count": 59,
   "id": "c5121ed1-bc80-489a-af22-a23819d33187",
   "metadata": {},
   "outputs": [
    {
     "data": {
      "text/plain": [
       "['Mumbai', 'Chennai']"
      ]
     },
     "execution_count": 59,
     "metadata": {},
     "output_type": "execute_result"
    }
   ],
   "source": [
    "# l2=['Hyd','Mumbai','Chennai','Blr']\n",
    "# ans=['Mumbai','Chennai']\n",
    "\n",
    "l2=['Hyd','Mumbai','Chennai','Blr']\n",
    "ans=[]\n",
    "for i in l2:\n",
    "    if len(i)>4:\n",
    "        ans.append(i)\n",
    "ans"
   ]
  },
  {
   "cell_type": "code",
   "execution_count": 65,
   "id": "d24eb213-8e4d-43a0-a2d7-d99718f4a542",
   "metadata": {},
   "outputs": [
    {
     "data": {
      "text/plain": [
       "['Mumbai', 'Chennai']"
      ]
     },
     "execution_count": 65,
     "metadata": {},
     "output_type": "execute_result"
    }
   ],
   "source": [
    "# 1) what is the output? i\n",
    "# 2) what is the if condition? if len(i)>4\n",
    "# 3) what is the for loop? for in l2\n",
    "# 4) what is the output list name? greater\n",
    "\n",
    "greater=[i for i in l2 if len(i)>4]\n",
    "greater"
   ]
  },
  {
   "cell_type": "code",
   "execution_count": 69,
   "id": "9a55d729-4bcf-4302-a73b-b912d7956321",
   "metadata": {},
   "outputs": [
    {
     "data": {
      "text/plain": [
       "['Mum#bai', 'Chen#nai']"
      ]
     },
     "execution_count": 69,
     "metadata": {},
     "output_type": "execute_result"
    }
   ],
   "source": [
    "# Q3)l1=['Hyd','Mum#bai','Chen#nai','blr']\n",
    "#  ans=['Mum#bai'',Chen#nai']  \n",
    "#  we want lements which are having '#'\n",
    "\n",
    "l1=['Hyd','Mum#bai','Chen#nai','blr']\n",
    "hash_list=[]\n",
    "for i in l1:\n",
    "    if '#' in i:\n",
    "        hash_list.append(i)\n",
    "hash_list"
   ]
  },
  {
   "cell_type": "code",
   "execution_count": 71,
   "id": "c2018f43-f9e4-404b-ab27-58da3479cadd",
   "metadata": {},
   "outputs": [
    {
     "data": {
      "text/plain": [
       "['Mum#bai', 'Chen#nai']"
      ]
     },
     "execution_count": 71,
     "metadata": {},
     "output_type": "execute_result"
    }
   ],
   "source": [
    "hashlist=[i for i in l1 if '#' in i]\n",
    "hashlist"
   ]
  },
  {
   "cell_type": "code",
   "execution_count": 85,
   "id": "6e459b3a-b3c8-4c83-835e-f2a5ab7a0a97",
   "metadata": {},
   "outputs": [
    {
     "data": {
      "text/plain": [
       "['Hyd', 'blr']"
      ]
     },
     "execution_count": 85,
     "metadata": {},
     "output_type": "execute_result"
    }
   ],
   "source": [
    "# Q6)l1=['Hyd','Mum#bai','Chen#nai','blr'] \n",
    "#  ans_without_#=['Hyd'','blr'] \n",
    "#  we want lements which are not having '#'\n",
    "\n",
    "l1=['Hyd','Mum#bai','Chen#nai','blr']\n",
    "hashing=[i for i in l1 if '#' not in i]\n",
    "hashing"
   ]
  },
  {
   "cell_type": "code",
   "execution_count": 99,
   "id": "ea95e504-efb1-4bbe-84ba-109486edb808",
   "metadata": {},
   "outputs": [
    {
     "name": "stdout",
     "output_type": "stream",
     "text": [
      "virat\n",
      " Rohit\n",
      " KL\n"
     ]
    }
   ],
   "source": [
    "# Q9) str1='virat.kohli@rcb.com, Rohit.sharma@mi.co, KL.Rahul@lucknow.com'\n",
    "# Firstname=[]  second name=[]  cname =[]\n",
    "# append first name should be in first name list\n",
    "#        second name shoul be in second name list\n",
    "#        thirs name will be in thirs name list\n",
    "\n",
    "str1='virat.kohli@rcb.com, Rohit.sharma@mi.co, KL.Rahul@lucknow.com'\n",
    "list=str1.split(',')\n",
    "for i in list:\n",
    "    print(i[:i.index('.')])"
   ]
  },
  {
   "cell_type": "code",
   "execution_count": 101,
   "id": "5e2b37ee-5be4-4ac8-8d0e-94f93f04f181",
   "metadata": {},
   "outputs": [
    {
     "data": {
      "text/plain": [
       "['virat', ' Rohit', ' KL']"
      ]
     },
     "execution_count": 101,
     "metadata": {},
     "output_type": "execute_result"
    }
   ],
   "source": [
    "list=[i[:i.index('.')] for i in list]\n",
    "list"
   ]
  },
  {
   "cell_type": "code",
   "execution_count": null,
   "id": "7ae3b1de-7667-4749-86ba-8e42562b7a19",
   "metadata": {},
   "outputs": [],
   "source": [
    "list[1][:list[1].index('.')] # Virat\n",
    "list[2][:list[3].index('.')]] # rohit\n",
    "list[3][:list[3].index('.')] # kl"
   ]
  },
  {
   "cell_type": "code",
   "execution_count": 77,
   "id": "e978503c-68c0-499b-8a0b-2f92e559de08",
   "metadata": {},
   "outputs": [
    {
     "data": {
      "text/plain": [
       "['Hyd', 'Mumbai']"
      ]
     },
     "execution_count": 77,
     "metadata": {},
     "output_type": "execute_result"
    }
   ],
   "source": [
    "# Q5)l1=['Hyd','Mumbai','chennai','blr']\n",
    "#  ans= ['Hyd','Mumbai']\n",
    "#  we want lements which are having first letter capital\n",
    "\n",
    "l1=['Hyd','Mumbai','chennai','blr']\n",
    "l2=[]\n",
    "for i in l1:\n",
    "    if i.istitle():\n",
    "        l2.append(i)\n",
    "l2"
   ]
  },
  {
   "cell_type": "code",
   "execution_count": 81,
   "id": "ee40e8eb-2b60-4ba9-b2d2-8c5d4295c179",
   "metadata": {},
   "outputs": [
    {
     "data": {
      "text/plain": [
       "['Hyd', 'Mumbai']"
      ]
     },
     "execution_count": 81,
     "metadata": {},
     "output_type": "execute_result"
    }
   ],
   "source": [
    "capital=[i for i in l1 if i.istitle()]\n",
    "capital"
   ]
  },
  {
   "cell_type": "code",
   "execution_count": null,
   "id": "a6a5521a-b018-4701-b1d8-a4143f966c9a",
   "metadata": {},
   "outputs": [],
   "source": [
    "# Q9) str1='virat.kohli@rcb.com, Rohit.sharma@mi.co, KL.Rahul@lucknow.com'\n",
    "# Firstname=[]  second name=[]  cname =[]\n",
    "# append first name should be in first name list\n",
    "#        second name shoul be in second name list\n",
    "#        thirs name will be in thirs name list\n",
    "\n",
    "str1='virat.kohli@rcb.com, Rohit.sharma@mi.co, KL.Rahul@lucknow.com'\n",
    "list1=split.str1()\n",
    "for i in list1:\n",
    "    print(i[list1[i].index('.'):])"
   ]
  },
  {
   "cell_type": "markdown",
   "id": "6f5a32d2-2061-4750-88e4-4ed7c0904b53",
   "metadata": {},
   "source": [
    "$Pattern-3$\n",
    "\n",
    "**if-else**"
   ]
  },
  {
   "cell_type": "code",
   "execution_count": null,
   "id": "de47f1e5-2efd-4b9f-bee3-2a5c40d2e112",
   "metadata": {},
   "outputs": [],
   "source": [
    "[<output> <forloop>]:for loop\n",
    "[<output> <forloop> <if condition>]:\n",
    "[<ifoutput> <if> <else> <elseoutput> <for>]: if-else"
   ]
  },
  {
   "cell_type": "markdown",
   "id": "98e5435a-5489-4f89-b0fb-c1fc7dd2036b",
   "metadata": {},
   "source": [
    "**even-odd**"
   ]
  },
  {
   "cell_type": "code",
   "execution_count": 6,
   "id": "9ab156f2-7730-4c6c-a2d5-155c4871d2b3",
   "metadata": {},
   "outputs": [
    {
     "name": "stdout",
     "output_type": "stream",
     "text": [
      "odd 1\n",
      "even 2\n",
      "odd 3\n",
      "even 4\n",
      "odd 5\n",
      "even 6\n",
      "odd 7\n",
      "even 8\n",
      "odd 9\n",
      "even 10\n",
      "odd 11\n",
      "even 12\n",
      "odd 13\n",
      "even 14\n",
      "odd 15\n",
      "even 16\n",
      "odd 17\n",
      "even 18\n",
      "odd 19\n"
     ]
    }
   ],
   "source": [
    "for i in range(1,20):\n",
    "    if i%2==0:\n",
    "        print('even',i)\n",
    "    else:\n",
    "        print('odd',i)"
   ]
  },
  {
   "cell_type": "code",
   "execution_count": 26,
   "id": "c0f99fb4-3d9a-423d-834f-8a41fd6d4f8c",
   "metadata": {},
   "outputs": [
    {
     "data": {
      "text/plain": [
       "['odd1',\n",
       " 'even2',\n",
       " 'odd3',\n",
       " 'even4',\n",
       " 'odd5',\n",
       " 'even6',\n",
       " 'odd7',\n",
       " 'even8',\n",
       " 'odd9',\n",
       " 'even10',\n",
       " 'odd11',\n",
       " 'even12',\n",
       " 'odd13',\n",
       " 'even14',\n",
       " 'odd15',\n",
       " 'even16',\n",
       " 'odd17',\n",
       " 'even18',\n",
       " 'odd19']"
      ]
     },
     "execution_count": 26,
     "metadata": {},
     "output_type": "execute_result"
    }
   ],
   "source": [
    "even=[f'even{i}' if i%2==0 else f'odd{i}' for i in range(1,20)]\n",
    "even"
   ]
  },
  {
   "cell_type": "code",
   "execution_count": null,
   "id": "40a67c1b-18c5-4ff2-a12d-ef72757e9786",
   "metadata": {},
   "outputs": [],
   "source": []
  }
 ],
 "metadata": {
  "kernelspec": {
   "display_name": "Python 3 (ipykernel)",
   "language": "python",
   "name": "python3"
  },
  "language_info": {
   "codemirror_mode": {
    "name": "ipython",
    "version": 3
   },
   "file_extension": ".py",
   "mimetype": "text/x-python",
   "name": "python",
   "nbconvert_exporter": "python",
   "pygments_lexer": "ipython3",
   "version": "3.11.7"
  }
 },
 "nbformat": 4,
 "nbformat_minor": 5
}
