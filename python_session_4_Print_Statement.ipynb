{
 "cells": [
  {
   "cell_type": "code",
   "execution_count": 1,
   "id": "7932eac2-007a-4117-971b-28a81b3495a5",
   "metadata": {},
   "outputs": [
    {
     "name": "stdout",
     "output_type": "stream",
     "text": [
      "10\n"
     ]
    }
   ],
   "source": [
    "print(10)"
   ]
  },
  {
   "cell_type": "code",
   "execution_count": 3,
   "id": "3fb9da6c-2fba-4f8d-a4ab-9f0d4ab1535a",
   "metadata": {},
   "outputs": [
    {
     "name": "stdout",
     "output_type": "stream",
     "text": [
      "python\n"
     ]
    }
   ],
   "source": [
    "print('python')"
   ]
  },
  {
   "cell_type": "code",
   "execution_count": 5,
   "id": "594de410-01fb-455a-9736-e8e06ec96ed8",
   "metadata": {},
   "outputs": [
    {
     "name": "stdout",
     "output_type": "stream",
     "text": [
      "10 20 30\n"
     ]
    }
   ],
   "source": [
    "print(10,20,30)"
   ]
  },
  {
   "cell_type": "code",
   "execution_count": 3,
   "id": "cdded07a-3cdb-4373-96be-a1987d6f127d",
   "metadata": {},
   "outputs": [
    {
     "name": "stdout",
     "output_type": "stream",
     "text": [
      "10 20 Naresh It True\n"
     ]
    }
   ],
   "source": [
    "print(10,20,'Naresh It',True)"
   ]
  },
  {
   "cell_type": "code",
   "execution_count": 9,
   "id": "13b82378-89ab-47ae-9ea4-05a207a59475",
   "metadata": {},
   "outputs": [
    {
     "name": "stdout",
     "output_type": "stream",
     "text": [
      "10 20\n"
     ]
    }
   ],
   "source": [
    "n1=10\n",
    "n2=20\n",
    "print(n1,n2)"
   ]
  },
  {
   "cell_type": "code",
   "execution_count": 17,
   "id": "cbe264a9-4159-465f-8071-1582189845b2",
   "metadata": {},
   "outputs": [
    {
     "name": "stdout",
     "output_type": "stream",
     "text": [
      "10\n",
      "20\n"
     ]
    },
    {
     "data": {
      "text/plain": [
       "(None, None)"
      ]
     },
     "execution_count": 17,
     "metadata": {},
     "output_type": "execute_result"
    }
   ],
   "source": [
    "print(n1),print(n2) #wrong in horizontal"
   ]
  },
  {
   "cell_type": "code",
   "execution_count": 15,
   "id": "7a1308d8-b7a7-4933-acc8-e7b70509b03e",
   "metadata": {},
   "outputs": [
    {
     "name": "stdout",
     "output_type": "stream",
     "text": [
      "10\n",
      "20\n"
     ]
    }
   ],
   "source": [
    "print(n1) # vertical is correct\n",
    "print(n2)"
   ]
  },
  {
   "cell_type": "code",
   "execution_count": 21,
   "id": "1d0ddcf1-9cec-46bf-ab12-9a13ee32a79f",
   "metadata": {},
   "outputs": [
    {
     "name": "stdout",
     "output_type": "stream",
     "text": [
      "10 20\n"
     ]
    }
   ],
   "source": [
    "print(n1,n2) #correct"
   ]
  },
  {
   "cell_type": "code",
   "execution_count": null,
   "id": "6e8bed56-0349-402b-801b-17411747b1a4",
   "metadata": {},
   "outputs": [],
   "source": [
    "a=10\n",
    "b=10\n",
    "c=a+b\n",
    "c\n",
    "#the addition of 10 and 20 is 30\n",
    "print "
   ]
  },
  {
   "cell_type": "markdown",
   "id": "f41144df-4e86-4c47-95ea-6ae88b29731f",
   "metadata": {},
   "source": [
    "**format**"
   ]
  },
  {
   "cell_type": "code",
   "execution_count": 24,
   "id": "f011fae2-b6bc-4df7-8d7f-07b35b5a50d7",
   "metadata": {},
   "outputs": [
    {
     "name": "stdout",
     "output_type": "stream",
     "text": [
      "the addition of 100 and 200 is 300\n"
     ]
    }
   ],
   "source": [
    "a=100\n",
    "b=200\n",
    "c=a+b\n",
    "print(\"the addition of {} and {} is {}\".format(a,b,c))"
   ]
  },
  {
   "cell_type": "code",
   "execution_count": 30,
   "id": "223c2c39-160d-4e2a-9a2c-7b6330e52769",
   "metadata": {},
   "outputs": [
    {
     "name": "stdout",
     "output_type": "stream",
     "text": [
      "my name is python, Im 10 years old im from hyderabad\n"
     ]
    }
   ],
   "source": [
    "name='python'  #str will be considerd with quotes, like english words\n",
    "age=10\n",
    "city='hyderabad'\n",
    "print(\"my name is {}, Im {} years old im from {}\".format(name,age,city))"
   ]
  },
  {
   "cell_type": "code",
   "execution_count": 38,
   "id": "ea1460b9-104b-4b82-a07f-1017e88d2aa1",
   "metadata": {},
   "outputs": [
    {
     "name": "stdout",
     "output_type": "stream",
     "text": [
      "My name is tejesh, my role is developer and i am working in srian project\n"
     ]
    }
   ],
   "source": [
    "name=\"tejesh\"\n",
    "role='developer'\n",
    "company='srian project'\n",
    "print(\"My name is {}, my role is {} and i am working in {}\".format(name,role,company))"
   ]
  },
  {
   "cell_type": "markdown",
   "id": "aaa1c339-85d6-4c98-8808-c8a6c4ef3b2a",
   "metadata": {},
   "source": [
    "**f method**"
   ]
  },
  {
   "cell_type": "code",
   "execution_count": 48,
   "id": "8c001028-c848-49ea-89cd-d51763e8c567",
   "metadata": {},
   "outputs": [
    {
     "name": "stdout",
     "output_type": "stream",
     "text": [
      "My name is tejesh, my role is developer and i am working in srian project\n"
     ]
    }
   ],
   "source": [
    "name=\"tejesh\"\n",
    "role='developer'\n",
    "company='srian project'\n",
    "print(f\"My name is {name}, my role is {role} and i am working in {company}\") # f statement will be replaced with format"
   ]
  },
  {
   "cell_type": "code",
   "execution_count": 50,
   "id": "5ec817ce-7de3-42c8-9c74-a41ee075c65e",
   "metadata": {},
   "outputs": [
    {
     "name": "stdout",
     "output_type": "stream",
     "text": [
      "my name is python, Im 10 years old im from hyderabad\n"
     ]
    }
   ],
   "source": [
    "name='python'  \n",
    "age=10\n",
    "city='hyderabad'\n",
    "print(f\"my name is {name}, Im {age} years old im from {city}\")"
   ]
  },
  {
   "cell_type": "code",
   "execution_count": 52,
   "id": "42185157-4a3f-4225-9230-ace72c5d0d91",
   "metadata": {},
   "outputs": [
    {
     "name": "stdout",
     "output_type": "stream",
     "text": [
      "the addition of 100 and 200 is 300\n"
     ]
    }
   ],
   "source": [
    "a=100\n",
    "b=200\n",
    "c=a+b\n",
    "print(f\"the addition of {a} and {b} is {c}\")"
   ]
  },
  {
   "cell_type": "code",
   "execution_count": 3,
   "id": "db85a3f5-8f11-4ec9-9c11-e3f15bf5b1e6",
   "metadata": {},
   "outputs": [
    {
     "name": "stdout",
     "output_type": "stream",
     "text": [
      "the average of 100 and 200 is: 150.0\n"
     ]
    }
   ],
   "source": [
    "num1=100\n",
    "num2=200\n",
    "average=(num1+num2)/2\n",
    "print(f'the average of {num1} and {num2} is: {average}')"
   ]
  },
  {
   "cell_type": "code",
   "execution_count": 5,
   "id": "56755500-b779-48bd-a4f9-875f23c0962b",
   "metadata": {},
   "outputs": [
    {
     "name": "stdout",
     "output_type": "stream",
     "text": [
      "the average of 100 and 200 is: 150.0\n"
     ]
    }
   ],
   "source": [
    "num1=100\n",
    "num2=200\n",
    "average=(num1+num2)/2\n",
    "print('the average of {} and {} is: {}'.format(num1,num2,average))"
   ]
  },
  {
   "cell_type": "code",
   "execution_count": 21,
   "id": "dd062b70-61af-4603-b01f-70a3f14e7362",
   "metadata": {},
   "outputs": [
    {
     "name": "stdout",
     "output_type": "stream",
     "text": [
      "the area of circle 50 is: 7850.0\n",
      "the area of circle 50 is: 7850.0\n"
     ]
    }
   ],
   "source": [
    "radius=50\n",
    "pi_value=3.14\n",
    "area=pi_value*radius*radius\n",
    "print(f'the area of circle {radius} is: {area}')\n",
    "print('the area of circle {} is: {}'.format(radius,area))"
   ]
  },
  {
   "cell_type": "code",
   "execution_count": 19,
   "id": "b55a338a-98e7-4254-8e39-3fe6b18e8ffb",
   "metadata": {},
   "outputs": [
    {
     "name": "stdout",
     "output_type": "stream",
     "text": [
      "the area of triangle is: 300.0\n",
      "the area of triangle is: 300.0\n"
     ]
    }
   ],
   "source": [
    "base=20\n",
    "height=30\n",
    "area_of_triangle=1/2*base*height\n",
    "print(f'the area of triangle is: {area_of_triangle}')\n",
    "print('the area of triangle is: {}'.format(area_of_triangle))"
   ]
  },
  {
   "cell_type": "code",
   "execution_count": 33,
   "id": "ff82ab1a-375b-41d1-936a-89be2c51085b",
   "metadata": {},
   "outputs": [
    {
     "name": "stdout",
     "output_type": "stream",
     "text": [
      "the total bill is: 1100.0\n",
      "the total bill is: 1100.0\n"
     ]
    }
   ],
   "source": [
    "bill_amount=1000\n",
    "tip_percentage=10  # percentage symbol % is not aplicable\n",
    "tip_amount=bill_amount*(tip_percentage/100)\n",
    "total_amount=bill_amount+tip_amount\n",
    "print(f'the total bill is: {total_amount}')\n",
    "print('the total bill is: {}'.format(total_amount))"
   ]
  },
  {
   "cell_type": "markdown",
   "id": "564bc0aa-dcc8-4895-b5d3-fa2f8a02e6aa",
   "metadata": {},
   "source": [
    "**end operater**\n",
    "\n",
    "- combaining two or multiple statements in a sinlge line (end='')"
   ]
  },
  {
   "cell_type": "code",
   "execution_count": 40,
   "id": "4080a9ca-7ca9-43de-ace2-4467fe46fed5",
   "metadata": {},
   "outputs": [
    {
     "name": "stdout",
     "output_type": "stream",
     "text": [
      "10 20\n"
     ]
    }
   ],
   "source": [
    "print(10,end=' ')\n",
    "print(20)"
   ]
  },
  {
   "cell_type": "code",
   "execution_count": 43,
   "id": "2b35212f-9c84-4b6b-88a6-9a020186d629",
   "metadata": {},
   "outputs": [
    {
     "name": "stdout",
     "output_type": "stream",
     "text": [
      "10 20 30\n"
     ]
    }
   ],
   "source": [
    "print(10,end=' ')\n",
    "print(20,end=' ')\n",
    "print(30)"
   ]
  },
  {
   "cell_type": "markdown",
   "id": "6f607b3f-f7a9-4a9e-857d-3aa2df380ac2",
   "metadata": {},
   "source": [
    "$sep$ ** seperate operater**\n",
    "\n",
    "- seperate the multiple values in a single print statement"
   ]
  },
  {
   "cell_type": "code",
   "execution_count": 48,
   "id": "f917d065-9e98-49f4-b255-95ca5408e0d0",
   "metadata": {},
   "outputs": [
    {
     "name": "stdout",
     "output_type": "stream",
     "text": [
      "10 & 20 & 30\n"
     ]
    }
   ],
   "source": [
    "print(10,20,30,sep=\" & \")"
   ]
  },
  {
   "cell_type": "code",
   "execution_count": 50,
   "id": "8375a173-10da-40a5-9b1b-415b09a2459e",
   "metadata": {},
   "outputs": [
    {
     "name": "stdout",
     "output_type": "stream",
     "text": [
      "10-->20-->30\n"
     ]
    }
   ],
   "source": [
    "print(10,20,30,sep=\"-->\")"
   ]
  },
  {
   "cell_type": "code",
   "execution_count": 56,
   "id": "a21982f5-de1d-4b7c-8d06-0cb2c785dd7e",
   "metadata": {},
   "outputs": [
    {
     "name": "stdout",
     "output_type": "stream",
     "text": [
      "the addition of 5 and 3 is 8.\n"
     ]
    }
   ],
   "source": [
    "print(f'the addition of {5} and {3} is {5+3}''.')"
   ]
  },
  {
   "cell_type": "code",
   "execution_count": 60,
   "id": "c940dac0-fba4-4d72-b355-6940a1ec094f",
   "metadata": {},
   "outputs": [
    {
     "name": "stdout",
     "output_type": "stream",
     "text": [
      "the addition of 5 and 8 is 8.\n"
     ]
    }
   ],
   "source": [
    "print(\"the addition of 5 and 8 is 8\" '.')"
   ]
  },
  {
   "cell_type": "code",
   "execution_count": 16,
   "id": "8358c44a-9b03-43f6-9601-c1dcc7bc9e0a",
   "metadata": {},
   "outputs": [
    {
     "name": "stdout",
     "output_type": "stream",
     "text": [
      "the addition of 10 and 20 is 30\n"
     ]
    }
   ],
   "source": [
    "a=10\n",
    "b=20\n",
    "c=a+b\n",
    "print(f'the addition of {a} and {b} is {c}')   #.format(or) f"
   ]
  },
  {
   "cell_type": "code",
   "execution_count": null,
   "id": "3ccece32-3707-45fc-ba7d-3416106d7b11",
   "metadata": {},
   "outputs": [],
   "source": [
    "sub, mul, div"
   ]
  },
  {
   "cell_type": "code",
   "execution_count": 26,
   "id": "18a6893f-0457-4467-8b83-e7a83903cf3d",
   "metadata": {},
   "outputs": [
    {
     "name": "stdout",
     "output_type": "stream",
     "text": [
      "10&20&30\n"
     ]
    }
   ],
   "source": [
    "print(10,20,30,sep='&')  "
   ]
  },
  {
   "cell_type": "code",
   "execution_count": null,
   "id": "d25a5d7e-d1ff-4ae9-b872-92bf6f36582c",
   "metadata": {},
   "outputs": [],
   "source": []
  }
 ],
 "metadata": {
  "kernelspec": {
   "display_name": "Python 3 (ipykernel)",
   "language": "python",
   "name": "python3"
  },
  "language_info": {
   "codemirror_mode": {
    "name": "ipython",
    "version": 3
   },
   "file_extension": ".py",
   "mimetype": "text/x-python",
   "name": "python",
   "nbconvert_exporter": "python",
   "pygments_lexer": "ipython3",
   "version": "3.11.7"
  }
 },
 "nbformat": 4,
 "nbformat_minor": 5
}
