{
 "cells": [
  {
   "cell_type": "markdown",
   "id": "cc3cee5c-2d35-4b9f-a618-dd042035edf5",
   "metadata": {},
   "source": [
    "**Data types**\n",
    "\n",
    "- in python type declare not required\n",
    "\n",
    "- python will automatically takes the type based on provided value\n",
    " \n",
    "- we have many dta types available\n",
    "\n",
    "- the main data types are\n",
    "  - integer\n",
    "  - float\n",
    "  - boolean\n",
    "  - string\n",
    "\n",
    "- list \n",
    "\n",
    "- dictionary\n",
    "\n",
    "- tuple\n",
    "\n",
    "- complex"
   ]
  },
  {
   "cell_type": "markdown",
   "id": "cec69f0d-7832-45aa-9814-5d0f56fc835c",
   "metadata": {},
   "source": [
    "## integer"
   ]
  },
  {
   "cell_type": "code",
   "execution_count": 1,
   "id": "24b88b89-0509-4ec2-8dc4-5743562b17ea",
   "metadata": {},
   "outputs": [
    {
     "data": {
      "text/plain": [
       "int"
      ]
     },
     "execution_count": 1,
     "metadata": {},
     "output_type": "execute_result"
    }
   ],
   "source": [
    "a=100\n",
    "type(a)"
   ]
  },
  {
   "cell_type": "markdown",
   "id": "471199d7-a611-42f8-bea9-43a86379b471",
   "metadata": {},
   "source": [
    "**binary**\n",
    "\n",
    "- bi mean 2\n",
    "\n",
    "- so it reqires 2 digits\n",
    "\n",
    "- generally we have 0 1 2 3 4 5 6 7 8 9\n",
    "\n",
    "- so it will represent with only 0 and 1\n",
    "\n",
    "- representation is 0b10,0b0111,0B11\n",
    "\n",
    "- wrong representation is 0b107,0b121\n",
    "\n",
    "\n",
    "\n"
   ]
  },
  {
   "cell_type": "code",
   "execution_count": 8,
   "id": "5a3b6e4b-999d-475e-b228-19e4baed4d2e",
   "metadata": {},
   "outputs": [
    {
     "data": {
      "text/plain": [
       "5"
      ]
     },
     "execution_count": 8,
     "metadata": {},
     "output_type": "execute_result"
    }
   ],
   "source": [
    "0b101 "
   ]
  },
  {
   "cell_type": "code",
   "execution_count": 10,
   "id": "8d5e3e41-ebd5-49ec-9eb3-0c7156d9a2ab",
   "metadata": {},
   "outputs": [
    {
     "data": {
      "text/plain": [
       "9"
      ]
     },
     "execution_count": 10,
     "metadata": {},
     "output_type": "execute_result"
    }
   ],
   "source": [
    "0B1001"
   ]
  },
  {
   "cell_type": "code",
   "execution_count": 1,
   "id": "0042266d-c893-4d9a-9ddf-5312033e1b4b",
   "metadata": {},
   "outputs": [],
   "source": [
    "import os"
   ]
  },
  {
   "cell_type": "code",
   "execution_count": 5,
   "id": "e9c3fba7-d9d8-42c4-9f37-ef515213e126",
   "metadata": {},
   "outputs": [
    {
     "data": {
      "text/plain": [
       "'/Users/nayanitejesh/Documents/python'"
      ]
     },
     "execution_count": 5,
     "metadata": {},
     "output_type": "execute_result"
    }
   ],
   "source": [
    "os.getcwd()\n",
    "\n",
    "# get current working directory\n",
    "# it will give the path\n",
    "# where our python file located"
   ]
  },
  {
   "cell_type": "code",
   "execution_count": 9,
   "id": "0ce6ee82-f727-4cdd-b290-e886ac7fd5f7",
   "metadata": {},
   "outputs": [
    {
     "data": {
      "text/plain": [
       "15"
      ]
     },
     "execution_count": 9,
     "metadata": {},
     "output_type": "execute_result"
    }
   ],
   "source": [
    "0b1111"
   ]
  },
  {
   "cell_type": "markdown",
   "id": "bcaa5da8-e10e-46ac-9ca7-e629b50b83d8",
   "metadata": {},
   "source": [
    "8 4 2 1    num\n",
    "0 0 0 0     0\n",
    "0 0 0 1     1\n",
    "0 0 1 0     2\n",
    "0 0 1 1     3\n",
    "0 1 0 0     4\n",
    "0 1 0 1     5\n",
    "0 1 1 0     6\n",
    "0 1 1 1     7\n",
    "1 0 0 0     8\n",
    "1 0 0 1     9\n",
    "1 0 1 0    10\n",
    "1 0 1 1    11\n",
    "1 1 0 0    12\n",
    "1 1 0 1    13\n",
    "1 1 1 0    14\n",
    "1 1 1 1    15"
   ]
  },
  {
   "cell_type": "code",
   "execution_count": 14,
   "id": "90316697-047b-4b93-9233-3971a8158fc5",
   "metadata": {},
   "outputs": [
    {
     "data": {
      "text/plain": [
       "29"
      ]
     },
     "execution_count": 14,
     "metadata": {},
     "output_type": "execute_result"
    }
   ],
   "source": [
    "0b11101"
   ]
  },
  {
   "cell_type": "code",
   "execution_count": 16,
   "id": "69df392e-fddc-41c3-9f3d-2bac2280455e",
   "metadata": {},
   "outputs": [
    {
     "data": {
      "text/plain": [
       "59"
      ]
     },
     "execution_count": 16,
     "metadata": {},
     "output_type": "execute_result"
    }
   ],
   "source": [
    "0b111011"
   ]
  },
  {
   "cell_type": "code",
   "execution_count": 18,
   "id": "66008a1c-43ba-4c61-a5cf-820e458e91ed",
   "metadata": {},
   "outputs": [
    {
     "data": {
      "text/plain": [
       "125"
      ]
     },
     "execution_count": 18,
     "metadata": {},
     "output_type": "execute_result"
    }
   ],
   "source": [
    "0b1111101"
   ]
  },
  {
   "cell_type": "markdown",
   "id": "ca42bca1-5f95-4338-adab-1810f0be0fa0",
   "metadata": {},
   "source": [
    "**octal**\n",
    "\n",
    "- octai is 8\n",
    "\n",
    "- so it requires 8 digits\n",
    "\n",
    "- generally we have 0 1 2 3 4 5 6 7\n",
    "\n",
    "- so it will represents with only 0 1 2 3 4 5 6 7\n",
    "\n",
    "- representation is 0o123, 0O1234567, 0o7654321\n",
    "\n",
    "- wrong represntation 0o190, 0o758"
   ]
  },
  {
   "cell_type": "code",
   "execution_count": 7,
   "id": "27428426-5021-4cb1-9743-3b3e119517b5",
   "metadata": {},
   "outputs": [
    {
     "data": {
      "text/plain": [
       "501"
      ]
     },
     "execution_count": 7,
     "metadata": {},
     "output_type": "execute_result"
    }
   ],
   "source": [
    "0o765                                                                     "
   ]
  },
  {
   "cell_type": "code",
   "execution_count": 23,
   "id": "a221fadb-8a0c-4761-a289-5b263262df30",
   "metadata": {},
   "outputs": [
    {
     "data": {
      "text/plain": [
       "668"
      ]
     },
     "execution_count": 23,
     "metadata": {},
     "output_type": "execute_result"
    }
   ],
   "source": [
    "0o1234"
   ]
  },
  {
   "cell_type": "markdown",
   "id": "58d1d02d-f475-4255-97db-43978ce7921c",
   "metadata": {},
   "source": [
    "**hexa**\n",
    "\n",
    "- hexa means 16\n",
    "\n",
    "- so it requires 16 digits\n",
    "\n",
    "- generally we have 0 1 2 3 4 5 6 7 8 9 A(10) B(11) C(12) D(13) E(14) F(15) or a(10) b(11) c(12) d(13) e(14) f(15)\n",
    "\n",
    "- so it will represents with only 0-9 A-F or a-f\n",
    "\n",
    "- representation is 0xabc, 0x12def\n",
    "\n",
    "- wrong representation is 0xgh, 0xij"
   ]
  },
  {
   "cell_type": "code",
   "execution_count": 9,
   "id": "2dfa2c72-db27-48b1-9253-d6e7e5cb9c29",
   "metadata": {},
   "outputs": [
    {
     "data": {
      "text/plain": [
       "2748"
      ]
     },
     "execution_count": 9,
     "metadata": {},
     "output_type": "execute_result"
    }
   ],
   "source": [
    "0xabc"
   ]
  },
  {
   "cell_type": "code",
   "execution_count": 28,
   "id": "37c821d3-f06a-4155-9c03-4ff83bcb2a14",
   "metadata": {},
   "outputs": [
    {
     "data": {
      "text/plain": [
       "4671"
      ]
     },
     "execution_count": 28,
     "metadata": {},
     "output_type": "execute_result"
    }
   ],
   "source": [
    "0x123F"
   ]
  },
  {
   "cell_type": "markdown",
   "id": "641e1df1-480f-45d6-bc94-2da09d112a4a",
   "metadata": {},
   "source": [
    "**Float**`"
   ]
  },
  {
   "cell_type": "code",
   "execution_count": 34,
   "id": "e95d60a9-df17-4c05-bea9-8d0b058f6853",
   "metadata": {},
   "outputs": [
    {
     "data": {
      "text/plain": [
       "float"
      ]
     },
     "execution_count": 34,
     "metadata": {},
     "output_type": "execute_result"
    }
   ],
   "source": [
    "n1=100.64\n",
    "type(n1)"
   ]
  },
  {
   "cell_type": "code",
   "execution_count": 36,
   "id": "afe3e589-95cc-42ae-b3f2-41cb4b9dbe0a",
   "metadata": {},
   "outputs": [
    {
     "data": {
      "text/plain": [
       "(10.0, 100.0, 1000.0, 10000.0)"
      ]
     },
     "execution_count": 36,
     "metadata": {},
     "output_type": "execute_result"
    }
   ],
   "source": [
    "1e1,1e2,1e3,1e4\n",
    "# kep=k*10^p"
   ]
  },
  {
   "cell_type": "code",
   "execution_count": 40,
   "id": "20326b43-f265-4f87-a361-be8b67b49d4d",
   "metadata": {},
   "outputs": [
    {
     "data": {
      "text/plain": [
       "24000.0"
      ]
     },
     "execution_count": 40,
     "metadata": {},
     "output_type": "execute_result"
    }
   ],
   "source": [
    "24e3\n",
    "# 24*10^3"
   ]
  },
  {
   "cell_type": "code",
   "execution_count": 46,
   "id": "ec890380-3a26-4bed-9148-be602feb6a2b",
   "metadata": {},
   "outputs": [
    {
     "data": {
      "text/plain": [
       "(10.0, 100.0, 1000.0, 10000.0)"
      ]
     },
     "execution_count": 46,
     "metadata": {},
     "output_type": "execute_result"
    }
   ],
   "source": [
    "1e+1,1e+2,1e+3,1e+4\n",
    "# Multiplication (+)"
   ]
  },
  {
   "cell_type": "code",
   "execution_count": 48,
   "id": "d2a17f44-5025-400c-9564-2c47b9f00bec",
   "metadata": {},
   "outputs": [
    {
     "data": {
      "text/plain": [
       "(0.1, 0.01, 0.001, 0.0001)"
      ]
     },
     "execution_count": 48,
     "metadata": {},
     "output_type": "execute_result"
    }
   ],
   "source": [
    "1e-1,1e-2,1e-3,1e-4\n",
    "# Division (-)"
   ]
  },
  {
   "cell_type": "code",
   "execution_count": 52,
   "id": "7d4bea36-7c00-4e15-a8a0-ffbd0899eaa5",
   "metadata": {},
   "outputs": [
    {
     "data": {
      "text/plain": [
       "0.024"
      ]
     },
     "execution_count": 52,
     "metadata": {},
     "output_type": "execute_result"
    }
   ],
   "source": [
    "24e-3\n",
    "# 24/1000=0.024"
   ]
  },
  {
   "cell_type": "markdown",
   "id": "e10bd01b-cc3a-43fd-be84-a2aa40723f8b",
   "metadata": {},
   "source": [
    "**strings**"
   ]
  },
  {
   "cell_type": "markdown",
   "id": "39a9f6ae-d90b-4b35-a403-45756ad00605",
   "metadata": {},
   "source": [
    "- strings are used to represent the english charcters generally\n",
    "\n",
    "- strings will represents in\n",
    "\n",
    "    - single quote\n",
    "    - double quotes\n",
    "    - triple quotes`"
   ]
  },
  {
   "cell_type": "code",
   "execution_count": 58,
   "id": "482c56a0-030b-4a3e-8642-a8e7b97d68bc",
   "metadata": {},
   "outputs": [
    {
     "data": {
      "text/plain": [
       "str"
      ]
     },
     "execution_count": 58,
     "metadata": {},
     "output_type": "execute_result"
    }
   ],
   "source": [
    "name='python'\n",
    "type(name)"
   ]
  },
  {
   "cell_type": "code",
   "execution_count": 60,
   "id": "96346e46-c5b8-4609-9e08-b4416461a35e",
   "metadata": {},
   "outputs": [
    {
     "data": {
      "text/plain": [
       "str"
      ]
     },
     "execution_count": 60,
     "metadata": {},
     "output_type": "execute_result"
    }
   ],
   "source": [
    "name=\"Tejesh\"\n",
    "type(name)"
   ]
  },
  {
   "cell_type": "code",
   "execution_count": 64,
   "id": "ad823cc5-3512-4db6-a87c-1b9db0cee2de",
   "metadata": {},
   "outputs": [
    {
     "data": {
      "text/plain": [
       "str"
      ]
     },
     "execution_count": 64,
     "metadata": {},
     "output_type": "execute_result"
    }
   ],
   "source": [
    "name2=\"10\"\n",
    "type(name2)\n",
    "# string also can represnt with number and also string will be in red color"
   ]
  },
  {
   "cell_type": "code",
   "execution_count": 66,
   "id": "70b7bf16-578b-4a4e-a318-d52401be28d1",
   "metadata": {},
   "outputs": [
    {
     "data": {
      "text/plain": [
       "str"
      ]
     },
     "execution_count": 66,
     "metadata": {},
     "output_type": "execute_result"
    }
   ],
   "source": [
    "email_id=\"tejeshnayani12@gmail.com\"\n",
    "type(email_id)"
   ]
  },
  {
   "cell_type": "markdown",
   "id": "033ec4ff-da64-4b9c-b4b3-7c715e34e925",
   "metadata": {},
   "source": [
    "**Red colour means strings**\n",
    "\n",
    "**green colour means keywords**\n",
    "\n",
    "**black colour means variables**"
   ]
  },
  {
   "cell_type": "code",
   "execution_count": 69,
   "id": "93b1fea0-7c37-41a2-ab94-680f194d241d",
   "metadata": {},
   "outputs": [],
   "source": [
    "name='python'\n",
    "name1=\"python\""
   ]
  },
  {
   "cell_type": "code",
   "execution_count": 71,
   "id": "30c811e9-bfab-43e1-b159-982a202ff659",
   "metadata": {},
   "outputs": [
    {
     "data": {
      "text/plain": [
       "'python'"
      ]
     },
     "execution_count": 71,
     "metadata": {},
     "output_type": "execute_result"
    }
   ],
   "source": [
    "name"
   ]
  },
  {
   "cell_type": "code",
   "execution_count": 73,
   "id": "8a250aa9-522a-40c7-925c-a9a83170c9e2",
   "metadata": {},
   "outputs": [
    {
     "data": {
      "text/plain": [
       "'python'"
      ]
     },
     "execution_count": 73,
     "metadata": {},
     "output_type": "execute_result"
    }
   ],
   "source": [
    "name1"
   ]
  },
  {
   "cell_type": "markdown",
   "id": "a6afe589-f41a-4f33-908d-8afa24318428",
   "metadata": {},
   "source": [
    "- output always in single quote only"
   ]
  },
  {
   "cell_type": "code",
   "execution_count": 78,
   "id": "e94264eb-af28-40c6-81b4-bea2a813734b",
   "metadata": {},
   "outputs": [
    {
     "name": "stdout",
     "output_type": "stream",
     "text": [
      "python\n"
     ]
    }
   ],
   "source": [
    "print(name)"
   ]
  },
  {
   "cell_type": "markdown",
   "id": "98f3e09c-dd03-457a-a1bc-246069a80e3f",
   "metadata": {},
   "source": [
    "- whenever you print, quotes will not visible"
   ]
  },
  {
   "cell_type": "code",
   "execution_count": 81,
   "id": "5852de38-4c2c-42f4-9404-e3d95a1ac3e4",
   "metadata": {},
   "outputs": [
    {
     "name": "stdout",
     "output_type": "stream",
     "text": [
      "i like 'python' so much\n"
     ]
    }
   ],
   "source": [
    "name=\"i like 'python' so much\"\n",
    "print(name)\n",
    "# for highlight the word - entier sentense should be in double quote and highlighted word should be in single qoute"
   ]
  },
  {
   "cell_type": "code",
   "execution_count": 83,
   "id": "d02e0d19-2a5d-42f0-a85e-46ab29223e9f",
   "metadata": {},
   "outputs": [
    {
     "name": "stdout",
     "output_type": "stream",
     "text": [
      "i like \"python\"\n"
     ]
    }
   ],
   "source": [
    "str='i like \"python\"'\n",
    "print(str)"
   ]
  },
  {
   "cell_type": "markdown",
   "id": "d770ee69-3168-46ff-8d38-fa9aa22cd02b",
   "metadata": {},
   "source": [
    "**triple quotes**\n",
    "\n",
    "- triple qoutes is not used for coding\n",
    "\n",
    "- triple quotes is used to provide the information to the user\n",
    "\n",
    "- in order to provide the information in jupyter notebook we will markdown\n",
    "\n",
    "- in vscode or pycharm there is no markdown option\n",
    "\n",
    "- thatswhy the world start used to write the information in triple quotes\n",
    "\n",
    "- this entire process i called **Doc S'tring**"
   ]
  },
  {
   "cell_type": "code",
   "execution_count": 88,
   "id": "a1752fff-9d32-436a-9712-1608ac38bfe1",
   "metadata": {},
   "outputs": [
    {
     "data": {
      "text/plain": [
       "'\\nhello\\ni am writing python code\\nthis python\\n'"
      ]
     },
     "execution_count": 88,
     "metadata": {},
     "output_type": "execute_result"
    }
   ],
   "source": [
    "\"\"\"\n",
    "hello\n",
    "i am writing python code\n",
    "this python\n",
    "\"\"\""
   ]
  },
  {
   "cell_type": "markdown",
   "id": "4eb036b0-3ff9-441c-a26b-bfee8d85e06f",
   "metadata": {},
   "source": [
    "**boolean**"
   ]
  },
  {
   "cell_type": "code",
   "execution_count": 91,
   "id": "ab34e524-331a-4f46-923f-3ee28b502122",
   "metadata": {},
   "outputs": [
    {
     "data": {
      "text/plain": [
       "bool"
      ]
     },
     "execution_count": 91,
     "metadata": {},
     "output_type": "execute_result"
    }
   ],
   "source": [
    "value=True\n",
    "type(value)"
   ]
  },
  {
   "cell_type": "code",
   "execution_count": 93,
   "id": "d7201f15-6853-45b3-816d-ab12eade8602",
   "metadata": {},
   "outputs": [
    {
     "data": {
      "text/plain": [
       "bool"
      ]
     },
     "execution_count": 93,
     "metadata": {},
     "output_type": "execute_result"
    }
   ],
   "source": [
    "value1=False\n",
    "type(value1)"
   ]
  },
  {
   "cell_type": "code",
   "execution_count": 95,
   "id": "c9c09d42-0cf0-4225-bc65-05735c564987",
   "metadata": {},
   "outputs": [],
   "source": [
    "true='True'\n",
    "false=False\n",
    "\n",
    "# true and false are variables\n",
    "# type true is string\n",
    "# type false is boolean"
   ]
  },
  {
   "cell_type": "code",
   "execution_count": 97,
   "id": "f6f684f9-ae71-4ba0-86d6-4a8b4f040b12",
   "metadata": {},
   "outputs": [
    {
     "data": {
      "text/plain": [
       "str"
      ]
     },
     "execution_count": 97,
     "metadata": {},
     "output_type": "execute_result"
    }
   ],
   "source": [
    "type(true)"
   ]
  },
  {
   "cell_type": "code",
   "execution_count": 99,
   "id": "45375cf8-65a3-44c2-a22d-7064e9afb927",
   "metadata": {},
   "outputs": [
    {
     "data": {
      "text/plain": [
       "bool"
      ]
     },
     "execution_count": 99,
     "metadata": {},
     "output_type": "execute_result"
    }
   ],
   "source": [
    "type(false)"
   ]
  },
  {
   "cell_type": "code",
   "execution_count": null,
   "id": "5f8da7cb-959b-45d2-8918-b883b08557ee",
   "metadata": {},
   "outputs": [],
   "source": []
  }
 ],
 "metadata": {
  "kernelspec": {
   "display_name": "Python 3 (ipykernel)",
   "language": "python",
   "name": "python3"
  },
  "language_info": {
   "codemirror_mode": {
    "name": "ipython",
    "version": 3
   },
   "file_extension": ".py",
   "mimetype": "text/x-python",
   "name": "python",
   "nbconvert_exporter": "python",
   "pygments_lexer": "ipython3",
   "version": "3.11.7"
  }
 },
 "nbformat": 4,
 "nbformat_minor": 5
}
