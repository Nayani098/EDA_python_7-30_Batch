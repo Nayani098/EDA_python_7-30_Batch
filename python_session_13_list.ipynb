{
 "cells": [
  {
   "cell_type": "markdown",
   "id": "4689c011-7d2a-4e57-96b4-0e47770a4730",
   "metadata": {},
   "source": [
    "- Representations\n",
    "\n",
    "- type\n",
    "\n",
    "- len\n",
    "\n",
    "- min\n",
    "\n",
    "- max\n",
    "\n",
    "- sorted\n",
    "\n",
    "- reversed\n",
    "\n",
    "- in \n",
    "\n",
    "- for loop in\n",
    "\n",
    "- index\n",
    "\n",
    "- for loop in index\n",
    "\n",
    "- mutable\n",
    "\n",
    "- concatenation\n",
    "\n",
    "- slicing\n",
    "\n",
    "- methods"
   ]
  },
  {
   "cell_type": "markdown",
   "id": "28155887-0310-47b8-aecd-0ead144c872a",
   "metadata": {},
   "source": [
    "**Repersentation**"
   ]
  },
  {
   "cell_type": "markdown",
   "id": "b8771817-fa6b-43d0-ba68-4a9219e7d906",
   "metadata": {},
   "source": [
    "- string representation with quotes\n",
    "\n",
    "- list representation with square brackets[]"
   ]
  },
  {
   "cell_type": "code",
   "execution_count": 2,
   "id": "f23e0def-64a8-4ac6-829a-b37a3279e70d",
   "metadata": {},
   "outputs": [
    {
     "data": {
      "text/plain": [
       "[1, 2, 3, 4]"
      ]
     },
     "execution_count": 2,
     "metadata": {},
     "output_type": "execute_result"
    }
   ],
   "source": [
    "l1=[1,2,3,4]\n",
    "l1"
   ]
  },
  {
   "cell_type": "code",
   "execution_count": 4,
   "id": "7f581b4b-e60e-402d-9ee0-63519173fcfc",
   "metadata": {},
   "outputs": [
    {
     "data": {
      "text/plain": [
       "list"
      ]
     },
     "execution_count": 4,
     "metadata": {},
     "output_type": "execute_result"
    }
   ],
   "source": [
    "type(l1)"
   ]
  },
  {
   "cell_type": "code",
   "execution_count": 10,
   "id": "4f59ce37-e265-46fd-aad9-cca68bfb4eb0",
   "metadata": {},
   "outputs": [
    {
     "data": {
      "text/plain": [
       "['A', 'B', 'C', 'D']"
      ]
     },
     "execution_count": 10,
     "metadata": {},
     "output_type": "execute_result"
    }
   ],
   "source": [
    "l2=['A','B','C','D']\n",
    "l2"
   ]
  },
  {
   "cell_type": "code",
   "execution_count": 12,
   "id": "a48c3952-53af-4752-b17c-cba6ce92c9e0",
   "metadata": {},
   "outputs": [
    {
     "data": {
      "text/plain": [
       "[1, 2, 3, 4, 'A', 'B', 'C', 'D']"
      ]
     },
     "execution_count": 12,
     "metadata": {},
     "output_type": "execute_result"
    }
   ],
   "source": [
    "l3=[1,2,3,4,'A','B','C','D']\n",
    "l3"
   ]
  },
  {
   "cell_type": "code",
   "execution_count": 16,
   "id": "d12ff20a-eb52-4f23-8372-842ad3e73de9",
   "metadata": {},
   "outputs": [
    {
     "data": {
      "text/plain": [
       "[1, 2, 3, 'Apple', 'Ball', 'Cat', True, False]"
      ]
     },
     "execution_count": 16,
     "metadata": {},
     "output_type": "execute_result"
    }
   ],
   "source": [
    "l4=[1,2,3,'Apple','Ball','Cat',True,False]\n",
    "l4"
   ]
  },
  {
   "cell_type": "code",
   "execution_count": 18,
   "id": "6ace0cb4-f403-4b74-a8ef-e3730689b5e1",
   "metadata": {},
   "outputs": [
    {
     "data": {
      "text/plain": [
       "['Naresh it']"
      ]
     },
     "execution_count": 18,
     "metadata": {},
     "output_type": "execute_result"
    }
   ],
   "source": [
    "name='Naresh it'\n",
    "l5=[name]\n",
    "l5"
   ]
  },
  {
   "cell_type": "code",
   "execution_count": 20,
   "id": "43419cdc-74ff-45ed-b6d9-e443e7f5512e",
   "metadata": {},
   "outputs": [
    {
     "data": {
      "text/plain": [
       "[100, 100, 100]"
      ]
     },
     "execution_count": 20,
     "metadata": {},
     "output_type": "execute_result"
    }
   ],
   "source": [
    "l6=[100,100,100]\n",
    "l6"
   ]
  },
  {
   "cell_type": "code",
   "execution_count": 24,
   "id": "e7d2a816-c9a3-4b72-b213-68f0cc39edfe",
   "metadata": {},
   "outputs": [
    {
     "data": {
      "text/plain": [
       "['$', '&', '^']"
      ]
     },
     "execution_count": 24,
     "metadata": {},
     "output_type": "execute_result"
    }
   ],
   "source": [
    "l7=['$','&','^']\n",
    "l7"
   ]
  },
  {
   "cell_type": "code",
   "execution_count": 28,
   "id": "159d6673-d1e5-444f-a00e-097a38152392",
   "metadata": {},
   "outputs": [
    {
     "data": {
      "text/plain": [
       "[100, 'Apple', ['A', 2]]"
      ]
     },
     "execution_count": 28,
     "metadata": {},
     "output_type": "execute_result"
    }
   ],
   "source": [
    "l8=[100,'Apple',['A',2]]\n",
    "l8"
   ]
  },
  {
   "cell_type": "code",
   "execution_count": null,
   "id": "fcf44a77-ad15-4fdc-ae99-6d26fda71424",
   "metadata": {},
   "outputs": [],
   "source": [
    "l1=[1,2,3,4]\n",
    "l2=['A','B','C','D']\n",
    "l3=[1,2,3,4,'A','B','C','D']\n",
    "l4=[1,2,3,'Apple','Ball','Cat',True,False]\n",
    "name='Naresh it'\n",
    "l5=[name]\n",
    "l6=[100,100,100]\n",
    "l7=['$','&','^']\n",
    "l8=[100,'Apple',['A',2]]\n",
    "# all are works in lists"
   ]
  },
  {
   "cell_type": "markdown",
   "id": "78c5f514-62d0-4411-bad4-7d8862abff2e",
   "metadata": {},
   "source": [
    "- list are array of element\n",
    "\n",
    "- list elements are heterogeneous all the data types we can represent in list\n",
    "\n",
    "- list element are allowed duplicates\n",
    "\n",
    "- list in list is possible\n",
    "\n",
    "- variables assignment also possible in the list"
   ]
  },
  {
   "cell_type": "markdown",
   "id": "7138c963-3e3a-4d57-946c-b4ba9f638a5b",
   "metadata": {},
   "source": [
    "- len\n",
    "\n",
    "- max\n",
    "\n",
    "- min\n",
    "\n",
    "- sorted\n",
    "\n",
    "- reversed"
   ]
  },
  {
   "cell_type": "markdown",
   "id": "fa566b22-918d-4527-998d-11a23886ce3d",
   "metadata": {},
   "source": [
    "**len**"
   ]
  },
  {
   "cell_type": "code",
   "execution_count": 33,
   "id": "cc450481-3c8f-4501-8c88-b504d54d0d64",
   "metadata": {},
   "outputs": [
    {
     "data": {
      "text/plain": [
       "4"
      ]
     },
     "execution_count": 33,
     "metadata": {},
     "output_type": "execute_result"
    }
   ],
   "source": [
    "l1=[1,2,3,4]\n",
    "len(l1)"
   ]
  },
  {
   "cell_type": "code",
   "execution_count": 35,
   "id": "f597d20e-3fd4-403e-ad84-cf43868fd496",
   "metadata": {},
   "outputs": [
    {
     "data": {
      "text/plain": [
       "4"
      ]
     },
     "execution_count": 35,
     "metadata": {},
     "output_type": "execute_result"
    }
   ],
   "source": [
    "l2=['A','B','C','D']\n",
    "len(l2)"
   ]
  },
  {
   "cell_type": "code",
   "execution_count": 37,
   "id": "de1a5490-6e68-4b64-892f-534a915f71e9",
   "metadata": {},
   "outputs": [
    {
     "data": {
      "text/plain": [
       "8"
      ]
     },
     "execution_count": 37,
     "metadata": {},
     "output_type": "execute_result"
    }
   ],
   "source": [
    "l3=[1,2,3,4,'A','B','C','D']\n",
    "len(l3)"
   ]
  },
  {
   "cell_type": "code",
   "execution_count": 39,
   "id": "7608e174-b7c1-4374-b628-763a0d2f12ac",
   "metadata": {},
   "outputs": [
    {
     "data": {
      "text/plain": [
       "8"
      ]
     },
     "execution_count": 39,
     "metadata": {},
     "output_type": "execute_result"
    }
   ],
   "source": [
    "l4=[1,2,3,'Apple','Ball','Cat',True,False]\n",
    "len(l4)"
   ]
  },
  {
   "cell_type": "code",
   "execution_count": 41,
   "id": "f3254e69-4b14-4016-8980-f19e9ced0ecc",
   "metadata": {},
   "outputs": [
    {
     "data": {
      "text/plain": [
       "1"
      ]
     },
     "execution_count": 41,
     "metadata": {},
     "output_type": "execute_result"
    }
   ],
   "source": [
    "name='Naresh it'\n",
    "l5=[name]\n",
    "len(l5)"
   ]
  },
  {
   "cell_type": "code",
   "execution_count": 43,
   "id": "b55e0861-a720-4f61-9f2a-f44a1d47ef4b",
   "metadata": {},
   "outputs": [
    {
     "data": {
      "text/plain": [
       "3"
      ]
     },
     "execution_count": 43,
     "metadata": {},
     "output_type": "execute_result"
    }
   ],
   "source": [
    "l6=[100,100,100]\n",
    "len(l6)"
   ]
  },
  {
   "cell_type": "code",
   "execution_count": 49,
   "id": "0e0b830d-af32-463a-b1a8-1babd5f341ef",
   "metadata": {},
   "outputs": [
    {
     "data": {
      "text/plain": [
       "3"
      ]
     },
     "execution_count": 49,
     "metadata": {},
     "output_type": "execute_result"
    }
   ],
   "source": [
    "l7=[100,'Apple',['A',2]]  \n",
    "len(l7)"
   ]
  },
  {
   "cell_type": "markdown",
   "id": "89f55287-15e8-491c-83a4-0a3da1c6d5c1",
   "metadata": {},
   "source": [
    "**max**"
   ]
  },
  {
   "cell_type": "code",
   "execution_count": 52,
   "id": "150e5cd7-dbf9-4316-9b66-c9bc40044a0c",
   "metadata": {},
   "outputs": [
    {
     "data": {
      "text/plain": [
       "4"
      ]
     },
     "execution_count": 52,
     "metadata": {},
     "output_type": "execute_result"
    }
   ],
   "source": [
    "l1=[1,2,3,4]\n",
    "max(l1)"
   ]
  },
  {
   "cell_type": "code",
   "execution_count": 54,
   "id": "a224fb5c-eceb-4fd1-83e4-4bb848ed7a82",
   "metadata": {},
   "outputs": [
    {
     "data": {
      "text/plain": [
       "'D'"
      ]
     },
     "execution_count": 54,
     "metadata": {},
     "output_type": "execute_result"
    }
   ],
   "source": [
    "l2=['A','B','C','D']\n",
    "max(l2)"
   ]
  },
  {
   "cell_type": "code",
   "execution_count": 56,
   "id": "e8e8dd62-b9c0-4e11-a769-74d184cee4db",
   "metadata": {},
   "outputs": [
    {
     "ename": "TypeError",
     "evalue": "'>' not supported between instances of 'str' and 'int'",
     "output_type": "error",
     "traceback": [
      "\u001b[0;31m---------------------------------------------------------------------------\u001b[0m",
      "\u001b[0;31mTypeError\u001b[0m                                 Traceback (most recent call last)",
      "Cell \u001b[0;32mIn[56], line 2\u001b[0m\n\u001b[1;32m      1\u001b[0m l3\u001b[38;5;241m=\u001b[39m[\u001b[38;5;241m1\u001b[39m,\u001b[38;5;241m2\u001b[39m,\u001b[38;5;241m3\u001b[39m,\u001b[38;5;241m4\u001b[39m,\u001b[38;5;124m'\u001b[39m\u001b[38;5;124mA\u001b[39m\u001b[38;5;124m'\u001b[39m,\u001b[38;5;124m'\u001b[39m\u001b[38;5;124mB\u001b[39m\u001b[38;5;124m'\u001b[39m,\u001b[38;5;124m'\u001b[39m\u001b[38;5;124mC\u001b[39m\u001b[38;5;124m'\u001b[39m,\u001b[38;5;124m'\u001b[39m\u001b[38;5;124mD\u001b[39m\u001b[38;5;124m'\u001b[39m]\n\u001b[0;32m----> 2\u001b[0m \u001b[38;5;28mmax\u001b[39m(l3)\n",
      "\u001b[0;31mTypeError\u001b[0m: '>' not supported between instances of 'str' and 'int'"
     ]
    }
   ],
   "source": [
    "l3=[1,2,3,4,'A','B','C','D']\n",
    "max(l3)"
   ]
  },
  {
   "cell_type": "code",
   "execution_count": 58,
   "id": "fc3e7563-eebe-49d6-84f4-e8da3db0bd1f",
   "metadata": {},
   "outputs": [
    {
     "ename": "TypeError",
     "evalue": "'>' not supported between instances of 'str' and 'int'",
     "output_type": "error",
     "traceback": [
      "\u001b[0;31m---------------------------------------------------------------------------\u001b[0m",
      "\u001b[0;31mTypeError\u001b[0m                                 Traceback (most recent call last)",
      "Cell \u001b[0;32mIn[58], line 2\u001b[0m\n\u001b[1;32m      1\u001b[0m l4\u001b[38;5;241m=\u001b[39m[\u001b[38;5;241m1\u001b[39m,\u001b[38;5;241m2\u001b[39m,\u001b[38;5;241m3\u001b[39m,\u001b[38;5;124m'\u001b[39m\u001b[38;5;124mApple\u001b[39m\u001b[38;5;124m'\u001b[39m,\u001b[38;5;124m'\u001b[39m\u001b[38;5;124mBall\u001b[39m\u001b[38;5;124m'\u001b[39m,\u001b[38;5;124m'\u001b[39m\u001b[38;5;124mCat\u001b[39m\u001b[38;5;124m'\u001b[39m,\u001b[38;5;28;01mTrue\u001b[39;00m,\u001b[38;5;28;01mFalse\u001b[39;00m]\n\u001b[0;32m----> 2\u001b[0m \u001b[38;5;28mmax\u001b[39m(l4)\n",
      "\u001b[0;31mTypeError\u001b[0m: '>' not supported between instances of 'str' and 'int'"
     ]
    }
   ],
   "source": [
    "l4=[1,2,3,'Apple','Ball','Cat',True,False]\n",
    "max(l4)"
   ]
  },
  {
   "cell_type": "code",
   "execution_count": 60,
   "id": "44ccdd7d-f21e-47fa-b8cd-619451467b9e",
   "metadata": {},
   "outputs": [
    {
     "data": {
      "text/plain": [
       "'Naresh it'"
      ]
     },
     "execution_count": 60,
     "metadata": {},
     "output_type": "execute_result"
    }
   ],
   "source": [
    "name='Naresh it'\n",
    "l5=[name]\n",
    "max(l5)"
   ]
  },
  {
   "cell_type": "code",
   "execution_count": 62,
   "id": "42e1078a-294e-4150-90db-d48549e04537",
   "metadata": {},
   "outputs": [
    {
     "data": {
      "text/plain": [
       "100"
      ]
     },
     "execution_count": 62,
     "metadata": {},
     "output_type": "execute_result"
    }
   ],
   "source": [
    "l6=[100,100,100]\n",
    "max(l6)"
   ]
  },
  {
   "cell_type": "code",
   "execution_count": 64,
   "id": "3063d47d-c091-48a4-b887-69890f9748fa",
   "metadata": {},
   "outputs": [
    {
     "ename": "TypeError",
     "evalue": "'>' not supported between instances of 'str' and 'int'",
     "output_type": "error",
     "traceback": [
      "\u001b[0;31m---------------------------------------------------------------------------\u001b[0m",
      "\u001b[0;31mTypeError\u001b[0m                                 Traceback (most recent call last)",
      "Cell \u001b[0;32mIn[64], line 2\u001b[0m\n\u001b[1;32m      1\u001b[0m l7\u001b[38;5;241m=\u001b[39m[\u001b[38;5;241m100\u001b[39m,\u001b[38;5;124m'\u001b[39m\u001b[38;5;124mApple\u001b[39m\u001b[38;5;124m'\u001b[39m,[\u001b[38;5;124m'\u001b[39m\u001b[38;5;124mA\u001b[39m\u001b[38;5;124m'\u001b[39m,\u001b[38;5;241m2\u001b[39m]]  \n\u001b[0;32m----> 2\u001b[0m \u001b[38;5;28mmax\u001b[39m(l7)\n",
      "\u001b[0;31mTypeError\u001b[0m: '>' not supported between instances of 'str' and 'int'"
     ]
    }
   ],
   "source": [
    "l7=[100,'Apple',['A',2]]  \n",
    "max(l7)"
   ]
  },
  {
   "cell_type": "markdown",
   "id": "bec4a74d-0dd9-4b5d-a4de-205304cd8f9a",
   "metadata": {},
   "source": [
    "**min**"
   ]
  },
  {
   "cell_type": "code",
   "execution_count": 67,
   "id": "95a978dd-e57b-4173-9c7d-6d2951cda026",
   "metadata": {},
   "outputs": [
    {
     "data": {
      "text/plain": [
       "1"
      ]
     },
     "execution_count": 67,
     "metadata": {},
     "output_type": "execute_result"
    }
   ],
   "source": [
    "l1=[1,2,3,4]\n",
    "min(l1)"
   ]
  },
  {
   "cell_type": "code",
   "execution_count": 71,
   "id": "13384c38-70be-4fe1-bf06-c984a05f00b9",
   "metadata": {},
   "outputs": [
    {
     "data": {
      "text/plain": [
       "'banu'"
      ]
     },
     "execution_count": 71,
     "metadata": {},
     "output_type": "execute_result"
    }
   ],
   "source": [
    "l2=['teja','dinesh','ravi','bhanu','banu']\n",
    "min(l2)"
   ]
  },
  {
   "cell_type": "code",
   "execution_count": 73,
   "id": "e3b733f1-c3d7-461e-af79-d518ccced1e7",
   "metadata": {},
   "outputs": [
    {
     "ename": "TypeError",
     "evalue": "'<' not supported between instances of 'str' and 'int'",
     "output_type": "error",
     "traceback": [
      "\u001b[0;31m---------------------------------------------------------------------------\u001b[0m",
      "\u001b[0;31mTypeError\u001b[0m                                 Traceback (most recent call last)",
      "Cell \u001b[0;32mIn[73], line 2\u001b[0m\n\u001b[1;32m      1\u001b[0m l3\u001b[38;5;241m=\u001b[39m[\u001b[38;5;241m1\u001b[39m,\u001b[38;5;241m2\u001b[39m,\u001b[38;5;241m3\u001b[39m,\u001b[38;5;241m4\u001b[39m,\u001b[38;5;124m'\u001b[39m\u001b[38;5;124mA\u001b[39m\u001b[38;5;124m'\u001b[39m,\u001b[38;5;124m'\u001b[39m\u001b[38;5;124mB\u001b[39m\u001b[38;5;124m'\u001b[39m,\u001b[38;5;124m'\u001b[39m\u001b[38;5;124mC\u001b[39m\u001b[38;5;124m'\u001b[39m,\u001b[38;5;124m'\u001b[39m\u001b[38;5;124mD\u001b[39m\u001b[38;5;124m'\u001b[39m]\n\u001b[0;32m----> 2\u001b[0m \u001b[38;5;28mmin\u001b[39m(l3)\n",
      "\u001b[0;31mTypeError\u001b[0m: '<' not supported between instances of 'str' and 'int'"
     ]
    }
   ],
   "source": [
    "l3=[1,2,3,4,'A','B','C','D']\n",
    "min(l3)"
   ]
  },
  {
   "cell_type": "code",
   "execution_count": 75,
   "id": "d1a337b6-5f4e-4f59-b389-1a8071dc7e98",
   "metadata": {},
   "outputs": [
    {
     "ename": "TypeError",
     "evalue": "'<' not supported between instances of 'str' and 'int'",
     "output_type": "error",
     "traceback": [
      "\u001b[0;31m---------------------------------------------------------------------------\u001b[0m",
      "\u001b[0;31mTypeError\u001b[0m                                 Traceback (most recent call last)",
      "Cell \u001b[0;32mIn[75], line 2\u001b[0m\n\u001b[1;32m      1\u001b[0m l4\u001b[38;5;241m=\u001b[39m[\u001b[38;5;241m1\u001b[39m,\u001b[38;5;241m2\u001b[39m,\u001b[38;5;241m3\u001b[39m,\u001b[38;5;124m'\u001b[39m\u001b[38;5;124mApple\u001b[39m\u001b[38;5;124m'\u001b[39m,\u001b[38;5;124m'\u001b[39m\u001b[38;5;124mBall\u001b[39m\u001b[38;5;124m'\u001b[39m,\u001b[38;5;124m'\u001b[39m\u001b[38;5;124mCat\u001b[39m\u001b[38;5;124m'\u001b[39m,\u001b[38;5;28;01mTrue\u001b[39;00m,\u001b[38;5;28;01mFalse\u001b[39;00m]\n\u001b[0;32m----> 2\u001b[0m \u001b[38;5;28mmin\u001b[39m(l4)\n",
      "\u001b[0;31mTypeError\u001b[0m: '<' not supported between instances of 'str' and 'int'"
     ]
    }
   ],
   "source": [
    "l4=[1,2,3,'Apple','Ball','Cat',True,False]\n",
    "min(l4)"
   ]
  },
  {
   "cell_type": "code",
   "execution_count": 77,
   "id": "6bf886ee-a452-49aa-a30e-5ed3345552aa",
   "metadata": {},
   "outputs": [
    {
     "data": {
      "text/plain": [
       "'Naresh it'"
      ]
     },
     "execution_count": 77,
     "metadata": {},
     "output_type": "execute_result"
    }
   ],
   "source": [
    "name='Naresh it'\n",
    "l5=[name]\n",
    "min(l5)"
   ]
  },
  {
   "cell_type": "code",
   "execution_count": 79,
   "id": "6260b5a4-3993-42c6-9a74-2e7d709dd54d",
   "metadata": {},
   "outputs": [
    {
     "data": {
      "text/plain": [
       "100"
      ]
     },
     "execution_count": 79,
     "metadata": {},
     "output_type": "execute_result"
    }
   ],
   "source": [
    "l6=[100,100,100]\n",
    "min(l6)"
   ]
  },
  {
   "cell_type": "code",
   "execution_count": 81,
   "id": "6244a97a-e69c-4ec9-be44-52109e00ea8e",
   "metadata": {},
   "outputs": [
    {
     "ename": "TypeError",
     "evalue": "'<' not supported between instances of 'str' and 'int'",
     "output_type": "error",
     "traceback": [
      "\u001b[0;31m---------------------------------------------------------------------------\u001b[0m",
      "\u001b[0;31mTypeError\u001b[0m                                 Traceback (most recent call last)",
      "Cell \u001b[0;32mIn[81], line 2\u001b[0m\n\u001b[1;32m      1\u001b[0m l7\u001b[38;5;241m=\u001b[39m[\u001b[38;5;241m100\u001b[39m,\u001b[38;5;124m'\u001b[39m\u001b[38;5;124mApple\u001b[39m\u001b[38;5;124m'\u001b[39m,[\u001b[38;5;124m'\u001b[39m\u001b[38;5;124mA\u001b[39m\u001b[38;5;124m'\u001b[39m,\u001b[38;5;241m2\u001b[39m]]  \n\u001b[0;32m----> 2\u001b[0m \u001b[38;5;28mmin\u001b[39m(l7)\n",
      "\u001b[0;31mTypeError\u001b[0m: '<' not supported between instances of 'str' and 'int'"
     ]
    }
   ],
   "source": [
    "l7=[100,'Apple',['A',2]]  \n",
    "min(l7)"
   ]
  },
  {
   "cell_type": "markdown",
   "id": "9a03394a-2e45-4ec6-abff-7ae12d098909",
   "metadata": {},
   "source": [
    "**sorted**"
   ]
  },
  {
   "cell_type": "code",
   "execution_count": 84,
   "id": "d73e5d6a-6328-4c49-bc62-df16c7be948d",
   "metadata": {},
   "outputs": [
    {
     "data": {
      "text/plain": [
       "[1, 2, 3, 4]"
      ]
     },
     "execution_count": 84,
     "metadata": {},
     "output_type": "execute_result"
    }
   ],
   "source": [
    "l1=[1,2,3,4]\n",
    "sorted(l1)"
   ]
  },
  {
   "cell_type": "code",
   "execution_count": 118,
   "id": "e3934985-f8b0-4f81-8505-a6f3eb2e0839",
   "metadata": {},
   "outputs": [
    {
     "data": {
      "text/plain": [
       "['banu', 'bhanu', 'dinesh', 'ravi', 'teja']"
      ]
     },
     "execution_count": 118,
     "metadata": {},
     "output_type": "execute_result"
    }
   ],
   "source": [
    "l2=['teja','dinesh','ravi','bhanu','banu']\n",
    "sorted(l2)\n",
    "\n",
    "# $note$\n",
    "\n",
    "# first compare all first letters\n",
    "\n",
    "# if all first letters ascii values same\n",
    "\n",
    "# then compare with second letters\n",
    "\n",
    "# continue the process"
   ]
  },
  {
   "cell_type": "code",
   "execution_count": 88,
   "id": "b26d5874-ee14-45e7-9e87-93ebc4e324b1",
   "metadata": {},
   "outputs": [
    {
     "ename": "TypeError",
     "evalue": "'<' not supported between instances of 'str' and 'int'",
     "output_type": "error",
     "traceback": [
      "\u001b[0;31m---------------------------------------------------------------------------\u001b[0m",
      "\u001b[0;31mTypeError\u001b[0m                                 Traceback (most recent call last)",
      "Cell \u001b[0;32mIn[88], line 2\u001b[0m\n\u001b[1;32m      1\u001b[0m l3\u001b[38;5;241m=\u001b[39m[\u001b[38;5;241m1\u001b[39m,\u001b[38;5;241m2\u001b[39m,\u001b[38;5;241m3\u001b[39m,\u001b[38;5;241m4\u001b[39m,\u001b[38;5;124m'\u001b[39m\u001b[38;5;124mA\u001b[39m\u001b[38;5;124m'\u001b[39m,\u001b[38;5;124m'\u001b[39m\u001b[38;5;124mB\u001b[39m\u001b[38;5;124m'\u001b[39m,\u001b[38;5;124m'\u001b[39m\u001b[38;5;124mC\u001b[39m\u001b[38;5;124m'\u001b[39m,\u001b[38;5;124m'\u001b[39m\u001b[38;5;124mD\u001b[39m\u001b[38;5;124m'\u001b[39m]\n\u001b[0;32m----> 2\u001b[0m \u001b[38;5;28msorted\u001b[39m(l3)\n",
      "\u001b[0;31mTypeError\u001b[0m: '<' not supported between instances of 'str' and 'int'"
     ]
    }
   ],
   "source": [
    "l3=[1,2,3,4,'A','B','C','D']\n",
    "sorted(l3)"
   ]
  },
  {
   "cell_type": "code",
   "execution_count": 90,
   "id": "9af099fb-7720-4529-a2de-4fbd684a96fa",
   "metadata": {},
   "outputs": [
    {
     "ename": "TypeError",
     "evalue": "'<' not supported between instances of 'str' and 'int'",
     "output_type": "error",
     "traceback": [
      "\u001b[0;31m---------------------------------------------------------------------------\u001b[0m",
      "\u001b[0;31mTypeError\u001b[0m                                 Traceback (most recent call last)",
      "Cell \u001b[0;32mIn[90], line 2\u001b[0m\n\u001b[1;32m      1\u001b[0m l4\u001b[38;5;241m=\u001b[39m[\u001b[38;5;241m1\u001b[39m,\u001b[38;5;241m2\u001b[39m,\u001b[38;5;241m3\u001b[39m,\u001b[38;5;124m'\u001b[39m\u001b[38;5;124mApple\u001b[39m\u001b[38;5;124m'\u001b[39m,\u001b[38;5;124m'\u001b[39m\u001b[38;5;124mBall\u001b[39m\u001b[38;5;124m'\u001b[39m,\u001b[38;5;124m'\u001b[39m\u001b[38;5;124mCat\u001b[39m\u001b[38;5;124m'\u001b[39m,\u001b[38;5;28;01mTrue\u001b[39;00m,\u001b[38;5;28;01mFalse\u001b[39;00m]\n\u001b[0;32m----> 2\u001b[0m \u001b[38;5;28msorted\u001b[39m(l4)\n",
      "\u001b[0;31mTypeError\u001b[0m: '<' not supported between instances of 'str' and 'int'"
     ]
    }
   ],
   "source": [
    "l4=[1,2,3,'Apple','Ball','Cat',True,False]\n",
    "sorted(l4)"
   ]
  },
  {
   "cell_type": "code",
   "execution_count": 92,
   "id": "1093c876-74a3-48c1-ae93-8ca629a2ba0a",
   "metadata": {},
   "outputs": [
    {
     "data": {
      "text/plain": [
       "['Naresh it']"
      ]
     },
     "execution_count": 92,
     "metadata": {},
     "output_type": "execute_result"
    }
   ],
   "source": [
    "name='Naresh it'\n",
    "l5=[name]\n",
    "sorted(l5)"
   ]
  },
  {
   "cell_type": "code",
   "execution_count": 94,
   "id": "34838d0f-00ce-454b-9d11-c3ad79246ed9",
   "metadata": {},
   "outputs": [
    {
     "ename": "TypeError",
     "evalue": "'<' not supported between instances of 'str' and 'int'",
     "output_type": "error",
     "traceback": [
      "\u001b[0;31m---------------------------------------------------------------------------\u001b[0m",
      "\u001b[0;31mTypeError\u001b[0m                                 Traceback (most recent call last)",
      "Cell \u001b[0;32mIn[94], line 2\u001b[0m\n\u001b[1;32m      1\u001b[0m l7\u001b[38;5;241m=\u001b[39m[\u001b[38;5;241m100\u001b[39m,\u001b[38;5;124m'\u001b[39m\u001b[38;5;124mApple\u001b[39m\u001b[38;5;124m'\u001b[39m,[\u001b[38;5;124m'\u001b[39m\u001b[38;5;124mA\u001b[39m\u001b[38;5;124m'\u001b[39m,\u001b[38;5;241m2\u001b[39m]]  \n\u001b[0;32m----> 2\u001b[0m \u001b[38;5;28msorted\u001b[39m(l7)\n",
      "\u001b[0;31mTypeError\u001b[0m: '<' not supported between instances of 'str' and 'int'"
     ]
    }
   ],
   "source": [
    "l7=[100,'Apple',['A',2]]  \n",
    "sorted(l7)"
   ]
  },
  {
   "cell_type": "markdown",
   "id": "af68080e-10a1-4a97-a2fd-c54ce02d5b9e",
   "metadata": {},
   "source": [
    "**reversed**"
   ]
  },
  {
   "cell_type": "code",
   "execution_count": 107,
   "id": "304a8205-edce-49c4-bb33-0eedacfac326",
   "metadata": {},
   "outputs": [
    {
     "name": "stdout",
     "output_type": "stream",
     "text": [
      "4 3 2 1 "
     ]
    }
   ],
   "source": [
    "l1=[1,2,3,4]\n",
    "output=reversed(l1)\n",
    "for i in output:\n",
    "    print(i,end=' ')"
   ]
  },
  {
   "cell_type": "code",
   "execution_count": 109,
   "id": "991b5dea-7871-4b1e-87b2-794299c53257",
   "metadata": {},
   "outputs": [
    {
     "name": "stdout",
     "output_type": "stream",
     "text": [
      "banu\n",
      "bhanu\n",
      "dinesh\n",
      "ravi\n",
      "teja\n"
     ]
    }
   ],
   "source": [
    "l2=['teja','dinesh','ravi','bhanu','banu']\n",
    "output=sorted(l2)\n",
    "for i in output:\n",
    "    print(i)"
   ]
  },
  {
   "cell_type": "code",
   "execution_count": 111,
   "id": "9f050785-77eb-42ab-b0a1-3c14e6d31df9",
   "metadata": {},
   "outputs": [
    {
     "name": "stdout",
     "output_type": "stream",
     "text": [
      "False\n",
      "True\n",
      "Cat\n",
      "Ball\n",
      "Apple\n",
      "3\n",
      "2\n",
      "1\n"
     ]
    }
   ],
   "source": [
    "l4=[1,2,3,'Apple','Ball','Cat',True,False]\n",
    "reversed(l4)\n",
    "for i in reversed(l4):\n",
    "    print(i)"
   ]
  },
  {
   "cell_type": "code",
   "execution_count": 113,
   "id": "26fa261f-096b-45a9-83bc-d2c544e5625f",
   "metadata": {},
   "outputs": [
    {
     "data": {
      "text/plain": [
       "[False, True, 'Cat', 'Ball', 'Apple', 3, 2, 1]"
      ]
     },
     "execution_count": 113,
     "metadata": {},
     "output_type": "execute_result"
    }
   ],
   "source": [
    "l4=[1,2,3,'Apple','Ball','Cat',True,False]\n",
    "list(reversed(l4))\n"
   ]
  },
  {
   "cell_type": "code",
   "execution_count": 115,
   "id": "696ed1ef-94ad-4f50-a4ee-3a1bbf49085d",
   "metadata": {},
   "outputs": [
    {
     "data": {
      "text/plain": [
       "['D', 'C', 'B', 'A', 4, 3, 2, 1]"
      ]
     },
     "execution_count": 115,
     "metadata": {},
     "output_type": "execute_result"
    }
   ],
   "source": [
    "l3=[1,2,3,4,'A','B','C','D']\n",
    "list(reversed(l3))"
   ]
  },
  {
   "cell_type": "code",
   "execution_count": 120,
   "id": "dea09106-6481-4322-a300-ed6d40a5859e",
   "metadata": {},
   "outputs": [
    {
     "data": {
      "text/plain": [
       "3"
      ]
     },
     "execution_count": 120,
     "metadata": {},
     "output_type": "execute_result"
    }
   ],
   "source": [
    "list1=['Apple',\n",
    "       1,\n",
    "       ['Cherry','Banana']\n",
    "      ]\n",
    "len(list1)"
   ]
  },
  {
   "cell_type": "code",
   "execution_count": 122,
   "id": "7769be28-9c50-4698-a2c7-76e6e1275a1c",
   "metadata": {},
   "outputs": [
    {
     "ename": "TypeError",
     "evalue": "'>' not supported between instances of 'int' and 'str'",
     "output_type": "error",
     "traceback": [
      "\u001b[0;31m---------------------------------------------------------------------------\u001b[0m",
      "\u001b[0;31mTypeError\u001b[0m                                 Traceback (most recent call last)",
      "Cell \u001b[0;32mIn[122], line 2\u001b[0m\n\u001b[1;32m      1\u001b[0m \u001b[38;5;28mlist\u001b[39m\u001b[38;5;241m=\u001b[39m[\u001b[38;5;124m'\u001b[39m\u001b[38;5;124mA\u001b[39m\u001b[38;5;124m'\u001b[39m,\u001b[38;5;241m65\u001b[39m]\n\u001b[0;32m----> 2\u001b[0m \u001b[38;5;28mmax\u001b[39m(\u001b[38;5;28mlist\u001b[39m)\n",
      "\u001b[0;31mTypeError\u001b[0m: '>' not supported between instances of 'int' and 'str'"
     ]
    }
   ],
   "source": [
    "list=['A',65]\n",
    "max(list)  # error\n",
    "\n",
    "# same data type will only comparable"
   ]
  },
  {
   "cell_type": "markdown",
   "id": "c77872da-6247-4ff3-a81d-e371bf6aeedb",
   "metadata": {},
   "source": [
    "**index**"
   ]
  },
  {
   "cell_type": "code",
   "execution_count": 127,
   "id": "18d051ed-730c-4d1b-8dc3-e0fe5c4aa2b2",
   "metadata": {},
   "outputs": [],
   "source": [
    "l4=[1,2,3,'Apple','Ball','Cat',True,False]\n",
    "\n",
    "\n",
    "# -8-7 -6  -5   -4   -3  -2   -1\n",
    "# 1  2  3 Apple ball cat True False\n",
    "# 0  1  2   3    4    5   6    7"
   ]
  },
  {
   "cell_type": "code",
   "execution_count": 129,
   "id": "0a8e8602-38ea-409d-ba3e-670ba536d070",
   "metadata": {},
   "outputs": [
    {
     "data": {
      "text/plain": [
       "(2, 2)"
      ]
     },
     "execution_count": 129,
     "metadata": {},
     "output_type": "execute_result"
    }
   ],
   "source": [
    "l4[1],l4[-7]"
   ]
  },
  {
   "cell_type": "code",
   "execution_count": 133,
   "id": "ff2b74a5-5c67-45ca-99dc-a39823259e7d",
   "metadata": {},
   "outputs": [
    {
     "data": {
      "text/plain": [
       "2"
      ]
     },
     "execution_count": 133,
     "metadata": {},
     "output_type": "execute_result"
    }
   ],
   "source": [
    "l1=[1,[2]]\n",
    "new=l1[1]\n",
    "new[0]"
   ]
  },
  {
   "cell_type": "code",
   "execution_count": 135,
   "id": "bed31ebe-67c5-436e-b043-1cabaf518619",
   "metadata": {},
   "outputs": [
    {
     "data": {
      "text/plain": [
       "2"
      ]
     },
     "execution_count": 135,
     "metadata": {},
     "output_type": "execute_result"
    }
   ],
   "source": [
    "l1[1][0]"
   ]
  },
  {
   "cell_type": "code",
   "execution_count": 139,
   "id": "92b817c5-0652-46ad-bebe-38cac50c3255",
   "metadata": {},
   "outputs": [
    {
     "data": {
      "text/plain": [
       "'A'"
      ]
     },
     "execution_count": 139,
     "metadata": {},
     "output_type": "execute_result"
    }
   ],
   "source": [
    "l1=[1,[2,'A']]\n",
    "l1[1][1]\n",
    "\n",
    "# 'A' is presented at index 1\n",
    "# so we given l1[1]:[2,'A'] it is alao list\n",
    "# the list has two elements\n",
    "# 'A' at 1st index\n",
    "# l1[1][1]='A'"
   ]
  },
  {
   "cell_type": "code",
   "execution_count": 141,
   "id": "6b5dbd40-e3b0-4793-8a7e-8ba8b4b56d98",
   "metadata": {},
   "outputs": [
    {
     "data": {
      "text/plain": [
       "'B'"
      ]
     },
     "execution_count": 141,
     "metadata": {},
     "output_type": "execute_result"
    }
   ],
   "source": [
    "l1=[1,[2,['A','B']]]\n",
    "l1[1][1][1]"
   ]
  },
  {
   "cell_type": "code",
   "execution_count": 143,
   "id": "9e63ea62-312c-4a78-9aea-d9f6b02416aa",
   "metadata": {},
   "outputs": [
    {
     "data": {
      "text/plain": [
       "'A'"
      ]
     },
     "execution_count": 143,
     "metadata": {},
     "output_type": "execute_result"
    }
   ],
   "source": [
    "l1[1][1][0]"
   ]
  },
  {
   "cell_type": "code",
   "execution_count": 145,
   "id": "875fa7cb-eeca-4d34-b850-33e35300bb30",
   "metadata": {},
   "outputs": [
    {
     "data": {
      "text/plain": [
       "'C'"
      ]
     },
     "execution_count": 145,
     "metadata": {},
     "output_type": "execute_result"
    }
   ],
   "source": [
    "l1=[1,[2,['A','B']],'C']\n",
    "l1[2]"
   ]
  },
  {
   "cell_type": "code",
   "execution_count": 151,
   "id": "35a8b0f5-fc2c-4b62-943c-ce00216408d8",
   "metadata": {},
   "outputs": [
    {
     "data": {
      "text/plain": [
       "'Apple'"
      ]
     },
     "execution_count": 151,
     "metadata": {},
     "output_type": "execute_result"
    }
   ],
   "source": [
    "l1=[1,2,[3,[4,[5,['Apple']]]]]\n",
    "l1[2][1][1][1][0]"
   ]
  },
  {
   "cell_type": "code",
   "execution_count": 155,
   "id": "2ee86a62-248a-486a-84cd-addbe307bbab",
   "metadata": {},
   "outputs": [
    {
     "data": {
      "text/plain": [
       "'Banana'"
      ]
     },
     "execution_count": 155,
     "metadata": {},
     "output_type": "execute_result"
    }
   ],
   "source": [
    "list1=['Apple',1,'Solapur',['cherry','papaya',70,[123,'Banana'],'tomato'],'python'] #get banana\n",
    "list1[3][3][1]"
   ]
  },
  {
   "cell_type": "code",
   "execution_count": 157,
   "id": "ca84830e-5f0d-4931-9cb6-ae071eb23978",
   "metadata": {},
   "outputs": [
    {
     "data": {
      "text/plain": [
       "'Cherry'"
      ]
     },
     "execution_count": 157,
     "metadata": {},
     "output_type": "execute_result"
    }
   ],
   "source": [
    "list1=[[[[[[[1,'Cherry']]]]]]]\n",
    "list1[0][0][0][0][0][0][1]"
   ]
  },
  {
   "cell_type": "code",
   "execution_count": 171,
   "id": "91ef9fdd-cc26-450e-89ff-0cec7a829ad9",
   "metadata": {},
   "outputs": [
    {
     "data": {
      "text/plain": [
       "'shmbaji'"
      ]
     },
     "execution_count": 171,
     "metadata": {},
     "output_type": "execute_result"
    }
   ],
   "source": [
    "list2=['MH',['Nagpur',['Orange',['likes',['king'],['shivaji',['Son',['shmbaji']]]]]]]\n",
    "list2[1][1][1][2][1][1][0]"
   ]
  },
  {
   "cell_type": "code",
   "execution_count": 2,
   "id": "49082f69-9c79-499a-8081-f9d55bcb56cf",
   "metadata": {},
   "outputs": [
    {
     "data": {
      "text/plain": [
       "[4]"
      ]
     },
     "execution_count": 2,
     "metadata": {},
     "output_type": "execute_result"
    }
   ],
   "source": [
    "l=[1,2,3,4,5,6,'A','B','C','D','E','F','G']\n",
    "l[3:-9:2]"
   ]
  },
  {
   "cell_type": "code",
   "execution_count": 4,
   "id": "cedfe3e0-fe17-45a4-9478-d77bc64b209c",
   "metadata": {},
   "outputs": [
    {
     "data": {
      "text/plain": [
       "['E', 'C', 'A']"
      ]
     },
     "execution_count": 4,
     "metadata": {},
     "output_type": "execute_result"
    }
   ],
   "source": [
    "l[-3:-9:-2]"
   ]
  },
  {
   "cell_type": "code",
   "execution_count": 6,
   "id": "b26405f9-18e9-47be-ab9b-1508b5a5617a",
   "metadata": {},
   "outputs": [
    {
     "data": {
      "text/plain": [
       "['E']"
      ]
     },
     "execution_count": 6,
     "metadata": {},
     "output_type": "execute_result"
    }
   ],
   "source": [
    "l[-3:9:-2]"
   ]
  },
  {
   "cell_type": "markdown",
   "id": "0aa345d7-958a-4648-9327-7fdf20f593ad",
   "metadata": {},
   "source": [
    "**list Methods**"
   ]
  },
  {
   "cell_type": "code",
   "execution_count": 8,
   "id": "0a0a5bb6-3a8c-4a8c-835d-485002460542",
   "metadata": {},
   "outputs": [
    {
     "data": {
      "text/plain": [
       "['__add__',\n",
       " '__class__',\n",
       " '__class_getitem__',\n",
       " '__contains__',\n",
       " '__delattr__',\n",
       " '__delitem__',\n",
       " '__dir__',\n",
       " '__doc__',\n",
       " '__eq__',\n",
       " '__format__',\n",
       " '__ge__',\n",
       " '__getattribute__',\n",
       " '__getitem__',\n",
       " '__getstate__',\n",
       " '__gt__',\n",
       " '__hash__',\n",
       " '__iadd__',\n",
       " '__imul__',\n",
       " '__init__',\n",
       " '__init_subclass__',\n",
       " '__iter__',\n",
       " '__le__',\n",
       " '__len__',\n",
       " '__lt__',\n",
       " '__mul__',\n",
       " '__ne__',\n",
       " '__new__',\n",
       " '__reduce__',\n",
       " '__reduce_ex__',\n",
       " '__repr__',\n",
       " '__reversed__',\n",
       " '__rmul__',\n",
       " '__setattr__',\n",
       " '__setitem__',\n",
       " '__sizeof__',\n",
       " '__str__',\n",
       " '__subclasshook__',\n",
       " 'append',\n",
       " 'clear',\n",
       " 'copy',\n",
       " 'count',\n",
       " 'extend',\n",
       " 'index',\n",
       " 'insert',\n",
       " 'pop',\n",
       " 'remove',\n",
       " 'reverse',\n",
       " 'sort']"
      ]
     },
     "execution_count": 8,
     "metadata": {},
     "output_type": "execute_result"
    }
   ],
   "source": [
    "dir([])"
   ]
  },
  {
   "cell_type": "code",
   "execution_count": null,
   "id": "c7a431a2-bea3-4178-bb9f-fb61e6ec139b",
   "metadata": {},
   "outputs": [],
   "source": [
    "'append',\n",
    "'clear',\n",
    "'copy',\n",
    "'count',\n",
    "'extend',\n",
    "'index',\n",
    "'insert',\n",
    "'pop',\n",
    "'remove',\n",
    "'reverse',\n",
    "'sort'"
   ]
  },
  {
   "cell_type": "markdown",
   "id": "25aabbfa-71f8-45cd-9733-63d89ce79b70",
   "metadata": {},
   "source": [
    "**append**\n",
    "\n",
    "- adding elements in a list at last index\n",
    "\n",
    "- append method is very important\n",
    "\n",
    "- most of the time we will use append in the real time projects\n",
    "\n",
    "- when you add the value the original list will be overwrite"
   ]
  },
  {
   "cell_type": "code",
   "execution_count": 14,
   "id": "48fac6e9-d89f-4215-b187-1d4b24589708",
   "metadata": {},
   "outputs": [
    {
     "data": {
      "text/plain": [
       "['Apple', 'Ball', 'Cat']"
      ]
     },
     "execution_count": 14,
     "metadata": {},
     "output_type": "execute_result"
    }
   ],
   "source": [
    "l=['Apple','Ball','Cat']\n",
    "l"
   ]
  },
  {
   "cell_type": "code",
   "execution_count": null,
   "id": "69aa982c-059c-4fee-a240-99f391eb1918",
   "metadata": {},
   "outputs": [],
   "source": [
    "# you want to add doll in a given list \n",
    "\n",
    "# keyword vs method\n",
    "len()\n",
    "max()\n",
    "min()\n",
    "reversed()\n",
    "sorted()\n",
    "\n",
    "#Methods\n",
    "<package>.<method>()\n",
    "# we already discussed\n",
    "# Data types has own method\n",
    "# <data type>.<method>()"
   ]
  },
  {
   "cell_type": "code",
   "execution_count": 20,
   "id": "7c9d3cba-28b1-44fb-945e-c9f0dc7f1627",
   "metadata": {},
   "outputs": [],
   "source": [
    "l.append('Doll')"
   ]
  },
  {
   "cell_type": "code",
   "execution_count": 22,
   "id": "c3329278-0152-4193-b59a-765199af6635",
   "metadata": {},
   "outputs": [
    {
     "data": {
      "text/plain": [
       "['Apple', 'Ball', 'Cat', 'Doll']"
      ]
     },
     "execution_count": 22,
     "metadata": {},
     "output_type": "execute_result"
    }
   ],
   "source": [
    "l"
   ]
  },
  {
   "cell_type": "code",
   "execution_count": 25,
   "id": "a9ab5198-a385-430f-af38-16d4ce83d088",
   "metadata": {},
   "outputs": [],
   "source": [
    "l1=[1,2,3,4]\n",
    "l1.append(100)"
   ]
  },
  {
   "cell_type": "code",
   "execution_count": 27,
   "id": "d3d730a2-0467-491c-8cf6-3027d0929f12",
   "metadata": {},
   "outputs": [
    {
     "data": {
      "text/plain": [
       "[1, 2, 3, 4, 100]"
      ]
     },
     "execution_count": 27,
     "metadata": {},
     "output_type": "execute_result"
    }
   ],
   "source": [
    "l1"
   ]
  },
  {
   "cell_type": "code",
   "execution_count": 29,
   "id": "98f7e510-b9aa-41c1-9f5f-d99c830d6c29",
   "metadata": {},
   "outputs": [
    {
     "data": {
      "text/plain": [
       "[10, 20, 'Apple', ['A', 1], True]"
      ]
     },
     "execution_count": 29,
     "metadata": {},
     "output_type": "execute_result"
    }
   ],
   "source": [
    "l2=[]\n",
    "l2.append(10)\n",
    "l2.append(20)\n",
    "l2.append('Apple')\n",
    "l2.append(['A',1])\n",
    "l2.append(True)\n",
    "l2"
   ]
  },
  {
   "cell_type": "markdown",
   "id": "a38b5389-4d67-4de1-966d-19a5727f7e99",
   "metadata": {},
   "source": [
    "**append method used to save the output in a list**"
   ]
  },
  {
   "cell_type": "code",
   "execution_count": 32,
   "id": "328d49e8-8976-4ccc-8fd9-97c4d8facd68",
   "metadata": {},
   "outputs": [
    {
     "name": "stdout",
     "output_type": "stream",
     "text": [
      "1\n",
      "4\n",
      "9\n",
      "16\n",
      "25\n"
     ]
    }
   ],
   "source": [
    "for i in range(1,6):\n",
    "    print(i*i)"
   ]
  },
  {
   "cell_type": "code",
   "execution_count": 36,
   "id": "90b59af1-c1d4-4a0d-af45-df8f065f55db",
   "metadata": {},
   "outputs": [
    {
     "data": {
      "text/plain": [
       "[1, 4, 9, 16, 25]"
      ]
     },
     "execution_count": 36,
     "metadata": {},
     "output_type": "execute_result"
    }
   ],
   "source": [
    "square_list=[]\n",
    "for i in range(1,6):\n",
    "    square_list.append(i*i)\n",
    "# print===square_list.append()\n",
    "square_list"
   ]
  },
  {
   "cell_type": "code",
   "execution_count": 48,
   "id": "d811c835-6571-4d27-b453-636f3a9e72cb",
   "metadata": {},
   "outputs": [
    {
     "data": {
      "text/plain": [
       "'python'"
      ]
     },
     "execution_count": 48,
     "metadata": {},
     "output_type": "execute_result"
    }
   ],
   "source": [
    "s=''\n",
    "for i in 'python':\n",
    "    s=s+i\n",
    "s"
   ]
  },
  {
   "cell_type": "code",
   "execution_count": 60,
   "id": "7ea5636d-6fec-4a88-a9ee-f826f3faf100",
   "metadata": {},
   "outputs": [
    {
     "data": {
      "text/plain": [
       "([1, 5, 9], 15)"
      ]
     },
     "execution_count": 60,
     "metadata": {},
     "output_type": "execute_result"
    }
   ],
   "source": [
    "# str='hai hai hai'\n",
    "# what are index of 'a'\n",
    "# save that index numbers in a list\n",
    "str1='hai hai hai'\n",
    "l=[]\n",
    "for i in range(len(str1)):\n",
    "    if str1[i]=='a':\n",
    "        l.append(i)\n",
    "l,sum(l)"
   ]
  },
  {
   "cell_type": "code",
   "execution_count": 64,
   "id": "c3904176-8fe1-406b-b955-c29ba1642285",
   "metadata": {},
   "outputs": [
    {
     "data": {
      "text/plain": [
       "15"
      ]
     },
     "execution_count": 64,
     "metadata": {},
     "output_type": "execute_result"
    }
   ],
   "source": [
    "# sum of all id\n",
    "summ=0\n",
    "str1='hai hai hai'\n",
    "for i in range(len(str1)):\n",
    "    if str1[i]=='a':\n",
    "        summ=summ+i\n",
    "summ"
   ]
  },
  {
   "cell_type": "code",
   "execution_count": null,
   "id": "bd0e360a-b61c-4099-b159-2e856078792d",
   "metadata": {},
   "outputs": [],
   "source": [
    "# 2) l1=['Hyd','Mumbai','chennai','blr']\n",
    "# ans=['Mumbai','Chennai']"
   ]
  },
  {
   "cell_type": "code",
   "execution_count": null,
   "id": "a3137686-a096-4cdb-b5d0-ac69482fd1d1",
   "metadata": {},
   "outputs": [],
   "source": [
    "'nadeem' in '#'  #    'nadeem' is avaliable in '#'\n",
    "'#' in 'nadeem'  #    is '#' avaliable in 'nadeem'\n",
    "'nade##m' in '#' #    is 'nad##m' avaiable in '#'\n",
    "'#' in 'nad##m'  #    is '#' available in 'nad##m'"
   ]
  },
  {
   "cell_type": "code",
   "execution_count": 7,
   "id": "8d1924c5-f40c-4574-a012-430a77f067e1",
   "metadata": {},
   "outputs": [
    {
     "data": {
      "text/plain": [
       "'Hello Im Learning Python'"
      ]
     },
     "execution_count": 7,
     "metadata": {},
     "output_type": "execute_result"
    }
   ],
   "source": [
    "# do the same using capitalize method\n",
    "# step-1: split the string\n",
    "# step-2: take empty list\n",
    "# step-3: iterate the each letter apply capitlize and append it\n",
    "# step-4: join the list\n",
    "\n",
    "str1='hello im learning python'\n",
    "words=str1.split()\n",
    "l3=[]\n",
    "for i in words:\n",
    "    d=i.capitalize()\n",
    "    l3.append(d)\n",
    "' '.join(l3)"
   ]
  },
  {
   "cell_type": "code",
   "execution_count": 21,
   "id": "bf0d8d62-e78c-42dd-a8d9-417983e8183e",
   "metadata": {},
   "outputs": [
    {
     "name": "stdout",
     "output_type": "stream",
     "text": [
      "3.0\n"
     ]
    }
   ],
   "source": [
    "# calculate the distance between two points\n",
    "# a=[1,2]\n",
    "# b=[4,5]\n",
    "# a=[x1,x2]\n",
    "# b=[y1,y2]\n",
    "\n",
    "# step-1: v1= x2-x1  === index\n",
    "# step-2: v2=y2-y1\n",
    "# step-3: v11=v1**2\n",
    "# step-4: v22=v2**2\n",
    "# step-5: print(math.sqrt(v11+v22))\n",
    "\n",
    "import math\n",
    "a=[1,2]\n",
    "b=[1,5]\n",
    "v1=a[0]-b[0]\n",
    "v2=a[1]-b[1]\n",
    "v11=v1**2\n",
    "v22=v2**2\n",
    "print(math.sqrt(v11+v22))"
   ]
  },
  {
   "cell_type": "code",
   "execution_count": 31,
   "id": "02a993d9-2da7-4dfe-86f5-b381e231ad08",
   "metadata": {},
   "outputs": [
    {
     "name": "stdout",
     "output_type": "stream",
     "text": [
      "1.4142135623730951\n",
      "0.0\n",
      "4.242640687119285\n"
     ]
    },
    {
     "data": {
      "text/plain": [
       "[1.4142135623730951, 0.0, 4.242640687119285]"
      ]
     },
     "execution_count": 31,
     "metadata": {},
     "output_type": "execute_result"
    }
   ],
   "source": [
    "# points=[[1,2],[2,3],[3,4]]\n",
    "# val=[2,3]\n",
    "\n",
    "# calculate the distance between val [2,3] to each and every point\n",
    "# find the max distance\n",
    "\n",
    "import math\n",
    "points=[[1,2],[2,3],[5,6]]\n",
    "val=[2,3]\n",
    "ans=[]\n",
    "for i in points:\n",
    "    v1=i[0]-val[0]\n",
    "    v2=i[1]-val[1]\n",
    "    v11=v1**2\n",
    "    v22=v2**2\n",
    "    print(math.sqrt(v11+v22))\n",
    "    ans.append(math.sqrt(v11+v22))\n",
    "ans"
   ]
  },
  {
   "cell_type": "code",
   "execution_count": 33,
   "id": "663837a4-94ca-4895-b644-6afa6200df77",
   "metadata": {},
   "outputs": [
    {
     "data": {
      "text/plain": [
       "4.242640687119285"
      ]
     },
     "execution_count": 33,
     "metadata": {},
     "output_type": "execute_result"
    }
   ],
   "source": [
    "max(ans)"
   ]
  },
  {
   "cell_type": "code",
   "execution_count": 27,
   "id": "728d3382-f528-4edd-b3c6-0cb5ca4d1361",
   "metadata": {},
   "outputs": [
    {
     "name": "stdout",
     "output_type": "stream",
     "text": [
      "3.0\n",
      "2.23606797749979\n",
      "4.123105625617661\n"
     ]
    }
   ],
   "source": [
    "# other question\n",
    "\n",
    "\n",
    "import math\n",
    "points=[[1,2],[2,3],[5,6]]\n",
    "val=[1,5]\n",
    "for i in points:\n",
    "    v1=i[0]-val[0]\n",
    "    v2=i[1]-val[1]\n",
    "    v11=v1**2\n",
    "    v22=v2**2\n",
    "    print(math.sqrt(v11+v22))"
   ]
  },
  {
   "cell_type": "code",
   "execution_count": null,
   "id": "1688bf5f-1ac2-40aa-b97d-7799ac3656fd",
   "metadata": {},
   "outputs": [
    {
     "name": "stdout",
     "output_type": "stream",
     "text": [
      "What is capital of India\n"
     ]
    },
    {
     "name": "stdin",
     "output_type": "stream",
     "text": [
      " hai\n"
     ]
    },
    {
     "name": "stdout",
     "output_type": "stream",
     "text": [
      "the wrong answers: 1\n",
      "the wrong answers: 1\n",
      "the wrong answers: 1\n",
      "Who is PM of india\n"
     ]
    }
   ],
   "source": [
    "qns=['What is capital of India','Who is PM of india','Who is ICT ODI captian']\n",
    "ans=['Delhi','Modi','Rohit']\n",
    "marks=0\n",
    "correct=0\n",
    "wrong=0\n",
    "for i in qns:\n",
    "    print(i)\n",
    "    answer=input('')\n",
    "    for a in range(len(ans)):\n",
    "        if answer==ans[a].lower() or answer==ans[a]:\n",
    "            marks=marks+1\n",
    "            correct=+1\n",
    "        else:\n",
    "            wrong=+1\n",
    "            print('the wrong answers:',wrong)\n",
    "print('the total marks:',marks)\n",
    "print('the correct answers:',correct)"
   ]
  },
  {
   "cell_type": "markdown",
   "id": "590979bf-ba3e-4b78-a2ea-bb99908e56ee",
   "metadata": {},
   "source": [
    "$$It is Continuation of **assignment-15**$$ "
   ]
  },
  {
   "cell_type": "code",
   "execution_count": 15,
   "id": "b637828e-56ef-491d-967b-856daced5164",
   "metadata": {},
   "outputs": [
    {
     "data": {
      "text/plain": [
       "[1, 2, 3, 'Bannana', 'Apple', 10, 20, 'Apple', 40]"
      ]
     },
     "execution_count": 15,
     "metadata": {},
     "output_type": "execute_result"
    }
   ],
   "source": [
    "l1=[1,2,3,'Apple',10,20,'Apple',40]\n",
    "#  0  1 2   3     4   5    6    7\n",
    "i1=l1.index('Apple') # Apple index=3\n",
    "l1.insert(i1,'Bannana')  # insert banana before index i1(3) # insert object will be inserted before given index\n",
    "l1"
   ]
  },
  {
   "cell_type": "code",
   "execution_count": 13,
   "id": "13ecf5b4-0a01-44a2-af2c-f35b67726b51",
   "metadata": {},
   "outputs": [
    {
     "data": {
      "text/plain": [
       "[1, 2, 3, 'Apple', 10, 20, 'Apple', 'Cherry', 40]"
      ]
     },
     "execution_count": 13,
     "metadata": {},
     "output_type": "execute_result"
    }
   ],
   "source": [
    "l1=[1,2,3,'Apple',10,20,'Apple',40]\n",
    "#  0  1 2   3     4   5    6    7\n",
    "i1=l1.index(40) # 40 index=7\n",
    "l1.insert(i1,'Cherry')  # insert 'Cherry' before index i1(3)\n",
    "l1"
   ]
  },
  {
   "cell_type": "code",
   "execution_count": 34,
   "id": "c757228d-26ee-4acb-86b6-200a021abae7",
   "metadata": {},
   "outputs": [
    {
     "data": {
      "text/plain": [
       "[1, 2, 3, 'Apple', 10, 20, 'Cherry', 'Apple', 40]"
      ]
     },
     "execution_count": 34,
     "metadata": {},
     "output_type": "execute_result"
    }
   ],
   "source": [
    "l1=[1,2,3,'Apple',10,20,'Apple',40]\n",
    "#  0  1 2   3     4   5    6    7\n",
    "i1=l1.index('Apple')\n",
    "i2=l1.index('Apple',i1+1)# second Apple index=6\n",
    "l1.insert(i2,'Cherry')  # insert 'Cherry' before index i1(6)\n",
    "l1"
   ]
  },
  {
   "cell_type": "markdown",
   "id": "1050f3a4-9ff0-463d-be4c-9f1278338548",
   "metadata": {},
   "source": [
    "**pop-remove-del**\n",
    "\n",
    "- pop will remove the items\n",
    "\n",
    "- pop also display the item which is removing\n",
    "\n",
    "- pop will take one argument : index\n",
    "\n",
    "- pop will the item based on index\n",
    "\n",
    "- if we dont provide any index, by default it will remove last index or last value\n",
    "\n",
    "- because the default index value is -1"
   ]
  },
  {
   "cell_type": "code",
   "execution_count": 53,
   "id": "de2fccce-a4cf-463a-94cf-785626f3f284",
   "metadata": {},
   "outputs": [
    {
     "data": {
      "text/plain": [
       "[1, 2, 3, 'Apple', 10, 20, 'Apple']"
      ]
     },
     "execution_count": 53,
     "metadata": {},
     "output_type": "execute_result"
    }
   ],
   "source": [
    "l1=[1,2,3,'Apple',10,20,'Apple',40]\n",
    "l1.pop()\n",
    "l1"
   ]
  },
  {
   "cell_type": "code",
   "execution_count": 67,
   "id": "6b4f49e6-77eb-4fa3-9d1d-8f9197e788ff",
   "metadata": {},
   "outputs": [
    {
     "data": {
      "text/plain": [
       "[1, 2, 3, 10, 20, 'Apple', 40]"
      ]
     },
     "execution_count": 67,
     "metadata": {},
     "output_type": "execute_result"
    }
   ],
   "source": [
    "l1=[1,2,3,'Apple',10,20,'Apple',40]\n",
    "i1=l1.index('Apple')\n",
    "l1.pop(i1)\n",
    "l1"
   ]
  },
  {
   "cell_type": "code",
   "execution_count": 73,
   "id": "794f37a3-02c9-404e-b6c2-cb43018158c8",
   "metadata": {},
   "outputs": [
    {
     "data": {
      "text/plain": [
       "[1, 2, 3, 'Apple', 10, 20, 40]"
      ]
     },
     "execution_count": 73,
     "metadata": {},
     "output_type": "execute_result"
    }
   ],
   "source": [
    "l1=[1,2,3,'Apple',10,20,'Apple',40]\n",
    "i1=l1.index('Apple')\n",
    "i2=l1.index('Apple',i1+1)\n",
    "l1.pop(i2)\n",
    "l1"
   ]
  },
  {
   "cell_type": "code",
   "execution_count": 79,
   "id": "da1c5569-2744-4076-ae96-3cd6ea1ac3d2",
   "metadata": {},
   "outputs": [
    {
     "data": {
      "text/plain": [
       "[1, 2, 3, 10, 20, 40]"
      ]
     },
     "execution_count": 79,
     "metadata": {},
     "output_type": "execute_result"
    }
   ],
   "source": [
    "l1=[1,2,3,'Apple',10,20,'Apple',40]\n",
    "i1=l1.index('Apple')\n",
    "l1.pop(i1)    # l1=[1,2,3,10,20,'Apple',40]\n",
    "i1=l1.index('Apple')\n",
    "l1.pop(i1)\n",
    "l1"
   ]
  },
  {
   "cell_type": "code",
   "execution_count": 83,
   "id": "6724b884-66a9-4f8d-a909-48f3593a41a6",
   "metadata": {},
   "outputs": [
    {
     "data": {
      "text/plain": [
       "[1, 2, 3, 10, 20, 40]"
      ]
     },
     "execution_count": 83,
     "metadata": {},
     "output_type": "execute_result"
    }
   ],
   "source": [
    "l1=[1,2,3,'Apple',10,20,'Apple',40,'Apple']\n",
    "i1=l1.index('Apple')\n",
    "l1.pop(i1)    # l1=[1,2,3,10,20,'Apple',40]\n",
    "i1=l1.index('Apple')\n",
    "l1.pop(i1)\n",
    "i1=l1.index('Apple')\n",
    "l1.pop(i1)\n",
    "l1"
   ]
  },
  {
   "cell_type": "code",
   "execution_count": null,
   "id": "39541c7a-c3fe-47c8-9dd4-86a641748783",
   "metadata": {},
   "outputs": [],
   "source": [
    "l1=[1,2,3,'Apple',10,20,'Apple',40,'Apple']\n",
    "for i in range(len(l1)):\n",
    "    if l1[i]=='Apple':\n",
    "        "
   ]
  },
  {
   "cell_type": "code",
   "execution_count": 103,
   "id": "3e4bd19d-2d39-454d-b6ca-65e8281343b8",
   "metadata": {},
   "outputs": [
    {
     "data": {
      "text/plain": [
       "'hai how are you im good thank you'"
      ]
     },
     "execution_count": 103,
     "metadata": {},
     "output_type": "execute_result"
    }
   ],
   "source": [
    "# str='hai apple how are you apple im good apple thank you apple'\n",
    "# o/p='hai how are you im good thank you'\n",
    "# idea:\n",
    "# step-1: split\n",
    "# iterate it\n",
    "# pop it\n",
    "# join it\n",
    "\n",
    "str='hai apple how are you apple im good apple thank you apple'\n",
    "list1=str.split()\n",
    "count=list1.count('apple')\n",
    "for i in range(count):\n",
    "    i1=list1.index('apple')\n",
    "    list1.pop(i1)\n",
    "' '.join(list1)"
   ]
  },
  {
   "cell_type": "markdown",
   "id": "7d03ce79-8ff0-45ef-81b2-82ef0f9ea528",
   "metadata": {},
   "source": [
    "**remove**"
   ]
  },
  {
   "cell_type": "markdown",
   "id": "b274d7f4-6fb4-446d-98b6-6112b84040a0",
   "metadata": {},
   "source": [
    "- pop will take the index\n",
    "\n",
    "- remove will take the value\n",
    "\n",
    "- remove will delete the first occurence of element"
   ]
  },
  {
   "cell_type": "code",
   "execution_count": 106,
   "id": "6006313c-5da8-43e5-8c4e-ca596ad398ac",
   "metadata": {},
   "outputs": [
    {
     "data": {
      "text/plain": [
       "[1, 2, 3, 10, 20, 'Apple', 40]"
      ]
     },
     "execution_count": 106,
     "metadata": {},
     "output_type": "execute_result"
    }
   ],
   "source": [
    "l1=[1,2,3,'Apple',10,20,'Apple',40]\n",
    "l1.remove('Apple')\n",
    "l1"
   ]
  },
  {
   "cell_type": "code",
   "execution_count": 108,
   "id": "4332d9c6-fa25-4f5f-aa55-6b7c7c266ca0",
   "metadata": {},
   "outputs": [
    {
     "data": {
      "text/plain": [
       "[1, 2, 3, 10, 20, 40]"
      ]
     },
     "execution_count": 108,
     "metadata": {},
     "output_type": "execute_result"
    }
   ],
   "source": [
    "l1=[1,2,3,'Apple',10,20,'Apple',40]\n",
    "l1.remove('Apple')\n",
    "l1\n",
    "l1.remove('Apple')\n",
    "l1"
   ]
  },
  {
   "cell_type": "code",
   "execution_count": 114,
   "id": "d25c7fb1-d20a-4656-b5a1-bdee48212f98",
   "metadata": {},
   "outputs": [
    {
     "data": {
      "text/plain": [
       "'hai how are you im good thank you'"
      ]
     },
     "execution_count": 114,
     "metadata": {},
     "output_type": "execute_result"
    }
   ],
   "source": [
    "# str='hai apple how are you apple im good apple thank you apple'\n",
    "# o/p='hai how are you im good thank you'\n",
    "# with .remove()\n",
    "\n",
    "str='hai apple how are you apple im good apple thank you apple'\n",
    "list1=str.split()\n",
    "count=list1.count('apple')\n",
    "for i in range(count):\n",
    "    list1.remove('apple')\n",
    "' '.join(list1)"
   ]
  },
  {
   "cell_type": "markdown",
   "id": "08dab11a-875b-4016-bd26-5baa841c1c7a",
   "metadata": {},
   "source": [
    "**del**"
   ]
  },
  {
   "cell_type": "code",
   "execution_count": 118,
   "id": "ecea938c-e755-4db9-838c-a05ad43785db",
   "metadata": {},
   "outputs": [
    {
     "data": {
      "text/plain": [
       "[1, 2, 3, 10, 20, 'Apple', 40]"
      ]
     },
     "execution_count": 118,
     "metadata": {},
     "output_type": "execute_result"
    }
   ],
   "source": [
    "l1=[1,2,3,'Apple',10,20,'Apple',40]\n",
    "del(l1[3])\n",
    "l1"
   ]
  },
  {
   "cell_type": "code",
   "execution_count": null,
   "id": "f478e054-42ea-4f96-b088-cfa353192489",
   "metadata": {},
   "outputs": [],
   "source": [
    "- append/extend/insert/concatenation\n",
    "\n",
    "-"
   ]
  },
  {
   "cell_type": "code",
   "execution_count": null,
   "id": "e961c584-e295-4a51-abe3-f97713791180",
   "metadata": {},
   "outputs": [],
   "source": [
    "- repres"
   ]
  }
 ],
 "metadata": {
  "kernelspec": {
   "display_name": "Python 3 (ipykernel)",
   "language": "python",
   "name": "python3"
  },
  "language_info": {
   "codemirror_mode": {
    "name": "ipython",
    "version": 3
   },
   "file_extension": ".py",
   "mimetype": "text/x-python",
   "name": "python",
   "nbconvert_exporter": "python",
   "pygments_lexer": "ipython3",
   "version": "3.11.7"
  }
 },
 "nbformat": 4,
 "nbformat_minor": 5
}
