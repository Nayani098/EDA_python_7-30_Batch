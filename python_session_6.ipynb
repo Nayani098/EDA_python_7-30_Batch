{
 "cells": [
  {
   "cell_type": "markdown",
   "id": "324f03ed-9487-4f5c-ae5b-272e52c285b4",
   "metadata": {},
   "source": [
    "**packages**"
   ]
  },
  {
   "cell_type": "code",
   "execution_count": null,
   "id": "29a05020-a951-4b9e-a23d-ae6213067d80",
   "metadata": {},
   "outputs": [],
   "source": [
    "let assume that our friend coder is there\n",
    "\n",
    "he created "
   ]
  },
  {
   "cell_type": "markdown",
   "id": "4a3b60a3-0964-46c1-8b83-5ef5a6090962",
   "metadata": {},
   "source": [
    "**import**"
   ]
  },
  {
   "cell_type": "code",
   "execution_count": 5,
   "id": "fe060532-f9be-4733-99a1-e75d8a9d7697",
   "metadata": {},
   "outputs": [],
   "source": [
    "#syntax\n",
    "#import <package_name>"
   ]
  },
  {
   "cell_type": "code",
   "execution_count": 7,
   "id": "e475cc27-dbc9-44a6-8377-90e194d32f0a",
   "metadata": {},
   "outputs": [],
   "source": [
    "#package name: random\n",
    "import random"
   ]
  },
  {
   "cell_type": "code",
   "execution_count": 9,
   "id": "66a89107-03c2-48c4-ac2a-1c96e1a1889c",
   "metadata": {},
   "outputs": [],
   "source": [
    "#package name: time\n",
    "import time"
   ]
  },
  {
   "cell_type": "code",
   "execution_count": 11,
   "id": "329f2c66-6fe7-4aff-85e6-85872527f1c7",
   "metadata": {},
   "outputs": [],
   "source": [
    "#package name: math\n",
    "import math"
   ]
  },
  {
   "cell_type": "code",
   "execution_count": 19,
   "id": "0729a9ef-d991-4ec9-9439-5d788cdfce83",
   "metadata": {},
   "outputs": [],
   "source": [
    "#package name: streamlit  #if there is moudle not found error comes #package or moudle both are same\n",
    "import streamlit"
   ]
  },
  {
   "cell_type": "code",
   "execution_count": 17,
   "id": "62ebc801-a4da-4f03-8774-a84f5de9d5a0",
   "metadata": {},
   "outputs": [
    {
     "ename": "ModuleNotFoundError",
     "evalue": "No module named 'cv2'",
     "output_type": "error",
     "traceback": [
      "\u001b[0;31m---------------------------------------------------------------------------\u001b[0m",
      "\u001b[0;31mModuleNotFoundError\u001b[0m                       Traceback (most recent call last)",
      "Cell \u001b[0;32mIn[17], line 1\u001b[0m\n\u001b[0;32m----> 1\u001b[0m \u001b[38;5;28;01mimport\u001b[39;00m \u001b[38;5;21;01mcv2\u001b[39;00m\n",
      "\u001b[0;31mModuleNotFoundError\u001b[0m: No module named 'cv2'"
     ]
    }
   ],
   "source": [
    "import cv2"
   ]
  },
  {
   "cell_type": "markdown",
   "id": "1367a360-137c-43cf-9bf4-bf423a4689d7",
   "metadata": {},
   "source": [
    "cv2 guy not tie with anaconda\n",
    "no module name : cv2\n",
    "\n",
    "streamlit guy not tie with anaconda\n",
    "no module name : streamlit"
   ]
  },
  {
   "cell_type": "code",
   "execution_count": null,
   "id": "2cfd9083-78e1-4527-9067-507635380ac0",
   "metadata": {},
   "outputs": [],
   "source": [
    "math operations\n",
    " addition\n",
    " sub\n",
    " multiplication\n",
    " division"
   ]
  },
  {
   "cell_type": "code",
   "execution_count": 24,
   "id": "1a60acbd-2596-45a2-9ba8-87c284344c92",
   "metadata": {},
   "outputs": [
    {
     "data": {
      "text/plain": [
       "['BPF',\n",
       " 'LOG4',\n",
       " 'NV_MAGICCONST',\n",
       " 'RECIP_BPF',\n",
       " 'Random',\n",
       " 'SG_MAGICCONST',\n",
       " 'SystemRandom',\n",
       " 'TWOPI',\n",
       " '_ONE',\n",
       " '_Sequence',\n",
       " '_Set',\n",
       " '__all__',\n",
       " '__builtins__',\n",
       " '__cached__',\n",
       " '__doc__',\n",
       " '__file__',\n",
       " '__loader__',\n",
       " '__name__',\n",
       " '__package__',\n",
       " '__spec__',\n",
       " '_accumulate',\n",
       " '_acos',\n",
       " '_bisect',\n",
       " '_ceil',\n",
       " '_cos',\n",
       " '_e',\n",
       " '_exp',\n",
       " '_floor',\n",
       " '_index',\n",
       " '_inst',\n",
       " '_isfinite',\n",
       " '_log',\n",
       " '_os',\n",
       " '_pi',\n",
       " '_random',\n",
       " '_repeat',\n",
       " '_sha512',\n",
       " '_sin',\n",
       " '_sqrt',\n",
       " '_test',\n",
       " '_test_generator',\n",
       " '_urandom',\n",
       " '_warn',\n",
       " 'betavariate',\n",
       " 'choice',\n",
       " 'choices',\n",
       " 'expovariate',\n",
       " 'gammavariate',\n",
       " 'gauss',\n",
       " 'getrandbits',\n",
       " 'getstate',\n",
       " 'lognormvariate',\n",
       " 'normalvariate',\n",
       " 'paretovariate',\n",
       " 'randbytes',\n",
       " 'randint',\n",
       " 'random',\n",
       " 'randrange',\n",
       " 'sample',\n",
       " 'seed',\n",
       " 'setstate',\n",
       " 'shuffle',\n",
       " 'triangular',\n",
       " 'uniform',\n",
       " 'vonmisesvariate',\n",
       " 'weibullvariate']"
      ]
     },
     "execution_count": 24,
     "metadata": {},
     "output_type": "execute_result"
    }
   ],
   "source": [
    "import random\n",
    "dir(random)"
   ]
  },
  {
   "cell_type": "code",
   "execution_count": 26,
   "id": "ab4f37d7-bb7f-4e40-9475-73f3a6d97ee0",
   "metadata": {},
   "outputs": [],
   "source": [
    "# syntax\n",
    "#<package_name>.<method_name>\n",
    "# package_name: random\n",
    "# method_name: randint"
   ]
  },
  {
   "cell_type": "code",
   "execution_count": 28,
   "id": "0aeabb93-efe5-461a-aa8c-673543fae050",
   "metadata": {},
   "outputs": [
    {
     "name": "stdout",
     "output_type": "stream",
     "text": [
      "Help on method randint in module random:\n",
      "\n",
      "randint(a, b) method of random.Random instance\n",
      "    Return random integer in range [a, b], including both end points.\n",
      "\n"
     ]
    }
   ],
   "source": [
    "# help(<package_name.method_name>)\n",
    "# help will give the understanding of\n",
    "# how a method will work\n",
    "\n",
    "# here I want to know what randint will do?\n",
    "\n",
    "help(random.randint)"
   ]
  },
  {
   "cell_type": "code",
   "execution_count": 34,
   "id": "45b1b7a1-70ea-434b-aa76-4270efc04d5e",
   "metadata": {},
   "outputs": [
    {
     "data": {
      "text/plain": [
       "3"
      ]
     },
     "execution_count": 34,
     "metadata": {},
     "output_type": "execute_result"
    }
   ],
   "source": [
    "random.randint(1,10)"
   ]
  },
  {
   "cell_type": "code",
   "execution_count": 40,
   "id": "4d72472a-7439-43ea-b759-94eef528d6d5",
   "metadata": {},
   "outputs": [],
   "source": [
    "# step-1: import <package_name>\n",
    "# step-2: dir(<package_name>)\n",
    "# step-3: help(<package_name>.<method_name>)\n",
    "\n",
    "# package name: random\n",
    "import random"
   ]
  },
  {
   "cell_type": "code",
   "execution_count": 42,
   "id": "9ef99ada-1302-4dc8-8e6c-21a0d20325d3",
   "metadata": {},
   "outputs": [
    {
     "data": {
      "text/plain": [
       "['BPF',\n",
       " 'LOG4',\n",
       " 'NV_MAGICCONST',\n",
       " 'RECIP_BPF',\n",
       " 'Random',\n",
       " 'SG_MAGICCONST',\n",
       " 'SystemRandom',\n",
       " 'TWOPI',\n",
       " '_ONE',\n",
       " '_Sequence',\n",
       " '_Set',\n",
       " '__all__',\n",
       " '__builtins__',\n",
       " '__cached__',\n",
       " '__doc__',\n",
       " '__file__',\n",
       " '__loader__',\n",
       " '__name__',\n",
       " '__package__',\n",
       " '__spec__',\n",
       " '_accumulate',\n",
       " '_acos',\n",
       " '_bisect',\n",
       " '_ceil',\n",
       " '_cos',\n",
       " '_e',\n",
       " '_exp',\n",
       " '_floor',\n",
       " '_index',\n",
       " '_inst',\n",
       " '_isfinite',\n",
       " '_log',\n",
       " '_os',\n",
       " '_pi',\n",
       " '_random',\n",
       " '_repeat',\n",
       " '_sha512',\n",
       " '_sin',\n",
       " '_sqrt',\n",
       " '_test',\n",
       " '_test_generator',\n",
       " '_urandom',\n",
       " '_warn',\n",
       " 'betavariate',\n",
       " 'choice',\n",
       " 'choices',\n",
       " 'expovariate',\n",
       " 'gammavariate',\n",
       " 'gauss',\n",
       " 'getrandbits',\n",
       " 'getstate',\n",
       " 'lognormvariate',\n",
       " 'normalvariate',\n",
       " 'paretovariate',\n",
       " 'randbytes',\n",
       " 'randint',\n",
       " 'random',\n",
       " 'randrange',\n",
       " 'sample',\n",
       " 'seed',\n",
       " 'setstate',\n",
       " 'shuffle',\n",
       " 'triangular',\n",
       " 'uniform',\n",
       " 'vonmisesvariate',\n",
       " 'weibullvariate']"
      ]
     },
     "execution_count": 42,
     "metadata": {},
     "output_type": "execute_result"
    }
   ],
   "source": [
    "dir(random)"
   ]
  },
  {
   "cell_type": "code",
   "execution_count": 44,
   "id": "d2f2c98f-d320-4202-923f-a7ebf61eb1d9",
   "metadata": {},
   "outputs": [
    {
     "name": "stdout",
     "output_type": "stream",
     "text": [
      "Help on method randint in module random:\n",
      "\n",
      "randint(a, b) method of random.Random instance\n",
      "    Return random integer in range [a, b], including both end points.\n",
      "\n"
     ]
    }
   ],
   "source": [
    "help(random.randint)"
   ]
  },
  {
   "cell_type": "code",
   "execution_count": 46,
   "id": "24926d63-22dd-4174-bbeb-1f267bbc8cbd",
   "metadata": {},
   "outputs": [
    {
     "data": {
      "text/plain": [
       "1"
      ]
     },
     "execution_count": 46,
     "metadata": {},
     "output_type": "execute_result"
    }
   ],
   "source": [
    "random.randint(1,10)"
   ]
  },
  {
   "cell_type": "code",
   "execution_count": 48,
   "id": "aec80082-4c98-443a-bc3d-b108ab701be7",
   "metadata": {},
   "outputs": [],
   "source": [
    "import random"
   ]
  },
  {
   "cell_type": "code",
   "execution_count": 50,
   "id": "ef734875-31e8-4863-a190-0205ca584485",
   "metadata": {},
   "outputs": [
    {
     "data": {
      "text/plain": [
       "['BPF',\n",
       " 'LOG4',\n",
       " 'NV_MAGICCONST',\n",
       " 'RECIP_BPF',\n",
       " 'Random',\n",
       " 'SG_MAGICCONST',\n",
       " 'SystemRandom',\n",
       " 'TWOPI',\n",
       " '_ONE',\n",
       " '_Sequence',\n",
       " '_Set',\n",
       " '__all__',\n",
       " '__builtins__',\n",
       " '__cached__',\n",
       " '__doc__',\n",
       " '__file__',\n",
       " '__loader__',\n",
       " '__name__',\n",
       " '__package__',\n",
       " '__spec__',\n",
       " '_accumulate',\n",
       " '_acos',\n",
       " '_bisect',\n",
       " '_ceil',\n",
       " '_cos',\n",
       " '_e',\n",
       " '_exp',\n",
       " '_floor',\n",
       " '_index',\n",
       " '_inst',\n",
       " '_isfinite',\n",
       " '_log',\n",
       " '_os',\n",
       " '_pi',\n",
       " '_random',\n",
       " '_repeat',\n",
       " '_sha512',\n",
       " '_sin',\n",
       " '_sqrt',\n",
       " '_test',\n",
       " '_test_generator',\n",
       " '_urandom',\n",
       " '_warn',\n",
       " 'betavariate',\n",
       " 'choice',\n",
       " 'choices',\n",
       " 'expovariate',\n",
       " 'gammavariate',\n",
       " 'gauss',\n",
       " 'getrandbits',\n",
       " 'getstate',\n",
       " 'lognormvariate',\n",
       " 'normalvariate',\n",
       " 'paretovariate',\n",
       " 'randbytes',\n",
       " 'randint',\n",
       " 'random',\n",
       " 'randrange',\n",
       " 'sample',\n",
       " 'seed',\n",
       " 'setstate',\n",
       " 'shuffle',\n",
       " 'triangular',\n",
       " 'uniform',\n",
       " 'vonmisesvariate',\n",
       " 'weibullvariate']"
      ]
     },
     "execution_count": 50,
     "metadata": {},
     "output_type": "execute_result"
    }
   ],
   "source": [
    "dir(random)"
   ]
  },
  {
   "cell_type": "code",
   "execution_count": 52,
   "id": "4db572bb-8552-46f6-a754-7f208604684b",
   "metadata": {},
   "outputs": [
    {
     "name": "stdout",
     "output_type": "stream",
     "text": [
      "Help on built-in function random:\n",
      "\n",
      "random() method of random.Random instance\n",
      "    random() -> x in the interval [0, 1).\n",
      "\n"
     ]
    }
   ],
   "source": [
    "help(random.random)"
   ]
  },
  {
   "cell_type": "code",
   "execution_count": 58,
   "id": "ab15352d-5c2d-4af4-9a7e-7b43d0a2387d",
   "metadata": {},
   "outputs": [
    {
     "data": {
      "text/plain": [
       "0.0332153669142633"
      ]
     },
     "execution_count": 58,
     "metadata": {},
     "output_type": "execute_result"
    }
   ],
   "source": [
    "random.random()"
   ]
  },
  {
   "cell_type": "markdown",
   "id": "785d5908-7613-40db-a217-0bf3044ed284",
   "metadata": {},
   "source": [
    "** math package**"
   ]
  },
  {
   "cell_type": "code",
   "execution_count": 61,
   "id": "adf79648-8c20-4e0c-b1d6-ac416607115c",
   "metadata": {},
   "outputs": [],
   "source": [
    "# package name : math\n",
    "\n",
    "# method pi\n",
    "#     sqrt\n",
    "#       sin"
   ]
  },
  {
   "cell_type": "code",
   "execution_count": 63,
   "id": "a73ed990-6728-47a8-a0f3-7848fbd3c124",
   "metadata": {},
   "outputs": [],
   "source": [
    "import math"
   ]
  },
  {
   "cell_type": "code",
   "execution_count": 65,
   "id": "5f99f7f8-22dc-4e5a-ab10-7e2651fee947",
   "metadata": {},
   "outputs": [
    {
     "data": {
      "text/plain": [
       "['__doc__',\n",
       " '__file__',\n",
       " '__loader__',\n",
       " '__name__',\n",
       " '__package__',\n",
       " '__spec__',\n",
       " 'acos',\n",
       " 'acosh',\n",
       " 'asin',\n",
       " 'asinh',\n",
       " 'atan',\n",
       " 'atan2',\n",
       " 'atanh',\n",
       " 'cbrt',\n",
       " 'ceil',\n",
       " 'comb',\n",
       " 'copysign',\n",
       " 'cos',\n",
       " 'cosh',\n",
       " 'degrees',\n",
       " 'dist',\n",
       " 'e',\n",
       " 'erf',\n",
       " 'erfc',\n",
       " 'exp',\n",
       " 'exp2',\n",
       " 'expm1',\n",
       " 'fabs',\n",
       " 'factorial',\n",
       " 'floor',\n",
       " 'fmod',\n",
       " 'frexp',\n",
       " 'fsum',\n",
       " 'gamma',\n",
       " 'gcd',\n",
       " 'hypot',\n",
       " 'inf',\n",
       " 'isclose',\n",
       " 'isfinite',\n",
       " 'isinf',\n",
       " 'isnan',\n",
       " 'isqrt',\n",
       " 'lcm',\n",
       " 'ldexp',\n",
       " 'lgamma',\n",
       " 'log',\n",
       " 'log10',\n",
       " 'log1p',\n",
       " 'log2',\n",
       " 'modf',\n",
       " 'nan',\n",
       " 'nextafter',\n",
       " 'perm',\n",
       " 'pi',\n",
       " 'pow',\n",
       " 'prod',\n",
       " 'radians',\n",
       " 'remainder',\n",
       " 'sin',\n",
       " 'sinh',\n",
       " 'sqrt',\n",
       " 'tan',\n",
       " 'tanh',\n",
       " 'tau',\n",
       " 'trunc',\n",
       " 'ulp']"
      ]
     },
     "execution_count": 65,
     "metadata": {},
     "output_type": "execute_result"
    }
   ],
   "source": [
    "dir(math)"
   ]
  },
  {
   "cell_type": "code",
   "execution_count": 67,
   "id": "33ed4747-80e3-431c-98a0-00022b60b5d6",
   "metadata": {},
   "outputs": [
    {
     "name": "stdout",
     "output_type": "stream",
     "text": [
      "Help on float object:\n",
      "\n",
      "class float(object)\n",
      " |  float(x=0, /)\n",
      " |  \n",
      " |  Convert a string or number to a floating point number, if possible.\n",
      " |  \n",
      " |  Methods defined here:\n",
      " |  \n",
      " |  __abs__(self, /)\n",
      " |      abs(self)\n",
      " |  \n",
      " |  __add__(self, value, /)\n",
      " |      Return self+value.\n",
      " |  \n",
      " |  __bool__(self, /)\n",
      " |      True if self else False\n",
      " |  \n",
      " |  __ceil__(self, /)\n",
      " |      Return the ceiling as an Integral.\n",
      " |  \n",
      " |  __divmod__(self, value, /)\n",
      " |      Return divmod(self, value).\n",
      " |  \n",
      " |  __eq__(self, value, /)\n",
      " |      Return self==value.\n",
      " |  \n",
      " |  __float__(self, /)\n",
      " |      float(self)\n",
      " |  \n",
      " |  __floor__(self, /)\n",
      " |      Return the floor as an Integral.\n",
      " |  \n",
      " |  __floordiv__(self, value, /)\n",
      " |      Return self//value.\n",
      " |  \n",
      " |  __format__(self, format_spec, /)\n",
      " |      Formats the float according to format_spec.\n",
      " |  \n",
      " |  __ge__(self, value, /)\n",
      " |      Return self>=value.\n",
      " |  \n",
      " |  __getattribute__(self, name, /)\n",
      " |      Return getattr(self, name).\n",
      " |  \n",
      " |  __getnewargs__(self, /)\n",
      " |  \n",
      " |  __gt__(self, value, /)\n",
      " |      Return self>value.\n",
      " |  \n",
      " |  __hash__(self, /)\n",
      " |      Return hash(self).\n",
      " |  \n",
      " |  __int__(self, /)\n",
      " |      int(self)\n",
      " |  \n",
      " |  __le__(self, value, /)\n",
      " |      Return self<=value.\n",
      " |  \n",
      " |  __lt__(self, value, /)\n",
      " |      Return self<value.\n",
      " |  \n",
      " |  __mod__(self, value, /)\n",
      " |      Return self%value.\n",
      " |  \n",
      " |  __mul__(self, value, /)\n",
      " |      Return self*value.\n",
      " |  \n",
      " |  __ne__(self, value, /)\n",
      " |      Return self!=value.\n",
      " |  \n",
      " |  __neg__(self, /)\n",
      " |      -self\n",
      " |  \n",
      " |  __pos__(self, /)\n",
      " |      +self\n",
      " |  \n",
      " |  __pow__(self, value, mod=None, /)\n",
      " |      Return pow(self, value, mod).\n",
      " |  \n",
      " |  __radd__(self, value, /)\n",
      " |      Return value+self.\n",
      " |  \n",
      " |  __rdivmod__(self, value, /)\n",
      " |      Return divmod(value, self).\n",
      " |  \n",
      " |  __repr__(self, /)\n",
      " |      Return repr(self).\n",
      " |  \n",
      " |  __rfloordiv__(self, value, /)\n",
      " |      Return value//self.\n",
      " |  \n",
      " |  __rmod__(self, value, /)\n",
      " |      Return value%self.\n",
      " |  \n",
      " |  __rmul__(self, value, /)\n",
      " |      Return value*self.\n",
      " |  \n",
      " |  __round__(self, ndigits=None, /)\n",
      " |      Return the Integral closest to x, rounding half toward even.\n",
      " |      \n",
      " |      When an argument is passed, work like built-in round(x, ndigits).\n",
      " |  \n",
      " |  __rpow__(self, value, mod=None, /)\n",
      " |      Return pow(value, self, mod).\n",
      " |  \n",
      " |  __rsub__(self, value, /)\n",
      " |      Return value-self.\n",
      " |  \n",
      " |  __rtruediv__(self, value, /)\n",
      " |      Return value/self.\n",
      " |  \n",
      " |  __sub__(self, value, /)\n",
      " |      Return self-value.\n",
      " |  \n",
      " |  __truediv__(self, value, /)\n",
      " |      Return self/value.\n",
      " |  \n",
      " |  __trunc__(self, /)\n",
      " |      Return the Integral closest to x between 0 and x.\n",
      " |  \n",
      " |  as_integer_ratio(self, /)\n",
      " |      Return integer ratio.\n",
      " |      \n",
      " |      Return a pair of integers, whose ratio is exactly equal to the original float\n",
      " |      and with a positive denominator.\n",
      " |      \n",
      " |      Raise OverflowError on infinities and a ValueError on NaNs.\n",
      " |      \n",
      " |      >>> (10.0).as_integer_ratio()\n",
      " |      (10, 1)\n",
      " |      >>> (0.0).as_integer_ratio()\n",
      " |      (0, 1)\n",
      " |      >>> (-.25).as_integer_ratio()\n",
      " |      (-1, 4)\n",
      " |  \n",
      " |  conjugate(self, /)\n",
      " |      Return self, the complex conjugate of any float.\n",
      " |  \n",
      " |  hex(self, /)\n",
      " |      Return a hexadecimal representation of a floating-point number.\n",
      " |      \n",
      " |      >>> (-0.1).hex()\n",
      " |      '-0x1.999999999999ap-4'\n",
      " |      >>> 3.14159.hex()\n",
      " |      '0x1.921f9f01b866ep+1'\n",
      " |  \n",
      " |  is_integer(self, /)\n",
      " |      Return True if the float is an integer.\n",
      " |  \n",
      " |  ----------------------------------------------------------------------\n",
      " |  Class methods defined here:\n",
      " |  \n",
      " |  __getformat__(typestr, /) from builtins.type\n",
      " |      You probably don't want to use this function.\n",
      " |      \n",
      " |        typestr\n",
      " |          Must be 'double' or 'float'.\n",
      " |      \n",
      " |      It exists mainly to be used in Python's test suite.\n",
      " |      \n",
      " |      This function returns whichever of 'unknown', 'IEEE, big-endian' or 'IEEE,\n",
      " |      little-endian' best describes the format of floating point numbers used by the\n",
      " |      C type named by typestr.\n",
      " |  \n",
      " |  fromhex(string, /) from builtins.type\n",
      " |      Create a floating-point number from a hexadecimal string.\n",
      " |      \n",
      " |      >>> float.fromhex('0x1.ffffp10')\n",
      " |      2047.984375\n",
      " |      >>> float.fromhex('-0x1p-1074')\n",
      " |      -5e-324\n",
      " |  \n",
      " |  ----------------------------------------------------------------------\n",
      " |  Static methods defined here:\n",
      " |  \n",
      " |  __new__(*args, **kwargs) from builtins.type\n",
      " |      Create and return a new object.  See help(type) for accurate signature.\n",
      " |  \n",
      " |  ----------------------------------------------------------------------\n",
      " |  Data descriptors defined here:\n",
      " |  \n",
      " |  imag\n",
      " |      the imaginary part of a complex number\n",
      " |  \n",
      " |  real\n",
      " |      the real part of a complex number\n",
      "\n"
     ]
    }
   ],
   "source": [
    "help(math.pi)"
   ]
  },
  {
   "cell_type": "code",
   "execution_count": 69,
   "id": "abedf512-5e7f-4db2-8fc1-836147730681",
   "metadata": {},
   "outputs": [
    {
     "name": "stdout",
     "output_type": "stream",
     "text": [
      "Help on built-in function sqrt in module math:\n",
      "\n",
      "sqrt(x, /)\n",
      "    Return the square root of x.\n",
      "\n"
     ]
    }
   ],
   "source": [
    "help(math.sqrt)"
   ]
  },
  {
   "cell_type": "code",
   "execution_count": 87,
   "id": "11b04b0a-f18e-4d73-b98f-08f84c4e6696",
   "metadata": {},
   "outputs": [
    {
     "data": {
      "text/plain": [
       "2.0"
      ]
     },
     "execution_count": 87,
     "metadata": {},
     "output_type": "execute_result"
    }
   ],
   "source": [
    "math.sqrt(4)"
   ]
  },
  {
   "cell_type": "code",
   "execution_count": 81,
   "id": "3cb9f153-2390-4f7a-a70d-b8e14be033bf",
   "metadata": {},
   "outputs": [
    {
     "name": "stdout",
     "output_type": "stream",
     "text": [
      "Help on built-in function sin in module math:\n",
      "\n",
      "sin(x, /)\n",
      "    Return the sine of x (measured in radians).\n",
      "\n"
     ]
    }
   ],
   "source": [
    "help(math.sin) "
   ]
  },
  {
   "cell_type": "code",
   "execution_count": 89,
   "id": "15d216c0-fb1c-4cdd-8db7-d40ec8b2a602",
   "metadata": {},
   "outputs": [
    {
     "data": {
      "text/plain": [
       "0.0"
      ]
     },
     "execution_count": 89,
     "metadata": {},
     "output_type": "execute_result"
    }
   ],
   "source": [
    "math.sin(0)"
   ]
  },
  {
   "cell_type": "code",
   "execution_count": 91,
   "id": "848cfae4-a81f-41f3-b49a-1e7d1ce46028",
   "metadata": {},
   "outputs": [
    {
     "data": {
      "text/plain": [
       "-0.9880316240928618"
      ]
     },
     "execution_count": 91,
     "metadata": {},
     "output_type": "execute_result"
    }
   ],
   "source": [
    "math.sin(30)"
   ]
  },
  {
   "cell_type": "code",
   "execution_count": 93,
   "id": "60202d2d-bb2c-451a-9c1c-1535b6b993e1",
   "metadata": {},
   "outputs": [
    {
     "data": {
      "text/plain": [
       "0.8939966636005579"
      ]
     },
     "execution_count": 93,
     "metadata": {},
     "output_type": "execute_result"
    }
   ],
   "source": [
    "math.sin(90)"
   ]
  },
  {
   "cell_type": "code",
   "execution_count": 95,
   "id": "18b71635-2921-4528-9f0e-8ad62cf6add1",
   "metadata": {},
   "outputs": [
    {
     "data": {
      "text/plain": [
       "3.141592653589793"
      ]
     },
     "execution_count": 95,
     "metadata": {},
     "output_type": "execute_result"
    }
   ],
   "source": [
    "math.pi # direct value never include brackets"
   ]
  },
  {
   "cell_type": "code",
   "execution_count": 97,
   "id": "4e3b8a0a-f2b7-447d-ac43-13af6de41999",
   "metadata": {},
   "outputs": [
    {
     "name": "stdout",
     "output_type": "stream",
     "text": [
      "Help on built-in function pow in module math:\n",
      "\n",
      "pow(x, y, /)\n",
      "    Return x**y (x to the power of y).\n",
      "\n"
     ]
    }
   ],
   "source": [
    "help(math.pow)"
   ]
  },
  {
   "cell_type": "code",
   "execution_count": 99,
   "id": "724da1de-5024-41c5-bdb0-bd492af57c47",
   "metadata": {},
   "outputs": [
    {
     "data": {
      "text/plain": [
       "8.0"
      ]
     },
     "execution_count": 99,
     "metadata": {},
     "output_type": "execute_result"
    }
   ],
   "source": [
    "math.pow(2,3)"
   ]
  },
  {
   "cell_type": "code",
   "execution_count": null,
   "id": "7100a580-f06e-4c3d-b5c8-d02ae4d09276",
   "metadata": {},
   "outputs": [],
   "source": [
    "math.sqrt(4)\n",
    "math.pow(2,3)\n",
    "math.sin(90)"
   ]
  },
  {
   "cell_type": "code",
   "execution_count": null,
   "id": "7324e1f2-4a4e-4220-b540-a2977dcddb88",
   "metadata": {},
   "outputs": [],
   "source": [
    "math.sqrt()\n",
    "# cursor inside the bracket\n",
    "# the apply shift+tab\n",
    "\n",
    "# / is mentioned means\n",
    "# do not provide any x=25 value\n",
    "# directly give 25"
   ]
  },
  {
   "cell_type": "code",
   "execution_count": 105,
   "id": "9d05fab8-42e7-49f5-bbae-fa08d4f23a12",
   "metadata": {},
   "outputs": [
    {
     "data": {
      "text/plain": [
       "5.0"
      ]
     },
     "execution_count": 105,
     "metadata": {},
     "output_type": "execute_result"
    }
   ],
   "source": [
    "math.sqrt(25)"
   ]
  },
  {
   "cell_type": "markdown",
   "id": "284863d4-aef6-4252-b691-30dd8331e7b1",
   "metadata": {},
   "source": [
    "- function means we are forgetting the brackets\n",
    "\n",
    "- we need to keep brackets\n",
    "\n",
    "- bound method also means forgetting the brackets only\n",
    "\n",
    "- when ever see not callable means remove the brackets\n",
    "\n",
    "- when ever see slash(/) don't provide any variable and give the direct value"
   ]
  },
  {
   "cell_type": "code",
   "execution_count": 119,
   "id": "4db8bbe0-942f-42dc-924c-5f246747ba93",
   "metadata": {},
   "outputs": [
    {
     "data": {
      "text/plain": [
       "19"
      ]
     },
     "execution_count": 119,
     "metadata": {},
     "output_type": "execute_result"
    }
   ],
   "source": [
    "random.randint(10,20)"
   ]
  },
  {
   "cell_type": "code",
   "execution_count": 127,
   "id": "28a7ebfe-f61a-491f-83b8-398e01cfb7b4",
   "metadata": {},
   "outputs": [
    {
     "data": {
      "text/plain": [
       "0.24430334542558718"
      ]
     },
     "execution_count": 127,
     "metadata": {},
     "output_type": "execute_result"
    }
   ],
   "source": [
    "random.random()"
   ]
  },
  {
   "cell_type": "code",
   "execution_count": 123,
   "id": "a6cb5e90-6308-4847-95ad-d6805bc6d2bd",
   "metadata": {},
   "outputs": [
    {
     "data": {
      "text/plain": [
       "['BPF',\n",
       " 'LOG4',\n",
       " 'NV_MAGICCONST',\n",
       " 'RECIP_BPF',\n",
       " 'Random',\n",
       " 'SG_MAGICCONST',\n",
       " 'SystemRandom',\n",
       " 'TWOPI',\n",
       " '_ONE',\n",
       " '_Sequence',\n",
       " '_Set',\n",
       " '__all__',\n",
       " '__builtins__',\n",
       " '__cached__',\n",
       " '__doc__',\n",
       " '__file__',\n",
       " '__loader__',\n",
       " '__name__',\n",
       " '__package__',\n",
       " '__spec__',\n",
       " '_accumulate',\n",
       " '_acos',\n",
       " '_bisect',\n",
       " '_ceil',\n",
       " '_cos',\n",
       " '_e',\n",
       " '_exp',\n",
       " '_floor',\n",
       " '_index',\n",
       " '_inst',\n",
       " '_isfinite',\n",
       " '_log',\n",
       " '_os',\n",
       " '_pi',\n",
       " '_random',\n",
       " '_repeat',\n",
       " '_sha512',\n",
       " '_sin',\n",
       " '_sqrt',\n",
       " '_test',\n",
       " '_test_generator',\n",
       " '_urandom',\n",
       " '_warn',\n",
       " 'betavariate',\n",
       " 'choice',\n",
       " 'choices',\n",
       " 'expovariate',\n",
       " 'gammavariate',\n",
       " 'gauss',\n",
       " 'getrandbits',\n",
       " 'getstate',\n",
       " 'lognormvariate',\n",
       " 'normalvariate',\n",
       " 'paretovariate',\n",
       " 'randbytes',\n",
       " 'randint',\n",
       " 'random',\n",
       " 'randrange',\n",
       " 'sample',\n",
       " 'seed',\n",
       " 'setstate',\n",
       " 'shuffle',\n",
       " 'triangular',\n",
       " 'uniform',\n",
       " 'vonmisesvariate',\n",
       " 'weibullvariate']"
      ]
     },
     "execution_count": 123,
     "metadata": {},
     "output_type": "execute_result"
    }
   ],
   "source": [
    "dir(random)"
   ]
  },
  {
   "cell_type": "code",
   "execution_count": 130,
   "id": "ca8945ca-20e7-473f-8ea4-43d1b260bf52",
   "metadata": {},
   "outputs": [],
   "source": [
    "# package name: keyword\n",
    "# method name: kwlist\n"
   ]
  },
  {
   "cell_type": "code",
   "execution_count": 132,
   "id": "a70b8868-2fe1-4835-a74e-aebc29c0698c",
   "metadata": {},
   "outputs": [],
   "source": [
    "import keyword"
   ]
  },
  {
   "cell_type": "code",
   "execution_count": 134,
   "id": "0cd56597-c654-48d2-bcdf-798e9813c412",
   "metadata": {},
   "outputs": [
    {
     "data": {
      "text/plain": [
       "['__all__',\n",
       " '__builtins__',\n",
       " '__cached__',\n",
       " '__doc__',\n",
       " '__file__',\n",
       " '__loader__',\n",
       " '__name__',\n",
       " '__package__',\n",
       " '__spec__',\n",
       " 'iskeyword',\n",
       " 'issoftkeyword',\n",
       " 'kwlist',\n",
       " 'softkwlist']"
      ]
     },
     "execution_count": 134,
     "metadata": {},
     "output_type": "execute_result"
    }
   ],
   "source": [
    "dir(keyword)"
   ]
  },
  {
   "cell_type": "code",
   "execution_count": 136,
   "id": "4c448c5e-d135-4171-91ac-6f08d85dfe3b",
   "metadata": {},
   "outputs": [
    {
     "name": "stdout",
     "output_type": "stream",
     "text": [
      "Help on list object:\n",
      "\n",
      "class list(object)\n",
      " |  list(iterable=(), /)\n",
      " |  \n",
      " |  Built-in mutable sequence.\n",
      " |  \n",
      " |  If no argument is given, the constructor creates a new empty list.\n",
      " |  The argument must be an iterable if specified.\n",
      " |  \n",
      " |  Built-in subclasses:\n",
      " |      MyList\n",
      " |  \n",
      " |  Methods defined here:\n",
      " |  \n",
      " |  __add__(self, value, /)\n",
      " |      Return self+value.\n",
      " |  \n",
      " |  __contains__(self, key, /)\n",
      " |      Return key in self.\n",
      " |  \n",
      " |  __delitem__(self, key, /)\n",
      " |      Delete self[key].\n",
      " |  \n",
      " |  __eq__(self, value, /)\n",
      " |      Return self==value.\n",
      " |  \n",
      " |  __ge__(self, value, /)\n",
      " |      Return self>=value.\n",
      " |  \n",
      " |  __getattribute__(self, name, /)\n",
      " |      Return getattr(self, name).\n",
      " |  \n",
      " |  __getitem__(...)\n",
      " |      x.__getitem__(y) <==> x[y]\n",
      " |  \n",
      " |  __gt__(self, value, /)\n",
      " |      Return self>value.\n",
      " |  \n",
      " |  __iadd__(self, value, /)\n",
      " |      Implement self+=value.\n",
      " |  \n",
      " |  __imul__(self, value, /)\n",
      " |      Implement self*=value.\n",
      " |  \n",
      " |  __init__(self, /, *args, **kwargs)\n",
      " |      Initialize self.  See help(type(self)) for accurate signature.\n",
      " |  \n",
      " |  __iter__(self, /)\n",
      " |      Implement iter(self).\n",
      " |  \n",
      " |  __le__(self, value, /)\n",
      " |      Return self<=value.\n",
      " |  \n",
      " |  __len__(self, /)\n",
      " |      Return len(self).\n",
      " |  \n",
      " |  __lt__(self, value, /)\n",
      " |      Return self<value.\n",
      " |  \n",
      " |  __mul__(self, value, /)\n",
      " |      Return self*value.\n",
      " |  \n",
      " |  __ne__(self, value, /)\n",
      " |      Return self!=value.\n",
      " |  \n",
      " |  __repr__(self, /)\n",
      " |      Return repr(self).\n",
      " |  \n",
      " |  __reversed__(self, /)\n",
      " |      Return a reverse iterator over the list.\n",
      " |  \n",
      " |  __rmul__(self, value, /)\n",
      " |      Return value*self.\n",
      " |  \n",
      " |  __setitem__(self, key, value, /)\n",
      " |      Set self[key] to value.\n",
      " |  \n",
      " |  __sizeof__(self, /)\n",
      " |      Return the size of the list in memory, in bytes.\n",
      " |  \n",
      " |  append(self, object, /)\n",
      " |      Append object to the end of the list.\n",
      " |  \n",
      " |  clear(self, /)\n",
      " |      Remove all items from list.\n",
      " |  \n",
      " |  copy(self, /)\n",
      " |      Return a shallow copy of the list.\n",
      " |  \n",
      " |  count(self, value, /)\n",
      " |      Return number of occurrences of value.\n",
      " |  \n",
      " |  extend(self, iterable, /)\n",
      " |      Extend list by appending elements from the iterable.\n",
      " |  \n",
      " |  index(self, value, start=0, stop=9223372036854775807, /)\n",
      " |      Return first index of value.\n",
      " |      \n",
      " |      Raises ValueError if the value is not present.\n",
      " |  \n",
      " |  insert(self, index, object, /)\n",
      " |      Insert object before index.\n",
      " |  \n",
      " |  pop(self, index=-1, /)\n",
      " |      Remove and return item at index (default last).\n",
      " |      \n",
      " |      Raises IndexError if list is empty or index is out of range.\n",
      " |  \n",
      " |  remove(self, value, /)\n",
      " |      Remove first occurrence of value.\n",
      " |      \n",
      " |      Raises ValueError if the value is not present.\n",
      " |  \n",
      " |  reverse(self, /)\n",
      " |      Reverse *IN PLACE*.\n",
      " |  \n",
      " |  sort(self, /, *, key=None, reverse=False)\n",
      " |      Sort the list in ascending order and return None.\n",
      " |      \n",
      " |      The sort is in-place (i.e. the list itself is modified) and stable (i.e. the\n",
      " |      order of two equal elements is maintained).\n",
      " |      \n",
      " |      If a key function is given, apply it once to each list item and sort them,\n",
      " |      ascending or descending, according to their function values.\n",
      " |      \n",
      " |      The reverse flag can be set to sort in descending order.\n",
      " |  \n",
      " |  ----------------------------------------------------------------------\n",
      " |  Class methods defined here:\n",
      " |  \n",
      " |  __class_getitem__(...) from builtins.type\n",
      " |      See PEP 585\n",
      " |  \n",
      " |  ----------------------------------------------------------------------\n",
      " |  Static methods defined here:\n",
      " |  \n",
      " |  __new__(*args, **kwargs) from builtins.type\n",
      " |      Create and return a new object.  See help(type) for accurate signature.\n",
      " |  \n",
      " |  ----------------------------------------------------------------------\n",
      " |  Data and other attributes defined here:\n",
      " |  \n",
      " |  __hash__ = None\n",
      "\n"
     ]
    }
   ],
   "source": [
    "help(keyword.kwlist)"
   ]
  },
  {
   "cell_type": "code",
   "execution_count": 144,
   "id": "175fb4b3-e3e0-4008-8e65-e1a29fed7bf9",
   "metadata": {},
   "outputs": [
    {
     "data": {
      "text/plain": [
       "35"
      ]
     },
     "execution_count": 144,
     "metadata": {},
     "output_type": "execute_result"
    }
   ],
   "source": [
    "len(keyword.kwlist) # len() means tell about how many variables in inside"
   ]
  },
  {
   "cell_type": "code",
   "execution_count": 7,
   "id": "955ed2d1-61c8-4e8e-9d28-f2e12ee3703b",
   "metadata": {},
   "outputs": [],
   "source": [
    "import time"
   ]
  },
  {
   "cell_type": "code",
   "execution_count": 9,
   "id": "f644121f-9f78-4560-bdd6-f39383603695",
   "metadata": {},
   "outputs": [
    {
     "data": {
      "text/plain": [
       "['CLOCK_MONOTONIC',\n",
       " 'CLOCK_MONOTONIC_RAW',\n",
       " 'CLOCK_PROCESS_CPUTIME_ID',\n",
       " 'CLOCK_REALTIME',\n",
       " 'CLOCK_THREAD_CPUTIME_ID',\n",
       " 'CLOCK_UPTIME_RAW',\n",
       " '_STRUCT_TM_ITEMS',\n",
       " '__doc__',\n",
       " '__loader__',\n",
       " '__name__',\n",
       " '__package__',\n",
       " '__spec__',\n",
       " 'altzone',\n",
       " 'asctime',\n",
       " 'clock_getres',\n",
       " 'clock_gettime',\n",
       " 'clock_gettime_ns',\n",
       " 'clock_settime',\n",
       " 'clock_settime_ns',\n",
       " 'ctime',\n",
       " 'daylight',\n",
       " 'get_clock_info',\n",
       " 'gmtime',\n",
       " 'localtime',\n",
       " 'mktime',\n",
       " 'monotonic',\n",
       " 'monotonic_ns',\n",
       " 'perf_counter',\n",
       " 'perf_counter_ns',\n",
       " 'process_time',\n",
       " 'process_time_ns',\n",
       " 'sleep',\n",
       " 'strftime',\n",
       " 'strptime',\n",
       " 'struct_time',\n",
       " 'thread_time',\n",
       " 'thread_time_ns',\n",
       " 'time',\n",
       " 'time_ns',\n",
       " 'timezone',\n",
       " 'tzname',\n",
       " 'tzset']"
      ]
     },
     "execution_count": 9,
     "metadata": {},
     "output_type": "execute_result"
    }
   ],
   "source": [
    "dir(time)"
   ]
  },
  {
   "cell_type": "code",
   "execution_count": 11,
   "id": "94fdf108-ed6f-4d60-85ee-7d7f298f14bc",
   "metadata": {},
   "outputs": [
    {
     "data": {
      "text/plain": [
       "42"
      ]
     },
     "execution_count": 11,
     "metadata": {},
     "output_type": "execute_result"
    }
   ],
   "source": [
    "len(dir(time))"
   ]
  },
  {
   "cell_type": "code",
   "execution_count": 13,
   "id": "d332237e-be15-42b3-91bf-f521206023ab",
   "metadata": {},
   "outputs": [
    {
     "name": "stdout",
     "output_type": "stream",
     "text": [
      "Help on built-in function sleep in module time:\n",
      "\n",
      "sleep(...)\n",
      "    sleep(seconds)\n",
      "    \n",
      "    Delay execution for a given number of seconds.  The argument may be\n",
      "    a floating point number for subsecond precision.\n",
      "\n"
     ]
    }
   ],
   "source": [
    "help(time.sleep)"
   ]
  },
  {
   "cell_type": "code",
   "execution_count": 19,
   "id": "6394f28c-6647-4dc1-b455-f0bbc2450664",
   "metadata": {},
   "outputs": [],
   "source": [
    "time.sleep(1)"
   ]
  },
  {
   "cell_type": "code",
   "execution_count": 21,
   "id": "ddb52019-cf00-42b9-89b7-df715be4c65a",
   "metadata": {},
   "outputs": [],
   "source": [
    "import streamlit"
   ]
  },
  {
   "cell_type": "code",
   "execution_count": 23,
   "id": "edee6507-b7ce-45d2-8698-17704762fd8f",
   "metadata": {},
   "outputs": [
    {
     "data": {
      "text/plain": [
       "['_DeltaGenerator',\n",
       " '_EXPERIMENTAL_QUERY_PARAMS_DEPRECATE_MSG',\n",
       " '_QueryParamsProxy',\n",
       " '_RootContainer',\n",
       " '_STREAMLIT_VERSION_STRING',\n",
       " '_SessionStateProxy',\n",
       " '_UserInfoProxy',\n",
       " '__builtins__',\n",
       " '__cached__',\n",
       " '__doc__',\n",
       " '__file__',\n",
       " '__loader__',\n",
       " '__name__',\n",
       " '__package__',\n",
       " '__path__',\n",
       " '__spec__',\n",
       " '__version__',\n",
       " '_cache',\n",
       " '_cache_data',\n",
       " '_cache_resource',\n",
       " '_column_config',\n",
       " '_config',\n",
       " '_connection',\n",
       " '_deprecate_func_name',\n",
       " '_experimental_memo',\n",
       " '_experimental_rerun',\n",
       " '_experimental_singleton',\n",
       " '_gather_metrics',\n",
       " '_get_query_params',\n",
       " '_logger',\n",
       " '_main',\n",
       " '_secrets_singleton',\n",
       " '_set_query_params',\n",
       " '_update_logger',\n",
       " 'altair_chart',\n",
       " 'area_chart',\n",
       " 'audio',\n",
       " 'balloons',\n",
       " 'bar_chart',\n",
       " 'bokeh_chart',\n",
       " 'button',\n",
       " 'cache',\n",
       " 'cache_data',\n",
       " 'cache_resource',\n",
       " 'camera_input',\n",
       " 'caption',\n",
       " 'case_converters',\n",
       " 'chat_input',\n",
       " 'chat_message',\n",
       " 'checkbox',\n",
       " 'code',\n",
       " 'color_picker',\n",
       " 'color_util',\n",
       " 'column_config',\n",
       " 'columns',\n",
       " 'commands',\n",
       " 'config',\n",
       " 'config_option',\n",
       " 'config_util',\n",
       " 'connection',\n",
       " 'connections',\n",
       " 'constants',\n",
       " 'container',\n",
       " 'cursor',\n",
       " 'data_editor',\n",
       " 'dataframe',\n",
       " 'date_input',\n",
       " 'delta_generator',\n",
       " 'deprecation_util',\n",
       " 'development',\n",
       " 'divider',\n",
       " 'download_button',\n",
       " 'echo',\n",
       " 'elements',\n",
       " 'emojis',\n",
       " 'empty',\n",
       " 'env_util',\n",
       " 'error',\n",
       " 'error_util',\n",
       " 'errors',\n",
       " 'event',\n",
       " 'exception',\n",
       " 'expander',\n",
       " 'experimental_connection',\n",
       " 'experimental_data_editor',\n",
       " 'experimental_get_query_params',\n",
       " 'experimental_memo',\n",
       " 'experimental_rerun',\n",
       " 'experimental_set_query_params',\n",
       " 'experimental_singleton',\n",
       " 'experimental_user',\n",
       " 'file_uploader',\n",
       " 'file_util',\n",
       " 'folder_black_list',\n",
       " 'form',\n",
       " 'form_submit_button',\n",
       " 'get_option',\n",
       " 'graphviz_chart',\n",
       " 'header',\n",
       " 'help',\n",
       " 'image',\n",
       " 'info',\n",
       " 'js_number',\n",
       " 'json',\n",
       " 'latex',\n",
       " 'line_chart',\n",
       " 'link_button',\n",
       " 'logger',\n",
       " 'map',\n",
       " 'markdown',\n",
       " 'metric',\n",
       " 'multiselect',\n",
       " 'number_input',\n",
       " 'plotly_chart',\n",
       " 'progress',\n",
       " 'proto',\n",
       " 'pydeck_chart',\n",
       " 'pyplot',\n",
       " 'query_params',\n",
       " 'radio',\n",
       " 'rerun',\n",
       " 'runtime',\n",
       " 'scatter_chart',\n",
       " 'secrets',\n",
       " 'select_slider',\n",
       " 'selectbox',\n",
       " 'session_state',\n",
       " 'set_option',\n",
       " 'set_page_config',\n",
       " 'sidebar',\n",
       " 'slider',\n",
       " 'snow',\n",
       " 'source_util',\n",
       " 'spinner',\n",
       " 'status',\n",
       " 'stop',\n",
       " 'string_util',\n",
       " 'subheader',\n",
       " 'success',\n",
       " 'switch_page',\n",
       " 'table',\n",
       " 'tabs',\n",
       " 'text',\n",
       " 'text_area',\n",
       " 'text_input',\n",
       " 'time_input',\n",
       " 'title',\n",
       " 'toast',\n",
       " 'toggle',\n",
       " 'type_util',\n",
       " 'user_info',\n",
       " 'util',\n",
       " 'vega_lite_chart',\n",
       " 'vendor',\n",
       " 'version',\n",
       " 'video',\n",
       " 'warning',\n",
       " 'watcher',\n",
       " 'write']"
      ]
     },
     "execution_count": 23,
     "metadata": {},
     "output_type": "execute_result"
    }
   ],
   "source": [
    "dir(streamlit)"
   ]
  },
  {
   "cell_type": "code",
   "execution_count": 25,
   "id": "ed3c503f-04f9-4dd9-8308-0ca91b243037",
   "metadata": {},
   "outputs": [
    {
     "data": {
      "text/plain": [
       "159"
      ]
     },
     "execution_count": 25,
     "metadata": {},
     "output_type": "execute_result"
    }
   ],
   "source": [
    "len(dir(streamlit))"
   ]
  },
  {
   "cell_type": "code",
   "execution_count": null,
   "id": "f9d1b218-287f-4eb9-8e5f-1168d6a80a35",
   "metadata": {},
   "outputs": [],
   "source": [
    "#step-1\n",
    "import <package_name>\n",
    "#step-2\n",
    "dir(<package_name>)\n",
    "#step-3\n",
    "help(<package_name>.<method_name>)\n",
    "#step-4\n",
    "<package_name>.<method_name>"
   ]
  },
  {
   "cell_type": "code",
   "execution_count": 27,
   "id": "6d26fb64-adda-4eec-9bca-9c3475493d15",
   "metadata": {},
   "outputs": [],
   "source": [
    "import math"
   ]
  },
  {
   "cell_type": "code",
   "execution_count": 37,
   "id": "8d3bcf02-9f3a-4ce4-bf82-3689c4008e6c",
   "metadata": {},
   "outputs": [
    {
     "data": {
      "text/plain": [
       "3.141592653589793"
      ]
     },
     "execution_count": 37,
     "metadata": {},
     "output_type": "execute_result"
    }
   ],
   "source": [
    "math.pi"
   ]
  },
  {
   "cell_type": "markdown",
   "id": "3c0c8b84-f6c7-4ba5-9e33-fbf70df50f56",
   "metadata": {},
   "source": [
    "() : function or method\n",
    "\n",
    "only function or methods callable\n",
    "\n",
    "if something says not callable means it is not function\n",
    "\n",
    "it is not a function means, you need to remove bracket\n",
    "\n",
    "bound method means === add the brackets\n",
    "\n",
    "funtion means ==== add the brackets\n",
    "\n",
    "not callable means ==== remove the brackets"
   ]
  },
  {
   "cell_type": "markdown",
   "id": "22fefb27-ff2d-4166-babe-248bf733ca56",
   "metadata": {},
   "source": [
    "- random\n",
    "\n",
    "- math\n",
    "\n",
    "- keyword"
   ]
  },
  {
   "cell_type": "markdown",
   "id": "29436edc-4de1-40c0-b480-88a457ade4ac",
   "metadata": {},
   "source": [
    "**time package**"
   ]
  },
  {
   "cell_type": "code",
   "execution_count": 47,
   "id": "5dea172e-1bca-4475-9c7c-de2cf5732ee3",
   "metadata": {},
   "outputs": [
    {
     "name": "stdout",
     "output_type": "stream",
     "text": [
      "father:hello\n",
      "d: fine dad\n",
      "father: do you have school today\n"
     ]
    }
   ],
   "source": [
    "import time\n",
    "\n",
    "print('father:hello')\n",
    "time.sleep(2)\n",
    "print('d: fine dad')\n",
    "time.sleep(2)\n",
    "print('father: do you have school today')"
   ]
  },
  {
   "cell_type": "markdown",
   "id": "b0c1db7b-1300-4602-96da-76c8151a8e1c",
   "metadata": {},
   "source": [
    "computer vision is used to image operation\n",
    "video operation\n",
    "\n",
    "we called it as open cv\n",
    "\n",
    "package_name: cv2"
   ]
  },
  {
   "cell_type": "code",
   "execution_count": 54,
   "id": "0eb7a191-639b-4814-a8fa-b71df945f8ff",
   "metadata": {},
   "outputs": [],
   "source": [
    "import cv2"
   ]
  },
  {
   "cell_type": "markdown",
   "id": "d1509376-9a66-449b-a23f-75142a1a3754",
   "metadata": {},
   "source": [
    "- whenever module not found we need to install it\n",
    "\n",
    "- here our package name is cv2\n",
    "\n",
    "- 99% the installation will be like this\n",
    "\n",
    "- pip install < package_name>\n",
    "\n",
    "- some packages installation name will different and python import name is different\n",
    "\n",
    "- in order to install the packages we need to connect the internet\n",
    "\n",
    "- if internet problem is occur while installing we will get http error\n"
   ]
  },
  {
   "cell_type": "code",
   "execution_count": 57,
   "id": "2f033ba1-0f03-43d7-9a7a-f45016f88b22",
   "metadata": {},
   "outputs": [],
   "source": [
    "import streamlit"
   ]
  },
  {
   "cell_type": "code",
   "execution_count": 59,
   "id": "f1d95531-d17c-4d3a-b452-f19d10bca858",
   "metadata": {},
   "outputs": [
    {
     "data": {
      "text/plain": [
       "['_DeltaGenerator',\n",
       " '_EXPERIMENTAL_QUERY_PARAMS_DEPRECATE_MSG',\n",
       " '_QueryParamsProxy',\n",
       " '_RootContainer',\n",
       " '_STREAMLIT_VERSION_STRING',\n",
       " '_SessionStateProxy',\n",
       " '_UserInfoProxy',\n",
       " '__builtins__',\n",
       " '__cached__',\n",
       " '__doc__',\n",
       " '__file__',\n",
       " '__loader__',\n",
       " '__name__',\n",
       " '__package__',\n",
       " '__path__',\n",
       " '__spec__',\n",
       " '__version__',\n",
       " '_cache',\n",
       " '_cache_data',\n",
       " '_cache_resource',\n",
       " '_column_config',\n",
       " '_config',\n",
       " '_connection',\n",
       " '_deprecate_func_name',\n",
       " '_experimental_memo',\n",
       " '_experimental_rerun',\n",
       " '_experimental_singleton',\n",
       " '_gather_metrics',\n",
       " '_get_query_params',\n",
       " '_logger',\n",
       " '_main',\n",
       " '_secrets_singleton',\n",
       " '_set_query_params',\n",
       " '_update_logger',\n",
       " 'altair_chart',\n",
       " 'area_chart',\n",
       " 'audio',\n",
       " 'balloons',\n",
       " 'bar_chart',\n",
       " 'bokeh_chart',\n",
       " 'button',\n",
       " 'cache',\n",
       " 'cache_data',\n",
       " 'cache_resource',\n",
       " 'camera_input',\n",
       " 'caption',\n",
       " 'case_converters',\n",
       " 'chat_input',\n",
       " 'chat_message',\n",
       " 'checkbox',\n",
       " 'code',\n",
       " 'color_picker',\n",
       " 'color_util',\n",
       " 'column_config',\n",
       " 'columns',\n",
       " 'commands',\n",
       " 'config',\n",
       " 'config_option',\n",
       " 'config_util',\n",
       " 'connection',\n",
       " 'connections',\n",
       " 'constants',\n",
       " 'container',\n",
       " 'cursor',\n",
       " 'data_editor',\n",
       " 'dataframe',\n",
       " 'date_input',\n",
       " 'delta_generator',\n",
       " 'deprecation_util',\n",
       " 'development',\n",
       " 'divider',\n",
       " 'download_button',\n",
       " 'echo',\n",
       " 'elements',\n",
       " 'emojis',\n",
       " 'empty',\n",
       " 'env_util',\n",
       " 'error',\n",
       " 'error_util',\n",
       " 'errors',\n",
       " 'event',\n",
       " 'exception',\n",
       " 'expander',\n",
       " 'experimental_connection',\n",
       " 'experimental_data_editor',\n",
       " 'experimental_get_query_params',\n",
       " 'experimental_memo',\n",
       " 'experimental_rerun',\n",
       " 'experimental_set_query_params',\n",
       " 'experimental_singleton',\n",
       " 'experimental_user',\n",
       " 'file_uploader',\n",
       " 'file_util',\n",
       " 'folder_black_list',\n",
       " 'form',\n",
       " 'form_submit_button',\n",
       " 'get_option',\n",
       " 'graphviz_chart',\n",
       " 'header',\n",
       " 'help',\n",
       " 'image',\n",
       " 'info',\n",
       " 'js_number',\n",
       " 'json',\n",
       " 'latex',\n",
       " 'line_chart',\n",
       " 'link_button',\n",
       " 'logger',\n",
       " 'map',\n",
       " 'markdown',\n",
       " 'metric',\n",
       " 'multiselect',\n",
       " 'number_input',\n",
       " 'plotly_chart',\n",
       " 'progress',\n",
       " 'proto',\n",
       " 'pydeck_chart',\n",
       " 'pyplot',\n",
       " 'query_params',\n",
       " 'radio',\n",
       " 'rerun',\n",
       " 'runtime',\n",
       " 'scatter_chart',\n",
       " 'secrets',\n",
       " 'select_slider',\n",
       " 'selectbox',\n",
       " 'session_state',\n",
       " 'set_option',\n",
       " 'set_page_config',\n",
       " 'sidebar',\n",
       " 'slider',\n",
       " 'snow',\n",
       " 'source_util',\n",
       " 'spinner',\n",
       " 'status',\n",
       " 'stop',\n",
       " 'string_util',\n",
       " 'subheader',\n",
       " 'success',\n",
       " 'switch_page',\n",
       " 'table',\n",
       " 'tabs',\n",
       " 'text',\n",
       " 'text_area',\n",
       " 'text_input',\n",
       " 'time_input',\n",
       " 'title',\n",
       " 'toast',\n",
       " 'toggle',\n",
       " 'type_util',\n",
       " 'user_info',\n",
       " 'util',\n",
       " 'vega_lite_chart',\n",
       " 'vendor',\n",
       " 'version',\n",
       " 'video',\n",
       " 'warning',\n",
       " 'watcher',\n",
       " 'write']"
      ]
     },
     "execution_count": 59,
     "metadata": {},
     "output_type": "execute_result"
    }
   ],
   "source": [
    "dir(streamlit)"
   ]
  },
  {
   "cell_type": "code",
   "execution_count": 61,
   "id": "b8688717-da38-4ff3-9cea-a313af1afd6c",
   "metadata": {},
   "outputs": [
    {
     "data": {
      "text/plain": [
       "159"
      ]
     },
     "execution_count": 61,
     "metadata": {},
     "output_type": "execute_result"
    }
   ],
   "source": [
    "len(dir(streamlit))"
   ]
  },
  {
   "cell_type": "markdown",
   "id": "d4a57d4b-91de-4afd-84e5-23f5d241525f",
   "metadata": {},
   "source": [
    "**note**\n",
    "\n",
    "pip freeze is the command to know the already existing packages in our laptop "
   ]
  },
  {
   "cell_type": "code",
   "execution_count": 65,
   "id": "c3ac4d6a-fded-44ed-bac1-cde1de22d8ed",
   "metadata": {},
   "outputs": [],
   "source": [
    "import numpy"
   ]
  },
  {
   "cell_type": "code",
   "execution_count": 69,
   "id": "41b875cf-1bfa-46f0-8bbf-eb354d0873d1",
   "metadata": {},
   "outputs": [
    {
     "data": {
      "text/plain": [
       "<module 'numpy' from '/opt/anaconda3/lib/python3.11/site-packages/numpy/__init__.py'>"
      ]
     },
     "execution_count": 69,
     "metadata": {},
     "output_type": "execute_result"
    }
   ],
   "source": [
    "numpy  # to see the package where it is in our laptop"
   ]
  },
  {
   "cell_type": "markdown",
   "id": "2b04ea71-be34-4dd0-882f-26d7da868a3f",
   "metadata": {},
   "source": [
    "!pip install opencv-python\n",
    "\n",
    "- in jupyter notebook we need to add ! mark\n",
    "\n",
    "- in anaconda prompt no need of ! mark\n",
    "\n",
    "- directly name you can provide"
   ]
  },
  {
   "cell_type": "code",
   "execution_count": 82,
   "id": "57f3f6d9-cc01-4d9c-9e63-14cd5a9584d8",
   "metadata": {},
   "outputs": [
    {
     "name": "stdout",
     "output_type": "stream",
     "text": [
      "30\n"
     ]
    }
   ],
   "source": [
    "# hard conding\n",
    "# we are fixing the values\n",
    "\n",
    "# method-1 #\n",
    "\n",
    "number1=10\n",
    "number2=20\n",
    "add=number1+number2\n",
    "print(add)"
   ]
  },
  {
   "cell_type": "code",
   "execution_count": 84,
   "id": "935c8e87-84e1-41bb-bc6a-38fd2c08489d",
   "metadata": {},
   "outputs": [
    {
     "name": "stdin",
     "output_type": "stream",
     "text": [
      "enter the number 1: 100\n",
      "enter the number 2: 200\n"
     ]
    },
    {
     "name": "stdout",
     "output_type": "stream",
     "text": [
      "300\n"
     ]
    }
   ],
   "source": [
    "# method-2#\n",
    "\n",
    "number1=eval(input('enter the number 1:'))\n",
    "number2=eval(input('enter the number 2:'))\n",
    "add=number1+number2\n",
    "print(add)"
   ]
  },
  {
   "cell_type": "code",
   "execution_count": 88,
   "id": "193388d7-14d5-4d2f-9391-c7397ab00188",
   "metadata": {},
   "outputs": [
    {
     "name": "stdout",
     "output_type": "stream",
     "text": [
      "the addition of 68 and 149 is 217\n"
     ]
    }
   ],
   "source": [
    "# we can take the numbers randomly aslo\n",
    "\n",
    "# method-3 #\n",
    "\n",
    "import random\n",
    "number1=random.randint(1,100)\n",
    "number2=random.randint(100,200)\n",
    "add=number1+number2\n",
    "print(f'the addition of {number1} and {number2} is {add}')"
   ]
  },
  {
   "cell_type": "markdown",
   "id": "67464781-e378-4f75-b1db-528b0ff53b21",
   "metadata": {},
   "source": [
    "**how we pass the number**\n",
    "\n",
    "- hard codings\n",
    "\n",
    "- using keyword\n",
    "\n",
    "- using random package, taking numbers it self randomly "
   ]
  },
  {
   "cell_type": "code",
   "execution_count": 92,
   "id": "73b0b962-fe51-4c48-9a98-ed1683ca0ed7",
   "metadata": {},
   "outputs": [
    {
     "name": "stdin",
     "output_type": "stream",
     "text": [
      "enter the number n1: 10\n"
     ]
    },
    {
     "name": "stdout",
     "output_type": "stream",
     "text": [
      "the average of 10, 10, 96 is 38.666666666666664\n"
     ]
    }
   ],
   "source": [
    "n1=10\n",
    "n2=eval(input('enter the number n1:'))\n",
    "n3=random.randint(1,200)\n",
    "avg=(n1+n2+n3)/3\n",
    "print(f'the average of {n1}, {n2}, {n3} is {avg}')"
   ]
  },
  {
   "cell_type": "code",
   "execution_count": null,
   "id": "4d96d086-7fee-470e-91e1-1b8396b2725d",
   "metadata": {},
   "outputs": [],
   "source": [
    "# in the entire notebook\n",
    "# if you import packages"
   ]
  },
  {
   "cell_type": "code",
   "execution_count": null,
   "id": "4fbbe14b-2bc2-4e8e-a4b5-221e5072bc8e",
   "metadata": {},
   "outputs": [],
   "source": [
    "# assignment-2\n",
    "# assignment-1 qns only but\n",
    "# you need to take random for every problem \n",
    "\n",
    "# 11 the print statement using time.sleep()"
   ]
  },
  {
   "cell_type": "markdown",
   "id": "a30310bb-09f6-46fd-a525-7a9b5372429b",
   "metadata": {},
   "source": [
    "**round**"
   ]
  },
  {
   "cell_type": "code",
   "execution_count": 94,
   "id": "a04f88e3-8225-4123-8a1b-0cf8f1493300",
   "metadata": {},
   "outputs": [
    {
     "data": {
      "text/plain": [
       "23"
      ]
     },
     "execution_count": 94,
     "metadata": {},
     "output_type": "execute_result"
    }
   ],
   "source": [
    "avg=22.666666666\n",
    "round(avg)"
   ]
  },
  {
   "cell_type": "code",
   "execution_count": 99,
   "id": "8d06d214-be0b-4a66-b153-f840ec2b262a",
   "metadata": {},
   "outputs": [
    {
     "data": {
      "text/plain": [
       "22.667"
      ]
     },
     "execution_count": 99,
     "metadata": {},
     "output_type": "execute_result"
    }
   ],
   "source": [
    "avg=22.666666666\n",
    "round(avg,3)"
   ]
  },
  {
   "cell_type": "code",
   "execution_count": 101,
   "id": "2523e473-6ef8-4afa-85eb-2918bc5f9515",
   "metadata": {},
   "outputs": [
    {
     "name": "stdin",
     "output_type": "stream",
     "text": [
      "enter the number n1: 100\n"
     ]
    },
    {
     "name": "stdout",
     "output_type": "stream",
     "text": [
      "the average of 10, 100, 101 is 70.33\n"
     ]
    }
   ],
   "source": [
    "n1=10\n",
    "n2=eval(input('enter the number n1:'))\n",
    "n3=random.randint(1,200)\n",
    "avg=round((n1+n2+n3)/3,2)\n",
    "print(f'the average of {n1}, {n2}, {n3} is {avg}')"
   ]
  },
  {
   "cell_type": "code",
   "execution_count": 103,
   "id": "65c8b9ee-a95c-4857-a3e4-658bbb850344",
   "metadata": {},
   "outputs": [
    {
     "name": "stdin",
     "output_type": "stream",
     "text": [
      "enter the number n1: 100\n"
     ]
    },
    {
     "name": "stdout",
     "output_type": "stream",
     "text": [
      "the average of 10, 100, 25 is 45.0\n"
     ]
    }
   ],
   "source": [
    "n1=10\n",
    "n2=eval(input('enter the number n1:'))\n",
    "n3=random.randint(1,200)\n",
    "avg=(n1+n2+n3)/3\n",
    "avg1=round(avg,2)\n",
    "print(f'the average of {n1}, {n2}, {n3} is {avg}')"
   ]
  },
  {
   "cell_type": "code",
   "execution_count": null,
   "id": "785d9054-329f-465a-b06b-923d106c0269",
   "metadata": {},
   "outputs": [],
   "source": []
  }
 ],
 "metadata": {
  "kernelspec": {
   "display_name": "Python 3 (ipykernel)",
   "language": "python",
   "name": "python3"
  },
  "language_info": {
   "codemirror_mode": {
    "name": "ipython",
    "version": 3
   },
   "file_extension": ".py",
   "mimetype": "text/x-python",
   "name": "python",
   "nbconvert_exporter": "python",
   "pygments_lexer": "ipython3",
   "version": "3.11.7"
  }
 },
 "nbformat": 4,
 "nbformat_minor": 5
}
